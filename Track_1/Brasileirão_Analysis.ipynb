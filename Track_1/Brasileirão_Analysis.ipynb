{
  "nbformat": 4,
  "nbformat_minor": 0,
  "metadata": {
    "colab": {
      "name": "Brasileirão Analysis",
      "provenance": [],
      "collapsed_sections": [
        "fmGvGVkrsBaz",
        "HCaPp0Vhd-vJ"
      ],
      "toc_visible": true
    },
    "kernelspec": {
      "name": "python3",
      "display_name": "Python 3"
    },
    "language_info": {
      "name": "python"
    }
  },
  "cells": [
    {
      "cell_type": "markdown",
      "source": [
        "#Football Analysis\n",
        "###Github Rep: https://github.com/Gvascons/Football-Analysis"
      ],
      "metadata": {
        "id": "KT3NvSojdd0f"
      }
    },
    {
      "cell_type": "markdown",
      "source": [
        "Analysis up to 18/07/2022\n"
      ],
      "metadata": {
        "id": "FIkc5idDimTd"
      }
    },
    {
      "cell_type": "code",
      "source": [
        "#!pip install pyspark"
      ],
      "metadata": {
        "id": "cwwhE8yq9wNZ"
      },
      "execution_count": 1,
      "outputs": []
    },
    {
      "cell_type": "code",
      "source": [
        "%matplotlib inline\n",
        "\n",
        "#import pyspark\n",
        "import pandas as pd\n",
        "import matplotlib.pyplot as plt\n",
        "import numpy as np\n",
        "import seaborn as sns\n",
        "\n",
        "\n",
        "from scipy import stats\n",
        "from sklearn.preprocessing import StandardScaler, MinMaxScaler\n",
        "\n",
        "from sklearn.preprocessing import OneHotEncoder"
      ],
      "metadata": {
        "id": "aCIVkueaMpxd"
      },
      "execution_count": 2,
      "outputs": []
    },
    {
      "cell_type": "code",
      "source": [
        "attack = pd.read_csv('https://raw.githubusercontent.com/Gvascons/Football-Analysis/main/Project/scrapyTeams/ataque.csv')\n",
        "defense = pd.read_csv('https://raw.githubusercontent.com/Gvascons/Football-Analysis/main/Project/scrapyTeams/defesa.csv')\n",
        "goalie = pd.read_csv('https://raw.githubusercontent.com/Gvascons/Football-Analysis/main/Project/scrapyTeams/goleiros.csv')"
      ],
      "metadata": {
        "id": "pLuIuJecM9gx"
      },
      "execution_count": 3,
      "outputs": []
    },
    {
      "cell_type": "markdown",
      "source": [
        "## Attack"
      ],
      "metadata": {
        "id": "eglc0p6fd1H2"
      }
    },
    {
      "cell_type": "markdown",
      "source": [
        "### SPARK APPROACH (OUT OF DATE)"
      ],
      "metadata": {
        "id": "fmGvGVkrsBaz"
      }
    },
    {
      "cell_type": "markdown",
      "source": [
        "PySpark implementation refers to a different approach that was not incorporated in this document. Feel free to try it out for yourself."
      ],
      "metadata": {
        "id": "goyswkP1xbGZ"
      }
    },
    {
      "cell_type": "code",
      "source": [
        "#SPARK APPROACH FROM PD DATAFRAME\n",
        "\"\"\"\n",
        "from pyspark.sql import SparkSession\n",
        "spark = SparkSession.builder\\\n",
        "          .appName(\"SparkApproach\")\\\n",
        "          .getOrCreate()\n",
        "\"\"\""
      ],
      "metadata": {
        "id": "lk-qCvaC_qo-",
        "colab": {
          "base_uri": "https://localhost:8080/",
          "height": 0
        },
        "outputId": "6b9a8d79-7025-42cc-8cb0-c4c136b17e99"
      },
      "execution_count": 4,
      "outputs": [
        {
          "output_type": "execute_result",
          "data": {
            "text/plain": [
              "'\\nfrom pyspark.sql import SparkSession\\nspark = SparkSession.builder          .appName(\"SparkApproach\")          .getOrCreate()\\n'"
            ],
            "application/vnd.google.colaboratory.intrinsic+json": {
              "type": "string"
            }
          },
          "metadata": {},
          "execution_count": 4
        }
      ]
    },
    {
      "cell_type": "code",
      "source": [
        "#sparkDF=spark.createDataFrame(attack)"
      ],
      "metadata": {
        "id": "7GXWlXYeBQ8j"
      },
      "execution_count": 5,
      "outputs": []
    },
    {
      "cell_type": "code",
      "source": [
        "\"\"\"\n",
        "sparkDF.printSchema()\n",
        "sparkDF.show()\n",
        "\"\"\""
      ],
      "metadata": {
        "colab": {
          "base_uri": "https://localhost:8080/",
          "height": 0
        },
        "id": "HcZ_pgINB6Gz",
        "outputId": "6122d701-ea6f-43de-bd5d-9b0714dd76e8"
      },
      "execution_count": 6,
      "outputs": [
        {
          "output_type": "execute_result",
          "data": {
            "text/plain": [
              "'\\nsparkDF.printSchema()\\nsparkDF.show()\\n'"
            ],
            "application/vnd.google.colaboratory.intrinsic+json": {
              "type": "string"
            }
          },
          "metadata": {},
          "execution_count": 6
        }
      ]
    },
    {
      "cell_type": "code",
      "source": [
        "#sparkDF.select('jogador').show()"
      ],
      "metadata": {
        "id": "WwZb5PdwDBEq"
      },
      "execution_count": 7,
      "outputs": []
    },
    {
      "cell_type": "markdown",
      "source": [
        "### PANDAS APPROACH\n"
      ],
      "metadata": {
        "id": "q-4b8fIGsQm7"
      }
    },
    {
      "cell_type": "markdown",
      "source": [
        "### Data Preprocessing & Analysis"
      ],
      "metadata": {
        "id": "aiVd8VUzWz3E"
      }
    },
    {
      "cell_type": "markdown",
      "source": [
        "#### Type Definition"
      ],
      "metadata": {
        "id": "HwkXwS_wuEr_"
      }
    },
    {
      "cell_type": "markdown",
      "source": [
        "Our raw dataset includes players in all positions"
      ],
      "metadata": {
        "id": "hoTzRGwVyINW"
      }
    },
    {
      "cell_type": "markdown",
      "source": [
        "We have the raw attack dataset"
      ],
      "metadata": {
        "id": "uQ7vMxbXWQPu"
      }
    },
    {
      "cell_type": "code",
      "source": [
        " attack.head(10)"
      ],
      "metadata": {
        "colab": {
          "base_uri": "https://localhost:8080/",
          "height": 363
        },
        "id": "XgHol8ARd4Md",
        "outputId": "45381a0c-96ec-424c-bdea-2a89359d4b8b"
      },
      "execution_count": 8,
      "outputs": [
        {
          "output_type": "execute_result",
          "data": {
            "text/plain": [
              "              jogador nacao posicao  idade  minPor90  gols  assist\n",
              "0             Juninho   BRA      LT     34      14.7     0       1\n",
              "1      Marlon Freitas   BRA      LT     27      15.4     2       3\n",
              "2           Lucas Kal   BRA      LT     26      13.3     0       0\n",
              "3           Jefferson   BRA      ZG     25      14.1     1       1\n",
              "4             Éverson   BRA       G     31      17.0     0       0\n",
              "5               Kevin   BRA      ZG     24      16.8     1       1\n",
              "6    Gatito Fernández   PAR       G     34      14.0     0       0\n",
              "7  Cleiton Schwengber   BRA       G     24      17.0     0       0\n",
              "8              Cássio   BRA       G     35      15.0     0       0\n",
              "9  João Ricardo Riedi   BRA       G     33      15.0     0       0"
            ],
            "text/html": [
              "\n",
              "  <div id=\"df-fa53629f-f4a9-4330-a977-6cd8e22dff41\">\n",
              "    <div class=\"colab-df-container\">\n",
              "      <div>\n",
              "<style scoped>\n",
              "    .dataframe tbody tr th:only-of-type {\n",
              "        vertical-align: middle;\n",
              "    }\n",
              "\n",
              "    .dataframe tbody tr th {\n",
              "        vertical-align: top;\n",
              "    }\n",
              "\n",
              "    .dataframe thead th {\n",
              "        text-align: right;\n",
              "    }\n",
              "</style>\n",
              "<table border=\"1\" class=\"dataframe\">\n",
              "  <thead>\n",
              "    <tr style=\"text-align: right;\">\n",
              "      <th></th>\n",
              "      <th>jogador</th>\n",
              "      <th>nacao</th>\n",
              "      <th>posicao</th>\n",
              "      <th>idade</th>\n",
              "      <th>minPor90</th>\n",
              "      <th>gols</th>\n",
              "      <th>assist</th>\n",
              "    </tr>\n",
              "  </thead>\n",
              "  <tbody>\n",
              "    <tr>\n",
              "      <th>0</th>\n",
              "      <td>Juninho</td>\n",
              "      <td>BRA</td>\n",
              "      <td>LT</td>\n",
              "      <td>34</td>\n",
              "      <td>14.7</td>\n",
              "      <td>0</td>\n",
              "      <td>1</td>\n",
              "    </tr>\n",
              "    <tr>\n",
              "      <th>1</th>\n",
              "      <td>Marlon Freitas</td>\n",
              "      <td>BRA</td>\n",
              "      <td>LT</td>\n",
              "      <td>27</td>\n",
              "      <td>15.4</td>\n",
              "      <td>2</td>\n",
              "      <td>3</td>\n",
              "    </tr>\n",
              "    <tr>\n",
              "      <th>2</th>\n",
              "      <td>Lucas Kal</td>\n",
              "      <td>BRA</td>\n",
              "      <td>LT</td>\n",
              "      <td>26</td>\n",
              "      <td>13.3</td>\n",
              "      <td>0</td>\n",
              "      <td>0</td>\n",
              "    </tr>\n",
              "    <tr>\n",
              "      <th>3</th>\n",
              "      <td>Jefferson</td>\n",
              "      <td>BRA</td>\n",
              "      <td>ZG</td>\n",
              "      <td>25</td>\n",
              "      <td>14.1</td>\n",
              "      <td>1</td>\n",
              "      <td>1</td>\n",
              "    </tr>\n",
              "    <tr>\n",
              "      <th>4</th>\n",
              "      <td>Éverson</td>\n",
              "      <td>BRA</td>\n",
              "      <td>G</td>\n",
              "      <td>31</td>\n",
              "      <td>17.0</td>\n",
              "      <td>0</td>\n",
              "      <td>0</td>\n",
              "    </tr>\n",
              "    <tr>\n",
              "      <th>5</th>\n",
              "      <td>Kevin</td>\n",
              "      <td>BRA</td>\n",
              "      <td>ZG</td>\n",
              "      <td>24</td>\n",
              "      <td>16.8</td>\n",
              "      <td>1</td>\n",
              "      <td>1</td>\n",
              "    </tr>\n",
              "    <tr>\n",
              "      <th>6</th>\n",
              "      <td>Gatito Fernández</td>\n",
              "      <td>PAR</td>\n",
              "      <td>G</td>\n",
              "      <td>34</td>\n",
              "      <td>14.0</td>\n",
              "      <td>0</td>\n",
              "      <td>0</td>\n",
              "    </tr>\n",
              "    <tr>\n",
              "      <th>7</th>\n",
              "      <td>Cleiton Schwengber</td>\n",
              "      <td>BRA</td>\n",
              "      <td>G</td>\n",
              "      <td>24</td>\n",
              "      <td>17.0</td>\n",
              "      <td>0</td>\n",
              "      <td>0</td>\n",
              "    </tr>\n",
              "    <tr>\n",
              "      <th>8</th>\n",
              "      <td>Cássio</td>\n",
              "      <td>BRA</td>\n",
              "      <td>G</td>\n",
              "      <td>35</td>\n",
              "      <td>15.0</td>\n",
              "      <td>0</td>\n",
              "      <td>0</td>\n",
              "    </tr>\n",
              "    <tr>\n",
              "      <th>9</th>\n",
              "      <td>João Ricardo Riedi</td>\n",
              "      <td>BRA</td>\n",
              "      <td>G</td>\n",
              "      <td>33</td>\n",
              "      <td>15.0</td>\n",
              "      <td>0</td>\n",
              "      <td>0</td>\n",
              "    </tr>\n",
              "  </tbody>\n",
              "</table>\n",
              "</div>\n",
              "      <button class=\"colab-df-convert\" onclick=\"convertToInteractive('df-fa53629f-f4a9-4330-a977-6cd8e22dff41')\"\n",
              "              title=\"Convert this dataframe to an interactive table.\"\n",
              "              style=\"display:none;\">\n",
              "        \n",
              "  <svg xmlns=\"http://www.w3.org/2000/svg\" height=\"24px\"viewBox=\"0 0 24 24\"\n",
              "       width=\"24px\">\n",
              "    <path d=\"M0 0h24v24H0V0z\" fill=\"none\"/>\n",
              "    <path d=\"M18.56 5.44l.94 2.06.94-2.06 2.06-.94-2.06-.94-.94-2.06-.94 2.06-2.06.94zm-11 1L8.5 8.5l.94-2.06 2.06-.94-2.06-.94L8.5 2.5l-.94 2.06-2.06.94zm10 10l.94 2.06.94-2.06 2.06-.94-2.06-.94-.94-2.06-.94 2.06-2.06.94z\"/><path d=\"M17.41 7.96l-1.37-1.37c-.4-.4-.92-.59-1.43-.59-.52 0-1.04.2-1.43.59L10.3 9.45l-7.72 7.72c-.78.78-.78 2.05 0 2.83L4 21.41c.39.39.9.59 1.41.59.51 0 1.02-.2 1.41-.59l7.78-7.78 2.81-2.81c.8-.78.8-2.07 0-2.86zM5.41 20L4 18.59l7.72-7.72 1.47 1.35L5.41 20z\"/>\n",
              "  </svg>\n",
              "      </button>\n",
              "      \n",
              "  <style>\n",
              "    .colab-df-container {\n",
              "      display:flex;\n",
              "      flex-wrap:wrap;\n",
              "      gap: 12px;\n",
              "    }\n",
              "\n",
              "    .colab-df-convert {\n",
              "      background-color: #E8F0FE;\n",
              "      border: none;\n",
              "      border-radius: 50%;\n",
              "      cursor: pointer;\n",
              "      display: none;\n",
              "      fill: #1967D2;\n",
              "      height: 32px;\n",
              "      padding: 0 0 0 0;\n",
              "      width: 32px;\n",
              "    }\n",
              "\n",
              "    .colab-df-convert:hover {\n",
              "      background-color: #E2EBFA;\n",
              "      box-shadow: 0px 1px 2px rgba(60, 64, 67, 0.3), 0px 1px 3px 1px rgba(60, 64, 67, 0.15);\n",
              "      fill: #174EA6;\n",
              "    }\n",
              "\n",
              "    [theme=dark] .colab-df-convert {\n",
              "      background-color: #3B4455;\n",
              "      fill: #D2E3FC;\n",
              "    }\n",
              "\n",
              "    [theme=dark] .colab-df-convert:hover {\n",
              "      background-color: #434B5C;\n",
              "      box-shadow: 0px 1px 3px 1px rgba(0, 0, 0, 0.15);\n",
              "      filter: drop-shadow(0px 1px 2px rgba(0, 0, 0, 0.3));\n",
              "      fill: #FFFFFF;\n",
              "    }\n",
              "  </style>\n",
              "\n",
              "      <script>\n",
              "        const buttonEl =\n",
              "          document.querySelector('#df-fa53629f-f4a9-4330-a977-6cd8e22dff41 button.colab-df-convert');\n",
              "        buttonEl.style.display =\n",
              "          google.colab.kernel.accessAllowed ? 'block' : 'none';\n",
              "\n",
              "        async function convertToInteractive(key) {\n",
              "          const element = document.querySelector('#df-fa53629f-f4a9-4330-a977-6cd8e22dff41');\n",
              "          const dataTable =\n",
              "            await google.colab.kernel.invokeFunction('convertToInteractive',\n",
              "                                                     [key], {});\n",
              "          if (!dataTable) return;\n",
              "\n",
              "          const docLinkHtml = 'Like what you see? Visit the ' +\n",
              "            '<a target=\"_blank\" href=https://colab.research.google.com/notebooks/data_table.ipynb>data table notebook</a>'\n",
              "            + ' to learn more about interactive tables.';\n",
              "          element.innerHTML = '';\n",
              "          dataTable['output_type'] = 'display_data';\n",
              "          await google.colab.output.renderOutput(dataTable, element);\n",
              "          const docLink = document.createElement('div');\n",
              "          docLink.innerHTML = docLinkHtml;\n",
              "          element.appendChild(docLink);\n",
              "        }\n",
              "      </script>\n",
              "    </div>\n",
              "  </div>\n",
              "  "
            ]
          },
          "metadata": {},
          "execution_count": 8
        }
      ]
    },
    {
      "cell_type": "markdown",
      "source": [
        "Analyzing the data and checking if there are null values or not\n"
      ],
      "metadata": {
        "id": "eA4ZTBIrWYdD"
      }
    },
    {
      "cell_type": "code",
      "source": [
        "print(\"ATTACK INFO: ^^^\\n\", attack.info())"
      ],
      "metadata": {
        "colab": {
          "base_uri": "https://localhost:8080/"
        },
        "id": "g8NfNKNfu5Gv",
        "outputId": "30d7bd25-cfa0-451c-ad10-25f6741df471"
      },
      "execution_count": 9,
      "outputs": [
        {
          "output_type": "stream",
          "name": "stdout",
          "text": [
            "<class 'pandas.core.frame.DataFrame'>\n",
            "RangeIndex: 599 entries, 0 to 598\n",
            "Data columns (total 7 columns):\n",
            " #   Column    Non-Null Count  Dtype  \n",
            "---  ------    --------------  -----  \n",
            " 0   jogador   599 non-null    object \n",
            " 1   nacao     599 non-null    object \n",
            " 2   posicao   599 non-null    object \n",
            " 3   idade     599 non-null    int64  \n",
            " 4   minPor90  599 non-null    float64\n",
            " 5   gols      599 non-null    int64  \n",
            " 6   assist    599 non-null    int64  \n",
            "dtypes: float64(1), int64(3), object(3)\n",
            "memory usage: 32.9+ KB\n",
            "ATTACK INFO: ^^^\n",
            " None\n"
          ]
        }
      ]
    },
    {
      "cell_type": "markdown",
      "source": [
        "Looking for some statistic values of our dataset"
      ],
      "metadata": {
        "id": "W8YdPQauWl8k"
      }
    },
    {
      "cell_type": "code",
      "source": [
        "print(\"ATTACK DESCRIPTION: \\n\", attack.describe())"
      ],
      "metadata": {
        "colab": {
          "base_uri": "https://localhost:8080/"
        },
        "id": "ME-ceSG0vOXB",
        "outputId": "15ccfe2a-44bb-4b25-eb3c-c7433b141ead"
      },
      "execution_count": 10,
      "outputs": [
        {
          "output_type": "stream",
          "name": "stdout",
          "text": [
            "ATTACK DESCRIPTION: \n",
            "             idade    minPor90        gols      assist\n",
            "count  599.000000  599.000000  599.000000  599.000000\n",
            "mean    26.213689    6.918698    1.761269    1.140234\n",
            "std      5.215209    5.180080    4.688786    3.124566\n",
            "min     16.000000    0.000000    0.000000    0.000000\n",
            "25%     22.000000    2.250000    0.000000    0.000000\n",
            "50%     25.000000    5.900000    0.000000    0.000000\n",
            "75%     30.000000   11.000000    1.000000    1.000000\n",
            "max     41.000000   17.000000   27.000000   22.000000\n"
          ]
        }
      ]
    },
    {
      "cell_type": "markdown",
      "source": [
        "#### Data Cleaning & Manipulation"
      ],
      "metadata": {
        "id": "7V-nWfH1IJEE"
      }
    },
    {
      "cell_type": "markdown",
      "source": [
        "Checking for unique values of our column 'posicao'"
      ],
      "metadata": {
        "id": "M-_OI3x4XpqZ"
      }
    },
    {
      "cell_type": "code",
      "source": [
        "attack['posicao'].unique()"
      ],
      "metadata": {
        "colab": {
          "base_uri": "https://localhost:8080/"
        },
        "id": "wLAsUT7mhvax",
        "outputId": "a9a74759-39d9-4d69-b744-1dd653290d64"
      },
      "execution_count": 11,
      "outputs": [
        {
          "output_type": "execute_result",
          "data": {
            "text/plain": [
              "array(['LT', 'ZG', 'G', 'AT', 'LT,ZG', 'ZG,LT', 'LT,AT', 'AT,LT'],\n",
              "      dtype=object)"
            ]
          },
          "metadata": {},
          "execution_count": 11
        }
      ]
    },
    {
      "cell_type": "markdown",
      "source": [
        "We only want to analyze players regarding attacking positions for now, so we will remove positions not related to 'AT'.\n"
      ],
      "metadata": {
        "id": "IhqPFo5XXrao"
      }
    },
    {
      "cell_type": "code",
      "source": [
        "attack.drop(attack[(attack['posicao'] != 'AT') & (attack['posicao'] != 'AT,LT') & (attack['posicao'] != 'LT,AT')].index, inplace=True)"
      ],
      "metadata": {
        "id": "Ur-HyBLGk1oh"
      },
      "execution_count": 12,
      "outputs": []
    },
    {
      "cell_type": "markdown",
      "source": [
        "Then, we fix the index.\n"
      ],
      "metadata": {
        "id": "nKYFtHNtX-8w"
      }
    },
    {
      "cell_type": "code",
      "source": [
        "attack.reset_index(inplace=True)"
      ],
      "metadata": {
        "id": "gKdFNMPrW5Fw"
      },
      "execution_count": 13,
      "outputs": []
    },
    {
      "cell_type": "code",
      "source": [
        "attack.drop('index',axis=1, inplace=True)\n",
        "attack.index.name = 'index'"
      ],
      "metadata": {
        "id": "k5gm7gA5w2cv"
      },
      "execution_count": 14,
      "outputs": []
    },
    {
      "cell_type": "markdown",
      "source": [
        "As we can see on the below, our current data contains only the players that are related to attack position."
      ],
      "metadata": {
        "id": "awpY0-2DX6nI"
      }
    },
    {
      "cell_type": "code",
      "source": [
        "attack"
      ],
      "metadata": {
        "colab": {
          "base_uri": "https://localhost:8080/",
          "height": 455
        },
        "id": "brTjF-iHxq5s",
        "outputId": "2f36a69e-2bb8-4be3-f68b-e9d823d6c149"
      },
      "execution_count": 15,
      "outputs": [
        {
          "output_type": "execute_result",
          "data": {
            "text/plain": [
              "                jogador nacao posicao  idade  minPor90  gols  assist\n",
              "index                                                               \n",
              "0                Erison   BRA      AT     23      13.4     6       1\n",
              "1                  Hulk   BRA      AT     35      13.9     7       2\n",
              "2          Roger Guedes   BRA      AT     25      12.2     5       1\n",
              "3       Wellington Rato   BRA   LT,AT     30      13.6     4       0\n",
              "4        Stiven Mendoza   COL   AT,LT     30      11.5     7       0\n",
              "...                 ...   ...     ...    ...       ...   ...     ...\n",
              "143        Caio Matheus   BRA      AT     22      17.0    18      12\n",
              "144              Marlon   BRA   LT,AT     32       1.7     0       0\n",
              "145       Vitor Gabriel   BRA      AT     22       4.3     1       0\n",
              "146    Guilherme Parede   BRA   LT,AT     26       3.1     0       1\n",
              "147            Bruninho   BRA      AT     22       1.3     0       0\n",
              "\n",
              "[148 rows x 7 columns]"
            ],
            "text/html": [
              "\n",
              "  <div id=\"df-b0ca06a4-d7ff-4d03-897c-c14347fab2ff\">\n",
              "    <div class=\"colab-df-container\">\n",
              "      <div>\n",
              "<style scoped>\n",
              "    .dataframe tbody tr th:only-of-type {\n",
              "        vertical-align: middle;\n",
              "    }\n",
              "\n",
              "    .dataframe tbody tr th {\n",
              "        vertical-align: top;\n",
              "    }\n",
              "\n",
              "    .dataframe thead th {\n",
              "        text-align: right;\n",
              "    }\n",
              "</style>\n",
              "<table border=\"1\" class=\"dataframe\">\n",
              "  <thead>\n",
              "    <tr style=\"text-align: right;\">\n",
              "      <th></th>\n",
              "      <th>jogador</th>\n",
              "      <th>nacao</th>\n",
              "      <th>posicao</th>\n",
              "      <th>idade</th>\n",
              "      <th>minPor90</th>\n",
              "      <th>gols</th>\n",
              "      <th>assist</th>\n",
              "    </tr>\n",
              "    <tr>\n",
              "      <th>index</th>\n",
              "      <th></th>\n",
              "      <th></th>\n",
              "      <th></th>\n",
              "      <th></th>\n",
              "      <th></th>\n",
              "      <th></th>\n",
              "      <th></th>\n",
              "    </tr>\n",
              "  </thead>\n",
              "  <tbody>\n",
              "    <tr>\n",
              "      <th>0</th>\n",
              "      <td>Erison</td>\n",
              "      <td>BRA</td>\n",
              "      <td>AT</td>\n",
              "      <td>23</td>\n",
              "      <td>13.4</td>\n",
              "      <td>6</td>\n",
              "      <td>1</td>\n",
              "    </tr>\n",
              "    <tr>\n",
              "      <th>1</th>\n",
              "      <td>Hulk</td>\n",
              "      <td>BRA</td>\n",
              "      <td>AT</td>\n",
              "      <td>35</td>\n",
              "      <td>13.9</td>\n",
              "      <td>7</td>\n",
              "      <td>2</td>\n",
              "    </tr>\n",
              "    <tr>\n",
              "      <th>2</th>\n",
              "      <td>Roger Guedes</td>\n",
              "      <td>BRA</td>\n",
              "      <td>AT</td>\n",
              "      <td>25</td>\n",
              "      <td>12.2</td>\n",
              "      <td>5</td>\n",
              "      <td>1</td>\n",
              "    </tr>\n",
              "    <tr>\n",
              "      <th>3</th>\n",
              "      <td>Wellington Rato</td>\n",
              "      <td>BRA</td>\n",
              "      <td>LT,AT</td>\n",
              "      <td>30</td>\n",
              "      <td>13.6</td>\n",
              "      <td>4</td>\n",
              "      <td>0</td>\n",
              "    </tr>\n",
              "    <tr>\n",
              "      <th>4</th>\n",
              "      <td>Stiven Mendoza</td>\n",
              "      <td>COL</td>\n",
              "      <td>AT,LT</td>\n",
              "      <td>30</td>\n",
              "      <td>11.5</td>\n",
              "      <td>7</td>\n",
              "      <td>0</td>\n",
              "    </tr>\n",
              "    <tr>\n",
              "      <th>...</th>\n",
              "      <td>...</td>\n",
              "      <td>...</td>\n",
              "      <td>...</td>\n",
              "      <td>...</td>\n",
              "      <td>...</td>\n",
              "      <td>...</td>\n",
              "      <td>...</td>\n",
              "    </tr>\n",
              "    <tr>\n",
              "      <th>143</th>\n",
              "      <td>Caio Matheus</td>\n",
              "      <td>BRA</td>\n",
              "      <td>AT</td>\n",
              "      <td>22</td>\n",
              "      <td>17.0</td>\n",
              "      <td>18</td>\n",
              "      <td>12</td>\n",
              "    </tr>\n",
              "    <tr>\n",
              "      <th>144</th>\n",
              "      <td>Marlon</td>\n",
              "      <td>BRA</td>\n",
              "      <td>LT,AT</td>\n",
              "      <td>32</td>\n",
              "      <td>1.7</td>\n",
              "      <td>0</td>\n",
              "      <td>0</td>\n",
              "    </tr>\n",
              "    <tr>\n",
              "      <th>145</th>\n",
              "      <td>Vitor Gabriel</td>\n",
              "      <td>BRA</td>\n",
              "      <td>AT</td>\n",
              "      <td>22</td>\n",
              "      <td>4.3</td>\n",
              "      <td>1</td>\n",
              "      <td>0</td>\n",
              "    </tr>\n",
              "    <tr>\n",
              "      <th>146</th>\n",
              "      <td>Guilherme Parede</td>\n",
              "      <td>BRA</td>\n",
              "      <td>LT,AT</td>\n",
              "      <td>26</td>\n",
              "      <td>3.1</td>\n",
              "      <td>0</td>\n",
              "      <td>1</td>\n",
              "    </tr>\n",
              "    <tr>\n",
              "      <th>147</th>\n",
              "      <td>Bruninho</td>\n",
              "      <td>BRA</td>\n",
              "      <td>AT</td>\n",
              "      <td>22</td>\n",
              "      <td>1.3</td>\n",
              "      <td>0</td>\n",
              "      <td>0</td>\n",
              "    </tr>\n",
              "  </tbody>\n",
              "</table>\n",
              "<p>148 rows × 7 columns</p>\n",
              "</div>\n",
              "      <button class=\"colab-df-convert\" onclick=\"convertToInteractive('df-b0ca06a4-d7ff-4d03-897c-c14347fab2ff')\"\n",
              "              title=\"Convert this dataframe to an interactive table.\"\n",
              "              style=\"display:none;\">\n",
              "        \n",
              "  <svg xmlns=\"http://www.w3.org/2000/svg\" height=\"24px\"viewBox=\"0 0 24 24\"\n",
              "       width=\"24px\">\n",
              "    <path d=\"M0 0h24v24H0V0z\" fill=\"none\"/>\n",
              "    <path d=\"M18.56 5.44l.94 2.06.94-2.06 2.06-.94-2.06-.94-.94-2.06-.94 2.06-2.06.94zm-11 1L8.5 8.5l.94-2.06 2.06-.94-2.06-.94L8.5 2.5l-.94 2.06-2.06.94zm10 10l.94 2.06.94-2.06 2.06-.94-2.06-.94-.94-2.06-.94 2.06-2.06.94z\"/><path d=\"M17.41 7.96l-1.37-1.37c-.4-.4-.92-.59-1.43-.59-.52 0-1.04.2-1.43.59L10.3 9.45l-7.72 7.72c-.78.78-.78 2.05 0 2.83L4 21.41c.39.39.9.59 1.41.59.51 0 1.02-.2 1.41-.59l7.78-7.78 2.81-2.81c.8-.78.8-2.07 0-2.86zM5.41 20L4 18.59l7.72-7.72 1.47 1.35L5.41 20z\"/>\n",
              "  </svg>\n",
              "      </button>\n",
              "      \n",
              "  <style>\n",
              "    .colab-df-container {\n",
              "      display:flex;\n",
              "      flex-wrap:wrap;\n",
              "      gap: 12px;\n",
              "    }\n",
              "\n",
              "    .colab-df-convert {\n",
              "      background-color: #E8F0FE;\n",
              "      border: none;\n",
              "      border-radius: 50%;\n",
              "      cursor: pointer;\n",
              "      display: none;\n",
              "      fill: #1967D2;\n",
              "      height: 32px;\n",
              "      padding: 0 0 0 0;\n",
              "      width: 32px;\n",
              "    }\n",
              "\n",
              "    .colab-df-convert:hover {\n",
              "      background-color: #E2EBFA;\n",
              "      box-shadow: 0px 1px 2px rgba(60, 64, 67, 0.3), 0px 1px 3px 1px rgba(60, 64, 67, 0.15);\n",
              "      fill: #174EA6;\n",
              "    }\n",
              "\n",
              "    [theme=dark] .colab-df-convert {\n",
              "      background-color: #3B4455;\n",
              "      fill: #D2E3FC;\n",
              "    }\n",
              "\n",
              "    [theme=dark] .colab-df-convert:hover {\n",
              "      background-color: #434B5C;\n",
              "      box-shadow: 0px 1px 3px 1px rgba(0, 0, 0, 0.15);\n",
              "      filter: drop-shadow(0px 1px 2px rgba(0, 0, 0, 0.3));\n",
              "      fill: #FFFFFF;\n",
              "    }\n",
              "  </style>\n",
              "\n",
              "      <script>\n",
              "        const buttonEl =\n",
              "          document.querySelector('#df-b0ca06a4-d7ff-4d03-897c-c14347fab2ff button.colab-df-convert');\n",
              "        buttonEl.style.display =\n",
              "          google.colab.kernel.accessAllowed ? 'block' : 'none';\n",
              "\n",
              "        async function convertToInteractive(key) {\n",
              "          const element = document.querySelector('#df-b0ca06a4-d7ff-4d03-897c-c14347fab2ff');\n",
              "          const dataTable =\n",
              "            await google.colab.kernel.invokeFunction('convertToInteractive',\n",
              "                                                     [key], {});\n",
              "          if (!dataTable) return;\n",
              "\n",
              "          const docLinkHtml = 'Like what you see? Visit the ' +\n",
              "            '<a target=\"_blank\" href=https://colab.research.google.com/notebooks/data_table.ipynb>data table notebook</a>'\n",
              "            + ' to learn more about interactive tables.';\n",
              "          element.innerHTML = '';\n",
              "          dataTable['output_type'] = 'display_data';\n",
              "          await google.colab.output.renderOutput(dataTable, element);\n",
              "          const docLink = document.createElement('div');\n",
              "          docLink.innerHTML = docLinkHtml;\n",
              "          element.appendChild(docLink);\n",
              "        }\n",
              "      </script>\n",
              "    </div>\n",
              "  </div>\n",
              "  "
            ]
          },
          "metadata": {},
          "execution_count": 15
        }
      ]
    },
    {
      "cell_type": "markdown",
      "source": [
        "We treat players that haven't played the same way we would treat players with NULL values. So first, we fill the players stats regarding players that haven't played with NaN values."
      ],
      "metadata": {
        "id": "ahUZ6_6-ytxT"
      }
    },
    {
      "cell_type": "code",
      "source": [
        "attack.loc[attack['minPor90']==0, ['minPor90','gols','assist']] = np.nan"
      ],
      "metadata": {
        "id": "sSL5iJYzQYXY"
      },
      "execution_count": 16,
      "outputs": []
    },
    {
      "cell_type": "markdown",
      "source": [
        "We now have the NaN values for these rows."
      ],
      "metadata": {
        "id": "tee6pgh5YLq5"
      }
    },
    {
      "cell_type": "code",
      "source": [
        "# We have the NaN values\n",
        "attack[attack['minPor90'].isnull()]"
      ],
      "metadata": {
        "colab": {
          "base_uri": "https://localhost:8080/",
          "height": 175
        },
        "id": "TskGKVb3zK4L",
        "outputId": "4eea7e98-2ad3-4a4f-fcba-e1e7b423a12c"
      },
      "execution_count": 17,
      "outputs": [
        {
          "output_type": "execute_result",
          "data": {
            "text/plain": [
              "          jogador nacao posicao  idade  minPor90  gols  assist\n",
              "index                                                         \n",
              "65        Rikelmi   BRA      AT     20       NaN   NaN     NaN\n",
              "127         David   BRA      AT     22       NaN   NaN     NaN\n",
              "136    Vitor Hugo   BRA      AT     18       NaN   NaN     NaN"
            ],
            "text/html": [
              "\n",
              "  <div id=\"df-cf36a941-5334-406d-b606-dbd8f26b6524\">\n",
              "    <div class=\"colab-df-container\">\n",
              "      <div>\n",
              "<style scoped>\n",
              "    .dataframe tbody tr th:only-of-type {\n",
              "        vertical-align: middle;\n",
              "    }\n",
              "\n",
              "    .dataframe tbody tr th {\n",
              "        vertical-align: top;\n",
              "    }\n",
              "\n",
              "    .dataframe thead th {\n",
              "        text-align: right;\n",
              "    }\n",
              "</style>\n",
              "<table border=\"1\" class=\"dataframe\">\n",
              "  <thead>\n",
              "    <tr style=\"text-align: right;\">\n",
              "      <th></th>\n",
              "      <th>jogador</th>\n",
              "      <th>nacao</th>\n",
              "      <th>posicao</th>\n",
              "      <th>idade</th>\n",
              "      <th>minPor90</th>\n",
              "      <th>gols</th>\n",
              "      <th>assist</th>\n",
              "    </tr>\n",
              "    <tr>\n",
              "      <th>index</th>\n",
              "      <th></th>\n",
              "      <th></th>\n",
              "      <th></th>\n",
              "      <th></th>\n",
              "      <th></th>\n",
              "      <th></th>\n",
              "      <th></th>\n",
              "    </tr>\n",
              "  </thead>\n",
              "  <tbody>\n",
              "    <tr>\n",
              "      <th>65</th>\n",
              "      <td>Rikelmi</td>\n",
              "      <td>BRA</td>\n",
              "      <td>AT</td>\n",
              "      <td>20</td>\n",
              "      <td>NaN</td>\n",
              "      <td>NaN</td>\n",
              "      <td>NaN</td>\n",
              "    </tr>\n",
              "    <tr>\n",
              "      <th>127</th>\n",
              "      <td>David</td>\n",
              "      <td>BRA</td>\n",
              "      <td>AT</td>\n",
              "      <td>22</td>\n",
              "      <td>NaN</td>\n",
              "      <td>NaN</td>\n",
              "      <td>NaN</td>\n",
              "    </tr>\n",
              "    <tr>\n",
              "      <th>136</th>\n",
              "      <td>Vitor Hugo</td>\n",
              "      <td>BRA</td>\n",
              "      <td>AT</td>\n",
              "      <td>18</td>\n",
              "      <td>NaN</td>\n",
              "      <td>NaN</td>\n",
              "      <td>NaN</td>\n",
              "    </tr>\n",
              "  </tbody>\n",
              "</table>\n",
              "</div>\n",
              "      <button class=\"colab-df-convert\" onclick=\"convertToInteractive('df-cf36a941-5334-406d-b606-dbd8f26b6524')\"\n",
              "              title=\"Convert this dataframe to an interactive table.\"\n",
              "              style=\"display:none;\">\n",
              "        \n",
              "  <svg xmlns=\"http://www.w3.org/2000/svg\" height=\"24px\"viewBox=\"0 0 24 24\"\n",
              "       width=\"24px\">\n",
              "    <path d=\"M0 0h24v24H0V0z\" fill=\"none\"/>\n",
              "    <path d=\"M18.56 5.44l.94 2.06.94-2.06 2.06-.94-2.06-.94-.94-2.06-.94 2.06-2.06.94zm-11 1L8.5 8.5l.94-2.06 2.06-.94-2.06-.94L8.5 2.5l-.94 2.06-2.06.94zm10 10l.94 2.06.94-2.06 2.06-.94-2.06-.94-.94-2.06-.94 2.06-2.06.94z\"/><path d=\"M17.41 7.96l-1.37-1.37c-.4-.4-.92-.59-1.43-.59-.52 0-1.04.2-1.43.59L10.3 9.45l-7.72 7.72c-.78.78-.78 2.05 0 2.83L4 21.41c.39.39.9.59 1.41.59.51 0 1.02-.2 1.41-.59l7.78-7.78 2.81-2.81c.8-.78.8-2.07 0-2.86zM5.41 20L4 18.59l7.72-7.72 1.47 1.35L5.41 20z\"/>\n",
              "  </svg>\n",
              "      </button>\n",
              "      \n",
              "  <style>\n",
              "    .colab-df-container {\n",
              "      display:flex;\n",
              "      flex-wrap:wrap;\n",
              "      gap: 12px;\n",
              "    }\n",
              "\n",
              "    .colab-df-convert {\n",
              "      background-color: #E8F0FE;\n",
              "      border: none;\n",
              "      border-radius: 50%;\n",
              "      cursor: pointer;\n",
              "      display: none;\n",
              "      fill: #1967D2;\n",
              "      height: 32px;\n",
              "      padding: 0 0 0 0;\n",
              "      width: 32px;\n",
              "    }\n",
              "\n",
              "    .colab-df-convert:hover {\n",
              "      background-color: #E2EBFA;\n",
              "      box-shadow: 0px 1px 2px rgba(60, 64, 67, 0.3), 0px 1px 3px 1px rgba(60, 64, 67, 0.15);\n",
              "      fill: #174EA6;\n",
              "    }\n",
              "\n",
              "    [theme=dark] .colab-df-convert {\n",
              "      background-color: #3B4455;\n",
              "      fill: #D2E3FC;\n",
              "    }\n",
              "\n",
              "    [theme=dark] .colab-df-convert:hover {\n",
              "      background-color: #434B5C;\n",
              "      box-shadow: 0px 1px 3px 1px rgba(0, 0, 0, 0.15);\n",
              "      filter: drop-shadow(0px 1px 2px rgba(0, 0, 0, 0.3));\n",
              "      fill: #FFFFFF;\n",
              "    }\n",
              "  </style>\n",
              "\n",
              "      <script>\n",
              "        const buttonEl =\n",
              "          document.querySelector('#df-cf36a941-5334-406d-b606-dbd8f26b6524 button.colab-df-convert');\n",
              "        buttonEl.style.display =\n",
              "          google.colab.kernel.accessAllowed ? 'block' : 'none';\n",
              "\n",
              "        async function convertToInteractive(key) {\n",
              "          const element = document.querySelector('#df-cf36a941-5334-406d-b606-dbd8f26b6524');\n",
              "          const dataTable =\n",
              "            await google.colab.kernel.invokeFunction('convertToInteractive',\n",
              "                                                     [key], {});\n",
              "          if (!dataTable) return;\n",
              "\n",
              "          const docLinkHtml = 'Like what you see? Visit the ' +\n",
              "            '<a target=\"_blank\" href=https://colab.research.google.com/notebooks/data_table.ipynb>data table notebook</a>'\n",
              "            + ' to learn more about interactive tables.';\n",
              "          element.innerHTML = '';\n",
              "          dataTable['output_type'] = 'display_data';\n",
              "          await google.colab.output.renderOutput(dataTable, element);\n",
              "          const docLink = document.createElement('div');\n",
              "          docLink.innerHTML = docLinkHtml;\n",
              "          element.appendChild(docLink);\n",
              "        }\n",
              "      </script>\n",
              "    </div>\n",
              "  </div>\n",
              "  "
            ]
          },
          "metadata": {},
          "execution_count": 17
        }
      ]
    },
    {
      "cell_type": "markdown",
      "source": [
        "We will impute data on our NaN values and we chose the mean() approach to fill them.\n"
      ],
      "metadata": {
        "id": "aaB7vN95YOhl"
      }
    },
    {
      "cell_type": "code",
      "source": [
        "attack['minPor90'].fillna(attack['minPor90'].mean(), inplace=True)\n",
        "attack['gols'].fillna(attack['gols'].mean(), inplace=True)\n",
        "attack['assist'].fillna(attack['assist'].mean(), inplace=True)"
      ],
      "metadata": {
        "id": "SVCT4-ec0iYo"
      },
      "execution_count": 18,
      "outputs": []
    },
    {
      "cell_type": "markdown",
      "source": [
        "We have the float values regarding goals and assists, so we have to treat them and convert to an integer."
      ],
      "metadata": {
        "id": "_AoNhYb1YTB_"
      }
    },
    {
      "cell_type": "code",
      "source": [
        "attack[(attack['gols']%1!=0) | (attack['assist']%1!=0)][['jogador','gols','assist']]"
      ],
      "metadata": {
        "colab": {
          "base_uri": "https://localhost:8080/",
          "height": 175
        },
        "id": "qylNLjjQ1lMw",
        "outputId": "a1ede512-0eee-46dc-c734-047999b4b76a"
      },
      "execution_count": 19,
      "outputs": [
        {
          "output_type": "execute_result",
          "data": {
            "text/plain": [
              "          jogador      gols    assist\n",
              "index                                \n",
              "65        Rikelmi  2.248276  1.110345\n",
              "127         David  2.248276  1.110345\n",
              "136    Vitor Hugo  2.248276  1.110345"
            ],
            "text/html": [
              "\n",
              "  <div id=\"df-8a745eec-5333-4df3-bd29-6c5d56b893c6\">\n",
              "    <div class=\"colab-df-container\">\n",
              "      <div>\n",
              "<style scoped>\n",
              "    .dataframe tbody tr th:only-of-type {\n",
              "        vertical-align: middle;\n",
              "    }\n",
              "\n",
              "    .dataframe tbody tr th {\n",
              "        vertical-align: top;\n",
              "    }\n",
              "\n",
              "    .dataframe thead th {\n",
              "        text-align: right;\n",
              "    }\n",
              "</style>\n",
              "<table border=\"1\" class=\"dataframe\">\n",
              "  <thead>\n",
              "    <tr style=\"text-align: right;\">\n",
              "      <th></th>\n",
              "      <th>jogador</th>\n",
              "      <th>gols</th>\n",
              "      <th>assist</th>\n",
              "    </tr>\n",
              "    <tr>\n",
              "      <th>index</th>\n",
              "      <th></th>\n",
              "      <th></th>\n",
              "      <th></th>\n",
              "    </tr>\n",
              "  </thead>\n",
              "  <tbody>\n",
              "    <tr>\n",
              "      <th>65</th>\n",
              "      <td>Rikelmi</td>\n",
              "      <td>2.248276</td>\n",
              "      <td>1.110345</td>\n",
              "    </tr>\n",
              "    <tr>\n",
              "      <th>127</th>\n",
              "      <td>David</td>\n",
              "      <td>2.248276</td>\n",
              "      <td>1.110345</td>\n",
              "    </tr>\n",
              "    <tr>\n",
              "      <th>136</th>\n",
              "      <td>Vitor Hugo</td>\n",
              "      <td>2.248276</td>\n",
              "      <td>1.110345</td>\n",
              "    </tr>\n",
              "  </tbody>\n",
              "</table>\n",
              "</div>\n",
              "      <button class=\"colab-df-convert\" onclick=\"convertToInteractive('df-8a745eec-5333-4df3-bd29-6c5d56b893c6')\"\n",
              "              title=\"Convert this dataframe to an interactive table.\"\n",
              "              style=\"display:none;\">\n",
              "        \n",
              "  <svg xmlns=\"http://www.w3.org/2000/svg\" height=\"24px\"viewBox=\"0 0 24 24\"\n",
              "       width=\"24px\">\n",
              "    <path d=\"M0 0h24v24H0V0z\" fill=\"none\"/>\n",
              "    <path d=\"M18.56 5.44l.94 2.06.94-2.06 2.06-.94-2.06-.94-.94-2.06-.94 2.06-2.06.94zm-11 1L8.5 8.5l.94-2.06 2.06-.94-2.06-.94L8.5 2.5l-.94 2.06-2.06.94zm10 10l.94 2.06.94-2.06 2.06-.94-2.06-.94-.94-2.06-.94 2.06-2.06.94z\"/><path d=\"M17.41 7.96l-1.37-1.37c-.4-.4-.92-.59-1.43-.59-.52 0-1.04.2-1.43.59L10.3 9.45l-7.72 7.72c-.78.78-.78 2.05 0 2.83L4 21.41c.39.39.9.59 1.41.59.51 0 1.02-.2 1.41-.59l7.78-7.78 2.81-2.81c.8-.78.8-2.07 0-2.86zM5.41 20L4 18.59l7.72-7.72 1.47 1.35L5.41 20z\"/>\n",
              "  </svg>\n",
              "      </button>\n",
              "      \n",
              "  <style>\n",
              "    .colab-df-container {\n",
              "      display:flex;\n",
              "      flex-wrap:wrap;\n",
              "      gap: 12px;\n",
              "    }\n",
              "\n",
              "    .colab-df-convert {\n",
              "      background-color: #E8F0FE;\n",
              "      border: none;\n",
              "      border-radius: 50%;\n",
              "      cursor: pointer;\n",
              "      display: none;\n",
              "      fill: #1967D2;\n",
              "      height: 32px;\n",
              "      padding: 0 0 0 0;\n",
              "      width: 32px;\n",
              "    }\n",
              "\n",
              "    .colab-df-convert:hover {\n",
              "      background-color: #E2EBFA;\n",
              "      box-shadow: 0px 1px 2px rgba(60, 64, 67, 0.3), 0px 1px 3px 1px rgba(60, 64, 67, 0.15);\n",
              "      fill: #174EA6;\n",
              "    }\n",
              "\n",
              "    [theme=dark] .colab-df-convert {\n",
              "      background-color: #3B4455;\n",
              "      fill: #D2E3FC;\n",
              "    }\n",
              "\n",
              "    [theme=dark] .colab-df-convert:hover {\n",
              "      background-color: #434B5C;\n",
              "      box-shadow: 0px 1px 3px 1px rgba(0, 0, 0, 0.15);\n",
              "      filter: drop-shadow(0px 1px 2px rgba(0, 0, 0, 0.3));\n",
              "      fill: #FFFFFF;\n",
              "    }\n",
              "  </style>\n",
              "\n",
              "      <script>\n",
              "        const buttonEl =\n",
              "          document.querySelector('#df-8a745eec-5333-4df3-bd29-6c5d56b893c6 button.colab-df-convert');\n",
              "        buttonEl.style.display =\n",
              "          google.colab.kernel.accessAllowed ? 'block' : 'none';\n",
              "\n",
              "        async function convertToInteractive(key) {\n",
              "          const element = document.querySelector('#df-8a745eec-5333-4df3-bd29-6c5d56b893c6');\n",
              "          const dataTable =\n",
              "            await google.colab.kernel.invokeFunction('convertToInteractive',\n",
              "                                                     [key], {});\n",
              "          if (!dataTable) return;\n",
              "\n",
              "          const docLinkHtml = 'Like what you see? Visit the ' +\n",
              "            '<a target=\"_blank\" href=https://colab.research.google.com/notebooks/data_table.ipynb>data table notebook</a>'\n",
              "            + ' to learn more about interactive tables.';\n",
              "          element.innerHTML = '';\n",
              "          dataTable['output_type'] = 'display_data';\n",
              "          await google.colab.output.renderOutput(dataTable, element);\n",
              "          const docLink = document.createElement('div');\n",
              "          docLink.innerHTML = docLinkHtml;\n",
              "          element.appendChild(docLink);\n",
              "        }\n",
              "      </script>\n",
              "    </div>\n",
              "  </div>\n",
              "  "
            ]
          },
          "metadata": {},
          "execution_count": 19
        }
      ]
    },
    {
      "cell_type": "code",
      "source": [
        "attack['gols'] = attack['gols'].apply(np.floor)\n",
        "attack['assist'] = attack['assist'].apply(np.floor)"
      ],
      "metadata": {
        "id": "Nx83q1YC3THW"
      },
      "execution_count": 20,
      "outputs": []
    },
    {
      "cell_type": "markdown",
      "source": [
        "There are no longer \"float\" values"
      ],
      "metadata": {
        "id": "-06YRqulYYKs"
      }
    },
    {
      "cell_type": "code",
      "source": [
        "attack[(attack['gols']%1!=0) | (attack['assist']%1!=0)][['jogador','gols','assist']]"
      ],
      "metadata": {
        "colab": {
          "base_uri": "https://localhost:8080/",
          "height": 81
        },
        "id": "GNh_xNUN3dXW",
        "outputId": "12a3c675-5199-41ee-b2ed-8f35455296a4"
      },
      "execution_count": 21,
      "outputs": [
        {
          "output_type": "execute_result",
          "data": {
            "text/plain": [
              "Empty DataFrame\n",
              "Columns: [jogador, gols, assist]\n",
              "Index: []"
            ],
            "text/html": [
              "\n",
              "  <div id=\"df-578f4e7a-a3f3-4868-aa59-532a358d36d4\">\n",
              "    <div class=\"colab-df-container\">\n",
              "      <div>\n",
              "<style scoped>\n",
              "    .dataframe tbody tr th:only-of-type {\n",
              "        vertical-align: middle;\n",
              "    }\n",
              "\n",
              "    .dataframe tbody tr th {\n",
              "        vertical-align: top;\n",
              "    }\n",
              "\n",
              "    .dataframe thead th {\n",
              "        text-align: right;\n",
              "    }\n",
              "</style>\n",
              "<table border=\"1\" class=\"dataframe\">\n",
              "  <thead>\n",
              "    <tr style=\"text-align: right;\">\n",
              "      <th></th>\n",
              "      <th>jogador</th>\n",
              "      <th>gols</th>\n",
              "      <th>assist</th>\n",
              "    </tr>\n",
              "    <tr>\n",
              "      <th>index</th>\n",
              "      <th></th>\n",
              "      <th></th>\n",
              "      <th></th>\n",
              "    </tr>\n",
              "  </thead>\n",
              "  <tbody>\n",
              "  </tbody>\n",
              "</table>\n",
              "</div>\n",
              "      <button class=\"colab-df-convert\" onclick=\"convertToInteractive('df-578f4e7a-a3f3-4868-aa59-532a358d36d4')\"\n",
              "              title=\"Convert this dataframe to an interactive table.\"\n",
              "              style=\"display:none;\">\n",
              "        \n",
              "  <svg xmlns=\"http://www.w3.org/2000/svg\" height=\"24px\"viewBox=\"0 0 24 24\"\n",
              "       width=\"24px\">\n",
              "    <path d=\"M0 0h24v24H0V0z\" fill=\"none\"/>\n",
              "    <path d=\"M18.56 5.44l.94 2.06.94-2.06 2.06-.94-2.06-.94-.94-2.06-.94 2.06-2.06.94zm-11 1L8.5 8.5l.94-2.06 2.06-.94-2.06-.94L8.5 2.5l-.94 2.06-2.06.94zm10 10l.94 2.06.94-2.06 2.06-.94-2.06-.94-.94-2.06-.94 2.06-2.06.94z\"/><path d=\"M17.41 7.96l-1.37-1.37c-.4-.4-.92-.59-1.43-.59-.52 0-1.04.2-1.43.59L10.3 9.45l-7.72 7.72c-.78.78-.78 2.05 0 2.83L4 21.41c.39.39.9.59 1.41.59.51 0 1.02-.2 1.41-.59l7.78-7.78 2.81-2.81c.8-.78.8-2.07 0-2.86zM5.41 20L4 18.59l7.72-7.72 1.47 1.35L5.41 20z\"/>\n",
              "  </svg>\n",
              "      </button>\n",
              "      \n",
              "  <style>\n",
              "    .colab-df-container {\n",
              "      display:flex;\n",
              "      flex-wrap:wrap;\n",
              "      gap: 12px;\n",
              "    }\n",
              "\n",
              "    .colab-df-convert {\n",
              "      background-color: #E8F0FE;\n",
              "      border: none;\n",
              "      border-radius: 50%;\n",
              "      cursor: pointer;\n",
              "      display: none;\n",
              "      fill: #1967D2;\n",
              "      height: 32px;\n",
              "      padding: 0 0 0 0;\n",
              "      width: 32px;\n",
              "    }\n",
              "\n",
              "    .colab-df-convert:hover {\n",
              "      background-color: #E2EBFA;\n",
              "      box-shadow: 0px 1px 2px rgba(60, 64, 67, 0.3), 0px 1px 3px 1px rgba(60, 64, 67, 0.15);\n",
              "      fill: #174EA6;\n",
              "    }\n",
              "\n",
              "    [theme=dark] .colab-df-convert {\n",
              "      background-color: #3B4455;\n",
              "      fill: #D2E3FC;\n",
              "    }\n",
              "\n",
              "    [theme=dark] .colab-df-convert:hover {\n",
              "      background-color: #434B5C;\n",
              "      box-shadow: 0px 1px 3px 1px rgba(0, 0, 0, 0.15);\n",
              "      filter: drop-shadow(0px 1px 2px rgba(0, 0, 0, 0.3));\n",
              "      fill: #FFFFFF;\n",
              "    }\n",
              "  </style>\n",
              "\n",
              "      <script>\n",
              "        const buttonEl =\n",
              "          document.querySelector('#df-578f4e7a-a3f3-4868-aa59-532a358d36d4 button.colab-df-convert');\n",
              "        buttonEl.style.display =\n",
              "          google.colab.kernel.accessAllowed ? 'block' : 'none';\n",
              "\n",
              "        async function convertToInteractive(key) {\n",
              "          const element = document.querySelector('#df-578f4e7a-a3f3-4868-aa59-532a358d36d4');\n",
              "          const dataTable =\n",
              "            await google.colab.kernel.invokeFunction('convertToInteractive',\n",
              "                                                     [key], {});\n",
              "          if (!dataTable) return;\n",
              "\n",
              "          const docLinkHtml = 'Like what you see? Visit the ' +\n",
              "            '<a target=\"_blank\" href=https://colab.research.google.com/notebooks/data_table.ipynb>data table notebook</a>'\n",
              "            + ' to learn more about interactive tables.';\n",
              "          element.innerHTML = '';\n",
              "          dataTable['output_type'] = 'display_data';\n",
              "          await google.colab.output.renderOutput(dataTable, element);\n",
              "          const docLink = document.createElement('div');\n",
              "          docLink.innerHTML = docLinkHtml;\n",
              "          element.appendChild(docLink);\n",
              "        }\n",
              "      </script>\n",
              "    </div>\n",
              "  </div>\n",
              "  "
            ]
          },
          "metadata": {},
          "execution_count": 21
        }
      ]
    },
    {
      "cell_type": "code",
      "source": [
        "# As we can see, the value has been updated to it's floor value\n",
        "attack[attack.index==65]"
      ],
      "metadata": {
        "colab": {
          "base_uri": "https://localhost:8080/",
          "height": 112
        },
        "id": "OSNRIlmf3lAY",
        "outputId": "d0cc374d-8d7c-4edc-f6e6-779ee9ef7aa9"
      },
      "execution_count": 22,
      "outputs": [
        {
          "output_type": "execute_result",
          "data": {
            "text/plain": [
              "       jogador nacao posicao  idade  minPor90  gols  assist\n",
              "index                                                      \n",
              "65     Rikelmi   BRA      AT     20  6.268966   2.0     1.0"
            ],
            "text/html": [
              "\n",
              "  <div id=\"df-6839de42-6517-431d-8f2f-09685c96b282\">\n",
              "    <div class=\"colab-df-container\">\n",
              "      <div>\n",
              "<style scoped>\n",
              "    .dataframe tbody tr th:only-of-type {\n",
              "        vertical-align: middle;\n",
              "    }\n",
              "\n",
              "    .dataframe tbody tr th {\n",
              "        vertical-align: top;\n",
              "    }\n",
              "\n",
              "    .dataframe thead th {\n",
              "        text-align: right;\n",
              "    }\n",
              "</style>\n",
              "<table border=\"1\" class=\"dataframe\">\n",
              "  <thead>\n",
              "    <tr style=\"text-align: right;\">\n",
              "      <th></th>\n",
              "      <th>jogador</th>\n",
              "      <th>nacao</th>\n",
              "      <th>posicao</th>\n",
              "      <th>idade</th>\n",
              "      <th>minPor90</th>\n",
              "      <th>gols</th>\n",
              "      <th>assist</th>\n",
              "    </tr>\n",
              "    <tr>\n",
              "      <th>index</th>\n",
              "      <th></th>\n",
              "      <th></th>\n",
              "      <th></th>\n",
              "      <th></th>\n",
              "      <th></th>\n",
              "      <th></th>\n",
              "      <th></th>\n",
              "    </tr>\n",
              "  </thead>\n",
              "  <tbody>\n",
              "    <tr>\n",
              "      <th>65</th>\n",
              "      <td>Rikelmi</td>\n",
              "      <td>BRA</td>\n",
              "      <td>AT</td>\n",
              "      <td>20</td>\n",
              "      <td>6.268966</td>\n",
              "      <td>2.0</td>\n",
              "      <td>1.0</td>\n",
              "    </tr>\n",
              "  </tbody>\n",
              "</table>\n",
              "</div>\n",
              "      <button class=\"colab-df-convert\" onclick=\"convertToInteractive('df-6839de42-6517-431d-8f2f-09685c96b282')\"\n",
              "              title=\"Convert this dataframe to an interactive table.\"\n",
              "              style=\"display:none;\">\n",
              "        \n",
              "  <svg xmlns=\"http://www.w3.org/2000/svg\" height=\"24px\"viewBox=\"0 0 24 24\"\n",
              "       width=\"24px\">\n",
              "    <path d=\"M0 0h24v24H0V0z\" fill=\"none\"/>\n",
              "    <path d=\"M18.56 5.44l.94 2.06.94-2.06 2.06-.94-2.06-.94-.94-2.06-.94 2.06-2.06.94zm-11 1L8.5 8.5l.94-2.06 2.06-.94-2.06-.94L8.5 2.5l-.94 2.06-2.06.94zm10 10l.94 2.06.94-2.06 2.06-.94-2.06-.94-.94-2.06-.94 2.06-2.06.94z\"/><path d=\"M17.41 7.96l-1.37-1.37c-.4-.4-.92-.59-1.43-.59-.52 0-1.04.2-1.43.59L10.3 9.45l-7.72 7.72c-.78.78-.78 2.05 0 2.83L4 21.41c.39.39.9.59 1.41.59.51 0 1.02-.2 1.41-.59l7.78-7.78 2.81-2.81c.8-.78.8-2.07 0-2.86zM5.41 20L4 18.59l7.72-7.72 1.47 1.35L5.41 20z\"/>\n",
              "  </svg>\n",
              "      </button>\n",
              "      \n",
              "  <style>\n",
              "    .colab-df-container {\n",
              "      display:flex;\n",
              "      flex-wrap:wrap;\n",
              "      gap: 12px;\n",
              "    }\n",
              "\n",
              "    .colab-df-convert {\n",
              "      background-color: #E8F0FE;\n",
              "      border: none;\n",
              "      border-radius: 50%;\n",
              "      cursor: pointer;\n",
              "      display: none;\n",
              "      fill: #1967D2;\n",
              "      height: 32px;\n",
              "      padding: 0 0 0 0;\n",
              "      width: 32px;\n",
              "    }\n",
              "\n",
              "    .colab-df-convert:hover {\n",
              "      background-color: #E2EBFA;\n",
              "      box-shadow: 0px 1px 2px rgba(60, 64, 67, 0.3), 0px 1px 3px 1px rgba(60, 64, 67, 0.15);\n",
              "      fill: #174EA6;\n",
              "    }\n",
              "\n",
              "    [theme=dark] .colab-df-convert {\n",
              "      background-color: #3B4455;\n",
              "      fill: #D2E3FC;\n",
              "    }\n",
              "\n",
              "    [theme=dark] .colab-df-convert:hover {\n",
              "      background-color: #434B5C;\n",
              "      box-shadow: 0px 1px 3px 1px rgba(0, 0, 0, 0.15);\n",
              "      filter: drop-shadow(0px 1px 2px rgba(0, 0, 0, 0.3));\n",
              "      fill: #FFFFFF;\n",
              "    }\n",
              "  </style>\n",
              "\n",
              "      <script>\n",
              "        const buttonEl =\n",
              "          document.querySelector('#df-6839de42-6517-431d-8f2f-09685c96b282 button.colab-df-convert');\n",
              "        buttonEl.style.display =\n",
              "          google.colab.kernel.accessAllowed ? 'block' : 'none';\n",
              "\n",
              "        async function convertToInteractive(key) {\n",
              "          const element = document.querySelector('#df-6839de42-6517-431d-8f2f-09685c96b282');\n",
              "          const dataTable =\n",
              "            await google.colab.kernel.invokeFunction('convertToInteractive',\n",
              "                                                     [key], {});\n",
              "          if (!dataTable) return;\n",
              "\n",
              "          const docLinkHtml = 'Like what you see? Visit the ' +\n",
              "            '<a target=\"_blank\" href=https://colab.research.google.com/notebooks/data_table.ipynb>data table notebook</a>'\n",
              "            + ' to learn more about interactive tables.';\n",
              "          element.innerHTML = '';\n",
              "          dataTable['output_type'] = 'display_data';\n",
              "          await google.colab.output.renderOutput(dataTable, element);\n",
              "          const docLink = document.createElement('div');\n",
              "          docLink.innerHTML = docLinkHtml;\n",
              "          element.appendChild(docLink);\n",
              "        }\n",
              "      </script>\n",
              "    </div>\n",
              "  </div>\n",
              "  "
            ]
          },
          "metadata": {},
          "execution_count": 22
        }
      ]
    },
    {
      "cell_type": "markdown",
      "source": [
        "We noticed that the Srappy method used to gather our data information included some \"wrong\" data regarding a few players. Since we already knew that the top scorer of the season was \"Germán Cano\" (Fluminense), it was easy to decide which players to exclude from our original database."
      ],
      "metadata": {
        "id": "MNf79nhyzret"
      }
    },
    {
      "cell_type": "code",
      "source": [
        "# Wrong values\n",
        "attack[attack['gols'] > attack[attack['jogador'] == 'Germán Cano']['gols'].values[0]]"
      ],
      "metadata": {
        "colab": {
          "base_uri": "https://localhost:8080/",
          "height": 269
        },
        "id": "-ktsWec4U54O",
        "outputId": "39fede72-6fe3-41d1-c43e-1f12ba13fe31"
      },
      "execution_count": 23,
      "outputs": [
        {
          "output_type": "execute_result",
          "data": {
            "text/plain": [
              "                jogador nacao posicao  idade  minPor90  gols  assist\n",
              "index                                                               \n",
              "45          Jean Bonora   BRA      AT     19      17.0  17.0    11.0\n",
              "62                Bruno   BRA      AT     19      17.0  26.0    18.0\n",
              "64           Pedro Igor   BRA      AT     20      17.0  18.0    14.0\n",
              "115      Gustavo Nescau   BRA      AT     22      16.0  16.0    10.0\n",
              "132    Ángelo Henríquez   CHI      AT     28      17.0  19.0    14.0\n",
              "143        Caio Matheus   BRA      AT     22      17.0  18.0    12.0"
            ],
            "text/html": [
              "\n",
              "  <div id=\"df-a9287093-e10a-425a-b748-33834b6d9f3f\">\n",
              "    <div class=\"colab-df-container\">\n",
              "      <div>\n",
              "<style scoped>\n",
              "    .dataframe tbody tr th:only-of-type {\n",
              "        vertical-align: middle;\n",
              "    }\n",
              "\n",
              "    .dataframe tbody tr th {\n",
              "        vertical-align: top;\n",
              "    }\n",
              "\n",
              "    .dataframe thead th {\n",
              "        text-align: right;\n",
              "    }\n",
              "</style>\n",
              "<table border=\"1\" class=\"dataframe\">\n",
              "  <thead>\n",
              "    <tr style=\"text-align: right;\">\n",
              "      <th></th>\n",
              "      <th>jogador</th>\n",
              "      <th>nacao</th>\n",
              "      <th>posicao</th>\n",
              "      <th>idade</th>\n",
              "      <th>minPor90</th>\n",
              "      <th>gols</th>\n",
              "      <th>assist</th>\n",
              "    </tr>\n",
              "    <tr>\n",
              "      <th>index</th>\n",
              "      <th></th>\n",
              "      <th></th>\n",
              "      <th></th>\n",
              "      <th></th>\n",
              "      <th></th>\n",
              "      <th></th>\n",
              "      <th></th>\n",
              "    </tr>\n",
              "  </thead>\n",
              "  <tbody>\n",
              "    <tr>\n",
              "      <th>45</th>\n",
              "      <td>Jean Bonora</td>\n",
              "      <td>BRA</td>\n",
              "      <td>AT</td>\n",
              "      <td>19</td>\n",
              "      <td>17.0</td>\n",
              "      <td>17.0</td>\n",
              "      <td>11.0</td>\n",
              "    </tr>\n",
              "    <tr>\n",
              "      <th>62</th>\n",
              "      <td>Bruno</td>\n",
              "      <td>BRA</td>\n",
              "      <td>AT</td>\n",
              "      <td>19</td>\n",
              "      <td>17.0</td>\n",
              "      <td>26.0</td>\n",
              "      <td>18.0</td>\n",
              "    </tr>\n",
              "    <tr>\n",
              "      <th>64</th>\n",
              "      <td>Pedro Igor</td>\n",
              "      <td>BRA</td>\n",
              "      <td>AT</td>\n",
              "      <td>20</td>\n",
              "      <td>17.0</td>\n",
              "      <td>18.0</td>\n",
              "      <td>14.0</td>\n",
              "    </tr>\n",
              "    <tr>\n",
              "      <th>115</th>\n",
              "      <td>Gustavo Nescau</td>\n",
              "      <td>BRA</td>\n",
              "      <td>AT</td>\n",
              "      <td>22</td>\n",
              "      <td>16.0</td>\n",
              "      <td>16.0</td>\n",
              "      <td>10.0</td>\n",
              "    </tr>\n",
              "    <tr>\n",
              "      <th>132</th>\n",
              "      <td>Ángelo Henríquez</td>\n",
              "      <td>CHI</td>\n",
              "      <td>AT</td>\n",
              "      <td>28</td>\n",
              "      <td>17.0</td>\n",
              "      <td>19.0</td>\n",
              "      <td>14.0</td>\n",
              "    </tr>\n",
              "    <tr>\n",
              "      <th>143</th>\n",
              "      <td>Caio Matheus</td>\n",
              "      <td>BRA</td>\n",
              "      <td>AT</td>\n",
              "      <td>22</td>\n",
              "      <td>17.0</td>\n",
              "      <td>18.0</td>\n",
              "      <td>12.0</td>\n",
              "    </tr>\n",
              "  </tbody>\n",
              "</table>\n",
              "</div>\n",
              "      <button class=\"colab-df-convert\" onclick=\"convertToInteractive('df-a9287093-e10a-425a-b748-33834b6d9f3f')\"\n",
              "              title=\"Convert this dataframe to an interactive table.\"\n",
              "              style=\"display:none;\">\n",
              "        \n",
              "  <svg xmlns=\"http://www.w3.org/2000/svg\" height=\"24px\"viewBox=\"0 0 24 24\"\n",
              "       width=\"24px\">\n",
              "    <path d=\"M0 0h24v24H0V0z\" fill=\"none\"/>\n",
              "    <path d=\"M18.56 5.44l.94 2.06.94-2.06 2.06-.94-2.06-.94-.94-2.06-.94 2.06-2.06.94zm-11 1L8.5 8.5l.94-2.06 2.06-.94-2.06-.94L8.5 2.5l-.94 2.06-2.06.94zm10 10l.94 2.06.94-2.06 2.06-.94-2.06-.94-.94-2.06-.94 2.06-2.06.94z\"/><path d=\"M17.41 7.96l-1.37-1.37c-.4-.4-.92-.59-1.43-.59-.52 0-1.04.2-1.43.59L10.3 9.45l-7.72 7.72c-.78.78-.78 2.05 0 2.83L4 21.41c.39.39.9.59 1.41.59.51 0 1.02-.2 1.41-.59l7.78-7.78 2.81-2.81c.8-.78.8-2.07 0-2.86zM5.41 20L4 18.59l7.72-7.72 1.47 1.35L5.41 20z\"/>\n",
              "  </svg>\n",
              "      </button>\n",
              "      \n",
              "  <style>\n",
              "    .colab-df-container {\n",
              "      display:flex;\n",
              "      flex-wrap:wrap;\n",
              "      gap: 12px;\n",
              "    }\n",
              "\n",
              "    .colab-df-convert {\n",
              "      background-color: #E8F0FE;\n",
              "      border: none;\n",
              "      border-radius: 50%;\n",
              "      cursor: pointer;\n",
              "      display: none;\n",
              "      fill: #1967D2;\n",
              "      height: 32px;\n",
              "      padding: 0 0 0 0;\n",
              "      width: 32px;\n",
              "    }\n",
              "\n",
              "    .colab-df-convert:hover {\n",
              "      background-color: #E2EBFA;\n",
              "      box-shadow: 0px 1px 2px rgba(60, 64, 67, 0.3), 0px 1px 3px 1px rgba(60, 64, 67, 0.15);\n",
              "      fill: #174EA6;\n",
              "    }\n",
              "\n",
              "    [theme=dark] .colab-df-convert {\n",
              "      background-color: #3B4455;\n",
              "      fill: #D2E3FC;\n",
              "    }\n",
              "\n",
              "    [theme=dark] .colab-df-convert:hover {\n",
              "      background-color: #434B5C;\n",
              "      box-shadow: 0px 1px 3px 1px rgba(0, 0, 0, 0.15);\n",
              "      filter: drop-shadow(0px 1px 2px rgba(0, 0, 0, 0.3));\n",
              "      fill: #FFFFFF;\n",
              "    }\n",
              "  </style>\n",
              "\n",
              "      <script>\n",
              "        const buttonEl =\n",
              "          document.querySelector('#df-a9287093-e10a-425a-b748-33834b6d9f3f button.colab-df-convert');\n",
              "        buttonEl.style.display =\n",
              "          google.colab.kernel.accessAllowed ? 'block' : 'none';\n",
              "\n",
              "        async function convertToInteractive(key) {\n",
              "          const element = document.querySelector('#df-a9287093-e10a-425a-b748-33834b6d9f3f');\n",
              "          const dataTable =\n",
              "            await google.colab.kernel.invokeFunction('convertToInteractive',\n",
              "                                                     [key], {});\n",
              "          if (!dataTable) return;\n",
              "\n",
              "          const docLinkHtml = 'Like what you see? Visit the ' +\n",
              "            '<a target=\"_blank\" href=https://colab.research.google.com/notebooks/data_table.ipynb>data table notebook</a>'\n",
              "            + ' to learn more about interactive tables.';\n",
              "          element.innerHTML = '';\n",
              "          dataTable['output_type'] = 'display_data';\n",
              "          await google.colab.output.renderOutput(dataTable, element);\n",
              "          const docLink = document.createElement('div');\n",
              "          docLink.innerHTML = docLinkHtml;\n",
              "          element.appendChild(docLink);\n",
              "        }\n",
              "      </script>\n",
              "    </div>\n",
              "  </div>\n",
              "  "
            ]
          },
          "metadata": {},
          "execution_count": 23
        }
      ]
    },
    {
      "cell_type": "code",
      "source": [
        "# We dropped all players that scored more goals than Germán Cano\n",
        "attack.drop(attack[attack['gols'] > attack[attack['jogador'] == 'Germán Cano']['gols'].values[0]].index, inplace=True)"
      ],
      "metadata": {
        "id": "HRQXZbfzWljd"
      },
      "execution_count": 24,
      "outputs": []
    },
    {
      "cell_type": "code",
      "source": [
        "# Now our data is correct\n",
        "attack[attack['gols'] > attack[attack['jogador'] == 'Germán Cano']['gols'].values[0]]"
      ],
      "metadata": {
        "colab": {
          "base_uri": "https://localhost:8080/",
          "height": 81
        },
        "id": "fWKopL_NWfZY",
        "outputId": "af8c3e8e-a56a-4f64-bd6a-728019626eea"
      },
      "execution_count": 25,
      "outputs": [
        {
          "output_type": "execute_result",
          "data": {
            "text/plain": [
              "Empty DataFrame\n",
              "Columns: [jogador, nacao, posicao, idade, minPor90, gols, assist]\n",
              "Index: []"
            ],
            "text/html": [
              "\n",
              "  <div id=\"df-4bc6d0da-236d-41f6-bdd2-ec65ba848eeb\">\n",
              "    <div class=\"colab-df-container\">\n",
              "      <div>\n",
              "<style scoped>\n",
              "    .dataframe tbody tr th:only-of-type {\n",
              "        vertical-align: middle;\n",
              "    }\n",
              "\n",
              "    .dataframe tbody tr th {\n",
              "        vertical-align: top;\n",
              "    }\n",
              "\n",
              "    .dataframe thead th {\n",
              "        text-align: right;\n",
              "    }\n",
              "</style>\n",
              "<table border=\"1\" class=\"dataframe\">\n",
              "  <thead>\n",
              "    <tr style=\"text-align: right;\">\n",
              "      <th></th>\n",
              "      <th>jogador</th>\n",
              "      <th>nacao</th>\n",
              "      <th>posicao</th>\n",
              "      <th>idade</th>\n",
              "      <th>minPor90</th>\n",
              "      <th>gols</th>\n",
              "      <th>assist</th>\n",
              "    </tr>\n",
              "    <tr>\n",
              "      <th>index</th>\n",
              "      <th></th>\n",
              "      <th></th>\n",
              "      <th></th>\n",
              "      <th></th>\n",
              "      <th></th>\n",
              "      <th></th>\n",
              "      <th></th>\n",
              "    </tr>\n",
              "  </thead>\n",
              "  <tbody>\n",
              "  </tbody>\n",
              "</table>\n",
              "</div>\n",
              "      <button class=\"colab-df-convert\" onclick=\"convertToInteractive('df-4bc6d0da-236d-41f6-bdd2-ec65ba848eeb')\"\n",
              "              title=\"Convert this dataframe to an interactive table.\"\n",
              "              style=\"display:none;\">\n",
              "        \n",
              "  <svg xmlns=\"http://www.w3.org/2000/svg\" height=\"24px\"viewBox=\"0 0 24 24\"\n",
              "       width=\"24px\">\n",
              "    <path d=\"M0 0h24v24H0V0z\" fill=\"none\"/>\n",
              "    <path d=\"M18.56 5.44l.94 2.06.94-2.06 2.06-.94-2.06-.94-.94-2.06-.94 2.06-2.06.94zm-11 1L8.5 8.5l.94-2.06 2.06-.94-2.06-.94L8.5 2.5l-.94 2.06-2.06.94zm10 10l.94 2.06.94-2.06 2.06-.94-2.06-.94-.94-2.06-.94 2.06-2.06.94z\"/><path d=\"M17.41 7.96l-1.37-1.37c-.4-.4-.92-.59-1.43-.59-.52 0-1.04.2-1.43.59L10.3 9.45l-7.72 7.72c-.78.78-.78 2.05 0 2.83L4 21.41c.39.39.9.59 1.41.59.51 0 1.02-.2 1.41-.59l7.78-7.78 2.81-2.81c.8-.78.8-2.07 0-2.86zM5.41 20L4 18.59l7.72-7.72 1.47 1.35L5.41 20z\"/>\n",
              "  </svg>\n",
              "      </button>\n",
              "      \n",
              "  <style>\n",
              "    .colab-df-container {\n",
              "      display:flex;\n",
              "      flex-wrap:wrap;\n",
              "      gap: 12px;\n",
              "    }\n",
              "\n",
              "    .colab-df-convert {\n",
              "      background-color: #E8F0FE;\n",
              "      border: none;\n",
              "      border-radius: 50%;\n",
              "      cursor: pointer;\n",
              "      display: none;\n",
              "      fill: #1967D2;\n",
              "      height: 32px;\n",
              "      padding: 0 0 0 0;\n",
              "      width: 32px;\n",
              "    }\n",
              "\n",
              "    .colab-df-convert:hover {\n",
              "      background-color: #E2EBFA;\n",
              "      box-shadow: 0px 1px 2px rgba(60, 64, 67, 0.3), 0px 1px 3px 1px rgba(60, 64, 67, 0.15);\n",
              "      fill: #174EA6;\n",
              "    }\n",
              "\n",
              "    [theme=dark] .colab-df-convert {\n",
              "      background-color: #3B4455;\n",
              "      fill: #D2E3FC;\n",
              "    }\n",
              "\n",
              "    [theme=dark] .colab-df-convert:hover {\n",
              "      background-color: #434B5C;\n",
              "      box-shadow: 0px 1px 3px 1px rgba(0, 0, 0, 0.15);\n",
              "      filter: drop-shadow(0px 1px 2px rgba(0, 0, 0, 0.3));\n",
              "      fill: #FFFFFF;\n",
              "    }\n",
              "  </style>\n",
              "\n",
              "      <script>\n",
              "        const buttonEl =\n",
              "          document.querySelector('#df-4bc6d0da-236d-41f6-bdd2-ec65ba848eeb button.colab-df-convert');\n",
              "        buttonEl.style.display =\n",
              "          google.colab.kernel.accessAllowed ? 'block' : 'none';\n",
              "\n",
              "        async function convertToInteractive(key) {\n",
              "          const element = document.querySelector('#df-4bc6d0da-236d-41f6-bdd2-ec65ba848eeb');\n",
              "          const dataTable =\n",
              "            await google.colab.kernel.invokeFunction('convertToInteractive',\n",
              "                                                     [key], {});\n",
              "          if (!dataTable) return;\n",
              "\n",
              "          const docLinkHtml = 'Like what you see? Visit the ' +\n",
              "            '<a target=\"_blank\" href=https://colab.research.google.com/notebooks/data_table.ipynb>data table notebook</a>'\n",
              "            + ' to learn more about interactive tables.';\n",
              "          element.innerHTML = '';\n",
              "          dataTable['output_type'] = 'display_data';\n",
              "          await google.colab.output.renderOutput(dataTable, element);\n",
              "          const docLink = document.createElement('div');\n",
              "          docLink.innerHTML = docLinkHtml;\n",
              "          element.appendChild(docLink);\n",
              "        }\n",
              "      </script>\n",
              "    </div>\n",
              "  </div>\n",
              "  "
            ]
          },
          "metadata": {},
          "execution_count": 25
        }
      ]
    },
    {
      "cell_type": "markdown",
      "source": [
        "Here, we have already handled NULL values and wrong data, but the index values have not been updated\n",
        "\n",
        "We can see the \"leap\" from index 142 to 144"
      ],
      "metadata": {
        "id": "RXtjyovoYmuX"
      }
    },
    {
      "cell_type": "code",
      "source": [
        "attack"
      ],
      "metadata": {
        "colab": {
          "base_uri": "https://localhost:8080/",
          "height": 455
        },
        "id": "z6S3Wi9yWhHr",
        "outputId": "7e4e1f1d-87e6-4142-d6ea-5d319a0347c4"
      },
      "execution_count": 26,
      "outputs": [
        {
          "output_type": "execute_result",
          "data": {
            "text/plain": [
              "                jogador nacao posicao  idade  minPor90  gols  assist\n",
              "index                                                               \n",
              "0                Erison   BRA      AT     23      13.4   6.0     1.0\n",
              "1                  Hulk   BRA      AT     35      13.9   7.0     2.0\n",
              "2          Roger Guedes   BRA      AT     25      12.2   5.0     1.0\n",
              "3       Wellington Rato   BRA   LT,AT     30      13.6   4.0     0.0\n",
              "4        Stiven Mendoza   COL   AT,LT     30      11.5   7.0     0.0\n",
              "...                 ...   ...     ...    ...       ...   ...     ...\n",
              "142          Óscar Ruiz   PAR   AT,LT     31       6.3   3.0     0.0\n",
              "144              Marlon   BRA   LT,AT     32       1.7   0.0     0.0\n",
              "145       Vitor Gabriel   BRA      AT     22       4.3   1.0     0.0\n",
              "146    Guilherme Parede   BRA   LT,AT     26       3.1   0.0     1.0\n",
              "147            Bruninho   BRA      AT     22       1.3   0.0     0.0\n",
              "\n",
              "[142 rows x 7 columns]"
            ],
            "text/html": [
              "\n",
              "  <div id=\"df-98f4fd27-ca19-40a2-9706-9aae9e01e68e\">\n",
              "    <div class=\"colab-df-container\">\n",
              "      <div>\n",
              "<style scoped>\n",
              "    .dataframe tbody tr th:only-of-type {\n",
              "        vertical-align: middle;\n",
              "    }\n",
              "\n",
              "    .dataframe tbody tr th {\n",
              "        vertical-align: top;\n",
              "    }\n",
              "\n",
              "    .dataframe thead th {\n",
              "        text-align: right;\n",
              "    }\n",
              "</style>\n",
              "<table border=\"1\" class=\"dataframe\">\n",
              "  <thead>\n",
              "    <tr style=\"text-align: right;\">\n",
              "      <th></th>\n",
              "      <th>jogador</th>\n",
              "      <th>nacao</th>\n",
              "      <th>posicao</th>\n",
              "      <th>idade</th>\n",
              "      <th>minPor90</th>\n",
              "      <th>gols</th>\n",
              "      <th>assist</th>\n",
              "    </tr>\n",
              "    <tr>\n",
              "      <th>index</th>\n",
              "      <th></th>\n",
              "      <th></th>\n",
              "      <th></th>\n",
              "      <th></th>\n",
              "      <th></th>\n",
              "      <th></th>\n",
              "      <th></th>\n",
              "    </tr>\n",
              "  </thead>\n",
              "  <tbody>\n",
              "    <tr>\n",
              "      <th>0</th>\n",
              "      <td>Erison</td>\n",
              "      <td>BRA</td>\n",
              "      <td>AT</td>\n",
              "      <td>23</td>\n",
              "      <td>13.4</td>\n",
              "      <td>6.0</td>\n",
              "      <td>1.0</td>\n",
              "    </tr>\n",
              "    <tr>\n",
              "      <th>1</th>\n",
              "      <td>Hulk</td>\n",
              "      <td>BRA</td>\n",
              "      <td>AT</td>\n",
              "      <td>35</td>\n",
              "      <td>13.9</td>\n",
              "      <td>7.0</td>\n",
              "      <td>2.0</td>\n",
              "    </tr>\n",
              "    <tr>\n",
              "      <th>2</th>\n",
              "      <td>Roger Guedes</td>\n",
              "      <td>BRA</td>\n",
              "      <td>AT</td>\n",
              "      <td>25</td>\n",
              "      <td>12.2</td>\n",
              "      <td>5.0</td>\n",
              "      <td>1.0</td>\n",
              "    </tr>\n",
              "    <tr>\n",
              "      <th>3</th>\n",
              "      <td>Wellington Rato</td>\n",
              "      <td>BRA</td>\n",
              "      <td>LT,AT</td>\n",
              "      <td>30</td>\n",
              "      <td>13.6</td>\n",
              "      <td>4.0</td>\n",
              "      <td>0.0</td>\n",
              "    </tr>\n",
              "    <tr>\n",
              "      <th>4</th>\n",
              "      <td>Stiven Mendoza</td>\n",
              "      <td>COL</td>\n",
              "      <td>AT,LT</td>\n",
              "      <td>30</td>\n",
              "      <td>11.5</td>\n",
              "      <td>7.0</td>\n",
              "      <td>0.0</td>\n",
              "    </tr>\n",
              "    <tr>\n",
              "      <th>...</th>\n",
              "      <td>...</td>\n",
              "      <td>...</td>\n",
              "      <td>...</td>\n",
              "      <td>...</td>\n",
              "      <td>...</td>\n",
              "      <td>...</td>\n",
              "      <td>...</td>\n",
              "    </tr>\n",
              "    <tr>\n",
              "      <th>142</th>\n",
              "      <td>Óscar Ruiz</td>\n",
              "      <td>PAR</td>\n",
              "      <td>AT,LT</td>\n",
              "      <td>31</td>\n",
              "      <td>6.3</td>\n",
              "      <td>3.0</td>\n",
              "      <td>0.0</td>\n",
              "    </tr>\n",
              "    <tr>\n",
              "      <th>144</th>\n",
              "      <td>Marlon</td>\n",
              "      <td>BRA</td>\n",
              "      <td>LT,AT</td>\n",
              "      <td>32</td>\n",
              "      <td>1.7</td>\n",
              "      <td>0.0</td>\n",
              "      <td>0.0</td>\n",
              "    </tr>\n",
              "    <tr>\n",
              "      <th>145</th>\n",
              "      <td>Vitor Gabriel</td>\n",
              "      <td>BRA</td>\n",
              "      <td>AT</td>\n",
              "      <td>22</td>\n",
              "      <td>4.3</td>\n",
              "      <td>1.0</td>\n",
              "      <td>0.0</td>\n",
              "    </tr>\n",
              "    <tr>\n",
              "      <th>146</th>\n",
              "      <td>Guilherme Parede</td>\n",
              "      <td>BRA</td>\n",
              "      <td>LT,AT</td>\n",
              "      <td>26</td>\n",
              "      <td>3.1</td>\n",
              "      <td>0.0</td>\n",
              "      <td>1.0</td>\n",
              "    </tr>\n",
              "    <tr>\n",
              "      <th>147</th>\n",
              "      <td>Bruninho</td>\n",
              "      <td>BRA</td>\n",
              "      <td>AT</td>\n",
              "      <td>22</td>\n",
              "      <td>1.3</td>\n",
              "      <td>0.0</td>\n",
              "      <td>0.0</td>\n",
              "    </tr>\n",
              "  </tbody>\n",
              "</table>\n",
              "<p>142 rows × 7 columns</p>\n",
              "</div>\n",
              "      <button class=\"colab-df-convert\" onclick=\"convertToInteractive('df-98f4fd27-ca19-40a2-9706-9aae9e01e68e')\"\n",
              "              title=\"Convert this dataframe to an interactive table.\"\n",
              "              style=\"display:none;\">\n",
              "        \n",
              "  <svg xmlns=\"http://www.w3.org/2000/svg\" height=\"24px\"viewBox=\"0 0 24 24\"\n",
              "       width=\"24px\">\n",
              "    <path d=\"M0 0h24v24H0V0z\" fill=\"none\"/>\n",
              "    <path d=\"M18.56 5.44l.94 2.06.94-2.06 2.06-.94-2.06-.94-.94-2.06-.94 2.06-2.06.94zm-11 1L8.5 8.5l.94-2.06 2.06-.94-2.06-.94L8.5 2.5l-.94 2.06-2.06.94zm10 10l.94 2.06.94-2.06 2.06-.94-2.06-.94-.94-2.06-.94 2.06-2.06.94z\"/><path d=\"M17.41 7.96l-1.37-1.37c-.4-.4-.92-.59-1.43-.59-.52 0-1.04.2-1.43.59L10.3 9.45l-7.72 7.72c-.78.78-.78 2.05 0 2.83L4 21.41c.39.39.9.59 1.41.59.51 0 1.02-.2 1.41-.59l7.78-7.78 2.81-2.81c.8-.78.8-2.07 0-2.86zM5.41 20L4 18.59l7.72-7.72 1.47 1.35L5.41 20z\"/>\n",
              "  </svg>\n",
              "      </button>\n",
              "      \n",
              "  <style>\n",
              "    .colab-df-container {\n",
              "      display:flex;\n",
              "      flex-wrap:wrap;\n",
              "      gap: 12px;\n",
              "    }\n",
              "\n",
              "    .colab-df-convert {\n",
              "      background-color: #E8F0FE;\n",
              "      border: none;\n",
              "      border-radius: 50%;\n",
              "      cursor: pointer;\n",
              "      display: none;\n",
              "      fill: #1967D2;\n",
              "      height: 32px;\n",
              "      padding: 0 0 0 0;\n",
              "      width: 32px;\n",
              "    }\n",
              "\n",
              "    .colab-df-convert:hover {\n",
              "      background-color: #E2EBFA;\n",
              "      box-shadow: 0px 1px 2px rgba(60, 64, 67, 0.3), 0px 1px 3px 1px rgba(60, 64, 67, 0.15);\n",
              "      fill: #174EA6;\n",
              "    }\n",
              "\n",
              "    [theme=dark] .colab-df-convert {\n",
              "      background-color: #3B4455;\n",
              "      fill: #D2E3FC;\n",
              "    }\n",
              "\n",
              "    [theme=dark] .colab-df-convert:hover {\n",
              "      background-color: #434B5C;\n",
              "      box-shadow: 0px 1px 3px 1px rgba(0, 0, 0, 0.15);\n",
              "      filter: drop-shadow(0px 1px 2px rgba(0, 0, 0, 0.3));\n",
              "      fill: #FFFFFF;\n",
              "    }\n",
              "  </style>\n",
              "\n",
              "      <script>\n",
              "        const buttonEl =\n",
              "          document.querySelector('#df-98f4fd27-ca19-40a2-9706-9aae9e01e68e button.colab-df-convert');\n",
              "        buttonEl.style.display =\n",
              "          google.colab.kernel.accessAllowed ? 'block' : 'none';\n",
              "\n",
              "        async function convertToInteractive(key) {\n",
              "          const element = document.querySelector('#df-98f4fd27-ca19-40a2-9706-9aae9e01e68e');\n",
              "          const dataTable =\n",
              "            await google.colab.kernel.invokeFunction('convertToInteractive',\n",
              "                                                     [key], {});\n",
              "          if (!dataTable) return;\n",
              "\n",
              "          const docLinkHtml = 'Like what you see? Visit the ' +\n",
              "            '<a target=\"_blank\" href=https://colab.research.google.com/notebooks/data_table.ipynb>data table notebook</a>'\n",
              "            + ' to learn more about interactive tables.';\n",
              "          element.innerHTML = '';\n",
              "          dataTable['output_type'] = 'display_data';\n",
              "          await google.colab.output.renderOutput(dataTable, element);\n",
              "          const docLink = document.createElement('div');\n",
              "          docLink.innerHTML = docLinkHtml;\n",
              "          element.appendChild(docLink);\n",
              "        }\n",
              "      </script>\n",
              "    </div>\n",
              "  </div>\n",
              "  "
            ]
          },
          "metadata": {},
          "execution_count": 26
        }
      ]
    },
    {
      "cell_type": "code",
      "source": [
        "# We fix the index\n",
        "attack.reset_index(inplace=True, drop=True)"
      ],
      "metadata": {
        "id": "YwtSt31VWv2T"
      },
      "execution_count": 27,
      "outputs": []
    },
    {
      "cell_type": "markdown",
      "source": [
        "And finally, our dataset is ready to use in production."
      ],
      "metadata": {
        "id": "PzF7fP6WYw_x"
      }
    },
    {
      "cell_type": "code",
      "source": [
        "attack"
      ],
      "metadata": {
        "colab": {
          "base_uri": "https://localhost:8080/",
          "height": 424
        },
        "id": "XuSPB8k3Ww8t",
        "outputId": "217ffef4-ba15-4be0-e55e-98ce54eb77c5"
      },
      "execution_count": 28,
      "outputs": [
        {
          "output_type": "execute_result",
          "data": {
            "text/plain": [
              "              jogador nacao posicao  idade  minPor90  gols  assist\n",
              "0              Erison   BRA      AT     23      13.4   6.0     1.0\n",
              "1                Hulk   BRA      AT     35      13.9   7.0     2.0\n",
              "2        Roger Guedes   BRA      AT     25      12.2   5.0     1.0\n",
              "3     Wellington Rato   BRA   LT,AT     30      13.6   4.0     0.0\n",
              "4      Stiven Mendoza   COL   AT,LT     30      11.5   7.0     0.0\n",
              "..                ...   ...     ...    ...       ...   ...     ...\n",
              "137        Óscar Ruiz   PAR   AT,LT     31       6.3   3.0     0.0\n",
              "138            Marlon   BRA   LT,AT     32       1.7   0.0     0.0\n",
              "139     Vitor Gabriel   BRA      AT     22       4.3   1.0     0.0\n",
              "140  Guilherme Parede   BRA   LT,AT     26       3.1   0.0     1.0\n",
              "141          Bruninho   BRA      AT     22       1.3   0.0     0.0\n",
              "\n",
              "[142 rows x 7 columns]"
            ],
            "text/html": [
              "\n",
              "  <div id=\"df-0c84c902-666b-44d5-ac1c-a896df1dbbc8\">\n",
              "    <div class=\"colab-df-container\">\n",
              "      <div>\n",
              "<style scoped>\n",
              "    .dataframe tbody tr th:only-of-type {\n",
              "        vertical-align: middle;\n",
              "    }\n",
              "\n",
              "    .dataframe tbody tr th {\n",
              "        vertical-align: top;\n",
              "    }\n",
              "\n",
              "    .dataframe thead th {\n",
              "        text-align: right;\n",
              "    }\n",
              "</style>\n",
              "<table border=\"1\" class=\"dataframe\">\n",
              "  <thead>\n",
              "    <tr style=\"text-align: right;\">\n",
              "      <th></th>\n",
              "      <th>jogador</th>\n",
              "      <th>nacao</th>\n",
              "      <th>posicao</th>\n",
              "      <th>idade</th>\n",
              "      <th>minPor90</th>\n",
              "      <th>gols</th>\n",
              "      <th>assist</th>\n",
              "    </tr>\n",
              "  </thead>\n",
              "  <tbody>\n",
              "    <tr>\n",
              "      <th>0</th>\n",
              "      <td>Erison</td>\n",
              "      <td>BRA</td>\n",
              "      <td>AT</td>\n",
              "      <td>23</td>\n",
              "      <td>13.4</td>\n",
              "      <td>6.0</td>\n",
              "      <td>1.0</td>\n",
              "    </tr>\n",
              "    <tr>\n",
              "      <th>1</th>\n",
              "      <td>Hulk</td>\n",
              "      <td>BRA</td>\n",
              "      <td>AT</td>\n",
              "      <td>35</td>\n",
              "      <td>13.9</td>\n",
              "      <td>7.0</td>\n",
              "      <td>2.0</td>\n",
              "    </tr>\n",
              "    <tr>\n",
              "      <th>2</th>\n",
              "      <td>Roger Guedes</td>\n",
              "      <td>BRA</td>\n",
              "      <td>AT</td>\n",
              "      <td>25</td>\n",
              "      <td>12.2</td>\n",
              "      <td>5.0</td>\n",
              "      <td>1.0</td>\n",
              "    </tr>\n",
              "    <tr>\n",
              "      <th>3</th>\n",
              "      <td>Wellington Rato</td>\n",
              "      <td>BRA</td>\n",
              "      <td>LT,AT</td>\n",
              "      <td>30</td>\n",
              "      <td>13.6</td>\n",
              "      <td>4.0</td>\n",
              "      <td>0.0</td>\n",
              "    </tr>\n",
              "    <tr>\n",
              "      <th>4</th>\n",
              "      <td>Stiven Mendoza</td>\n",
              "      <td>COL</td>\n",
              "      <td>AT,LT</td>\n",
              "      <td>30</td>\n",
              "      <td>11.5</td>\n",
              "      <td>7.0</td>\n",
              "      <td>0.0</td>\n",
              "    </tr>\n",
              "    <tr>\n",
              "      <th>...</th>\n",
              "      <td>...</td>\n",
              "      <td>...</td>\n",
              "      <td>...</td>\n",
              "      <td>...</td>\n",
              "      <td>...</td>\n",
              "      <td>...</td>\n",
              "      <td>...</td>\n",
              "    </tr>\n",
              "    <tr>\n",
              "      <th>137</th>\n",
              "      <td>Óscar Ruiz</td>\n",
              "      <td>PAR</td>\n",
              "      <td>AT,LT</td>\n",
              "      <td>31</td>\n",
              "      <td>6.3</td>\n",
              "      <td>3.0</td>\n",
              "      <td>0.0</td>\n",
              "    </tr>\n",
              "    <tr>\n",
              "      <th>138</th>\n",
              "      <td>Marlon</td>\n",
              "      <td>BRA</td>\n",
              "      <td>LT,AT</td>\n",
              "      <td>32</td>\n",
              "      <td>1.7</td>\n",
              "      <td>0.0</td>\n",
              "      <td>0.0</td>\n",
              "    </tr>\n",
              "    <tr>\n",
              "      <th>139</th>\n",
              "      <td>Vitor Gabriel</td>\n",
              "      <td>BRA</td>\n",
              "      <td>AT</td>\n",
              "      <td>22</td>\n",
              "      <td>4.3</td>\n",
              "      <td>1.0</td>\n",
              "      <td>0.0</td>\n",
              "    </tr>\n",
              "    <tr>\n",
              "      <th>140</th>\n",
              "      <td>Guilherme Parede</td>\n",
              "      <td>BRA</td>\n",
              "      <td>LT,AT</td>\n",
              "      <td>26</td>\n",
              "      <td>3.1</td>\n",
              "      <td>0.0</td>\n",
              "      <td>1.0</td>\n",
              "    </tr>\n",
              "    <tr>\n",
              "      <th>141</th>\n",
              "      <td>Bruninho</td>\n",
              "      <td>BRA</td>\n",
              "      <td>AT</td>\n",
              "      <td>22</td>\n",
              "      <td>1.3</td>\n",
              "      <td>0.0</td>\n",
              "      <td>0.0</td>\n",
              "    </tr>\n",
              "  </tbody>\n",
              "</table>\n",
              "<p>142 rows × 7 columns</p>\n",
              "</div>\n",
              "      <button class=\"colab-df-convert\" onclick=\"convertToInteractive('df-0c84c902-666b-44d5-ac1c-a896df1dbbc8')\"\n",
              "              title=\"Convert this dataframe to an interactive table.\"\n",
              "              style=\"display:none;\">\n",
              "        \n",
              "  <svg xmlns=\"http://www.w3.org/2000/svg\" height=\"24px\"viewBox=\"0 0 24 24\"\n",
              "       width=\"24px\">\n",
              "    <path d=\"M0 0h24v24H0V0z\" fill=\"none\"/>\n",
              "    <path d=\"M18.56 5.44l.94 2.06.94-2.06 2.06-.94-2.06-.94-.94-2.06-.94 2.06-2.06.94zm-11 1L8.5 8.5l.94-2.06 2.06-.94-2.06-.94L8.5 2.5l-.94 2.06-2.06.94zm10 10l.94 2.06.94-2.06 2.06-.94-2.06-.94-.94-2.06-.94 2.06-2.06.94z\"/><path d=\"M17.41 7.96l-1.37-1.37c-.4-.4-.92-.59-1.43-.59-.52 0-1.04.2-1.43.59L10.3 9.45l-7.72 7.72c-.78.78-.78 2.05 0 2.83L4 21.41c.39.39.9.59 1.41.59.51 0 1.02-.2 1.41-.59l7.78-7.78 2.81-2.81c.8-.78.8-2.07 0-2.86zM5.41 20L4 18.59l7.72-7.72 1.47 1.35L5.41 20z\"/>\n",
              "  </svg>\n",
              "      </button>\n",
              "      \n",
              "  <style>\n",
              "    .colab-df-container {\n",
              "      display:flex;\n",
              "      flex-wrap:wrap;\n",
              "      gap: 12px;\n",
              "    }\n",
              "\n",
              "    .colab-df-convert {\n",
              "      background-color: #E8F0FE;\n",
              "      border: none;\n",
              "      border-radius: 50%;\n",
              "      cursor: pointer;\n",
              "      display: none;\n",
              "      fill: #1967D2;\n",
              "      height: 32px;\n",
              "      padding: 0 0 0 0;\n",
              "      width: 32px;\n",
              "    }\n",
              "\n",
              "    .colab-df-convert:hover {\n",
              "      background-color: #E2EBFA;\n",
              "      box-shadow: 0px 1px 2px rgba(60, 64, 67, 0.3), 0px 1px 3px 1px rgba(60, 64, 67, 0.15);\n",
              "      fill: #174EA6;\n",
              "    }\n",
              "\n",
              "    [theme=dark] .colab-df-convert {\n",
              "      background-color: #3B4455;\n",
              "      fill: #D2E3FC;\n",
              "    }\n",
              "\n",
              "    [theme=dark] .colab-df-convert:hover {\n",
              "      background-color: #434B5C;\n",
              "      box-shadow: 0px 1px 3px 1px rgba(0, 0, 0, 0.15);\n",
              "      filter: drop-shadow(0px 1px 2px rgba(0, 0, 0, 0.3));\n",
              "      fill: #FFFFFF;\n",
              "    }\n",
              "  </style>\n",
              "\n",
              "      <script>\n",
              "        const buttonEl =\n",
              "          document.querySelector('#df-0c84c902-666b-44d5-ac1c-a896df1dbbc8 button.colab-df-convert');\n",
              "        buttonEl.style.display =\n",
              "          google.colab.kernel.accessAllowed ? 'block' : 'none';\n",
              "\n",
              "        async function convertToInteractive(key) {\n",
              "          const element = document.querySelector('#df-0c84c902-666b-44d5-ac1c-a896df1dbbc8');\n",
              "          const dataTable =\n",
              "            await google.colab.kernel.invokeFunction('convertToInteractive',\n",
              "                                                     [key], {});\n",
              "          if (!dataTable) return;\n",
              "\n",
              "          const docLinkHtml = 'Like what you see? Visit the ' +\n",
              "            '<a target=\"_blank\" href=https://colab.research.google.com/notebooks/data_table.ipynb>data table notebook</a>'\n",
              "            + ' to learn more about interactive tables.';\n",
              "          element.innerHTML = '';\n",
              "          dataTable['output_type'] = 'display_data';\n",
              "          await google.colab.output.renderOutput(dataTable, element);\n",
              "          const docLink = document.createElement('div');\n",
              "          docLink.innerHTML = docLinkHtml;\n",
              "          element.appendChild(docLink);\n",
              "        }\n",
              "      </script>\n",
              "    </div>\n",
              "  </div>\n",
              "  "
            ]
          },
          "metadata": {},
          "execution_count": 28
        }
      ]
    },
    {
      "cell_type": "markdown",
      "source": [
        "#### Visualization & Normalization"
      ],
      "metadata": {
        "id": "pmQZToMkHoou"
      }
    },
    {
      "cell_type": "markdown",
      "source": [
        "Here is an example of data visualization:"
      ],
      "metadata": {
        "id": "Jt4OsK-_hGhN"
      }
    },
    {
      "cell_type": "code",
      "source": [
        "fig = plt.figure(figsize=(18,4))\n",
        "plt.plot(attack['jogador'][15:40],attack['gols'][15:40])\n",
        "plt.xticks(rotation=45)\n",
        "plt.show()"
      ],
      "metadata": {
        "colab": {
          "base_uri": "https://localhost:8080/",
          "height": 326
        },
        "id": "A2NFn035f27X",
        "outputId": "2d9eac9d-0344-4818-bf70-4c341e1b2897"
      },
      "execution_count": 29,
      "outputs": [
        {
          "output_type": "display_data",
          "data": {
            "text/plain": [
              "<Figure size 1296x288 with 1 Axes>"
            ],
            "image/png": "[encoded data removed]"
          },
          "metadata": {
            "needs_background": "light"
          }
        }
      ]
    },
    {
      "cell_type": "markdown",
      "source": [
        "We inserted a new feature based on 2 other features"
      ],
      "metadata": {
        "id": "PNqUBhstaAq7"
      }
    },
    {
      "cell_type": "code",
      "source": [
        "# Manipulating the data in order to follow with the feature insertion\n",
        "attack['golsPorPartida'] = (attack['gols']/attack['minPor90'])"
      ],
      "metadata": {
        "id": "LmqQ2qcD_fJa"
      },
      "execution_count": 30,
      "outputs": []
    },
    {
      "cell_type": "code",
      "source": [
        "attack['golsPorPartida'].head()"
      ],
      "metadata": {
        "colab": {
          "base_uri": "https://localhost:8080/"
        },
        "id": "OIaQqVOwADWH",
        "outputId": "da6fac46-4c24-4219-ca96-79af9c38fa77"
      },
      "execution_count": 31,
      "outputs": [
        {
          "output_type": "execute_result",
          "data": {
            "text/plain": [
              "0    0.447761\n",
              "1    0.503597\n",
              "2    0.409836\n",
              "3    0.294118\n",
              "4    0.608696\n",
              "Name: golsPorPartida, dtype: float64"
            ]
          },
          "metadata": {},
          "execution_count": 31
        }
      ]
    },
    {
      "cell_type": "code",
      "source": [
        "attack['golsPorPartida'].hist()"
      ],
      "metadata": {
        "colab": {
          "base_uri": "https://localhost:8080/",
          "height": 283
        },
        "id": "YOqDv4kmAQZN",
        "outputId": "d030ed91-48f6-4c82-8a87-8ecb8cb08ce5"
      },
      "execution_count": 32,
      "outputs": [
        {
          "output_type": "execute_result",
          "data": {
            "text/plain": [
              "<matplotlib.axes._subplots.AxesSubplot at 0x7ffb7f788790>"
            ]
          },
          "metadata": {},
          "execution_count": 32
        },
        {
          "output_type": "display_data",
          "data": {
            "text/plain": [
              "<Figure size 432x288 with 1 Axes>"
            ],
            "image/png": "[encoded data removed]"
          },
          "metadata": {
            "needs_background": "light"
          }
        }
      ]
    },
    {
      "cell_type": "code",
      "source": [
        "attack"
      ],
      "metadata": {
        "colab": {
          "base_uri": "https://localhost:8080/",
          "height": 424
        },
        "id": "pM0kdz8FJtSt",
        "outputId": "0884e69c-afa7-41cf-980d-58105017c0d0"
      },
      "execution_count": 33,
      "outputs": [
        {
          "output_type": "execute_result",
          "data": {
            "text/plain": [
              "              jogador nacao posicao  idade  minPor90  gols  assist  \\\n",
              "0              Erison   BRA      AT     23      13.4   6.0     1.0   \n",
              "1                Hulk   BRA      AT     35      13.9   7.0     2.0   \n",
              "2        Roger Guedes   BRA      AT     25      12.2   5.0     1.0   \n",
              "3     Wellington Rato   BRA   LT,AT     30      13.6   4.0     0.0   \n",
              "4      Stiven Mendoza   COL   AT,LT     30      11.5   7.0     0.0   \n",
              "..                ...   ...     ...    ...       ...   ...     ...   \n",
              "137        Óscar Ruiz   PAR   AT,LT     31       6.3   3.0     0.0   \n",
              "138            Marlon   BRA   LT,AT     32       1.7   0.0     0.0   \n",
              "139     Vitor Gabriel   BRA      AT     22       4.3   1.0     0.0   \n",
              "140  Guilherme Parede   BRA   LT,AT     26       3.1   0.0     1.0   \n",
              "141          Bruninho   BRA      AT     22       1.3   0.0     0.0   \n",
              "\n",
              "     golsPorPartida  \n",
              "0          0.447761  \n",
              "1          0.503597  \n",
              "2          0.409836  \n",
              "3          0.294118  \n",
              "4          0.608696  \n",
              "..              ...  \n",
              "137        0.476190  \n",
              "138        0.000000  \n",
              "139        0.232558  \n",
              "140        0.000000  \n",
              "141        0.000000  \n",
              "\n",
              "[142 rows x 8 columns]"
            ],
            "text/html": [
              "\n",
              "  <div id=\"df-5b147e91-54f2-40de-8cc6-e04c554b7367\">\n",
              "    <div class=\"colab-df-container\">\n",
              "      <div>\n",
              "<style scoped>\n",
              "    .dataframe tbody tr th:only-of-type {\n",
              "        vertical-align: middle;\n",
              "    }\n",
              "\n",
              "    .dataframe tbody tr th {\n",
              "        vertical-align: top;\n",
              "    }\n",
              "\n",
              "    .dataframe thead th {\n",
              "        text-align: right;\n",
              "    }\n",
              "</style>\n",
              "<table border=\"1\" class=\"dataframe\">\n",
              "  <thead>\n",
              "    <tr style=\"text-align: right;\">\n",
              "      <th></th>\n",
              "      <th>jogador</th>\n",
              "      <th>nacao</th>\n",
              "      <th>posicao</th>\n",
              "      <th>idade</th>\n",
              "      <th>minPor90</th>\n",
              "      <th>gols</th>\n",
              "      <th>assist</th>\n",
              "      <th>golsPorPartida</th>\n",
              "    </tr>\n",
              "  </thead>\n",
              "  <tbody>\n",
              "    <tr>\n",
              "      <th>0</th>\n",
              "      <td>Erison</td>\n",
              "      <td>BRA</td>\n",
              "      <td>AT</td>\n",
              "      <td>23</td>\n",
              "      <td>13.4</td>\n",
              "      <td>6.0</td>\n",
              "      <td>1.0</td>\n",
              "      <td>0.447761</td>\n",
              "    </tr>\n",
              "    <tr>\n",
              "      <th>1</th>\n",
              "      <td>Hulk</td>\n",
              "      <td>BRA</td>\n",
              "      <td>AT</td>\n",
              "      <td>35</td>\n",
              "      <td>13.9</td>\n",
              "      <td>7.0</td>\n",
              "      <td>2.0</td>\n",
              "      <td>0.503597</td>\n",
              "    </tr>\n",
              "    <tr>\n",
              "      <th>2</th>\n",
              "      <td>Roger Guedes</td>\n",
              "      <td>BRA</td>\n",
              "      <td>AT</td>\n",
              "      <td>25</td>\n",
              "      <td>12.2</td>\n",
              "      <td>5.0</td>\n",
              "      <td>1.0</td>\n",
              "      <td>0.409836</td>\n",
              "    </tr>\n",
              "    <tr>\n",
              "      <th>3</th>\n",
              "      <td>Wellington Rato</td>\n",
              "      <td>BRA</td>\n",
              "      <td>LT,AT</td>\n",
              "      <td>30</td>\n",
              "      <td>13.6</td>\n",
              "      <td>4.0</td>\n",
              "      <td>0.0</td>\n",
              "      <td>0.294118</td>\n",
              "    </tr>\n",
              "    <tr>\n",
              "      <th>4</th>\n",
              "      <td>Stiven Mendoza</td>\n",
              "      <td>COL</td>\n",
              "      <td>AT,LT</td>\n",
              "      <td>30</td>\n",
              "      <td>11.5</td>\n",
              "      <td>7.0</td>\n",
              "      <td>0.0</td>\n",
              "      <td>0.608696</td>\n",
              "    </tr>\n",
              "    <tr>\n",
              "      <th>...</th>\n",
              "      <td>...</td>\n",
              "      <td>...</td>\n",
              "      <td>...</td>\n",
              "      <td>...</td>\n",
              "      <td>...</td>\n",
              "      <td>...</td>\n",
              "      <td>...</td>\n",
              "      <td>...</td>\n",
              "    </tr>\n",
              "    <tr>\n",
              "      <th>137</th>\n",
              "      <td>Óscar Ruiz</td>\n",
              "      <td>PAR</td>\n",
              "      <td>AT,LT</td>\n",
              "      <td>31</td>\n",
              "      <td>6.3</td>\n",
              "      <td>3.0</td>\n",
              "      <td>0.0</td>\n",
              "      <td>0.476190</td>\n",
              "    </tr>\n",
              "    <tr>\n",
              "      <th>138</th>\n",
              "      <td>Marlon</td>\n",
              "      <td>BRA</td>\n",
              "      <td>LT,AT</td>\n",
              "      <td>32</td>\n",
              "      <td>1.7</td>\n",
              "      <td>0.0</td>\n",
              "      <td>0.0</td>\n",
              "      <td>0.000000</td>\n",
              "    </tr>\n",
              "    <tr>\n",
              "      <th>139</th>\n",
              "      <td>Vitor Gabriel</td>\n",
              "      <td>BRA</td>\n",
              "      <td>AT</td>\n",
              "      <td>22</td>\n",
              "      <td>4.3</td>\n",
              "      <td>1.0</td>\n",
              "      <td>0.0</td>\n",
              "      <td>0.232558</td>\n",
              "    </tr>\n",
              "    <tr>\n",
              "      <th>140</th>\n",
              "      <td>Guilherme Parede</td>\n",
              "      <td>BRA</td>\n",
              "      <td>LT,AT</td>\n",
              "      <td>26</td>\n",
              "      <td>3.1</td>\n",
              "      <td>0.0</td>\n",
              "      <td>1.0</td>\n",
              "      <td>0.000000</td>\n",
              "    </tr>\n",
              "    <tr>\n",
              "      <th>141</th>\n",
              "      <td>Bruninho</td>\n",
              "      <td>BRA</td>\n",
              "      <td>AT</td>\n",
              "      <td>22</td>\n",
              "      <td>1.3</td>\n",
              "      <td>0.0</td>\n",
              "      <td>0.0</td>\n",
              "      <td>0.000000</td>\n",
              "    </tr>\n",
              "  </tbody>\n",
              "</table>\n",
              "<p>142 rows × 8 columns</p>\n",
              "</div>\n",
              "      <button class=\"colab-df-convert\" onclick=\"convertToInteractive('df-5b147e91-54f2-40de-8cc6-e04c554b7367')\"\n",
              "              title=\"Convert this dataframe to an interactive table.\"\n",
              "              style=\"display:none;\">\n",
              "        \n",
              "  <svg xmlns=\"http://www.w3.org/2000/svg\" height=\"24px\"viewBox=\"0 0 24 24\"\n",
              "       width=\"24px\">\n",
              "    <path d=\"M0 0h24v24H0V0z\" fill=\"none\"/>\n",
              "    <path d=\"M18.56 5.44l.94 2.06.94-2.06 2.06-.94-2.06-.94-.94-2.06-.94 2.06-2.06.94zm-11 1L8.5 8.5l.94-2.06 2.06-.94-2.06-.94L8.5 2.5l-.94 2.06-2.06.94zm10 10l.94 2.06.94-2.06 2.06-.94-2.06-.94-.94-2.06-.94 2.06-2.06.94z\"/><path d=\"M17.41 7.96l-1.37-1.37c-.4-.4-.92-.59-1.43-.59-.52 0-1.04.2-1.43.59L10.3 9.45l-7.72 7.72c-.78.78-.78 2.05 0 2.83L4 21.41c.39.39.9.59 1.41.59.51 0 1.02-.2 1.41-.59l7.78-7.78 2.81-2.81c.8-.78.8-2.07 0-2.86zM5.41 20L4 18.59l7.72-7.72 1.47 1.35L5.41 20z\"/>\n",
              "  </svg>\n",
              "      </button>\n",
              "      \n",
              "  <style>\n",
              "    .colab-df-container {\n",
              "      display:flex;\n",
              "      flex-wrap:wrap;\n",
              "      gap: 12px;\n",
              "    }\n",
              "\n",
              "    .colab-df-convert {\n",
              "      background-color: #E8F0FE;\n",
              "      border: none;\n",
              "      border-radius: 50%;\n",
              "      cursor: pointer;\n",
              "      display: none;\n",
              "      fill: #1967D2;\n",
              "      height: 32px;\n",
              "      padding: 0 0 0 0;\n",
              "      width: 32px;\n",
              "    }\n",
              "\n",
              "    .colab-df-convert:hover {\n",
              "      background-color: #E2EBFA;\n",
              "      box-shadow: 0px 1px 2px rgba(60, 64, 67, 0.3), 0px 1px 3px 1px rgba(60, 64, 67, 0.15);\n",
              "      fill: #174EA6;\n",
              "    }\n",
              "\n",
              "    [theme=dark] .colab-df-convert {\n",
              "      background-color: #3B4455;\n",
              "      fill: #D2E3FC;\n",
              "    }\n",
              "\n",
              "    [theme=dark] .colab-df-convert:hover {\n",
              "      background-color: #434B5C;\n",
              "      box-shadow: 0px 1px 3px 1px rgba(0, 0, 0, 0.15);\n",
              "      filter: drop-shadow(0px 1px 2px rgba(0, 0, 0, 0.3));\n",
              "      fill: #FFFFFF;\n",
              "    }\n",
              "  </style>\n",
              "\n",
              "      <script>\n",
              "        const buttonEl =\n",
              "          document.querySelector('#df-5b147e91-54f2-40de-8cc6-e04c554b7367 button.colab-df-convert');\n",
              "        buttonEl.style.display =\n",
              "          google.colab.kernel.accessAllowed ? 'block' : 'none';\n",
              "\n",
              "        async function convertToInteractive(key) {\n",
              "          const element = document.querySelector('#df-5b147e91-54f2-40de-8cc6-e04c554b7367');\n",
              "          const dataTable =\n",
              "            await google.colab.kernel.invokeFunction('convertToInteractive',\n",
              "                                                     [key], {});\n",
              "          if (!dataTable) return;\n",
              "\n",
              "          const docLinkHtml = 'Like what you see? Visit the ' +\n",
              "            '<a target=\"_blank\" href=https://colab.research.google.com/notebooks/data_table.ipynb>data table notebook</a>'\n",
              "            + ' to learn more about interactive tables.';\n",
              "          element.innerHTML = '';\n",
              "          dataTable['output_type'] = 'display_data';\n",
              "          await google.colab.output.renderOutput(dataTable, element);\n",
              "          const docLink = document.createElement('div');\n",
              "          docLink.innerHTML = docLinkHtml;\n",
              "          element.appendChild(docLink);\n",
              "        }\n",
              "      </script>\n",
              "    </div>\n",
              "  </div>\n",
              "  "
            ]
          },
          "metadata": {},
          "execution_count": 33
        }
      ]
    },
    {
      "cell_type": "markdown",
      "source": [
        "Here, we can see 2 examples of data visualization regarding:\n",
        "* The correlation matrix between each feature in out dataset\n",
        "* A histogram of goals grouped by our age column"
      ],
      "metadata": {
        "id": "4pwUnpmrZVyC"
      }
    },
    {
      "cell_type": "code",
      "source": [
        "fig = plt.figure(figsize=(12,5))\n",
        "ax1 = plt.subplot(121) \n",
        "sns.heatmap(data=attack.corr(), cmap=\"YlGnBu\", annot=True)\n",
        "plt.xticks(rotation=30)\n",
        "ax2 = plt.subplot(122) \n",
        "attack.groupby(['idade'])['gols'].mean().sort_values(ascending=False).plot.bar()\n",
        "plt.xticks(rotation=45)\n",
        "plt.show()\n"
      ],
      "metadata": {
        "colab": {
          "base_uri": "https://localhost:8080/",
          "height": 358
        },
        "id": "aOd6XFvFI3u5",
        "outputId": "d6c7f93d-1534-42e5-d684-3b9073f6874b"
      },
      "execution_count": 34,
      "outputs": [
        {
          "output_type": "display_data",
          "data": {
            "text/plain": [
              "<Figure size 864x360 with 3 Axes>"
            ],
            "image/png": "[encoded data removed]"
          },
          "metadata": {
            "needs_background": "light"
          }
        }
      ]
    },
    {
      "cell_type": "markdown",
      "source": [
        "Here, we can see 2 examples of data visualization regarding:\n",
        "\n",
        "* A boxplot refering to the distribution of goals\n",
        "* A countplot of goals regardign the amount of goals"
      ],
      "metadata": {
        "id": "fdXZqSMGaKbL"
      }
    },
    {
      "cell_type": "code",
      "source": [
        "fig = plt.figure(figsize=(12,5))\n",
        "ax1 = plt.subplot(121)\n",
        "sns.boxplot(y = attack['gols'])\n",
        "ax1 = plt.subplot(122)\n",
        "#sns.histplot(data=attack['gols'])\n",
        "#attack['gols'].plot.hist(sortvalues=True)\n",
        "sns.countplot(x='gols', data=attack, order=attack['gols'].value_counts().index)\n",
        "plt.show()"
      ],
      "metadata": {
        "colab": {
          "base_uri": "https://localhost:8080/",
          "height": 334
        },
        "id": "q0exQJHhPQ76",
        "outputId": "5e62b795-0152-490a-eae2-964ef46091e7"
      },
      "execution_count": 35,
      "outputs": [
        {
          "output_type": "display_data",
          "data": {
            "text/plain": [
              "<Figure size 864x360 with 2 Axes>"
            ],
            "image/png": "[encoded data removed]"
          },
          "metadata": {
            "needs_background": "light"
          }
        }
      ]
    },
    {
      "cell_type": "markdown",
      "source": [
        "Regarding ***Data Normalization***, we want to present/test two approaches in order to treat our outliers:"
      ],
      "metadata": {
        "id": "xVVslBzlatZT"
      }
    },
    {
      "cell_type": "markdown",
      "source": [
        "##### Log Approach:"
      ],
      "metadata": {
        "id": "_AdecfNEbUw4"
      }
    },
    {
      "cell_type": "code",
      "source": [
        "attack['gols_log'] = attack['gols'].apply(np.log2)"
      ],
      "metadata": {
        "id": "nRXsVEt6RBQS"
      },
      "execution_count": 36,
      "outputs": []
    },
    {
      "cell_type": "code",
      "source": [
        "# Empiric method\n",
        "for i in range(1):\n",
        "  attack['gols_log'] = attack['gols_log'].apply(np.log2)"
      ],
      "metadata": {
        "id": "CstID9ZbRfCc"
      },
      "execution_count": 37,
      "outputs": []
    },
    {
      "cell_type": "code",
      "source": [
        "attack[attack['gols_log']>0]['gols_log'].hist()"
      ],
      "metadata": {
        "colab": {
          "base_uri": "https://localhost:8080/",
          "height": 283
        },
        "id": "bk-9fEqyL1iK",
        "outputId": "4b9b2fdd-c78b-42bc-c4e6-630fe528b6cc"
      },
      "execution_count": 38,
      "outputs": [
        {
          "output_type": "execute_result",
          "data": {
            "text/plain": [
              "<matplotlib.axes._subplots.AxesSubplot at 0x7ffb7c79da90>"
            ]
          },
          "metadata": {},
          "execution_count": 38
        },
        {
          "output_type": "display_data",
          "data": {
            "text/plain": [
              "<Figure size 432x288 with 1 Axes>"
            ],
            "image/png": "[encoded data removed]"
          },
          "metadata": {
            "needs_background": "light"
          }
        }
      ]
    },
    {
      "cell_type": "code",
      "source": [
        "q1 = attack['gols_log'].quantile(q=0.25)\n",
        "q3 = attack['gols_log'].quantile(q=0.75)\n",
        "iqr = q3 - q1\n",
        "print(iqr)"
      ],
      "metadata": {
        "colab": {
          "base_uri": "https://localhost:8080/"
        },
        "id": "VXC9wc0DR6Ch",
        "outputId": "f998d27d-e64c-454f-a0e6-cbaa11e71709"
      },
      "execution_count": 39,
      "outputs": [
        {
          "output_type": "stream",
          "name": "stdout",
          "text": [
            "nan\n"
          ]
        },
        {
          "output_type": "stream",
          "name": "stderr",
          "text": [
            "/usr/local/lib/python3.7/dist-packages/numpy/lib/function_base.py:4009: RuntimeWarning: invalid value encountered in subtract\n",
            "  diff_b_a = subtract(b, a)\n"
          ]
        }
      ]
    },
    {
      "cell_type": "code",
      "source": [
        "sns.boxplot(data=attack['gols_log'])"
      ],
      "metadata": {
        "colab": {
          "base_uri": "https://localhost:8080/",
          "height": 283
        },
        "id": "dsAfhN4-ZRRV",
        "outputId": "78a4fd3e-8e98-4a0a-b00b-f23908ee1fea"
      },
      "execution_count": 40,
      "outputs": [
        {
          "output_type": "execute_result",
          "data": {
            "text/plain": [
              "<matplotlib.axes._subplots.AxesSubplot at 0x7ffb7c610210>"
            ]
          },
          "metadata": {},
          "execution_count": 40
        },
        {
          "output_type": "display_data",
          "data": {
            "text/plain": [
              "<Figure size 432x288 with 1 Axes>"
            ],
            "image/png": "[encoded data removed]"
          },
          "metadata": {
            "needs_background": "light"
          }
        }
      ]
    },
    {
      "cell_type": "code",
      "source": [
        "#houses[houses['price_log'] < (q1-1.5*iqr)]\n",
        "attack[attack['gols_log'] > (q3+1.5*iqr)]"
      ],
      "metadata": {
        "colab": {
          "base_uri": "https://localhost:8080/",
          "height": 49
        },
        "id": "p8ocj9vBR_Rm",
        "outputId": "43a18f52-32d4-4842-f79e-994b5afd4b6c"
      },
      "execution_count": 41,
      "outputs": [
        {
          "output_type": "execute_result",
          "data": {
            "text/plain": [
              "Empty DataFrame\n",
              "Columns: [jogador, nacao, posicao, idade, minPor90, gols, assist, golsPorPartida, gols_log]\n",
              "Index: []"
            ],
            "text/html": [
              "\n",
              "  <div id=\"df-1273ae0a-9132-41d2-967e-45310fd22954\">\n",
              "    <div class=\"colab-df-container\">\n",
              "      <div>\n",
              "<style scoped>\n",
              "    .dataframe tbody tr th:only-of-type {\n",
              "        vertical-align: middle;\n",
              "    }\n",
              "\n",
              "    .dataframe tbody tr th {\n",
              "        vertical-align: top;\n",
              "    }\n",
              "\n",
              "    .dataframe thead th {\n",
              "        text-align: right;\n",
              "    }\n",
              "</style>\n",
              "<table border=\"1\" class=\"dataframe\">\n",
              "  <thead>\n",
              "    <tr style=\"text-align: right;\">\n",
              "      <th></th>\n",
              "      <th>jogador</th>\n",
              "      <th>nacao</th>\n",
              "      <th>posicao</th>\n",
              "      <th>idade</th>\n",
              "      <th>minPor90</th>\n",
              "      <th>gols</th>\n",
              "      <th>assist</th>\n",
              "      <th>golsPorPartida</th>\n",
              "      <th>gols_log</th>\n",
              "    </tr>\n",
              "  </thead>\n",
              "  <tbody>\n",
              "  </tbody>\n",
              "</table>\n",
              "</div>\n",
              "      <button class=\"colab-df-convert\" onclick=\"convertToInteractive('df-1273ae0a-9132-41d2-967e-45310fd22954')\"\n",
              "              title=\"Convert this dataframe to an interactive table.\"\n",
              "              style=\"display:none;\">\n",
              "        \n",
              "  <svg xmlns=\"http://www.w3.org/2000/svg\" height=\"24px\"viewBox=\"0 0 24 24\"\n",
              "       width=\"24px\">\n",
              "    <path d=\"M0 0h24v24H0V0z\" fill=\"none\"/>\n",
              "    <path d=\"M18.56 5.44l.94 2.06.94-2.06 2.06-.94-2.06-.94-.94-2.06-.94 2.06-2.06.94zm-11 1L8.5 8.5l.94-2.06 2.06-.94-2.06-.94L8.5 2.5l-.94 2.06-2.06.94zm10 10l.94 2.06.94-2.06 2.06-.94-2.06-.94-.94-2.06-.94 2.06-2.06.94z\"/><path d=\"M17.41 7.96l-1.37-1.37c-.4-.4-.92-.59-1.43-.59-.52 0-1.04.2-1.43.59L10.3 9.45l-7.72 7.72c-.78.78-.78 2.05 0 2.83L4 21.41c.39.39.9.59 1.41.59.51 0 1.02-.2 1.41-.59l7.78-7.78 2.81-2.81c.8-.78.8-2.07 0-2.86zM5.41 20L4 18.59l7.72-7.72 1.47 1.35L5.41 20z\"/>\n",
              "  </svg>\n",
              "      </button>\n",
              "      \n",
              "  <style>\n",
              "    .colab-df-container {\n",
              "      display:flex;\n",
              "      flex-wrap:wrap;\n",
              "      gap: 12px;\n",
              "    }\n",
              "\n",
              "    .colab-df-convert {\n",
              "      background-color: #E8F0FE;\n",
              "      border: none;\n",
              "      border-radius: 50%;\n",
              "      cursor: pointer;\n",
              "      display: none;\n",
              "      fill: #1967D2;\n",
              "      height: 32px;\n",
              "      padding: 0 0 0 0;\n",
              "      width: 32px;\n",
              "    }\n",
              "\n",
              "    .colab-df-convert:hover {\n",
              "      background-color: #E2EBFA;\n",
              "      box-shadow: 0px 1px 2px rgba(60, 64, 67, 0.3), 0px 1px 3px 1px rgba(60, 64, 67, 0.15);\n",
              "      fill: #174EA6;\n",
              "    }\n",
              "\n",
              "    [theme=dark] .colab-df-convert {\n",
              "      background-color: #3B4455;\n",
              "      fill: #D2E3FC;\n",
              "    }\n",
              "\n",
              "    [theme=dark] .colab-df-convert:hover {\n",
              "      background-color: #434B5C;\n",
              "      box-shadow: 0px 1px 3px 1px rgba(0, 0, 0, 0.15);\n",
              "      filter: drop-shadow(0px 1px 2px rgba(0, 0, 0, 0.3));\n",
              "      fill: #FFFFFF;\n",
              "    }\n",
              "  </style>\n",
              "\n",
              "      <script>\n",
              "        const buttonEl =\n",
              "          document.querySelector('#df-1273ae0a-9132-41d2-967e-45310fd22954 button.colab-df-convert');\n",
              "        buttonEl.style.display =\n",
              "          google.colab.kernel.accessAllowed ? 'block' : 'none';\n",
              "\n",
              "        async function convertToInteractive(key) {\n",
              "          const element = document.querySelector('#df-1273ae0a-9132-41d2-967e-45310fd22954');\n",
              "          const dataTable =\n",
              "            await google.colab.kernel.invokeFunction('convertToInteractive',\n",
              "                                                     [key], {});\n",
              "          if (!dataTable) return;\n",
              "\n",
              "          const docLinkHtml = 'Like what you see? Visit the ' +\n",
              "            '<a target=\"_blank\" href=https://colab.research.google.com/notebooks/data_table.ipynb>data table notebook</a>'\n",
              "            + ' to learn more about interactive tables.';\n",
              "          element.innerHTML = '';\n",
              "          dataTable['output_type'] = 'display_data';\n",
              "          await google.colab.output.renderOutput(dataTable, element);\n",
              "          const docLink = document.createElement('div');\n",
              "          docLink.innerHTML = docLinkHtml;\n",
              "          element.appendChild(docLink);\n",
              "        }\n",
              "      </script>\n",
              "    </div>\n",
              "  </div>\n",
              "  "
            ]
          },
          "metadata": {},
          "execution_count": 41
        }
      ]
    },
    {
      "cell_type": "markdown",
      "source": [
        "As we can see above, this method is not valid since many players didn't score any goals despite playing. So, it's not an irrelevant value."
      ],
      "metadata": {
        "id": "ZRYnOYIFbaHx"
      }
    },
    {
      "cell_type": "markdown",
      "source": [
        "##### MinMaxScaler Approach:"
      ],
      "metadata": {
        "id": "cTx9DcQTbgCz"
      }
    },
    {
      "cell_type": "code",
      "source": [
        "# Method change\n",
        "scaler = MinMaxScaler()\n",
        "attack['gols_norm'] = scaler.fit_transform(attack[['gols']])\n",
        "attack['gols_norm'].describe()"
      ],
      "metadata": {
        "colab": {
          "base_uri": "https://localhost:8080/"
        },
        "id": "_ZBuvQq1bZSu",
        "outputId": "31cbae26-2bac-46d1-dbe0-798e21b70d61"
      },
      "execution_count": 42,
      "outputs": [
        {
          "output_type": "execute_result",
          "data": {
            "text/plain": [
              "count    142.000000\n",
              "mean       0.153521\n",
              "std        0.212604\n",
              "min        0.000000\n",
              "25%        0.000000\n",
              "50%        0.100000\n",
              "75%        0.200000\n",
              "max        1.000000\n",
              "Name: gols_norm, dtype: float64"
            ]
          },
          "metadata": {},
          "execution_count": 42
        }
      ]
    },
    {
      "cell_type": "code",
      "source": [
        "attack['gols_norm'].hist()"
      ],
      "metadata": {
        "colab": {
          "base_uri": "https://localhost:8080/",
          "height": 283
        },
        "id": "0uAcVwgJbpwj",
        "outputId": "0fb65de0-49b4-43e1-881a-1ce5d1cf0ca0"
      },
      "execution_count": 43,
      "outputs": [
        {
          "output_type": "execute_result",
          "data": {
            "text/plain": [
              "<matplotlib.axes._subplots.AxesSubplot at 0x7ffb7c57f6d0>"
            ]
          },
          "metadata": {},
          "execution_count": 43
        },
        {
          "output_type": "display_data",
          "data": {
            "text/plain": [
              "<Figure size 432x288 with 1 Axes>"
            ],
            "image/png": "[encoded data removed]"
          },
          "metadata": {
            "needs_background": "light"
          }
        }
      ]
    },
    {
      "cell_type": "code",
      "source": [
        "q1 = attack['gols_norm'].quantile(q=0.25)\n",
        "q3 = attack['gols_norm'].quantile(q=0.75)\n",
        "iqr = q3 - q1\n",
        "print(iqr)"
      ],
      "metadata": {
        "colab": {
          "base_uri": "https://localhost:8080/"
        },
        "id": "2lirkZ7eb4MK",
        "outputId": "84788d3e-fa6f-48a0-c99f-4530658f3dd9"
      },
      "execution_count": 44,
      "outputs": [
        {
          "output_type": "stream",
          "name": "stdout",
          "text": [
            "0.2\n"
          ]
        }
      ]
    },
    {
      "cell_type": "code",
      "source": [
        "attack[attack['gols_norm'] > (q3+1.5*iqr)]"
      ],
      "metadata": {
        "colab": {
          "base_uri": "https://localhost:8080/",
          "height": 394
        },
        "id": "SILpJBTUcpDD",
        "outputId": "9f68edcc-c72b-4fc0-e4a2-eddfc27e8719"
      },
      "execution_count": 45,
      "outputs": [
        {
          "output_type": "execute_result",
          "data": {
            "text/plain": [
              "              jogador nacao posicao  idade  minPor90  gols  assist  \\\n",
              "0              Erison   BRA      AT     23      13.4   6.0     1.0   \n",
              "1                Hulk   BRA      AT     35      13.9   7.0     2.0   \n",
              "4      Stiven Mendoza   COL   AT,LT     30      11.5   7.0     0.0   \n",
              "5   Guilherme Bissoli   BRA      AT     24      13.5   8.0     0.0   \n",
              "12        Léo Gamalho   BRA      AT     36      10.3   6.0     0.0   \n",
              "67        Germán Cano   ARG      AT     34      14.9  10.0     1.0   \n",
              "72         Pedro Raul   BRA      AT     25      12.4   8.0     0.0   \n",
              "77   Jonathan Calleri   ARG      AT     28      15.4   9.0     1.0   \n",
              "78               Rony   BRA      AT     27      13.0   7.0     0.0   \n",
              "82    Marcos Leonardo   BRA      AT     19      12.9   6.0     1.0   \n",
              "92            Luciano   BRA   AT,LT     29       8.6   6.0     0.0   \n",
              "\n",
              "    golsPorPartida  gols_log  gols_norm  \n",
              "0         0.447761  1.370143        0.6  \n",
              "1         0.503597  1.489211        0.7  \n",
              "4         0.608696  1.489211        0.7  \n",
              "5         0.592593  1.584963        0.8  \n",
              "12        0.582524  1.370143        0.6  \n",
              "67        0.671141  1.732021        1.0  \n",
              "72        0.645161  1.584963        0.8  \n",
              "77        0.584416  1.664449        0.9  \n",
              "78        0.538462  1.489211        0.7  \n",
              "82        0.465116  1.370143        0.6  \n",
              "92        0.697674  1.370143        0.6  "
            ],
            "text/html": [
              "\n",
              "  <div id=\"df-a99b2dca-3bf9-40bd-b516-431d6650e860\">\n",
              "    <div class=\"colab-df-container\">\n",
              "      <div>\n",
              "<style scoped>\n",
              "    .dataframe tbody tr th:only-of-type {\n",
              "        vertical-align: middle;\n",
              "    }\n",
              "\n",
              "    .dataframe tbody tr th {\n",
              "        vertical-align: top;\n",
              "    }\n",
              "\n",
              "    .dataframe thead th {\n",
              "        text-align: right;\n",
              "    }\n",
              "</style>\n",
              "<table border=\"1\" class=\"dataframe\">\n",
              "  <thead>\n",
              "    <tr style=\"text-align: right;\">\n",
              "      <th></th>\n",
              "      <th>jogador</th>\n",
              "      <th>nacao</th>\n",
              "      <th>posicao</th>\n",
              "      <th>idade</th>\n",
              "      <th>minPor90</th>\n",
              "      <th>gols</th>\n",
              "      <th>assist</th>\n",
              "      <th>golsPorPartida</th>\n",
              "      <th>gols_log</th>\n",
              "      <th>gols_norm</th>\n",
              "    </tr>\n",
              "  </thead>\n",
              "  <tbody>\n",
              "    <tr>\n",
              "      <th>0</th>\n",
              "      <td>Erison</td>\n",
              "      <td>BRA</td>\n",
              "      <td>AT</td>\n",
              "      <td>23</td>\n",
              "      <td>13.4</td>\n",
              "      <td>6.0</td>\n",
              "      <td>1.0</td>\n",
              "      <td>0.447761</td>\n",
              "      <td>1.370143</td>\n",
              "      <td>0.6</td>\n",
              "    </tr>\n",
              "    <tr>\n",
              "      <th>1</th>\n",
              "      <td>Hulk</td>\n",
              "      <td>BRA</td>\n",
              "      <td>AT</td>\n",
              "      <td>35</td>\n",
              "      <td>13.9</td>\n",
              "      <td>7.0</td>\n",
              "      <td>2.0</td>\n",
              "      <td>0.503597</td>\n",
              "      <td>1.489211</td>\n",
              "      <td>0.7</td>\n",
              "    </tr>\n",
              "    <tr>\n",
              "      <th>4</th>\n",
              "      <td>Stiven Mendoza</td>\n",
              "      <td>COL</td>\n",
              "      <td>AT,LT</td>\n",
              "      <td>30</td>\n",
              "      <td>11.5</td>\n",
              "      <td>7.0</td>\n",
              "      <td>0.0</td>\n",
              "      <td>0.608696</td>\n",
              "      <td>1.489211</td>\n",
              "      <td>0.7</td>\n",
              "    </tr>\n",
              "    <tr>\n",
              "      <th>5</th>\n",
              "      <td>Guilherme Bissoli</td>\n",
              "      <td>BRA</td>\n",
              "      <td>AT</td>\n",
              "      <td>24</td>\n",
              "      <td>13.5</td>\n",
              "      <td>8.0</td>\n",
              "      <td>0.0</td>\n",
              "      <td>0.592593</td>\n",
              "      <td>1.584963</td>\n",
              "      <td>0.8</td>\n",
              "    </tr>\n",
              "    <tr>\n",
              "      <th>12</th>\n",
              "      <td>Léo Gamalho</td>\n",
              "      <td>BRA</td>\n",
              "      <td>AT</td>\n",
              "      <td>36</td>\n",
              "      <td>10.3</td>\n",
              "      <td>6.0</td>\n",
              "      <td>0.0</td>\n",
              "      <td>0.582524</td>\n",
              "      <td>1.370143</td>\n",
              "      <td>0.6</td>\n",
              "    </tr>\n",
              "    <tr>\n",
              "      <th>67</th>\n",
              "      <td>Germán Cano</td>\n",
              "      <td>ARG</td>\n",
              "      <td>AT</td>\n",
              "      <td>34</td>\n",
              "      <td>14.9</td>\n",
              "      <td>10.0</td>\n",
              "      <td>1.0</td>\n",
              "      <td>0.671141</td>\n",
              "      <td>1.732021</td>\n",
              "      <td>1.0</td>\n",
              "    </tr>\n",
              "    <tr>\n",
              "      <th>72</th>\n",
              "      <td>Pedro Raul</td>\n",
              "      <td>BRA</td>\n",
              "      <td>AT</td>\n",
              "      <td>25</td>\n",
              "      <td>12.4</td>\n",
              "      <td>8.0</td>\n",
              "      <td>0.0</td>\n",
              "      <td>0.645161</td>\n",
              "      <td>1.584963</td>\n",
              "      <td>0.8</td>\n",
              "    </tr>\n",
              "    <tr>\n",
              "      <th>77</th>\n",
              "      <td>Jonathan Calleri</td>\n",
              "      <td>ARG</td>\n",
              "      <td>AT</td>\n",
              "      <td>28</td>\n",
              "      <td>15.4</td>\n",
              "      <td>9.0</td>\n",
              "      <td>1.0</td>\n",
              "      <td>0.584416</td>\n",
              "      <td>1.664449</td>\n",
              "      <td>0.9</td>\n",
              "    </tr>\n",
              "    <tr>\n",
              "      <th>78</th>\n",
              "      <td>Rony</td>\n",
              "      <td>BRA</td>\n",
              "      <td>AT</td>\n",
              "      <td>27</td>\n",
              "      <td>13.0</td>\n",
              "      <td>7.0</td>\n",
              "      <td>0.0</td>\n",
              "      <td>0.538462</td>\n",
              "      <td>1.489211</td>\n",
              "      <td>0.7</td>\n",
              "    </tr>\n",
              "    <tr>\n",
              "      <th>82</th>\n",
              "      <td>Marcos Leonardo</td>\n",
              "      <td>BRA</td>\n",
              "      <td>AT</td>\n",
              "      <td>19</td>\n",
              "      <td>12.9</td>\n",
              "      <td>6.0</td>\n",
              "      <td>1.0</td>\n",
              "      <td>0.465116</td>\n",
              "      <td>1.370143</td>\n",
              "      <td>0.6</td>\n",
              "    </tr>\n",
              "    <tr>\n",
              "      <th>92</th>\n",
              "      <td>Luciano</td>\n",
              "      <td>BRA</td>\n",
              "      <td>AT,LT</td>\n",
              "      <td>29</td>\n",
              "      <td>8.6</td>\n",
              "      <td>6.0</td>\n",
              "      <td>0.0</td>\n",
              "      <td>0.697674</td>\n",
              "      <td>1.370143</td>\n",
              "      <td>0.6</td>\n",
              "    </tr>\n",
              "  </tbody>\n",
              "</table>\n",
              "</div>\n",
              "      <button class=\"colab-df-convert\" onclick=\"convertToInteractive('df-a99b2dca-3bf9-40bd-b516-431d6650e860')\"\n",
              "              title=\"Convert this dataframe to an interactive table.\"\n",
              "              style=\"display:none;\">\n",
              "        \n",
              "  <svg xmlns=\"http://www.w3.org/2000/svg\" height=\"24px\"viewBox=\"0 0 24 24\"\n",
              "       width=\"24px\">\n",
              "    <path d=\"M0 0h24v24H0V0z\" fill=\"none\"/>\n",
              "    <path d=\"M18.56 5.44l.94 2.06.94-2.06 2.06-.94-2.06-.94-.94-2.06-.94 2.06-2.06.94zm-11 1L8.5 8.5l.94-2.06 2.06-.94-2.06-.94L8.5 2.5l-.94 2.06-2.06.94zm10 10l.94 2.06.94-2.06 2.06-.94-2.06-.94-.94-2.06-.94 2.06-2.06.94z\"/><path d=\"M17.41 7.96l-1.37-1.37c-.4-.4-.92-.59-1.43-.59-.52 0-1.04.2-1.43.59L10.3 9.45l-7.72 7.72c-.78.78-.78 2.05 0 2.83L4 21.41c.39.39.9.59 1.41.59.51 0 1.02-.2 1.41-.59l7.78-7.78 2.81-2.81c.8-.78.8-2.07 0-2.86zM5.41 20L4 18.59l7.72-7.72 1.47 1.35L5.41 20z\"/>\n",
              "  </svg>\n",
              "      </button>\n",
              "      \n",
              "  <style>\n",
              "    .colab-df-container {\n",
              "      display:flex;\n",
              "      flex-wrap:wrap;\n",
              "      gap: 12px;\n",
              "    }\n",
              "\n",
              "    .colab-df-convert {\n",
              "      background-color: #E8F0FE;\n",
              "      border: none;\n",
              "      border-radius: 50%;\n",
              "      cursor: pointer;\n",
              "      display: none;\n",
              "      fill: #1967D2;\n",
              "      height: 32px;\n",
              "      padding: 0 0 0 0;\n",
              "      width: 32px;\n",
              "    }\n",
              "\n",
              "    .colab-df-convert:hover {\n",
              "      background-color: #E2EBFA;\n",
              "      box-shadow: 0px 1px 2px rgba(60, 64, 67, 0.3), 0px 1px 3px 1px rgba(60, 64, 67, 0.15);\n",
              "      fill: #174EA6;\n",
              "    }\n",
              "\n",
              "    [theme=dark] .colab-df-convert {\n",
              "      background-color: #3B4455;\n",
              "      fill: #D2E3FC;\n",
              "    }\n",
              "\n",
              "    [theme=dark] .colab-df-convert:hover {\n",
              "      background-color: #434B5C;\n",
              "      box-shadow: 0px 1px 3px 1px rgba(0, 0, 0, 0.15);\n",
              "      filter: drop-shadow(0px 1px 2px rgba(0, 0, 0, 0.3));\n",
              "      fill: #FFFFFF;\n",
              "    }\n",
              "  </style>\n",
              "\n",
              "      <script>\n",
              "        const buttonEl =\n",
              "          document.querySelector('#df-a99b2dca-3bf9-40bd-b516-431d6650e860 button.colab-df-convert');\n",
              "        buttonEl.style.display =\n",
              "          google.colab.kernel.accessAllowed ? 'block' : 'none';\n",
              "\n",
              "        async function convertToInteractive(key) {\n",
              "          const element = document.querySelector('#df-a99b2dca-3bf9-40bd-b516-431d6650e860');\n",
              "          const dataTable =\n",
              "            await google.colab.kernel.invokeFunction('convertToInteractive',\n",
              "                                                     [key], {});\n",
              "          if (!dataTable) return;\n",
              "\n",
              "          const docLinkHtml = 'Like what you see? Visit the ' +\n",
              "            '<a target=\"_blank\" href=https://colab.research.google.com/notebooks/data_table.ipynb>data table notebook</a>'\n",
              "            + ' to learn more about interactive tables.';\n",
              "          element.innerHTML = '';\n",
              "          dataTable['output_type'] = 'display_data';\n",
              "          await google.colab.output.renderOutput(dataTable, element);\n",
              "          const docLink = document.createElement('div');\n",
              "          docLink.innerHTML = docLinkHtml;\n",
              "          element.appendChild(docLink);\n",
              "        }\n",
              "      </script>\n",
              "    </div>\n",
              "  </div>\n",
              "  "
            ]
          },
          "metadata": {},
          "execution_count": 45
        }
      ]
    },
    {
      "cell_type": "code",
      "source": [
        "best_attack = attack[attack['gols_norm'] > (q3+1.5*iqr)]"
      ],
      "metadata": {
        "id": "WFrdYXx9c3IO"
      },
      "execution_count": 46,
      "outputs": []
    },
    {
      "cell_type": "code",
      "source": [
        "best_attack"
      ],
      "metadata": {
        "colab": {
          "base_uri": "https://localhost:8080/",
          "height": 394
        },
        "id": "KPcCiIn0dMd8",
        "outputId": "fe205af0-5b3e-4d20-b87b-f6a764d09c56"
      },
      "execution_count": 47,
      "outputs": [
        {
          "output_type": "execute_result",
          "data": {
            "text/plain": [
              "              jogador nacao posicao  idade  minPor90  gols  assist  \\\n",
              "0              Erison   BRA      AT     23      13.4   6.0     1.0   \n",
              "1                Hulk   BRA      AT     35      13.9   7.0     2.0   \n",
              "4      Stiven Mendoza   COL   AT,LT     30      11.5   7.0     0.0   \n",
              "5   Guilherme Bissoli   BRA      AT     24      13.5   8.0     0.0   \n",
              "12        Léo Gamalho   BRA      AT     36      10.3   6.0     0.0   \n",
              "67        Germán Cano   ARG      AT     34      14.9  10.0     1.0   \n",
              "72         Pedro Raul   BRA      AT     25      12.4   8.0     0.0   \n",
              "77   Jonathan Calleri   ARG      AT     28      15.4   9.0     1.0   \n",
              "78               Rony   BRA      AT     27      13.0   7.0     0.0   \n",
              "82    Marcos Leonardo   BRA      AT     19      12.9   6.0     1.0   \n",
              "92            Luciano   BRA   AT,LT     29       8.6   6.0     0.0   \n",
              "\n",
              "    golsPorPartida  gols_log  gols_norm  \n",
              "0         0.447761  1.370143        0.6  \n",
              "1         0.503597  1.489211        0.7  \n",
              "4         0.608696  1.489211        0.7  \n",
              "5         0.592593  1.584963        0.8  \n",
              "12        0.582524  1.370143        0.6  \n",
              "67        0.671141  1.732021        1.0  \n",
              "72        0.645161  1.584963        0.8  \n",
              "77        0.584416  1.664449        0.9  \n",
              "78        0.538462  1.489211        0.7  \n",
              "82        0.465116  1.370143        0.6  \n",
              "92        0.697674  1.370143        0.6  "
            ],
            "text/html": [
              "\n",
              "  <div id=\"df-550b2e0e-6ac4-44db-bac8-e8c5d4c8bf28\">\n",
              "    <div class=\"colab-df-container\">\n",
              "      <div>\n",
              "<style scoped>\n",
              "    .dataframe tbody tr th:only-of-type {\n",
              "        vertical-align: middle;\n",
              "    }\n",
              "\n",
              "    .dataframe tbody tr th {\n",
              "        vertical-align: top;\n",
              "    }\n",
              "\n",
              "    .dataframe thead th {\n",
              "        text-align: right;\n",
              "    }\n",
              "</style>\n",
              "<table border=\"1\" class=\"dataframe\">\n",
              "  <thead>\n",
              "    <tr style=\"text-align: right;\">\n",
              "      <th></th>\n",
              "      <th>jogador</th>\n",
              "      <th>nacao</th>\n",
              "      <th>posicao</th>\n",
              "      <th>idade</th>\n",
              "      <th>minPor90</th>\n",
              "      <th>gols</th>\n",
              "      <th>assist</th>\n",
              "      <th>golsPorPartida</th>\n",
              "      <th>gols_log</th>\n",
              "      <th>gols_norm</th>\n",
              "    </tr>\n",
              "  </thead>\n",
              "  <tbody>\n",
              "    <tr>\n",
              "      <th>0</th>\n",
              "      <td>Erison</td>\n",
              "      <td>BRA</td>\n",
              "      <td>AT</td>\n",
              "      <td>23</td>\n",
              "      <td>13.4</td>\n",
              "      <td>6.0</td>\n",
              "      <td>1.0</td>\n",
              "      <td>0.447761</td>\n",
              "      <td>1.370143</td>\n",
              "      <td>0.6</td>\n",
              "    </tr>\n",
              "    <tr>\n",
              "      <th>1</th>\n",
              "      <td>Hulk</td>\n",
              "      <td>BRA</td>\n",
              "      <td>AT</td>\n",
              "      <td>35</td>\n",
              "      <td>13.9</td>\n",
              "      <td>7.0</td>\n",
              "      <td>2.0</td>\n",
              "      <td>0.503597</td>\n",
              "      <td>1.489211</td>\n",
              "      <td>0.7</td>\n",
              "    </tr>\n",
              "    <tr>\n",
              "      <th>4</th>\n",
              "      <td>Stiven Mendoza</td>\n",
              "      <td>COL</td>\n",
              "      <td>AT,LT</td>\n",
              "      <td>30</td>\n",
              "      <td>11.5</td>\n",
              "      <td>7.0</td>\n",
              "      <td>0.0</td>\n",
              "      <td>0.608696</td>\n",
              "      <td>1.489211</td>\n",
              "      <td>0.7</td>\n",
              "    </tr>\n",
              "    <tr>\n",
              "      <th>5</th>\n",
              "      <td>Guilherme Bissoli</td>\n",
              "      <td>BRA</td>\n",
              "      <td>AT</td>\n",
              "      <td>24</td>\n",
              "      <td>13.5</td>\n",
              "      <td>8.0</td>\n",
              "      <td>0.0</td>\n",
              "      <td>0.592593</td>\n",
              "      <td>1.584963</td>\n",
              "      <td>0.8</td>\n",
              "    </tr>\n",
              "    <tr>\n",
              "      <th>12</th>\n",
              "      <td>Léo Gamalho</td>\n",
              "      <td>BRA</td>\n",
              "      <td>AT</td>\n",
              "      <td>36</td>\n",
              "      <td>10.3</td>\n",
              "      <td>6.0</td>\n",
              "      <td>0.0</td>\n",
              "      <td>0.582524</td>\n",
              "      <td>1.370143</td>\n",
              "      <td>0.6</td>\n",
              "    </tr>\n",
              "    <tr>\n",
              "      <th>67</th>\n",
              "      <td>Germán Cano</td>\n",
              "      <td>ARG</td>\n",
              "      <td>AT</td>\n",
              "      <td>34</td>\n",
              "      <td>14.9</td>\n",
              "      <td>10.0</td>\n",
              "      <td>1.0</td>\n",
              "      <td>0.671141</td>\n",
              "      <td>1.732021</td>\n",
              "      <td>1.0</td>\n",
              "    </tr>\n",
              "    <tr>\n",
              "      <th>72</th>\n",
              "      <td>Pedro Raul</td>\n",
              "      <td>BRA</td>\n",
              "      <td>AT</td>\n",
              "      <td>25</td>\n",
              "      <td>12.4</td>\n",
              "      <td>8.0</td>\n",
              "      <td>0.0</td>\n",
              "      <td>0.645161</td>\n",
              "      <td>1.584963</td>\n",
              "      <td>0.8</td>\n",
              "    </tr>\n",
              "    <tr>\n",
              "      <th>77</th>\n",
              "      <td>Jonathan Calleri</td>\n",
              "      <td>ARG</td>\n",
              "      <td>AT</td>\n",
              "      <td>28</td>\n",
              "      <td>15.4</td>\n",
              "      <td>9.0</td>\n",
              "      <td>1.0</td>\n",
              "      <td>0.584416</td>\n",
              "      <td>1.664449</td>\n",
              "      <td>0.9</td>\n",
              "    </tr>\n",
              "    <tr>\n",
              "      <th>78</th>\n",
              "      <td>Rony</td>\n",
              "      <td>BRA</td>\n",
              "      <td>AT</td>\n",
              "      <td>27</td>\n",
              "      <td>13.0</td>\n",
              "      <td>7.0</td>\n",
              "      <td>0.0</td>\n",
              "      <td>0.538462</td>\n",
              "      <td>1.489211</td>\n",
              "      <td>0.7</td>\n",
              "    </tr>\n",
              "    <tr>\n",
              "      <th>82</th>\n",
              "      <td>Marcos Leonardo</td>\n",
              "      <td>BRA</td>\n",
              "      <td>AT</td>\n",
              "      <td>19</td>\n",
              "      <td>12.9</td>\n",
              "      <td>6.0</td>\n",
              "      <td>1.0</td>\n",
              "      <td>0.465116</td>\n",
              "      <td>1.370143</td>\n",
              "      <td>0.6</td>\n",
              "    </tr>\n",
              "    <tr>\n",
              "      <th>92</th>\n",
              "      <td>Luciano</td>\n",
              "      <td>BRA</td>\n",
              "      <td>AT,LT</td>\n",
              "      <td>29</td>\n",
              "      <td>8.6</td>\n",
              "      <td>6.0</td>\n",
              "      <td>0.0</td>\n",
              "      <td>0.697674</td>\n",
              "      <td>1.370143</td>\n",
              "      <td>0.6</td>\n",
              "    </tr>\n",
              "  </tbody>\n",
              "</table>\n",
              "</div>\n",
              "      <button class=\"colab-df-convert\" onclick=\"convertToInteractive('df-550b2e0e-6ac4-44db-bac8-e8c5d4c8bf28')\"\n",
              "              title=\"Convert this dataframe to an interactive table.\"\n",
              "              style=\"display:none;\">\n",
              "        \n",
              "  <svg xmlns=\"http://www.w3.org/2000/svg\" height=\"24px\"viewBox=\"0 0 24 24\"\n",
              "       width=\"24px\">\n",
              "    <path d=\"M0 0h24v24H0V0z\" fill=\"none\"/>\n",
              "    <path d=\"M18.56 5.44l.94 2.06.94-2.06 2.06-.94-2.06-.94-.94-2.06-.94 2.06-2.06.94zm-11 1L8.5 8.5l.94-2.06 2.06-.94-2.06-.94L8.5 2.5l-.94 2.06-2.06.94zm10 10l.94 2.06.94-2.06 2.06-.94-2.06-.94-.94-2.06-.94 2.06-2.06.94z\"/><path d=\"M17.41 7.96l-1.37-1.37c-.4-.4-.92-.59-1.43-.59-.52 0-1.04.2-1.43.59L10.3 9.45l-7.72 7.72c-.78.78-.78 2.05 0 2.83L4 21.41c.39.39.9.59 1.41.59.51 0 1.02-.2 1.41-.59l7.78-7.78 2.81-2.81c.8-.78.8-2.07 0-2.86zM5.41 20L4 18.59l7.72-7.72 1.47 1.35L5.41 20z\"/>\n",
              "  </svg>\n",
              "      </button>\n",
              "      \n",
              "  <style>\n",
              "    .colab-df-container {\n",
              "      display:flex;\n",
              "      flex-wrap:wrap;\n",
              "      gap: 12px;\n",
              "    }\n",
              "\n",
              "    .colab-df-convert {\n",
              "      background-color: #E8F0FE;\n",
              "      border: none;\n",
              "      border-radius: 50%;\n",
              "      cursor: pointer;\n",
              "      display: none;\n",
              "      fill: #1967D2;\n",
              "      height: 32px;\n",
              "      padding: 0 0 0 0;\n",
              "      width: 32px;\n",
              "    }\n",
              "\n",
              "    .colab-df-convert:hover {\n",
              "      background-color: #E2EBFA;\n",
              "      box-shadow: 0px 1px 2px rgba(60, 64, 67, 0.3), 0px 1px 3px 1px rgba(60, 64, 67, 0.15);\n",
              "      fill: #174EA6;\n",
              "    }\n",
              "\n",
              "    [theme=dark] .colab-df-convert {\n",
              "      background-color: #3B4455;\n",
              "      fill: #D2E3FC;\n",
              "    }\n",
              "\n",
              "    [theme=dark] .colab-df-convert:hover {\n",
              "      background-color: #434B5C;\n",
              "      box-shadow: 0px 1px 3px 1px rgba(0, 0, 0, 0.15);\n",
              "      filter: drop-shadow(0px 1px 2px rgba(0, 0, 0, 0.3));\n",
              "      fill: #FFFFFF;\n",
              "    }\n",
              "  </style>\n",
              "\n",
              "      <script>\n",
              "        const buttonEl =\n",
              "          document.querySelector('#df-550b2e0e-6ac4-44db-bac8-e8c5d4c8bf28 button.colab-df-convert');\n",
              "        buttonEl.style.display =\n",
              "          google.colab.kernel.accessAllowed ? 'block' : 'none';\n",
              "\n",
              "        async function convertToInteractive(key) {\n",
              "          const element = document.querySelector('#df-550b2e0e-6ac4-44db-bac8-e8c5d4c8bf28');\n",
              "          const dataTable =\n",
              "            await google.colab.kernel.invokeFunction('convertToInteractive',\n",
              "                                                     [key], {});\n",
              "          if (!dataTable) return;\n",
              "\n",
              "          const docLinkHtml = 'Like what you see? Visit the ' +\n",
              "            '<a target=\"_blank\" href=https://colab.research.google.com/notebooks/data_table.ipynb>data table notebook</a>'\n",
              "            + ' to learn more about interactive tables.';\n",
              "          element.innerHTML = '';\n",
              "          dataTable['output_type'] = 'display_data';\n",
              "          await google.colab.output.renderOutput(dataTable, element);\n",
              "          const docLink = document.createElement('div');\n",
              "          docLink.innerHTML = docLinkHtml;\n",
              "          element.appendChild(docLink);\n",
              "        }\n",
              "      </script>\n",
              "    </div>\n",
              "  </div>\n",
              "  "
            ]
          },
          "metadata": {},
          "execution_count": 47
        }
      ]
    },
    {
      "cell_type": "code",
      "source": [
        "attack.drop(attack[attack['gols_norm'] > (q3+1.5*iqr)].index, inplace=True)"
      ],
      "metadata": {
        "id": "oSOeuUUxc_7P"
      },
      "execution_count": 48,
      "outputs": []
    },
    {
      "cell_type": "code",
      "source": [
        "attack"
      ],
      "metadata": {
        "colab": {
          "base_uri": "https://localhost:8080/",
          "height": 424
        },
        "id": "zt-ucqKEdLd8",
        "outputId": "de04ead1-81f0-4ccf-fea1-6067347af99b"
      },
      "execution_count": 49,
      "outputs": [
        {
          "output_type": "execute_result",
          "data": {
            "text/plain": [
              "              jogador nacao posicao  idade  minPor90  gols  assist  \\\n",
              "2        Roger Guedes   BRA      AT     25      12.2   5.0     1.0   \n",
              "3     Wellington Rato   BRA   LT,AT     30      13.6   4.0     0.0   \n",
              "6            Vinícius   BRA   AT,LT     31      11.3   1.0     2.0   \n",
              "7     Gustavo Mantuan   BRA   LT,AT     21       9.6   3.0     1.0   \n",
              "8                Lima   BRA   LT,AT     26      10.4   2.0     0.0   \n",
              "..                ...   ...     ...    ...       ...   ...     ...   \n",
              "137        Óscar Ruiz   PAR   AT,LT     31       6.3   3.0     0.0   \n",
              "138            Marlon   BRA   LT,AT     32       1.7   0.0     0.0   \n",
              "139     Vitor Gabriel   BRA      AT     22       4.3   1.0     0.0   \n",
              "140  Guilherme Parede   BRA   LT,AT     26       3.1   0.0     1.0   \n",
              "141          Bruninho   BRA      AT     22       1.3   0.0     0.0   \n",
              "\n",
              "     golsPorPartida  gols_log  gols_norm  \n",
              "2          0.409836  1.215323        0.5  \n",
              "3          0.294118  1.000000        0.4  \n",
              "6          0.088496      -inf        0.1  \n",
              "7          0.312500  0.664449        0.3  \n",
              "8          0.192308  0.000000        0.2  \n",
              "..              ...       ...        ...  \n",
              "137        0.476190  0.664449        0.3  \n",
              "138        0.000000       NaN        0.0  \n",
              "139        0.232558      -inf        0.1  \n",
              "140        0.000000       NaN        0.0  \n",
              "141        0.000000       NaN        0.0  \n",
              "\n",
              "[131 rows x 10 columns]"
            ],
            "text/html": [
              "\n",
              "  <div id=\"df-8c50b13a-73ee-4b59-afcd-ac5c5ac5d440\">\n",
              "    <div class=\"colab-df-container\">\n",
              "      <div>\n",
              "<style scoped>\n",
              "    .dataframe tbody tr th:only-of-type {\n",
              "        vertical-align: middle;\n",
              "    }\n",
              "\n",
              "    .dataframe tbody tr th {\n",
              "        vertical-align: top;\n",
              "    }\n",
              "\n",
              "    .dataframe thead th {\n",
              "        text-align: right;\n",
              "    }\n",
              "</style>\n",
              "<table border=\"1\" class=\"dataframe\">\n",
              "  <thead>\n",
              "    <tr style=\"text-align: right;\">\n",
              "      <th></th>\n",
              "      <th>jogador</th>\n",
              "      <th>nacao</th>\n",
              "      <th>posicao</th>\n",
              "      <th>idade</th>\n",
              "      <th>minPor90</th>\n",
              "      <th>gols</th>\n",
              "      <th>assist</th>\n",
              "      <th>golsPorPartida</th>\n",
              "      <th>gols_log</th>\n",
              "      <th>gols_norm</th>\n",
              "    </tr>\n",
              "  </thead>\n",
              "  <tbody>\n",
              "    <tr>\n",
              "      <th>2</th>\n",
              "      <td>Roger Guedes</td>\n",
              "      <td>BRA</td>\n",
              "      <td>AT</td>\n",
              "      <td>25</td>\n",
              "      <td>12.2</td>\n",
              "      <td>5.0</td>\n",
              "      <td>1.0</td>\n",
              "      <td>0.409836</td>\n",
              "      <td>1.215323</td>\n",
              "      <td>0.5</td>\n",
              "    </tr>\n",
              "    <tr>\n",
              "      <th>3</th>\n",
              "      <td>Wellington Rato</td>\n",
              "      <td>BRA</td>\n",
              "      <td>LT,AT</td>\n",
              "      <td>30</td>\n",
              "      <td>13.6</td>\n",
              "      <td>4.0</td>\n",
              "      <td>0.0</td>\n",
              "      <td>0.294118</td>\n",
              "      <td>1.000000</td>\n",
              "      <td>0.4</td>\n",
              "    </tr>\n",
              "    <tr>\n",
              "      <th>6</th>\n",
              "      <td>Vinícius</td>\n",
              "      <td>BRA</td>\n",
              "      <td>AT,LT</td>\n",
              "      <td>31</td>\n",
              "      <td>11.3</td>\n",
              "      <td>1.0</td>\n",
              "      <td>2.0</td>\n",
              "      <td>0.088496</td>\n",
              "      <td>-inf</td>\n",
              "      <td>0.1</td>\n",
              "    </tr>\n",
              "    <tr>\n",
              "      <th>7</th>\n",
              "      <td>Gustavo Mantuan</td>\n",
              "      <td>BRA</td>\n",
              "      <td>LT,AT</td>\n",
              "      <td>21</td>\n",
              "      <td>9.6</td>\n",
              "      <td>3.0</td>\n",
              "      <td>1.0</td>\n",
              "      <td>0.312500</td>\n",
              "      <td>0.664449</td>\n",
              "      <td>0.3</td>\n",
              "    </tr>\n",
              "    <tr>\n",
              "      <th>8</th>\n",
              "      <td>Lima</td>\n",
              "      <td>BRA</td>\n",
              "      <td>LT,AT</td>\n",
              "      <td>26</td>\n",
              "      <td>10.4</td>\n",
              "      <td>2.0</td>\n",
              "      <td>0.0</td>\n",
              "      <td>0.192308</td>\n",
              "      <td>0.000000</td>\n",
              "      <td>0.2</td>\n",
              "    </tr>\n",
              "    <tr>\n",
              "      <th>...</th>\n",
              "      <td>...</td>\n",
              "      <td>...</td>\n",
              "      <td>...</td>\n",
              "      <td>...</td>\n",
              "      <td>...</td>\n",
              "      <td>...</td>\n",
              "      <td>...</td>\n",
              "      <td>...</td>\n",
              "      <td>...</td>\n",
              "      <td>...</td>\n",
              "    </tr>\n",
              "    <tr>\n",
              "      <th>137</th>\n",
              "      <td>Óscar Ruiz</td>\n",
              "      <td>PAR</td>\n",
              "      <td>AT,LT</td>\n",
              "      <td>31</td>\n",
              "      <td>6.3</td>\n",
              "      <td>3.0</td>\n",
              "      <td>0.0</td>\n",
              "      <td>0.476190</td>\n",
              "      <td>0.664449</td>\n",
              "      <td>0.3</td>\n",
              "    </tr>\n",
              "    <tr>\n",
              "      <th>138</th>\n",
              "      <td>Marlon</td>\n",
              "      <td>BRA</td>\n",
              "      <td>LT,AT</td>\n",
              "      <td>32</td>\n",
              "      <td>1.7</td>\n",
              "      <td>0.0</td>\n",
              "      <td>0.0</td>\n",
              "      <td>0.000000</td>\n",
              "      <td>NaN</td>\n",
              "      <td>0.0</td>\n",
              "    </tr>\n",
              "    <tr>\n",
              "      <th>139</th>\n",
              "      <td>Vitor Gabriel</td>\n",
              "      <td>BRA</td>\n",
              "      <td>AT</td>\n",
              "      <td>22</td>\n",
              "      <td>4.3</td>\n",
              "      <td>1.0</td>\n",
              "      <td>0.0</td>\n",
              "      <td>0.232558</td>\n",
              "      <td>-inf</td>\n",
              "      <td>0.1</td>\n",
              "    </tr>\n",
              "    <tr>\n",
              "      <th>140</th>\n",
              "      <td>Guilherme Parede</td>\n",
              "      <td>BRA</td>\n",
              "      <td>LT,AT</td>\n",
              "      <td>26</td>\n",
              "      <td>3.1</td>\n",
              "      <td>0.0</td>\n",
              "      <td>1.0</td>\n",
              "      <td>0.000000</td>\n",
              "      <td>NaN</td>\n",
              "      <td>0.0</td>\n",
              "    </tr>\n",
              "    <tr>\n",
              "      <th>141</th>\n",
              "      <td>Bruninho</td>\n",
              "      <td>BRA</td>\n",
              "      <td>AT</td>\n",
              "      <td>22</td>\n",
              "      <td>1.3</td>\n",
              "      <td>0.0</td>\n",
              "      <td>0.0</td>\n",
              "      <td>0.000000</td>\n",
              "      <td>NaN</td>\n",
              "      <td>0.0</td>\n",
              "    </tr>\n",
              "  </tbody>\n",
              "</table>\n",
              "<p>131 rows × 10 columns</p>\n",
              "</div>\n",
              "      <button class=\"colab-df-convert\" onclick=\"convertToInteractive('df-8c50b13a-73ee-4b59-afcd-ac5c5ac5d440')\"\n",
              "              title=\"Convert this dataframe to an interactive table.\"\n",
              "              style=\"display:none;\">\n",
              "        \n",
              "  <svg xmlns=\"http://www.w3.org/2000/svg\" height=\"24px\"viewBox=\"0 0 24 24\"\n",
              "       width=\"24px\">\n",
              "    <path d=\"M0 0h24v24H0V0z\" fill=\"none\"/>\n",
              "    <path d=\"M18.56 5.44l.94 2.06.94-2.06 2.06-.94-2.06-.94-.94-2.06-.94 2.06-2.06.94zm-11 1L8.5 8.5l.94-2.06 2.06-.94-2.06-.94L8.5 2.5l-.94 2.06-2.06.94zm10 10l.94 2.06.94-2.06 2.06-.94-2.06-.94-.94-2.06-.94 2.06-2.06.94z\"/><path d=\"M17.41 7.96l-1.37-1.37c-.4-.4-.92-.59-1.43-.59-.52 0-1.04.2-1.43.59L10.3 9.45l-7.72 7.72c-.78.78-.78 2.05 0 2.83L4 21.41c.39.39.9.59 1.41.59.51 0 1.02-.2 1.41-.59l7.78-7.78 2.81-2.81c.8-.78.8-2.07 0-2.86zM5.41 20L4 18.59l7.72-7.72 1.47 1.35L5.41 20z\"/>\n",
              "  </svg>\n",
              "      </button>\n",
              "      \n",
              "  <style>\n",
              "    .colab-df-container {\n",
              "      display:flex;\n",
              "      flex-wrap:wrap;\n",
              "      gap: 12px;\n",
              "    }\n",
              "\n",
              "    .colab-df-convert {\n",
              "      background-color: #E8F0FE;\n",
              "      border: none;\n",
              "      border-radius: 50%;\n",
              "      cursor: pointer;\n",
              "      display: none;\n",
              "      fill: #1967D2;\n",
              "      height: 32px;\n",
              "      padding: 0 0 0 0;\n",
              "      width: 32px;\n",
              "    }\n",
              "\n",
              "    .colab-df-convert:hover {\n",
              "      background-color: #E2EBFA;\n",
              "      box-shadow: 0px 1px 2px rgba(60, 64, 67, 0.3), 0px 1px 3px 1px rgba(60, 64, 67, 0.15);\n",
              "      fill: #174EA6;\n",
              "    }\n",
              "\n",
              "    [theme=dark] .colab-df-convert {\n",
              "      background-color: #3B4455;\n",
              "      fill: #D2E3FC;\n",
              "    }\n",
              "\n",
              "    [theme=dark] .colab-df-convert:hover {\n",
              "      background-color: #434B5C;\n",
              "      box-shadow: 0px 1px 3px 1px rgba(0, 0, 0, 0.15);\n",
              "      filter: drop-shadow(0px 1px 2px rgba(0, 0, 0, 0.3));\n",
              "      fill: #FFFFFF;\n",
              "    }\n",
              "  </style>\n",
              "\n",
              "      <script>\n",
              "        const buttonEl =\n",
              "          document.querySelector('#df-8c50b13a-73ee-4b59-afcd-ac5c5ac5d440 button.colab-df-convert');\n",
              "        buttonEl.style.display =\n",
              "          google.colab.kernel.accessAllowed ? 'block' : 'none';\n",
              "\n",
              "        async function convertToInteractive(key) {\n",
              "          const element = document.querySelector('#df-8c50b13a-73ee-4b59-afcd-ac5c5ac5d440');\n",
              "          const dataTable =\n",
              "            await google.colab.kernel.invokeFunction('convertToInteractive',\n",
              "                                                     [key], {});\n",
              "          if (!dataTable) return;\n",
              "\n",
              "          const docLinkHtml = 'Like what you see? Visit the ' +\n",
              "            '<a target=\"_blank\" href=https://colab.research.google.com/notebooks/data_table.ipynb>data table notebook</a>'\n",
              "            + ' to learn more about interactive tables.';\n",
              "          element.innerHTML = '';\n",
              "          dataTable['output_type'] = 'display_data';\n",
              "          await google.colab.output.renderOutput(dataTable, element);\n",
              "          const docLink = document.createElement('div');\n",
              "          docLink.innerHTML = docLinkHtml;\n",
              "          element.appendChild(docLink);\n",
              "        }\n",
              "      </script>\n",
              "    </div>\n",
              "  </div>\n",
              "  "
            ]
          },
          "metadata": {},
          "execution_count": 49
        }
      ]
    },
    {
      "cell_type": "code",
      "source": [
        "best_attack.reset_index(drop=True, inplace=True)"
      ],
      "metadata": {
        "id": "GOh3XSqXdTf1"
      },
      "execution_count": 50,
      "outputs": []
    },
    {
      "cell_type": "code",
      "source": [
        "attack.reset_index(drop=True, inplace=True)"
      ],
      "metadata": {
        "id": "Rj5p00jNdaTa"
      },
      "execution_count": 51,
      "outputs": []
    },
    {
      "cell_type": "code",
      "source": [
        "sns.boxplot(y=attack['gols'])"
      ],
      "metadata": {
        "colab": {
          "base_uri": "https://localhost:8080/",
          "height": 270
        },
        "id": "61xMMM2peC3p",
        "outputId": "57f5c783-ab7c-4efa-a104-ed227fad5415"
      },
      "execution_count": 52,
      "outputs": [
        {
          "output_type": "execute_result",
          "data": {
            "text/plain": [
              "<matplotlib.axes._subplots.AxesSubplot at 0x7ffb7c500790>"
            ]
          },
          "metadata": {},
          "execution_count": 52
        },
        {
          "output_type": "display_data",
          "data": {
            "text/plain": [
              "<Figure size 432x288 with 1 Axes>"
            ],
            "image/png": "[encoded data removed]"
          },
          "metadata": {
            "needs_background": "light"
          }
        }
      ]
    },
    {
      "cell_type": "markdown",
      "source": [
        "As we can see above, we have seperated our outliers from our original dataset. Therefore, there are no more outliers in our \"attack dataset\" analysis.  "
      ],
      "metadata": {
        "id": "tAIMXCUgcAhO"
      }
    },
    {
      "cell_type": "markdown",
      "source": [
        "#### Encoding"
      ],
      "metadata": {
        "id": "kQT9gW8ZGjLM"
      }
    },
    {
      "cell_type": "markdown",
      "source": [
        "Here, we have a OneHotEncoding approach:"
      ],
      "metadata": {
        "id": "Wd4ymHWIcZ3v"
      }
    },
    {
      "cell_type": "code",
      "source": [
        "from sklearn.preprocessing import OneHotEncoder\n",
        "enc = OneHotEncoder()\n",
        "enc_df = pd.DataFrame(enc.fit_transform(attack[['nacao']]).toarray())\n",
        "enc_df.columns = enc.get_feature_names(['nacao'])\n",
        "attack_onehot = attack.join(enc_df)\n",
        "attack_onehot\n"
      ],
      "metadata": {
        "id": "sCkeB3jFecTu",
        "colab": {
          "base_uri": "https://localhost:8080/",
          "height": 645
        },
        "outputId": "7ed05d96-d6a0-4ea0-d534-8884f1116c29"
      },
      "execution_count": 53,
      "outputs": [
        {
          "output_type": "stream",
          "name": "stderr",
          "text": [
            "/usr/local/lib/python3.7/dist-packages/sklearn/utils/deprecation.py:87: FutureWarning: Function get_feature_names is deprecated; get_feature_names is deprecated in 1.0 and will be removed in 1.2. Please use get_feature_names_out instead.\n",
            "  warnings.warn(msg, category=FutureWarning)\n"
          ]
        },
        {
          "output_type": "execute_result",
          "data": {
            "text/plain": [
              "              jogador nacao posicao  idade  minPor90  gols  assist  \\\n",
              "0        Roger Guedes   BRA      AT     25      12.2   5.0     1.0   \n",
              "1     Wellington Rato   BRA   LT,AT     30      13.6   4.0     0.0   \n",
              "2            Vinícius   BRA   AT,LT     31      11.3   1.0     2.0   \n",
              "3     Gustavo Mantuan   BRA   LT,AT     21       9.6   3.0     1.0   \n",
              "4                Lima   BRA   LT,AT     26      10.4   2.0     0.0   \n",
              "..                ...   ...     ...    ...       ...   ...     ...   \n",
              "126        Óscar Ruiz   PAR   AT,LT     31       6.3   3.0     0.0   \n",
              "127            Marlon   BRA   LT,AT     32       1.7   0.0     0.0   \n",
              "128     Vitor Gabriel   BRA      AT     22       4.3   1.0     0.0   \n",
              "129  Guilherme Parede   BRA   LT,AT     26       3.1   0.0     1.0   \n",
              "130          Bruninho   BRA      AT     22       1.3   0.0     0.0   \n",
              "\n",
              "     golsPorPartida  gols_log  gols_norm  ...  nacao_ BRA  nacao_ CHI  \\\n",
              "0          0.409836  1.215323        0.5  ...         1.0         0.0   \n",
              "1          0.294118  1.000000        0.4  ...         1.0         0.0   \n",
              "2          0.088496      -inf        0.1  ...         1.0         0.0   \n",
              "3          0.312500  0.664449        0.3  ...         1.0         0.0   \n",
              "4          0.192308  0.000000        0.2  ...         1.0         0.0   \n",
              "..              ...       ...        ...  ...         ...         ...   \n",
              "126        0.476190  0.664449        0.3  ...         0.0         0.0   \n",
              "127        0.000000       NaN        0.0  ...         1.0         0.0   \n",
              "128        0.232558      -inf        0.1  ...         1.0         0.0   \n",
              "129        0.000000       NaN        0.0  ...         1.0         0.0   \n",
              "130        0.000000       NaN        0.0  ...         1.0         0.0   \n",
              "\n",
              "     nacao_ CHN  nacao_ COL  nacao_ ECU  nacao_ ITA  nacao_ PAR  nacao_ UKR  \\\n",
              "0           0.0         0.0         0.0         0.0         0.0         0.0   \n",
              "1           0.0         0.0         0.0         0.0         0.0         0.0   \n",
              "2           0.0         0.0         0.0         0.0         0.0         0.0   \n",
              "3           0.0         0.0         0.0         0.0         0.0         0.0   \n",
              "4           0.0         0.0         0.0         0.0         0.0         0.0   \n",
              "..          ...         ...         ...         ...         ...         ...   \n",
              "126         0.0         0.0         0.0         0.0         1.0         0.0   \n",
              "127         0.0         0.0         0.0         0.0         0.0         0.0   \n",
              "128         0.0         0.0         0.0         0.0         0.0         0.0   \n",
              "129         0.0         0.0         0.0         0.0         0.0         0.0   \n",
              "130         0.0         0.0         0.0         0.0         0.0         0.0   \n",
              "\n",
              "     nacao_ URU  nacao_ VEN  \n",
              "0           0.0         0.0  \n",
              "1           0.0         0.0  \n",
              "2           0.0         0.0  \n",
              "3           0.0         0.0  \n",
              "4           0.0         0.0  \n",
              "..          ...         ...  \n",
              "126         0.0         0.0  \n",
              "127         0.0         0.0  \n",
              "128         0.0         0.0  \n",
              "129         0.0         0.0  \n",
              "130         0.0         0.0  \n",
              "\n",
              "[131 rows x 21 columns]"
            ],
            "text/html": [
              "\n",
              "  <div id=\"df-8558abb2-e948-43a1-a319-917bdc6ba9b5\">\n",
              "    <div class=\"colab-df-container\">\n",
              "      <div>\n",
              "<style scoped>\n",
              "    .dataframe tbody tr th:only-of-type {\n",
              "        vertical-align: middle;\n",
              "    }\n",
              "\n",
              "    .dataframe tbody tr th {\n",
              "        vertical-align: top;\n",
              "    }\n",
              "\n",
              "    .dataframe thead th {\n",
              "        text-align: right;\n",
              "    }\n",
              "</style>\n",
              "<table border=\"1\" class=\"dataframe\">\n",
              "  <thead>\n",
              "    <tr style=\"text-align: right;\">\n",
              "      <th></th>\n",
              "      <th>jogador</th>\n",
              "      <th>nacao</th>\n",
              "      <th>posicao</th>\n",
              "      <th>idade</th>\n",
              "      <th>minPor90</th>\n",
              "      <th>gols</th>\n",
              "      <th>assist</th>\n",
              "      <th>golsPorPartida</th>\n",
              "      <th>gols_log</th>\n",
              "      <th>gols_norm</th>\n",
              "      <th>...</th>\n",
              "      <th>nacao_ BRA</th>\n",
              "      <th>nacao_ CHI</th>\n",
              "      <th>nacao_ CHN</th>\n",
              "      <th>nacao_ COL</th>\n",
              "      <th>nacao_ ECU</th>\n",
              "      <th>nacao_ ITA</th>\n",
              "      <th>nacao_ PAR</th>\n",
              "      <th>nacao_ UKR</th>\n",
              "      <th>nacao_ URU</th>\n",
              "      <th>nacao_ VEN</th>\n",
              "    </tr>\n",
              "  </thead>\n",
              "  <tbody>\n",
              "    <tr>\n",
              "      <th>0</th>\n",
              "      <td>Roger Guedes</td>\n",
              "      <td>BRA</td>\n",
              "      <td>AT</td>\n",
              "      <td>25</td>\n",
              "      <td>12.2</td>\n",
              "      <td>5.0</td>\n",
              "      <td>1.0</td>\n",
              "      <td>0.409836</td>\n",
              "      <td>1.215323</td>\n",
              "      <td>0.5</td>\n",
              "      <td>...</td>\n",
              "      <td>1.0</td>\n",
              "      <td>0.0</td>\n",
              "      <td>0.0</td>\n",
              "      <td>0.0</td>\n",
              "      <td>0.0</td>\n",
              "      <td>0.0</td>\n",
              "      <td>0.0</td>\n",
              "      <td>0.0</td>\n",
              "      <td>0.0</td>\n",
              "      <td>0.0</td>\n",
              "    </tr>\n",
              "    <tr>\n",
              "      <th>1</th>\n",
              "      <td>Wellington Rato</td>\n",
              "      <td>BRA</td>\n",
              "      <td>LT,AT</td>\n",
              "      <td>30</td>\n",
              "      <td>13.6</td>\n",
              "      <td>4.0</td>\n",
              "      <td>0.0</td>\n",
              "      <td>0.294118</td>\n",
              "      <td>1.000000</td>\n",
              "      <td>0.4</td>\n",
              "      <td>...</td>\n",
              "      <td>1.0</td>\n",
              "      <td>0.0</td>\n",
              "      <td>0.0</td>\n",
              "      <td>0.0</td>\n",
              "      <td>0.0</td>\n",
              "      <td>0.0</td>\n",
              "      <td>0.0</td>\n",
              "      <td>0.0</td>\n",
              "      <td>0.0</td>\n",
              "      <td>0.0</td>\n",
              "    </tr>\n",
              "    <tr>\n",
              "      <th>2</th>\n",
              "      <td>Vinícius</td>\n",
              "      <td>BRA</td>\n",
              "      <td>AT,LT</td>\n",
              "      <td>31</td>\n",
              "      <td>11.3</td>\n",
              "      <td>1.0</td>\n",
              "      <td>2.0</td>\n",
              "      <td>0.088496</td>\n",
              "      <td>-inf</td>\n",
              "      <td>0.1</td>\n",
              "      <td>...</td>\n",
              "      <td>1.0</td>\n",
              "      <td>0.0</td>\n",
              "      <td>0.0</td>\n",
              "      <td>0.0</td>\n",
              "      <td>0.0</td>\n",
              "      <td>0.0</td>\n",
              "      <td>0.0</td>\n",
              "      <td>0.0</td>\n",
              "      <td>0.0</td>\n",
              "      <td>0.0</td>\n",
              "    </tr>\n",
              "    <tr>\n",
              "      <th>3</th>\n",
              "      <td>Gustavo Mantuan</td>\n",
              "      <td>BRA</td>\n",
              "      <td>LT,AT</td>\n",
              "      <td>21</td>\n",
              "      <td>9.6</td>\n",
              "      <td>3.0</td>\n",
              "      <td>1.0</td>\n",
              "      <td>0.312500</td>\n",
              "      <td>0.664449</td>\n",
              "      <td>0.3</td>\n",
              "      <td>...</td>\n",
              "      <td>1.0</td>\n",
              "      <td>0.0</td>\n",
              "      <td>0.0</td>\n",
              "      <td>0.0</td>\n",
              "      <td>0.0</td>\n",
              "      <td>0.0</td>\n",
              "      <td>0.0</td>\n",
              "      <td>0.0</td>\n",
              "      <td>0.0</td>\n",
              "      <td>0.0</td>\n",
              "    </tr>\n",
              "    <tr>\n",
              "      <th>4</th>\n",
              "      <td>Lima</td>\n",
              "      <td>BRA</td>\n",
              "      <td>LT,AT</td>\n",
              "      <td>26</td>\n",
              "      <td>10.4</td>\n",
              "      <td>2.0</td>\n",
              "      <td>0.0</td>\n",
              "      <td>0.192308</td>\n",
              "      <td>0.000000</td>\n",
              "      <td>0.2</td>\n",
              "      <td>...</td>\n",
              "      <td>1.0</td>\n",
              "      <td>0.0</td>\n",
              "      <td>0.0</td>\n",
              "      <td>0.0</td>\n",
              "      <td>0.0</td>\n",
              "      <td>0.0</td>\n",
              "      <td>0.0</td>\n",
              "      <td>0.0</td>\n",
              "      <td>0.0</td>\n",
              "      <td>0.0</td>\n",
              "    </tr>\n",
              "    <tr>\n",
              "      <th>...</th>\n",
              "      <td>...</td>\n",
              "      <td>...</td>\n",
              "      <td>...</td>\n",
              "      <td>...</td>\n",
              "      <td>...</td>\n",
              "      <td>...</td>\n",
              "      <td>...</td>\n",
              "      <td>...</td>\n",
              "      <td>...</td>\n",
              "      <td>...</td>\n",
              "      <td>...</td>\n",
              "      <td>...</td>\n",
              "      <td>...</td>\n",
              "      <td>...</td>\n",
              "      <td>...</td>\n",
              "      <td>...</td>\n",
              "      <td>...</td>\n",
              "      <td>...</td>\n",
              "      <td>...</td>\n",
              "      <td>...</td>\n",
              "      <td>...</td>\n",
              "    </tr>\n",
              "    <tr>\n",
              "      <th>126</th>\n",
              "      <td>Óscar Ruiz</td>\n",
              "      <td>PAR</td>\n",
              "      <td>AT,LT</td>\n",
              "      <td>31</td>\n",
              "      <td>6.3</td>\n",
              "      <td>3.0</td>\n",
              "      <td>0.0</td>\n",
              "      <td>0.476190</td>\n",
              "      <td>0.664449</td>\n",
              "      <td>0.3</td>\n",
              "      <td>...</td>\n",
              "      <td>0.0</td>\n",
              "      <td>0.0</td>\n",
              "      <td>0.0</td>\n",
              "      <td>0.0</td>\n",
              "      <td>0.0</td>\n",
              "      <td>0.0</td>\n",
              "      <td>1.0</td>\n",
              "      <td>0.0</td>\n",
              "      <td>0.0</td>\n",
              "      <td>0.0</td>\n",
              "    </tr>\n",
              "    <tr>\n",
              "      <th>127</th>\n",
              "      <td>Marlon</td>\n",
              "      <td>BRA</td>\n",
              "      <td>LT,AT</td>\n",
              "      <td>32</td>\n",
              "      <td>1.7</td>\n",
              "      <td>0.0</td>\n",
              "      <td>0.0</td>\n",
              "      <td>0.000000</td>\n",
              "      <td>NaN</td>\n",
              "      <td>0.0</td>\n",
              "      <td>...</td>\n",
              "      <td>1.0</td>\n",
              "      <td>0.0</td>\n",
              "      <td>0.0</td>\n",
              "      <td>0.0</td>\n",
              "      <td>0.0</td>\n",
              "      <td>0.0</td>\n",
              "      <td>0.0</td>\n",
              "      <td>0.0</td>\n",
              "      <td>0.0</td>\n",
              "      <td>0.0</td>\n",
              "    </tr>\n",
              "    <tr>\n",
              "      <th>128</th>\n",
              "      <td>Vitor Gabriel</td>\n",
              "      <td>BRA</td>\n",
              "      <td>AT</td>\n",
              "      <td>22</td>\n",
              "      <td>4.3</td>\n",
              "      <td>1.0</td>\n",
              "      <td>0.0</td>\n",
              "      <td>0.232558</td>\n",
              "      <td>-inf</td>\n",
              "      <td>0.1</td>\n",
              "      <td>...</td>\n",
              "      <td>1.0</td>\n",
              "      <td>0.0</td>\n",
              "      <td>0.0</td>\n",
              "      <td>0.0</td>\n",
              "      <td>0.0</td>\n",
              "      <td>0.0</td>\n",
              "      <td>0.0</td>\n",
              "      <td>0.0</td>\n",
              "      <td>0.0</td>\n",
              "      <td>0.0</td>\n",
              "    </tr>\n",
              "    <tr>\n",
              "      <th>129</th>\n",
              "      <td>Guilherme Parede</td>\n",
              "      <td>BRA</td>\n",
              "      <td>LT,AT</td>\n",
              "      <td>26</td>\n",
              "      <td>3.1</td>\n",
              "      <td>0.0</td>\n",
              "      <td>1.0</td>\n",
              "      <td>0.000000</td>\n",
              "      <td>NaN</td>\n",
              "      <td>0.0</td>\n",
              "      <td>...</td>\n",
              "      <td>1.0</td>\n",
              "      <td>0.0</td>\n",
              "      <td>0.0</td>\n",
              "      <td>0.0</td>\n",
              "      <td>0.0</td>\n",
              "      <td>0.0</td>\n",
              "      <td>0.0</td>\n",
              "      <td>0.0</td>\n",
              "      <td>0.0</td>\n",
              "      <td>0.0</td>\n",
              "    </tr>\n",
              "    <tr>\n",
              "      <th>130</th>\n",
              "      <td>Bruninho</td>\n",
              "      <td>BRA</td>\n",
              "      <td>AT</td>\n",
              "      <td>22</td>\n",
              "      <td>1.3</td>\n",
              "      <td>0.0</td>\n",
              "      <td>0.0</td>\n",
              "      <td>0.000000</td>\n",
              "      <td>NaN</td>\n",
              "      <td>0.0</td>\n",
              "      <td>...</td>\n",
              "      <td>1.0</td>\n",
              "      <td>0.0</td>\n",
              "      <td>0.0</td>\n",
              "      <td>0.0</td>\n",
              "      <td>0.0</td>\n",
              "      <td>0.0</td>\n",
              "      <td>0.0</td>\n",
              "      <td>0.0</td>\n",
              "      <td>0.0</td>\n",
              "      <td>0.0</td>\n",
              "    </tr>\n",
              "  </tbody>\n",
              "</table>\n",
              "<p>131 rows × 21 columns</p>\n",
              "</div>\n",
              "      <button class=\"colab-df-convert\" onclick=\"convertToInteractive('df-8558abb2-e948-43a1-a319-917bdc6ba9b5')\"\n",
              "              title=\"Convert this dataframe to an interactive table.\"\n",
              "              style=\"display:none;\">\n",
              "        \n",
              "  <svg xmlns=\"http://www.w3.org/2000/svg\" height=\"24px\"viewBox=\"0 0 24 24\"\n",
              "       width=\"24px\">\n",
              "    <path d=\"M0 0h24v24H0V0z\" fill=\"none\"/>\n",
              "    <path d=\"M18.56 5.44l.94 2.06.94-2.06 2.06-.94-2.06-.94-.94-2.06-.94 2.06-2.06.94zm-11 1L8.5 8.5l.94-2.06 2.06-.94-2.06-.94L8.5 2.5l-.94 2.06-2.06.94zm10 10l.94 2.06.94-2.06 2.06-.94-2.06-.94-.94-2.06-.94 2.06-2.06.94z\"/><path d=\"M17.41 7.96l-1.37-1.37c-.4-.4-.92-.59-1.43-.59-.52 0-1.04.2-1.43.59L10.3 9.45l-7.72 7.72c-.78.78-.78 2.05 0 2.83L4 21.41c.39.39.9.59 1.41.59.51 0 1.02-.2 1.41-.59l7.78-7.78 2.81-2.81c.8-.78.8-2.07 0-2.86zM5.41 20L4 18.59l7.72-7.72 1.47 1.35L5.41 20z\"/>\n",
              "  </svg>\n",
              "      </button>\n",
              "      \n",
              "  <style>\n",
              "    .colab-df-container {\n",
              "      display:flex;\n",
              "      flex-wrap:wrap;\n",
              "      gap: 12px;\n",
              "    }\n",
              "\n",
              "    .colab-df-convert {\n",
              "      background-color: #E8F0FE;\n",
              "      border: none;\n",
              "      border-radius: 50%;\n",
              "      cursor: pointer;\n",
              "      display: none;\n",
              "      fill: #1967D2;\n",
              "      height: 32px;\n",
              "      padding: 0 0 0 0;\n",
              "      width: 32px;\n",
              "    }\n",
              "\n",
              "    .colab-df-convert:hover {\n",
              "      background-color: #E2EBFA;\n",
              "      box-shadow: 0px 1px 2px rgba(60, 64, 67, 0.3), 0px 1px 3px 1px rgba(60, 64, 67, 0.15);\n",
              "      fill: #174EA6;\n",
              "    }\n",
              "\n",
              "    [theme=dark] .colab-df-convert {\n",
              "      background-color: #3B4455;\n",
              "      fill: #D2E3FC;\n",
              "    }\n",
              "\n",
              "    [theme=dark] .colab-df-convert:hover {\n",
              "      background-color: #434B5C;\n",
              "      box-shadow: 0px 1px 3px 1px rgba(0, 0, 0, 0.15);\n",
              "      filter: drop-shadow(0px 1px 2px rgba(0, 0, 0, 0.3));\n",
              "      fill: #FFFFFF;\n",
              "    }\n",
              "  </style>\n",
              "\n",
              "      <script>\n",
              "        const buttonEl =\n",
              "          document.querySelector('#df-8558abb2-e948-43a1-a319-917bdc6ba9b5 button.colab-df-convert');\n",
              "        buttonEl.style.display =\n",
              "          google.colab.kernel.accessAllowed ? 'block' : 'none';\n",
              "\n",
              "        async function convertToInteractive(key) {\n",
              "          const element = document.querySelector('#df-8558abb2-e948-43a1-a319-917bdc6ba9b5');\n",
              "          const dataTable =\n",
              "            await google.colab.kernel.invokeFunction('convertToInteractive',\n",
              "                                                     [key], {});\n",
              "          if (!dataTable) return;\n",
              "\n",
              "          const docLinkHtml = 'Like what you see? Visit the ' +\n",
              "            '<a target=\"_blank\" href=https://colab.research.google.com/notebooks/data_table.ipynb>data table notebook</a>'\n",
              "            + ' to learn more about interactive tables.';\n",
              "          element.innerHTML = '';\n",
              "          dataTable['output_type'] = 'display_data';\n",
              "          await google.colab.output.renderOutput(dataTable, element);\n",
              "          const docLink = document.createElement('div');\n",
              "          docLink.innerHTML = docLinkHtml;\n",
              "          element.appendChild(docLink);\n",
              "        }\n",
              "      </script>\n",
              "    </div>\n",
              "  </div>\n",
              "  "
            ]
          },
          "metadata": {},
          "execution_count": 53
        }
      ]
    },
    {
      "cell_type": "markdown",
      "source": [
        "Here, we have a OrdinalEncoding approach:"
      ],
      "metadata": {
        "id": "MdHo3D2wcefn"
      }
    },
    {
      "cell_type": "code",
      "source": [
        "from sklearn.preprocessing import OrdinalEncoder\n",
        "encoder = OrdinalEncoder()\n",
        "attack_onehot2 = attack\n",
        "attack_onehot2['nacao'] = encoder.fit_transform(attack[['nacao']])\n",
        "attack_onehot2\n"
      ],
      "metadata": {
        "colab": {
          "base_uri": "https://localhost:8080/",
          "height": 424
        },
        "id": "cInvqWPXipPm",
        "outputId": "37966844-76ab-4b1a-82b8-28d5f0a77c38"
      },
      "execution_count": 54,
      "outputs": [
        {
          "output_type": "execute_result",
          "data": {
            "text/plain": [
              "              jogador  nacao posicao  idade  minPor90  gols  assist  \\\n",
              "0        Roger Guedes    1.0      AT     25      12.2   5.0     1.0   \n",
              "1     Wellington Rato    1.0   LT,AT     30      13.6   4.0     0.0   \n",
              "2            Vinícius    1.0   AT,LT     31      11.3   1.0     2.0   \n",
              "3     Gustavo Mantuan    1.0   LT,AT     21       9.6   3.0     1.0   \n",
              "4                Lima    1.0   LT,AT     26      10.4   2.0     0.0   \n",
              "..                ...    ...     ...    ...       ...   ...     ...   \n",
              "126        Óscar Ruiz    7.0   AT,LT     31       6.3   3.0     0.0   \n",
              "127            Marlon    1.0   LT,AT     32       1.7   0.0     0.0   \n",
              "128     Vitor Gabriel    1.0      AT     22       4.3   1.0     0.0   \n",
              "129  Guilherme Parede    1.0   LT,AT     26       3.1   0.0     1.0   \n",
              "130          Bruninho    1.0      AT     22       1.3   0.0     0.0   \n",
              "\n",
              "     golsPorPartida  gols_log  gols_norm  \n",
              "0          0.409836  1.215323        0.5  \n",
              "1          0.294118  1.000000        0.4  \n",
              "2          0.088496      -inf        0.1  \n",
              "3          0.312500  0.664449        0.3  \n",
              "4          0.192308  0.000000        0.2  \n",
              "..              ...       ...        ...  \n",
              "126        0.476190  0.664449        0.3  \n",
              "127        0.000000       NaN        0.0  \n",
              "128        0.232558      -inf        0.1  \n",
              "129        0.000000       NaN        0.0  \n",
              "130        0.000000       NaN        0.0  \n",
              "\n",
              "[131 rows x 10 columns]"
            ],
            "text/html": [
              "\n",
              "  <div id=\"df-2f86914a-9b6d-4921-901a-54daa0abf4b6\">\n",
              "    <div class=\"colab-df-container\">\n",
              "      <div>\n",
              "<style scoped>\n",
              "    .dataframe tbody tr th:only-of-type {\n",
              "        vertical-align: middle;\n",
              "    }\n",
              "\n",
              "    .dataframe tbody tr th {\n",
              "        vertical-align: top;\n",
              "    }\n",
              "\n",
              "    .dataframe thead th {\n",
              "        text-align: right;\n",
              "    }\n",
              "</style>\n",
              "<table border=\"1\" class=\"dataframe\">\n",
              "  <thead>\n",
              "    <tr style=\"text-align: right;\">\n",
              "      <th></th>\n",
              "      <th>jogador</th>\n",
              "      <th>nacao</th>\n",
              "      <th>posicao</th>\n",
              "      <th>idade</th>\n",
              "      <th>minPor90</th>\n",
              "      <th>gols</th>\n",
              "      <th>assist</th>\n",
              "      <th>golsPorPartida</th>\n",
              "      <th>gols_log</th>\n",
              "      <th>gols_norm</th>\n",
              "    </tr>\n",
              "  </thead>\n",
              "  <tbody>\n",
              "    <tr>\n",
              "      <th>0</th>\n",
              "      <td>Roger Guedes</td>\n",
              "      <td>1.0</td>\n",
              "      <td>AT</td>\n",
              "      <td>25</td>\n",
              "      <td>12.2</td>\n",
              "      <td>5.0</td>\n",
              "      <td>1.0</td>\n",
              "      <td>0.409836</td>\n",
              "      <td>1.215323</td>\n",
              "      <td>0.5</td>\n",
              "    </tr>\n",
              "    <tr>\n",
              "      <th>1</th>\n",
              "      <td>Wellington Rato</td>\n",
              "      <td>1.0</td>\n",
              "      <td>LT,AT</td>\n",
              "      <td>30</td>\n",
              "      <td>13.6</td>\n",
              "      <td>4.0</td>\n",
              "      <td>0.0</td>\n",
              "      <td>0.294118</td>\n",
              "      <td>1.000000</td>\n",
              "      <td>0.4</td>\n",
              "    </tr>\n",
              "    <tr>\n",
              "      <th>2</th>\n",
              "      <td>Vinícius</td>\n",
              "      <td>1.0</td>\n",
              "      <td>AT,LT</td>\n",
              "      <td>31</td>\n",
              "      <td>11.3</td>\n",
              "      <td>1.0</td>\n",
              "      <td>2.0</td>\n",
              "      <td>0.088496</td>\n",
              "      <td>-inf</td>\n",
              "      <td>0.1</td>\n",
              "    </tr>\n",
              "    <tr>\n",
              "      <th>3</th>\n",
              "      <td>Gustavo Mantuan</td>\n",
              "      <td>1.0</td>\n",
              "      <td>LT,AT</td>\n",
              "      <td>21</td>\n",
              "      <td>9.6</td>\n",
              "      <td>3.0</td>\n",
              "      <td>1.0</td>\n",
              "      <td>0.312500</td>\n",
              "      <td>0.664449</td>\n",
              "      <td>0.3</td>\n",
              "    </tr>\n",
              "    <tr>\n",
              "      <th>4</th>\n",
              "      <td>Lima</td>\n",
              "      <td>1.0</td>\n",
              "      <td>LT,AT</td>\n",
              "      <td>26</td>\n",
              "      <td>10.4</td>\n",
              "      <td>2.0</td>\n",
              "      <td>0.0</td>\n",
              "      <td>0.192308</td>\n",
              "      <td>0.000000</td>\n",
              "      <td>0.2</td>\n",
              "    </tr>\n",
              "    <tr>\n",
              "      <th>...</th>\n",
              "      <td>...</td>\n",
              "      <td>...</td>\n",
              "      <td>...</td>\n",
              "      <td>...</td>\n",
              "      <td>...</td>\n",
              "      <td>...</td>\n",
              "      <td>...</td>\n",
              "      <td>...</td>\n",
              "      <td>...</td>\n",
              "      <td>...</td>\n",
              "    </tr>\n",
              "    <tr>\n",
              "      <th>126</th>\n",
              "      <td>Óscar Ruiz</td>\n",
              "      <td>7.0</td>\n",
              "      <td>AT,LT</td>\n",
              "      <td>31</td>\n",
              "      <td>6.3</td>\n",
              "      <td>3.0</td>\n",
              "      <td>0.0</td>\n",
              "      <td>0.476190</td>\n",
              "      <td>0.664449</td>\n",
              "      <td>0.3</td>\n",
              "    </tr>\n",
              "    <tr>\n",
              "      <th>127</th>\n",
              "      <td>Marlon</td>\n",
              "      <td>1.0</td>\n",
              "      <td>LT,AT</td>\n",
              "      <td>32</td>\n",
              "      <td>1.7</td>\n",
              "      <td>0.0</td>\n",
              "      <td>0.0</td>\n",
              "      <td>0.000000</td>\n",
              "      <td>NaN</td>\n",
              "      <td>0.0</td>\n",
              "    </tr>\n",
              "    <tr>\n",
              "      <th>128</th>\n",
              "      <td>Vitor Gabriel</td>\n",
              "      <td>1.0</td>\n",
              "      <td>AT</td>\n",
              "      <td>22</td>\n",
              "      <td>4.3</td>\n",
              "      <td>1.0</td>\n",
              "      <td>0.0</td>\n",
              "      <td>0.232558</td>\n",
              "      <td>-inf</td>\n",
              "      <td>0.1</td>\n",
              "    </tr>\n",
              "    <tr>\n",
              "      <th>129</th>\n",
              "      <td>Guilherme Parede</td>\n",
              "      <td>1.0</td>\n",
              "      <td>LT,AT</td>\n",
              "      <td>26</td>\n",
              "      <td>3.1</td>\n",
              "      <td>0.0</td>\n",
              "      <td>1.0</td>\n",
              "      <td>0.000000</td>\n",
              "      <td>NaN</td>\n",
              "      <td>0.0</td>\n",
              "    </tr>\n",
              "    <tr>\n",
              "      <th>130</th>\n",
              "      <td>Bruninho</td>\n",
              "      <td>1.0</td>\n",
              "      <td>AT</td>\n",
              "      <td>22</td>\n",
              "      <td>1.3</td>\n",
              "      <td>0.0</td>\n",
              "      <td>0.0</td>\n",
              "      <td>0.000000</td>\n",
              "      <td>NaN</td>\n",
              "      <td>0.0</td>\n",
              "    </tr>\n",
              "  </tbody>\n",
              "</table>\n",
              "<p>131 rows × 10 columns</p>\n",
              "</div>\n",
              "      <button class=\"colab-df-convert\" onclick=\"convertToInteractive('df-2f86914a-9b6d-4921-901a-54daa0abf4b6')\"\n",
              "              title=\"Convert this dataframe to an interactive table.\"\n",
              "              style=\"display:none;\">\n",
              "        \n",
              "  <svg xmlns=\"http://www.w3.org/2000/svg\" height=\"24px\"viewBox=\"0 0 24 24\"\n",
              "       width=\"24px\">\n",
              "    <path d=\"M0 0h24v24H0V0z\" fill=\"none\"/>\n",
              "    <path d=\"M18.56 5.44l.94 2.06.94-2.06 2.06-.94-2.06-.94-.94-2.06-.94 2.06-2.06.94zm-11 1L8.5 8.5l.94-2.06 2.06-.94-2.06-.94L8.5 2.5l-.94 2.06-2.06.94zm10 10l.94 2.06.94-2.06 2.06-.94-2.06-.94-.94-2.06-.94 2.06-2.06.94z\"/><path d=\"M17.41 7.96l-1.37-1.37c-.4-.4-.92-.59-1.43-.59-.52 0-1.04.2-1.43.59L10.3 9.45l-7.72 7.72c-.78.78-.78 2.05 0 2.83L4 21.41c.39.39.9.59 1.41.59.51 0 1.02-.2 1.41-.59l7.78-7.78 2.81-2.81c.8-.78.8-2.07 0-2.86zM5.41 20L4 18.59l7.72-7.72 1.47 1.35L5.41 20z\"/>\n",
              "  </svg>\n",
              "      </button>\n",
              "      \n",
              "  <style>\n",
              "    .colab-df-container {\n",
              "      display:flex;\n",
              "      flex-wrap:wrap;\n",
              "      gap: 12px;\n",
              "    }\n",
              "\n",
              "    .colab-df-convert {\n",
              "      background-color: #E8F0FE;\n",
              "      border: none;\n",
              "      border-radius: 50%;\n",
              "      cursor: pointer;\n",
              "      display: none;\n",
              "      fill: #1967D2;\n",
              "      height: 32px;\n",
              "      padding: 0 0 0 0;\n",
              "      width: 32px;\n",
              "    }\n",
              "\n",
              "    .colab-df-convert:hover {\n",
              "      background-color: #E2EBFA;\n",
              "      box-shadow: 0px 1px 2px rgba(60, 64, 67, 0.3), 0px 1px 3px 1px rgba(60, 64, 67, 0.15);\n",
              "      fill: #174EA6;\n",
              "    }\n",
              "\n",
              "    [theme=dark] .colab-df-convert {\n",
              "      background-color: #3B4455;\n",
              "      fill: #D2E3FC;\n",
              "    }\n",
              "\n",
              "    [theme=dark] .colab-df-convert:hover {\n",
              "      background-color: #434B5C;\n",
              "      box-shadow: 0px 1px 3px 1px rgba(0, 0, 0, 0.15);\n",
              "      filter: drop-shadow(0px 1px 2px rgba(0, 0, 0, 0.3));\n",
              "      fill: #FFFFFF;\n",
              "    }\n",
              "  </style>\n",
              "\n",
              "      <script>\n",
              "        const buttonEl =\n",
              "          document.querySelector('#df-2f86914a-9b6d-4921-901a-54daa0abf4b6 button.colab-df-convert');\n",
              "        buttonEl.style.display =\n",
              "          google.colab.kernel.accessAllowed ? 'block' : 'none';\n",
              "\n",
              "        async function convertToInteractive(key) {\n",
              "          const element = document.querySelector('#df-2f86914a-9b6d-4921-901a-54daa0abf4b6');\n",
              "          const dataTable =\n",
              "            await google.colab.kernel.invokeFunction('convertToInteractive',\n",
              "                                                     [key], {});\n",
              "          if (!dataTable) return;\n",
              "\n",
              "          const docLinkHtml = 'Like what you see? Visit the ' +\n",
              "            '<a target=\"_blank\" href=https://colab.research.google.com/notebooks/data_table.ipynb>data table notebook</a>'\n",
              "            + ' to learn more about interactive tables.';\n",
              "          element.innerHTML = '';\n",
              "          dataTable['output_type'] = 'display_data';\n",
              "          await google.colab.output.renderOutput(dataTable, element);\n",
              "          const docLink = document.createElement('div');\n",
              "          docLink.innerHTML = docLinkHtml;\n",
              "          element.appendChild(docLink);\n",
              "        }\n",
              "      </script>\n",
              "    </div>\n",
              "  </div>\n",
              "  "
            ]
          },
          "metadata": {},
          "execution_count": 54
        }
      ]
    },
    {
      "cell_type": "markdown",
      "source": [
        "#### Discretization"
      ],
      "metadata": {
        "id": "mplaVPozCKg6"
      }
    },
    {
      "cell_type": "markdown",
      "source": [
        "Here, we have a histogram regarding the attack players ages"
      ],
      "metadata": {
        "id": "NSF8Sz3iEj66"
      }
    },
    {
      "cell_type": "code",
      "source": [
        "attack['idade'].plot.hist()"
      ],
      "metadata": {
        "colab": {
          "base_uri": "https://localhost:8080/",
          "height": 283
        },
        "id": "OHlTfnBKCPZH",
        "outputId": "87467b1b-a88b-40ff-bbea-3bfca5b4d746"
      },
      "execution_count": 55,
      "outputs": [
        {
          "output_type": "execute_result",
          "data": {
            "text/plain": [
              "<matplotlib.axes._subplots.AxesSubplot at 0x7ffb7c4d4d10>"
            ]
          },
          "metadata": {},
          "execution_count": 55
        },
        {
          "output_type": "display_data",
          "data": {
            "text/plain": [
              "<Figure size 432x288 with 1 Axes>"
            ],
            "image/png": "[encoded data removed]"
          },
          "metadata": {
            "needs_background": "light"
          }
        }
      ]
    },
    {
      "cell_type": "markdown",
      "source": [
        "If it's in our best interest to discreticize these values into different categories, we have a few approaches:"
      ],
      "metadata": {
        "id": "0LDjsyp9Eo5N"
      }
    },
    {
      "cell_type": "markdown",
      "source": [
        "##### Quantile Approach"
      ],
      "metadata": {
        "id": "DA40E8CuE8-P"
      }
    },
    {
      "cell_type": "code",
      "source": [
        "# Here, we determine a quartile approach to follow our values segmentation\n",
        "attack_age_disc_qcut = pd.qcut(attack['idade'], 4)"
      ],
      "metadata": {
        "id": "-FbegwN7CT9I"
      },
      "execution_count": 56,
      "outputs": []
    },
    {
      "cell_type": "code",
      "source": [
        "attack_age_disc_qcut.value_counts()"
      ],
      "metadata": {
        "colab": {
          "base_uri": "https://localhost:8080/"
        },
        "id": "MKqujmVyCjwe",
        "outputId": "8cbef919-f814-4614-e108-4183272e12ab"
      },
      "execution_count": 57,
      "outputs": [
        {
          "output_type": "execute_result",
          "data": {
            "text/plain": [
              "(17.999, 22.0]    37\n",
              "(26.0, 31.0]      35\n",
              "(22.0, 26.0]      30\n",
              "(31.0, 41.0]      29\n",
              "Name: idade, dtype: int64"
            ]
          },
          "metadata": {},
          "execution_count": 57
        }
      ]
    },
    {
      "cell_type": "code",
      "source": [
        "attack_age_disc_qcut.describe()"
      ],
      "metadata": {
        "colab": {
          "base_uri": "https://localhost:8080/"
        },
        "id": "GnbnpekuC57v",
        "outputId": "88c1f09d-9b5e-470e-e79e-71155373e2f5"
      },
      "execution_count": 58,
      "outputs": [
        {
          "output_type": "execute_result",
          "data": {
            "text/plain": [
              "count                131\n",
              "unique                 4\n",
              "top       (17.999, 22.0]\n",
              "freq                  37\n",
              "Name: idade, dtype: object"
            ]
          },
          "metadata": {},
          "execution_count": 58
        }
      ]
    },
    {
      "cell_type": "markdown",
      "source": [
        "##### Usual Approach"
      ],
      "metadata": {
        "id": "XjiMpqNJFJr3"
      }
    },
    {
      "cell_type": "code",
      "source": [
        "attack_age_disc_cut = pd.cut(attack['idade'], bins=4)"
      ],
      "metadata": {
        "id": "AZz1pjBSDABp"
      },
      "execution_count": 59,
      "outputs": []
    },
    {
      "cell_type": "code",
      "source": [
        "attack_age_disc_cut.value_counts()"
      ],
      "metadata": {
        "colab": {
          "base_uri": "https://localhost:8080/"
        },
        "id": "PhdYLBCYDAm4",
        "outputId": "af49e5ad-8d7f-42dd-d58f-a9a38094b892"
      },
      "execution_count": 60,
      "outputs": [
        {
          "output_type": "execute_result",
          "data": {
            "text/plain": [
              "(23.75, 29.5]      47\n",
              "(17.977, 23.75]    40\n",
              "(29.5, 35.25]      39\n",
              "(35.25, 41.0]       5\n",
              "Name: idade, dtype: int64"
            ]
          },
          "metadata": {},
          "execution_count": 60
        }
      ]
    },
    {
      "cell_type": "code",
      "source": [
        "attack_age_disc_cut.describe()"
      ],
      "metadata": {
        "colab": {
          "base_uri": "https://localhost:8080/"
        },
        "id": "KZbVbQ4JDBLT",
        "outputId": "f9bb4920-1214-4a61-e364-bec86ab9026a"
      },
      "execution_count": 61,
      "outputs": [
        {
          "output_type": "execute_result",
          "data": {
            "text/plain": [
              "count               131\n",
              "unique                4\n",
              "top       (23.75, 29.5]\n",
              "freq                 47\n",
              "Name: idade, dtype: object"
            ]
          },
          "metadata": {},
          "execution_count": 61
        }
      ]
    },
    {
      "cell_type": "markdown",
      "source": [
        "### Hypothesis Testing"
      ],
      "metadata": {
        "id": "T1gMHzYa27gL"
      }
    },
    {
      "cell_type": "markdown",
      "source": [
        "![hypothesis.png](data:image/png;base64,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)"
      ],
      "metadata": {
        "id": "qAc5wQksE30m"
      }
    },
    {
      "cell_type": "markdown",
      "source": [
        "Conduct the hypothesis testing to check whether the amount of goals scored by older players tend to be higher than the amount of goals scored by younger players (using a 0.05 significance level).\n",
        "\n",
        "\n"
      ],
      "metadata": {
        "id": "RrHkjCQL3saq"
      }
    },
    {
      "cell_type": "markdown",
      "source": [
        "To decide whether to use the parametric or nonparametric version of the test, we should check the specific requirements listed below:\n",
        "\n",
        "* Observations in each sample are independent and identically distributed (IID).\n",
        "* Observations in each sample are normally distributed.\n",
        "* Observations in each sample have the same variance."
      ],
      "metadata": {
        "id": "NVJJfMV8dQTk"
      }
    },
    {
      "cell_type": "markdown",
      "source": [
        "For that, we have two Hypothesis:\n",
        "*   Ho -> μy ≤ μo  \n",
        "*   Ha -> μo > μy\n",
        "\n",
        "Where μo is the mean of goals scored by older players, and μy is the mean of goals scored by younger players.\n"
      ],
      "metadata": {
        "id": "FI28iIR7dYxK"
      }
    },
    {
      "cell_type": "markdown",
      "source": [
        "Please remember that rejecting H₀ validates H₁. However, failing to reject H₀ does not mean H₀ is valid, nor does it mean H₁ is wrong."
      ],
      "metadata": {
        "id": "Gb-9WqBHKcXx"
      }
    },
    {
      "cell_type": "code",
      "source": [
        "# Our age median is 26\n",
        "attack['idade'].median()"
      ],
      "metadata": {
        "colab": {
          "base_uri": "https://localhost:8080/"
        },
        "id": "yV5kVarR4H3b",
        "outputId": "b13e115b-f0b9-4562-a162-4977c30485e1"
      },
      "execution_count": 62,
      "outputs": [
        {
          "output_type": "execute_result",
          "data": {
            "text/plain": [
              "26.0"
            ]
          },
          "metadata": {},
          "execution_count": 62
        }
      ]
    },
    {
      "cell_type": "code",
      "source": [
        "# Our age mean is aprox. 26.74\n",
        "attack['idade'].mean()"
      ],
      "metadata": {
        "colab": {
          "base_uri": "https://localhost:8080/"
        },
        "id": "D50258FX6FR8",
        "outputId": "ecbe4eaf-7ad7-46a7-b2df-2a82282f5e1c"
      },
      "execution_count": 63,
      "outputs": [
        {
          "output_type": "execute_result",
          "data": {
            "text/plain": [
              "26.740458015267176"
            ]
          },
          "metadata": {},
          "execution_count": 63
        }
      ]
    },
    {
      "cell_type": "code",
      "source": [
        "# We have a clue that it's normally distributed (might not be)\n",
        "sns.histplot(data=attack[attack['idade'] > 26]['gols'])"
      ],
      "metadata": {
        "colab": {
          "base_uri": "https://localhost:8080/",
          "height": 297
        },
        "id": "abHwBHSl5aBB",
        "outputId": "512785e3-f02b-4b4d-cd7d-599c3d55258d"
      },
      "execution_count": 64,
      "outputs": [
        {
          "output_type": "execute_result",
          "data": {
            "text/plain": [
              "<matplotlib.axes._subplots.AxesSubplot at 0x7ffb7c3c6350>"
            ]
          },
          "metadata": {},
          "execution_count": 64
        },
        {
          "output_type": "display_data",
          "data": {
            "text/plain": [
              "<Figure size 432x288 with 1 Axes>"
            ],
            "image/png": "[encoded data removed]"
          },
          "metadata": {
            "needs_background": "light"
          }
        }
      ]
    },
    {
      "cell_type": "code",
      "source": [
        "# We have a clue that it's normally distributed (might not be)\n",
        "sns.histplot(data=attack[attack['idade'] <= 26]['gols'])"
      ],
      "metadata": {
        "colab": {
          "base_uri": "https://localhost:8080/",
          "height": 297
        },
        "id": "U2tfxuT66A1D",
        "outputId": "df9a29ae-5812-4213-8598-9fb87f21a447"
      },
      "execution_count": 65,
      "outputs": [
        {
          "output_type": "execute_result",
          "data": {
            "text/plain": [
              "<matplotlib.axes._subplots.AxesSubplot at 0x7ffb7c412590>"
            ]
          },
          "metadata": {},
          "execution_count": 65
        },
        {
          "output_type": "display_data",
          "data": {
            "text/plain": [
              "<Figure size 432x288 with 1 Axes>"
            ],
            "image/png": "[encoded data removed]"
          },
          "metadata": {
            "needs_background": "light"
          }
        }
      ]
    },
    {
      "cell_type": "code",
      "source": [
        "def check_normality(data):\n",
        "    test_stat_normality, p_value_normality=stats.shapiro(data)\n",
        "    print(\"p value:%.10f\" % p_value_normality)\n",
        "    if p_value_normality <0.05:\n",
        "        print(\"Reject null hypothesis >> The data is not normally distributed\")\n",
        "    else:\n",
        "        print(\"Fail to reject null hypothesis >> The data is normally distributed\")"
      ],
      "metadata": {
        "id": "wPQfUDbo5nY9"
      },
      "execution_count": 66,
      "outputs": []
    },
    {
      "cell_type": "code",
      "source": [
        "def check_variance_homogeneity(group1, group2):\n",
        "    test_stat_var, p_value_var= stats.levene(group1,group2)\n",
        "    print(\"p value:%.4f\" % p_value_var)\n",
        "    if p_value_var <0.05:\n",
        "        print(\"Reject null hypothesis >> The variances of the samples are different.\")\n",
        "    else:\n",
        "        print(\"Fail to reject null hypothesis >> The variances of the samples are same.\")"
      ],
      "metadata": {
        "id": "0N6_FT1UBama"
      },
      "execution_count": 67,
      "outputs": []
    },
    {
      "cell_type": "code",
      "source": [
        "older_players_goals = attack[attack['idade'] > 26]['gols']"
      ],
      "metadata": {
        "id": "xSPr-lbK6lTO"
      },
      "execution_count": 68,
      "outputs": []
    },
    {
      "cell_type": "code",
      "source": [
        "younger_players_goals = attack[attack['idade'] <= 26]['gols']"
      ],
      "metadata": {
        "id": "wo4GM0bv7cua"
      },
      "execution_count": 69,
      "outputs": []
    },
    {
      "cell_type": "markdown",
      "source": [
        "CHECKING"
      ],
      "metadata": {
        "id": "0xKpk8heAY3A"
      }
    },
    {
      "cell_type": "markdown",
      "source": [
        "H₀: The data is normally distributed.\n",
        "\n",
        "H₁: The data is not normally distributed.\n",
        "\n",
        "\n"
      ],
      "metadata": {
        "id": "agjvBJI3BBpy"
      }
    },
    {
      "cell_type": "code",
      "source": [
        "older_players_goals.count()"
      ],
      "metadata": {
        "colab": {
          "base_uri": "https://localhost:8080/"
        },
        "id": "9xx5uXhnA17L",
        "outputId": "30f53727-54fd-42e1-e7f2-867b0bbbf808"
      },
      "execution_count": 70,
      "outputs": [
        {
          "output_type": "execute_result",
          "data": {
            "text/plain": [
              "64"
            ]
          },
          "metadata": {},
          "execution_count": 70
        }
      ]
    },
    {
      "cell_type": "code",
      "source": [
        "younger_players_goals.count()"
      ],
      "metadata": {
        "colab": {
          "base_uri": "https://localhost:8080/"
        },
        "id": "hIjZ5XPOA3mq",
        "outputId": "18dd33a0-628b-46e1-b895-6c065914c236"
      },
      "execution_count": 71,
      "outputs": [
        {
          "output_type": "execute_result",
          "data": {
            "text/plain": [
              "67"
            ]
          },
          "metadata": {},
          "execution_count": 71
        }
      ]
    },
    {
      "cell_type": "code",
      "source": [
        "check_normality(older_players_goals)"
      ],
      "metadata": {
        "colab": {
          "base_uri": "https://localhost:8080/"
        },
        "id": "gur6JwbBAW8M",
        "outputId": "1f90fd59-aa08-4df8-9de6-590350057680"
      },
      "execution_count": 72,
      "outputs": [
        {
          "output_type": "stream",
          "name": "stdout",
          "text": [
            "p value:0.0000007537\n",
            "Reject null hypothesis >> The data is not normally distributed\n"
          ]
        }
      ]
    },
    {
      "cell_type": "code",
      "source": [
        "check_normality(younger_players_goals)"
      ],
      "metadata": {
        "colab": {
          "base_uri": "https://localhost:8080/"
        },
        "id": "8XCEBuarAYA_",
        "outputId": "a26fae07-718b-4137-daff-292f9c806a9c"
      },
      "execution_count": 73,
      "outputs": [
        {
          "output_type": "stream",
          "name": "stdout",
          "text": [
            "p value:0.0000000001\n",
            "Reject null hypothesis >> The data is not normally distributed\n"
          ]
        }
      ]
    },
    {
      "cell_type": "markdown",
      "source": [
        "H₀: The variances of the samples are the same.\n",
        "\n",
        "H₁: The variances of the samples are different."
      ],
      "metadata": {
        "id": "5YKa7WM2Bijy"
      }
    },
    {
      "cell_type": "code",
      "source": [
        "check_variance_homogeneity(older_players_goals, younger_players_goals)\n"
      ],
      "metadata": {
        "colab": {
          "base_uri": "https://localhost:8080/"
        },
        "id": "lexci5oUBkLX",
        "outputId": "7eae1aed-f1e8-40d7-a5bb-a80ad63b9a91"
      },
      "execution_count": 74,
      "outputs": [
        {
          "output_type": "stream",
          "name": "stdout",
          "text": [
            "p value:0.4067\n",
            "Fail to reject null hypothesis >> The variances of the samples are same.\n"
          ]
        }
      ]
    },
    {
      "cell_type": "markdown",
      "source": [
        "There are two groups, and data is collected from different individuals, so it is not paired. However, the normality assumption is not satisfied; therefore, we need to use the nonparametric version of 2 group comparison for unpaired data: the Mann-Whitney U Test."
      ],
      "metadata": {
        "id": "6SIVanfYBubr"
      }
    },
    {
      "cell_type": "code",
      "source": [
        "ttest,pvalue = stats.mannwhitneyu(older_players_goals, younger_players_goals, alternative=\"greater\")\n",
        "print(\"p-value:%.10f\" % pvalue)\n",
        "if pvalue <0.05:\n",
        "    print(\"Reject null hypothesis\")\n",
        "else:\n",
        "    print(\"Fail to reject null hypothesis\")"
      ],
      "metadata": {
        "colab": {
          "base_uri": "https://localhost:8080/"
        },
        "id": "EXIIZkzGByZL",
        "outputId": "9bd402aa-acea-418b-f57f-7220f8e9e8ee"
      },
      "execution_count": 75,
      "outputs": [
        {
          "output_type": "stream",
          "name": "stdout",
          "text": [
            "p-value:0.0036808399\n",
            "Reject null hypothesis\n"
          ]
        }
      ]
    },
    {
      "cell_type": "markdown",
      "source": [
        "This means our alternative hypothesis that older players perform better than younger players (regarding the number of goals) is true."
      ],
      "metadata": {
        "id": "HFbmPyndJzfR"
      }
    },
    {
      "cell_type": "markdown",
      "source": [
        "Here is a little hint of why this assumption was chosen:"
      ],
      "metadata": {
        "id": "FcCgQLMSfDpr"
      }
    },
    {
      "cell_type": "code",
      "source": [
        "older_players_goals.mean()"
      ],
      "metadata": {
        "colab": {
          "base_uri": "https://localhost:8080/"
        },
        "id": "LZde4OcOF1aN",
        "outputId": "d0367971-c487-4f72-830a-bee1451a85ea"
      },
      "execution_count": 76,
      "outputs": [
        {
          "output_type": "execute_result",
          "data": {
            "text/plain": [
              "1.296875"
            ]
          },
          "metadata": {},
          "execution_count": 76
        }
      ]
    },
    {
      "cell_type": "code",
      "source": [
        "younger_players_goals.mean()"
      ],
      "metadata": {
        "colab": {
          "base_uri": "https://localhost:8080/"
        },
        "id": "So3ZzcncF517",
        "outputId": "7c08d3e0-58e1-43ce-ed7d-cf43f420514e"
      },
      "execution_count": 77,
      "outputs": [
        {
          "output_type": "execute_result",
          "data": {
            "text/plain": [
              "0.8208955223880597"
            ]
          },
          "metadata": {},
          "execution_count": 77
        }
      ]
    },
    {
      "cell_type": "markdown",
      "source": [
        "## Defense"
      ],
      "metadata": {
        "id": "IS6DUikld-Wv"
      }
    },
    {
      "cell_type": "code",
      "source": [
        "defense.head()"
      ],
      "metadata": {
        "colab": {
          "base_uri": "https://localhost:8080/",
          "height": 206
        },
        "outputId": "6db81e8c-1a5f-4d1d-fc8f-b9fc44cbad80",
        "id": "zQHwXuNed-Ww"
      },
      "execution_count": 78,
      "outputs": [
        {
          "output_type": "execute_result",
          "data": {
            "text/plain": [
              "            jogador nacao posicao  idade  minPor90  desarmes\n",
              "0           Juninho   BRA      LT     34      14.7        12\n",
              "1    Marlon Freitas   BRA      LT     27      15.4        22\n",
              "2           Éverson   BRA       G     31      17.0         0\n",
              "3             Kevin   BRA      ZG     24      16.8        21\n",
              "4  Gatito Fernández   PAR       G     34      14.0         1"
            ],
            "text/html": [
              "\n",
              "  <div id=\"df-7520c2e6-68ea-4f83-aeca-f2bf4c29beeb\">\n",
              "    <div class=\"colab-df-container\">\n",
              "      <div>\n",
              "<style scoped>\n",
              "    .dataframe tbody tr th:only-of-type {\n",
              "        vertical-align: middle;\n",
              "    }\n",
              "\n",
              "    .dataframe tbody tr th {\n",
              "        vertical-align: top;\n",
              "    }\n",
              "\n",
              "    .dataframe thead th {\n",
              "        text-align: right;\n",
              "    }\n",
              "</style>\n",
              "<table border=\"1\" class=\"dataframe\">\n",
              "  <thead>\n",
              "    <tr style=\"text-align: right;\">\n",
              "      <th></th>\n",
              "      <th>jogador</th>\n",
              "      <th>nacao</th>\n",
              "      <th>posicao</th>\n",
              "      <th>idade</th>\n",
              "      <th>minPor90</th>\n",
              "      <th>desarmes</th>\n",
              "    </tr>\n",
              "  </thead>\n",
              "  <tbody>\n",
              "    <tr>\n",
              "      <th>0</th>\n",
              "      <td>Juninho</td>\n",
              "      <td>BRA</td>\n",
              "      <td>LT</td>\n",
              "      <td>34</td>\n",
              "      <td>14.7</td>\n",
              "      <td>12</td>\n",
              "    </tr>\n",
              "    <tr>\n",
              "      <th>1</th>\n",
              "      <td>Marlon Freitas</td>\n",
              "      <td>BRA</td>\n",
              "      <td>LT</td>\n",
              "      <td>27</td>\n",
              "      <td>15.4</td>\n",
              "      <td>22</td>\n",
              "    </tr>\n",
              "    <tr>\n",
              "      <th>2</th>\n",
              "      <td>Éverson</td>\n",
              "      <td>BRA</td>\n",
              "      <td>G</td>\n",
              "      <td>31</td>\n",
              "      <td>17.0</td>\n",
              "      <td>0</td>\n",
              "    </tr>\n",
              "    <tr>\n",
              "      <th>3</th>\n",
              "      <td>Kevin</td>\n",
              "      <td>BRA</td>\n",
              "      <td>ZG</td>\n",
              "      <td>24</td>\n",
              "      <td>16.8</td>\n",
              "      <td>21</td>\n",
              "    </tr>\n",
              "    <tr>\n",
              "      <th>4</th>\n",
              "      <td>Gatito Fernández</td>\n",
              "      <td>PAR</td>\n",
              "      <td>G</td>\n",
              "      <td>34</td>\n",
              "      <td>14.0</td>\n",
              "      <td>1</td>\n",
              "    </tr>\n",
              "  </tbody>\n",
              "</table>\n",
              "</div>\n",
              "      <button class=\"colab-df-convert\" onclick=\"convertToInteractive('df-7520c2e6-68ea-4f83-aeca-f2bf4c29beeb')\"\n",
              "              title=\"Convert this dataframe to an interactive table.\"\n",
              "              style=\"display:none;\">\n",
              "        \n",
              "  <svg xmlns=\"http://www.w3.org/2000/svg\" height=\"24px\"viewBox=\"0 0 24 24\"\n",
              "       width=\"24px\">\n",
              "    <path d=\"M0 0h24v24H0V0z\" fill=\"none\"/>\n",
              "    <path d=\"M18.56 5.44l.94 2.06.94-2.06 2.06-.94-2.06-.94-.94-2.06-.94 2.06-2.06.94zm-11 1L8.5 8.5l.94-2.06 2.06-.94-2.06-.94L8.5 2.5l-.94 2.06-2.06.94zm10 10l.94 2.06.94-2.06 2.06-.94-2.06-.94-.94-2.06-.94 2.06-2.06.94z\"/><path d=\"M17.41 7.96l-1.37-1.37c-.4-.4-.92-.59-1.43-.59-.52 0-1.04.2-1.43.59L10.3 9.45l-7.72 7.72c-.78.78-.78 2.05 0 2.83L4 21.41c.39.39.9.59 1.41.59.51 0 1.02-.2 1.41-.59l7.78-7.78 2.81-2.81c.8-.78.8-2.07 0-2.86zM5.41 20L4 18.59l7.72-7.72 1.47 1.35L5.41 20z\"/>\n",
              "  </svg>\n",
              "      </button>\n",
              "      \n",
              "  <style>\n",
              "    .colab-df-container {\n",
              "      display:flex;\n",
              "      flex-wrap:wrap;\n",
              "      gap: 12px;\n",
              "    }\n",
              "\n",
              "    .colab-df-convert {\n",
              "      background-color: #E8F0FE;\n",
              "      border: none;\n",
              "      border-radius: 50%;\n",
              "      cursor: pointer;\n",
              "      display: none;\n",
              "      fill: #1967D2;\n",
              "      height: 32px;\n",
              "      padding: 0 0 0 0;\n",
              "      width: 32px;\n",
              "    }\n",
              "\n",
              "    .colab-df-convert:hover {\n",
              "      background-color: #E2EBFA;\n",
              "      box-shadow: 0px 1px 2px rgba(60, 64, 67, 0.3), 0px 1px 3px 1px rgba(60, 64, 67, 0.15);\n",
              "      fill: #174EA6;\n",
              "    }\n",
              "\n",
              "    [theme=dark] .colab-df-convert {\n",
              "      background-color: #3B4455;\n",
              "      fill: #D2E3FC;\n",
              "    }\n",
              "\n",
              "    [theme=dark] .colab-df-convert:hover {\n",
              "      background-color: #434B5C;\n",
              "      box-shadow: 0px 1px 3px 1px rgba(0, 0, 0, 0.15);\n",
              "      filter: drop-shadow(0px 1px 2px rgba(0, 0, 0, 0.3));\n",
              "      fill: #FFFFFF;\n",
              "    }\n",
              "  </style>\n",
              "\n",
              "      <script>\n",
              "        const buttonEl =\n",
              "          document.querySelector('#df-7520c2e6-68ea-4f83-aeca-f2bf4c29beeb button.colab-df-convert');\n",
              "        buttonEl.style.display =\n",
              "          google.colab.kernel.accessAllowed ? 'block' : 'none';\n",
              "\n",
              "        async function convertToInteractive(key) {\n",
              "          const element = document.querySelector('#df-7520c2e6-68ea-4f83-aeca-f2bf4c29beeb');\n",
              "          const dataTable =\n",
              "            await google.colab.kernel.invokeFunction('convertToInteractive',\n",
              "                                                     [key], {});\n",
              "          if (!dataTable) return;\n",
              "\n",
              "          const docLinkHtml = 'Like what you see? Visit the ' +\n",
              "            '<a target=\"_blank\" href=https://colab.research.google.com/notebooks/data_table.ipynb>data table notebook</a>'\n",
              "            + ' to learn more about interactive tables.';\n",
              "          element.innerHTML = '';\n",
              "          dataTable['output_type'] = 'display_data';\n",
              "          await google.colab.output.renderOutput(dataTable, element);\n",
              "          const docLink = document.createElement('div');\n",
              "          docLink.innerHTML = docLinkHtml;\n",
              "          element.appendChild(docLink);\n",
              "        }\n",
              "      </script>\n",
              "    </div>\n",
              "  </div>\n",
              "  "
            ]
          },
          "metadata": {},
          "execution_count": 78
        }
      ]
    },
    {
      "cell_type": "markdown",
      "source": [
        "## Goalkeeping"
      ],
      "metadata": {
        "id": "HCaPp0Vhd-vJ"
      }
    },
    {
      "cell_type": "code",
      "source": [
        "goalie.head()"
      ],
      "metadata": {
        "colab": {
          "base_uri": "https://localhost:8080/",
          "height": 0
        },
        "outputId": "bd71471d-c098-4bcf-da08-377327a1b6c0",
        "id": "xKH0hGxVd-vJ"
      },
      "execution_count": 79,
      "outputs": [
        {
          "output_type": "execute_result",
          "data": {
            "text/plain": [
              "             jogador nacao posicao  idade  minPor90  gols_contra  defesas\n",
              "0            Jailson   BRA       G     40      12.0           13       39\n",
              "1            Ronaldo   BRA       G     25      15.0           18       52\n",
              "2            Éverson   BRA       G     31      17.0           17       38\n",
              "3  Douglas Friedrich   BRA       G     33      10.4           16       24\n",
              "4   Gatito Fernández   PAR       G     34      14.0           19       47"
            ],
            "text/html": [
              "\n",
              "  <div id=\"df-76e2c3a6-ad87-47a6-b9f3-dbb607932cbf\">\n",
              "    <div class=\"colab-df-container\">\n",
              "      <div>\n",
              "<style scoped>\n",
              "    .dataframe tbody tr th:only-of-type {\n",
              "        vertical-align: middle;\n",
              "    }\n",
              "\n",
              "    .dataframe tbody tr th {\n",
              "        vertical-align: top;\n",
              "    }\n",
              "\n",
              "    .dataframe thead th {\n",
              "        text-align: right;\n",
              "    }\n",
              "</style>\n",
              "<table border=\"1\" class=\"dataframe\">\n",
              "  <thead>\n",
              "    <tr style=\"text-align: right;\">\n",
              "      <th></th>\n",
              "      <th>jogador</th>\n",
              "      <th>nacao</th>\n",
              "      <th>posicao</th>\n",
              "      <th>idade</th>\n",
              "      <th>minPor90</th>\n",
              "      <th>gols_contra</th>\n",
              "      <th>defesas</th>\n",
              "    </tr>\n",
              "  </thead>\n",
              "  <tbody>\n",
              "    <tr>\n",
              "      <th>0</th>\n",
              "      <td>Jailson</td>\n",
              "      <td>BRA</td>\n",
              "      <td>G</td>\n",
              "      <td>40</td>\n",
              "      <td>12.0</td>\n",
              "      <td>13</td>\n",
              "      <td>39</td>\n",
              "    </tr>\n",
              "    <tr>\n",
              "      <th>1</th>\n",
              "      <td>Ronaldo</td>\n",
              "      <td>BRA</td>\n",
              "      <td>G</td>\n",
              "      <td>25</td>\n",
              "      <td>15.0</td>\n",
              "      <td>18</td>\n",
              "      <td>52</td>\n",
              "    </tr>\n",
              "    <tr>\n",
              "      <th>2</th>\n",
              "      <td>Éverson</td>\n",
              "      <td>BRA</td>\n",
              "      <td>G</td>\n",
              "      <td>31</td>\n",
              "      <td>17.0</td>\n",
              "      <td>17</td>\n",
              "      <td>38</td>\n",
              "    </tr>\n",
              "    <tr>\n",
              "      <th>3</th>\n",
              "      <td>Douglas Friedrich</td>\n",
              "      <td>BRA</td>\n",
              "      <td>G</td>\n",
              "      <td>33</td>\n",
              "      <td>10.4</td>\n",
              "      <td>16</td>\n",
              "      <td>24</td>\n",
              "    </tr>\n",
              "    <tr>\n",
              "      <th>4</th>\n",
              "      <td>Gatito Fernández</td>\n",
              "      <td>PAR</td>\n",
              "      <td>G</td>\n",
              "      <td>34</td>\n",
              "      <td>14.0</td>\n",
              "      <td>19</td>\n",
              "      <td>47</td>\n",
              "    </tr>\n",
              "  </tbody>\n",
              "</table>\n",
              "</div>\n",
              "      <button class=\"colab-df-convert\" onclick=\"convertToInteractive('df-76e2c3a6-ad87-47a6-b9f3-dbb607932cbf')\"\n",
              "              title=\"Convert this dataframe to an interactive table.\"\n",
              "              style=\"display:none;\">\n",
              "        \n",
              "  <svg xmlns=\"http://www.w3.org/2000/svg\" height=\"24px\"viewBox=\"0 0 24 24\"\n",
              "       width=\"24px\">\n",
              "    <path d=\"M0 0h24v24H0V0z\" fill=\"none\"/>\n",
              "    <path d=\"M18.56 5.44l.94 2.06.94-2.06 2.06-.94-2.06-.94-.94-2.06-.94 2.06-2.06.94zm-11 1L8.5 8.5l.94-2.06 2.06-.94-2.06-.94L8.5 2.5l-.94 2.06-2.06.94zm10 10l.94 2.06.94-2.06 2.06-.94-2.06-.94-.94-2.06-.94 2.06-2.06.94z\"/><path d=\"M17.41 7.96l-1.37-1.37c-.4-.4-.92-.59-1.43-.59-.52 0-1.04.2-1.43.59L10.3 9.45l-7.72 7.72c-.78.78-.78 2.05 0 2.83L4 21.41c.39.39.9.59 1.41.59.51 0 1.02-.2 1.41-.59l7.78-7.78 2.81-2.81c.8-.78.8-2.07 0-2.86zM5.41 20L4 18.59l7.72-7.72 1.47 1.35L5.41 20z\"/>\n",
              "  </svg>\n",
              "      </button>\n",
              "      \n",
              "  <style>\n",
              "    .colab-df-container {\n",
              "      display:flex;\n",
              "      flex-wrap:wrap;\n",
              "      gap: 12px;\n",
              "    }\n",
              "\n",
              "    .colab-df-convert {\n",
              "      background-color: #E8F0FE;\n",
              "      border: none;\n",
              "      border-radius: 50%;\n",
              "      cursor: pointer;\n",
              "      display: none;\n",
              "      fill: #1967D2;\n",
              "      height: 32px;\n",
              "      padding: 0 0 0 0;\n",
              "      width: 32px;\n",
              "    }\n",
              "\n",
              "    .colab-df-convert:hover {\n",
              "      background-color: #E2EBFA;\n",
              "      box-shadow: 0px 1px 2px rgba(60, 64, 67, 0.3), 0px 1px 3px 1px rgba(60, 64, 67, 0.15);\n",
              "      fill: #174EA6;\n",
              "    }\n",
              "\n",
              "    [theme=dark] .colab-df-convert {\n",
              "      background-color: #3B4455;\n",
              "      fill: #D2E3FC;\n",
              "    }\n",
              "\n",
              "    [theme=dark] .colab-df-convert:hover {\n",
              "      background-color: #434B5C;\n",
              "      box-shadow: 0px 1px 3px 1px rgba(0, 0, 0, 0.15);\n",
              "      filter: drop-shadow(0px 1px 2px rgba(0, 0, 0, 0.3));\n",
              "      fill: #FFFFFF;\n",
              "    }\n",
              "  </style>\n",
              "\n",
              "      <script>\n",
              "        const buttonEl =\n",
              "          document.querySelector('#df-76e2c3a6-ad87-47a6-b9f3-dbb607932cbf button.colab-df-convert');\n",
              "        buttonEl.style.display =\n",
              "          google.colab.kernel.accessAllowed ? 'block' : 'none';\n",
              "\n",
              "        async function convertToInteractive(key) {\n",
              "          const element = document.querySelector('#df-76e2c3a6-ad87-47a6-b9f3-dbb607932cbf');\n",
              "          const dataTable =\n",
              "            await google.colab.kernel.invokeFunction('convertToInteractive',\n",
              "                                                     [key], {});\n",
              "          if (!dataTable) return;\n",
              "\n",
              "          const docLinkHtml = 'Like what you see? Visit the ' +\n",
              "            '<a target=\"_blank\" href=https://colab.research.google.com/notebooks/data_table.ipynb>data table notebook</a>'\n",
              "            + ' to learn more about interactive tables.';\n",
              "          element.innerHTML = '';\n",
              "          dataTable['output_type'] = 'display_data';\n",
              "          await google.colab.output.renderOutput(dataTable, element);\n",
              "          const docLink = document.createElement('div');\n",
              "          docLink.innerHTML = docLinkHtml;\n",
              "          element.appendChild(docLink);\n",
              "        }\n",
              "      </script>\n",
              "    </div>\n",
              "  </div>\n",
              "  "
            ]
          },
          "metadata": {},
          "execution_count": 79
        }
      ]
    }
  ]
}