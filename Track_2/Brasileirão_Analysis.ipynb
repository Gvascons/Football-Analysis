{
  "nbformat": 4,
  "nbformat_minor": 0,
  "metadata": {
    "colab": {
      "provenance": [],
      "collapsed_sections": [
        "fmGvGVkrsBaz",
        "HCaPp0Vhd-vJ"
      ]
    },
    "kernelspec": {
      "name": "python3",
      "display_name": "Python 3"
    },
    "language_info": {
      "name": "python"
    }
  },
  "cells": [
    {
      "cell_type": "markdown",
      "source": [
        "#Football Analysis\n",
        "###Github Rep: https://github.com/Gvascons/Football-Analysis"
      ],
      "metadata": {
        "id": "KT3NvSojdd0f"
      }
    },
    {
      "cell_type": "markdown",
      "source": [
        "Analysis up to 18/07/2022\n"
      ],
      "metadata": {
        "id": "FIkc5idDimTd"
      }
    },
    {
      "cell_type": "code",
      "source": [
        "#!pip install pyspark"
      ],
      "metadata": {
        "id": "cwwhE8yq9wNZ"
      },
      "execution_count": 1,
      "outputs": []
    },
    {
      "cell_type": "code",
      "source": [
        "%matplotlib inline\n",
        "\n",
        "#import pyspark\n",
        "import pandas as pd\n",
        "import matplotlib.pyplot as plt\n",
        "import numpy as np\n",
        "import seaborn as sns\n",
        "\n",
        "\n",
        "from scipy import stats\n",
        "from sklearn.preprocessing import StandardScaler, MinMaxScaler\n",
        "\n",
        "from sklearn.preprocessing import OneHotEncoder"
      ],
      "metadata": {
        "id": "aCIVkueaMpxd"
      },
      "execution_count": 2,
      "outputs": []
    },
    {
      "cell_type": "code",
      "source": [
        "import warnings\n",
        "warnings.simplefilter(action='ignore', category=FutureWarning)\n"
      ],
      "metadata": {
        "id": "WZbjg58dl5iv"
      },
      "execution_count": 3,
      "outputs": []
    },
    {
      "cell_type": "code",
      "source": [
        "attack = pd.read_csv('https://raw.githubusercontent.com/Gvascons/Football-Analysis/main/Project/scrapyTeams/ataque.csv')\n",
        "defense = pd.read_csv('https://raw.githubusercontent.com/Gvascons/Football-Analysis/main/Project/scrapyTeams/defesa.csv')\n",
        "goalie = pd.read_csv('https://raw.githubusercontent.com/Gvascons/Football-Analysis/main/Project/scrapyTeams/goleiros.csv')"
      ],
      "metadata": {
        "id": "pLuIuJecM9gx"
      },
      "execution_count": 4,
      "outputs": []
    },
    {
      "cell_type": "markdown",
      "source": [
        "## Attack"
      ],
      "metadata": {
        "id": "eglc0p6fd1H2"
      }
    },
    {
      "cell_type": "markdown",
      "source": [
        "### SPARK APPROACH (OUT OF DATE)"
      ],
      "metadata": {
        "id": "fmGvGVkrsBaz"
      }
    },
    {
      "cell_type": "markdown",
      "source": [
        "PySpark implementation refers to a different approach that was not incorporated in this document. Feel free to try it out for yourself."
      ],
      "metadata": {
        "id": "goyswkP1xbGZ"
      }
    },
    {
      "cell_type": "code",
      "source": [
        "#SPARK APPROACH FROM PD DATAFRAME\n",
        "\"\"\"\n",
        "from pyspark.sql import SparkSession\n",
        "spark = SparkSession.builder\\\n",
        "          .appName(\"SparkApproach\")\\\n",
        "          .getOrCreate()\n",
        "\"\"\""
      ],
      "metadata": {
        "id": "lk-qCvaC_qo-",
        "colab": {
          "base_uri": "https://localhost:8080/",
          "height": 0
        },
        "outputId": "21ae7200-3ed6-4e91-8f25-1ac5f9c76f7d"
      },
      "execution_count": 5,
      "outputs": [
        {
          "output_type": "execute_result",
          "data": {
            "text/plain": [
              "'\\nfrom pyspark.sql import SparkSession\\nspark = SparkSession.builder          .appName(\"SparkApproach\")          .getOrCreate()\\n'"
            ],
            "application/vnd.google.colaboratory.intrinsic+json": {
              "type": "string"
            }
          },
          "metadata": {},
          "execution_count": 5
        }
      ]
    },
    {
      "cell_type": "code",
      "source": [
        "#sparkDF=spark.createDataFrame(attack)"
      ],
      "metadata": {
        "id": "7GXWlXYeBQ8j"
      },
      "execution_count": 6,
      "outputs": []
    },
    {
      "cell_type": "code",
      "source": [
        "\"\"\"\n",
        "sparkDF.printSchema()\n",
        "sparkDF.show()\n",
        "\"\"\""
      ],
      "metadata": {
        "colab": {
          "base_uri": "https://localhost:8080/",
          "height": 0
        },
        "id": "HcZ_pgINB6Gz",
        "outputId": "37800011-3348-41c2-9d70-626e8783ca6e"
      },
      "execution_count": 7,
      "outputs": [
        {
          "output_type": "execute_result",
          "data": {
            "text/plain": [
              "'\\nsparkDF.printSchema()\\nsparkDF.show()\\n'"
            ],
            "application/vnd.google.colaboratory.intrinsic+json": {
              "type": "string"
            }
          },
          "metadata": {},
          "execution_count": 7
        }
      ]
    },
    {
      "cell_type": "code",
      "source": [
        "#sparkDF.select('jogador').show()"
      ],
      "metadata": {
        "id": "WwZb5PdwDBEq"
      },
      "execution_count": 8,
      "outputs": []
    },
    {
      "cell_type": "markdown",
      "source": [
        "### PANDAS APPROACH\n"
      ],
      "metadata": {
        "id": "q-4b8fIGsQm7"
      }
    },
    {
      "cell_type": "markdown",
      "source": [
        "### Data Preprocessing & Analysis"
      ],
      "metadata": {
        "id": "aiVd8VUzWz3E"
      }
    },
    {
      "cell_type": "markdown",
      "source": [
        "#### Type Definition"
      ],
      "metadata": {
        "id": "HwkXwS_wuEr_"
      }
    },
    {
      "cell_type": "markdown",
      "source": [
        "Our raw dataset includes players in all positions"
      ],
      "metadata": {
        "id": "hoTzRGwVyINW"
      }
    },
    {
      "cell_type": "markdown",
      "source": [
        "We have the raw attack dataset"
      ],
      "metadata": {
        "id": "uQ7vMxbXWQPu"
      }
    },
    {
      "cell_type": "code",
      "source": [
        " attack.head(10)"
      ],
      "metadata": {
        "colab": {
          "base_uri": "https://localhost:8080/",
          "height": 363
        },
        "id": "XgHol8ARd4Md",
        "outputId": "283a13b0-6efc-4479-c800-a05ea4278f15"
      },
      "execution_count": 9,
      "outputs": [
        {
          "output_type": "execute_result",
          "data": {
            "text/plain": [
              "              jogador nacao posicao  idade  minPor90  gols  assist\n",
              "0             Juninho   BRA      LT     34      14.7     0       1\n",
              "1      Marlon Freitas   BRA      LT     27      15.4     2       3\n",
              "2           Lucas Kal   BRA      LT     26      13.3     0       0\n",
              "3           Jefferson   BRA      ZG     25      14.1     1       1\n",
              "4             Éverson   BRA       G     31      17.0     0       0\n",
              "5               Kevin   BRA      ZG     24      16.8     1       1\n",
              "6    Gatito Fernández   PAR       G     34      14.0     0       0\n",
              "7  Cleiton Schwengber   BRA       G     24      17.0     0       0\n",
              "8              Cássio   BRA       G     35      15.0     0       0\n",
              "9  João Ricardo Riedi   BRA       G     33      15.0     0       0"
            ],
            "text/html": [
              "\n",
              "  <div id=\"df-381292f5-84b1-4516-8d86-6558148d2b58\">\n",
              "    <div class=\"colab-df-container\">\n",
              "      <div>\n",
              "<style scoped>\n",
              "    .dataframe tbody tr th:only-of-type {\n",
              "        vertical-align: middle;\n",
              "    }\n",
              "\n",
              "    .dataframe tbody tr th {\n",
              "        vertical-align: top;\n",
              "    }\n",
              "\n",
              "    .dataframe thead th {\n",
              "        text-align: right;\n",
              "    }\n",
              "</style>\n",
              "<table border=\"1\" class=\"dataframe\">\n",
              "  <thead>\n",
              "    <tr style=\"text-align: right;\">\n",
              "      <th></th>\n",
              "      <th>jogador</th>\n",
              "      <th>nacao</th>\n",
              "      <th>posicao</th>\n",
              "      <th>idade</th>\n",
              "      <th>minPor90</th>\n",
              "      <th>gols</th>\n",
              "      <th>assist</th>\n",
              "    </tr>\n",
              "  </thead>\n",
              "  <tbody>\n",
              "    <tr>\n",
              "      <th>0</th>\n",
              "      <td>Juninho</td>\n",
              "      <td>BRA</td>\n",
              "      <td>LT</td>\n",
              "      <td>34</td>\n",
              "      <td>14.7</td>\n",
              "      <td>0</td>\n",
              "      <td>1</td>\n",
              "    </tr>\n",
              "    <tr>\n",
              "      <th>1</th>\n",
              "      <td>Marlon Freitas</td>\n",
              "      <td>BRA</td>\n",
              "      <td>LT</td>\n",
              "      <td>27</td>\n",
              "      <td>15.4</td>\n",
              "      <td>2</td>\n",
              "      <td>3</td>\n",
              "    </tr>\n",
              "    <tr>\n",
              "      <th>2</th>\n",
              "      <td>Lucas Kal</td>\n",
              "      <td>BRA</td>\n",
              "      <td>LT</td>\n",
              "      <td>26</td>\n",
              "      <td>13.3</td>\n",
              "      <td>0</td>\n",
              "      <td>0</td>\n",
              "    </tr>\n",
              "    <tr>\n",
              "      <th>3</th>\n",
              "      <td>Jefferson</td>\n",
              "      <td>BRA</td>\n",
              "      <td>ZG</td>\n",
              "      <td>25</td>\n",
              "      <td>14.1</td>\n",
              "      <td>1</td>\n",
              "      <td>1</td>\n",
              "    </tr>\n",
              "    <tr>\n",
              "      <th>4</th>\n",
              "      <td>Éverson</td>\n",
              "      <td>BRA</td>\n",
              "      <td>G</td>\n",
              "      <td>31</td>\n",
              "      <td>17.0</td>\n",
              "      <td>0</td>\n",
              "      <td>0</td>\n",
              "    </tr>\n",
              "    <tr>\n",
              "      <th>5</th>\n",
              "      <td>Kevin</td>\n",
              "      <td>BRA</td>\n",
              "      <td>ZG</td>\n",
              "      <td>24</td>\n",
              "      <td>16.8</td>\n",
              "      <td>1</td>\n",
              "      <td>1</td>\n",
              "    </tr>\n",
              "    <tr>\n",
              "      <th>6</th>\n",
              "      <td>Gatito Fernández</td>\n",
              "      <td>PAR</td>\n",
              "      <td>G</td>\n",
              "      <td>34</td>\n",
              "      <td>14.0</td>\n",
              "      <td>0</td>\n",
              "      <td>0</td>\n",
              "    </tr>\n",
              "    <tr>\n",
              "      <th>7</th>\n",
              "      <td>Cleiton Schwengber</td>\n",
              "      <td>BRA</td>\n",
              "      <td>G</td>\n",
              "      <td>24</td>\n",
              "      <td>17.0</td>\n",
              "      <td>0</td>\n",
              "      <td>0</td>\n",
              "    </tr>\n",
              "    <tr>\n",
              "      <th>8</th>\n",
              "      <td>Cássio</td>\n",
              "      <td>BRA</td>\n",
              "      <td>G</td>\n",
              "      <td>35</td>\n",
              "      <td>15.0</td>\n",
              "      <td>0</td>\n",
              "      <td>0</td>\n",
              "    </tr>\n",
              "    <tr>\n",
              "      <th>9</th>\n",
              "      <td>João Ricardo Riedi</td>\n",
              "      <td>BRA</td>\n",
              "      <td>G</td>\n",
              "      <td>33</td>\n",
              "      <td>15.0</td>\n",
              "      <td>0</td>\n",
              "      <td>0</td>\n",
              "    </tr>\n",
              "  </tbody>\n",
              "</table>\n",
              "</div>\n",
              "      <button class=\"colab-df-convert\" onclick=\"convertToInteractive('df-381292f5-84b1-4516-8d86-6558148d2b58')\"\n",
              "              title=\"Convert this dataframe to an interactive table.\"\n",
              "              style=\"display:none;\">\n",
              "        \n",
              "  <svg xmlns=\"http://www.w3.org/2000/svg\" height=\"24px\"viewBox=\"0 0 24 24\"\n",
              "       width=\"24px\">\n",
              "    <path d=\"M0 0h24v24H0V0z\" fill=\"none\"/>\n",
              "    <path d=\"M18.56 5.44l.94 2.06.94-2.06 2.06-.94-2.06-.94-.94-2.06-.94 2.06-2.06.94zm-11 1L8.5 8.5l.94-2.06 2.06-.94-2.06-.94L8.5 2.5l-.94 2.06-2.06.94zm10 10l.94 2.06.94-2.06 2.06-.94-2.06-.94-.94-2.06-.94 2.06-2.06.94z\"/><path d=\"M17.41 7.96l-1.37-1.37c-.4-.4-.92-.59-1.43-.59-.52 0-1.04.2-1.43.59L10.3 9.45l-7.72 7.72c-.78.78-.78 2.05 0 2.83L4 21.41c.39.39.9.59 1.41.59.51 0 1.02-.2 1.41-.59l7.78-7.78 2.81-2.81c.8-.78.8-2.07 0-2.86zM5.41 20L4 18.59l7.72-7.72 1.47 1.35L5.41 20z\"/>\n",
              "  </svg>\n",
              "      </button>\n",
              "      \n",
              "  <style>\n",
              "    .colab-df-container {\n",
              "      display:flex;\n",
              "      flex-wrap:wrap;\n",
              "      gap: 12px;\n",
              "    }\n",
              "\n",
              "    .colab-df-convert {\n",
              "      background-color: #E8F0FE;\n",
              "      border: none;\n",
              "      border-radius: 50%;\n",
              "      cursor: pointer;\n",
              "      display: none;\n",
              "      fill: #1967D2;\n",
              "      height: 32px;\n",
              "      padding: 0 0 0 0;\n",
              "      width: 32px;\n",
              "    }\n",
              "\n",
              "    .colab-df-convert:hover {\n",
              "      background-color: #E2EBFA;\n",
              "      box-shadow: 0px 1px 2px rgba(60, 64, 67, 0.3), 0px 1px 3px 1px rgba(60, 64, 67, 0.15);\n",
              "      fill: #174EA6;\n",
              "    }\n",
              "\n",
              "    [theme=dark] .colab-df-convert {\n",
              "      background-color: #3B4455;\n",
              "      fill: #D2E3FC;\n",
              "    }\n",
              "\n",
              "    [theme=dark] .colab-df-convert:hover {\n",
              "      background-color: #434B5C;\n",
              "      box-shadow: 0px 1px 3px 1px rgba(0, 0, 0, 0.15);\n",
              "      filter: drop-shadow(0px 1px 2px rgba(0, 0, 0, 0.3));\n",
              "      fill: #FFFFFF;\n",
              "    }\n",
              "  </style>\n",
              "\n",
              "      <script>\n",
              "        const buttonEl =\n",
              "          document.querySelector('#df-381292f5-84b1-4516-8d86-6558148d2b58 button.colab-df-convert');\n",
              "        buttonEl.style.display =\n",
              "          google.colab.kernel.accessAllowed ? 'block' : 'none';\n",
              "\n",
              "        async function convertToInteractive(key) {\n",
              "          const element = document.querySelector('#df-381292f5-84b1-4516-8d86-6558148d2b58');\n",
              "          const dataTable =\n",
              "            await google.colab.kernel.invokeFunction('convertToInteractive',\n",
              "                                                     [key], {});\n",
              "          if (!dataTable) return;\n",
              "\n",
              "          const docLinkHtml = 'Like what you see? Visit the ' +\n",
              "            '<a target=\"_blank\" href=https://colab.research.google.com/notebooks/data_table.ipynb>data table notebook</a>'\n",
              "            + ' to learn more about interactive tables.';\n",
              "          element.innerHTML = '';\n",
              "          dataTable['output_type'] = 'display_data';\n",
              "          await google.colab.output.renderOutput(dataTable, element);\n",
              "          const docLink = document.createElement('div');\n",
              "          docLink.innerHTML = docLinkHtml;\n",
              "          element.appendChild(docLink);\n",
              "        }\n",
              "      </script>\n",
              "    </div>\n",
              "  </div>\n",
              "  "
            ]
          },
          "metadata": {},
          "execution_count": 9
        }
      ]
    },
    {
      "cell_type": "markdown",
      "source": [
        "Analyzing the data and checking if there are null values or not\n"
      ],
      "metadata": {
        "id": "eA4ZTBIrWYdD"
      }
    },
    {
      "cell_type": "code",
      "source": [
        "print(\"ATTACK INFO: ^^^\\n\", attack.info())"
      ],
      "metadata": {
        "colab": {
          "base_uri": "https://localhost:8080/"
        },
        "id": "g8NfNKNfu5Gv",
        "outputId": "e6daa54e-0491-43be-9ee7-2afe824b928b"
      },
      "execution_count": 10,
      "outputs": [
        {
          "output_type": "stream",
          "name": "stdout",
          "text": [
            "<class 'pandas.core.frame.DataFrame'>\n",
            "RangeIndex: 599 entries, 0 to 598\n",
            "Data columns (total 7 columns):\n",
            " #   Column    Non-Null Count  Dtype  \n",
            "---  ------    --------------  -----  \n",
            " 0   jogador   599 non-null    object \n",
            " 1   nacao     599 non-null    object \n",
            " 2   posicao   599 non-null    object \n",
            " 3   idade     599 non-null    int64  \n",
            " 4   minPor90  599 non-null    float64\n",
            " 5   gols      599 non-null    int64  \n",
            " 6   assist    599 non-null    int64  \n",
            "dtypes: float64(1), int64(3), object(3)\n",
            "memory usage: 32.9+ KB\n",
            "ATTACK INFO: ^^^\n",
            " None\n"
          ]
        }
      ]
    },
    {
      "cell_type": "markdown",
      "source": [
        "Looking for some statistic values of our dataset"
      ],
      "metadata": {
        "id": "W8YdPQauWl8k"
      }
    },
    {
      "cell_type": "code",
      "source": [
        "print(\"ATTACK DESCRIPTION: \\n\", attack.describe())"
      ],
      "metadata": {
        "colab": {
          "base_uri": "https://localhost:8080/"
        },
        "id": "ME-ceSG0vOXB",
        "outputId": "693a4092-a386-477c-d1d1-195117afe7e6"
      },
      "execution_count": 11,
      "outputs": [
        {
          "output_type": "stream",
          "name": "stdout",
          "text": [
            "ATTACK DESCRIPTION: \n",
            "             idade    minPor90        gols      assist\n",
            "count  599.000000  599.000000  599.000000  599.000000\n",
            "mean    26.213689    6.918698    1.761269    1.140234\n",
            "std      5.215209    5.180080    4.688786    3.124566\n",
            "min     16.000000    0.000000    0.000000    0.000000\n",
            "25%     22.000000    2.250000    0.000000    0.000000\n",
            "50%     25.000000    5.900000    0.000000    0.000000\n",
            "75%     30.000000   11.000000    1.000000    1.000000\n",
            "max     41.000000   17.000000   27.000000   22.000000\n"
          ]
        }
      ]
    },
    {
      "cell_type": "markdown",
      "source": [
        "#### Data Cleaning & Manipulation"
      ],
      "metadata": {
        "id": "7V-nWfH1IJEE"
      }
    },
    {
      "cell_type": "markdown",
      "source": [
        "Checking for unique values of our column 'posicao'"
      ],
      "metadata": {
        "id": "M-_OI3x4XpqZ"
      }
    },
    {
      "cell_type": "code",
      "source": [
        "attack['posicao'].unique()"
      ],
      "metadata": {
        "colab": {
          "base_uri": "https://localhost:8080/"
        },
        "id": "wLAsUT7mhvax",
        "outputId": "50a0f174-aa7a-49c7-8e14-6f9031b046d4"
      },
      "execution_count": 12,
      "outputs": [
        {
          "output_type": "execute_result",
          "data": {
            "text/plain": [
              "array(['LT', 'ZG', 'G', 'AT', 'LT,ZG', 'ZG,LT', 'LT,AT', 'AT,LT'],\n",
              "      dtype=object)"
            ]
          },
          "metadata": {},
          "execution_count": 12
        }
      ]
    },
    {
      "cell_type": "markdown",
      "source": [
        "We only want to analyze players regarding attacking positions for now, so we will remove positions not related to 'AT'.\n"
      ],
      "metadata": {
        "id": "IhqPFo5XXrao"
      }
    },
    {
      "cell_type": "code",
      "source": [
        "attack.drop(attack[(attack['posicao'] != 'AT') & (attack['posicao'] != 'AT,LT') & (attack['posicao'] != 'LT,AT')].index, inplace=True)"
      ],
      "metadata": {
        "id": "Ur-HyBLGk1oh"
      },
      "execution_count": 13,
      "outputs": []
    },
    {
      "cell_type": "markdown",
      "source": [
        "Then, we fix the index.\n"
      ],
      "metadata": {
        "id": "nKYFtHNtX-8w"
      }
    },
    {
      "cell_type": "code",
      "source": [
        "attack.reset_index(inplace=True)"
      ],
      "metadata": {
        "id": "gKdFNMPrW5Fw"
      },
      "execution_count": 14,
      "outputs": []
    },
    {
      "cell_type": "code",
      "source": [
        "attack.drop('index',axis=1, inplace=True)\n",
        "attack.index.name = 'index'"
      ],
      "metadata": {
        "id": "k5gm7gA5w2cv"
      },
      "execution_count": 15,
      "outputs": []
    },
    {
      "cell_type": "markdown",
      "source": [
        "As we can see on the below, our current data contains only the players that are related to attack position."
      ],
      "metadata": {
        "id": "awpY0-2DX6nI"
      }
    },
    {
      "cell_type": "code",
      "source": [
        "attack"
      ],
      "metadata": {
        "colab": {
          "base_uri": "https://localhost:8080/",
          "height": 455
        },
        "id": "brTjF-iHxq5s",
        "outputId": "f8697dd4-6cb0-4ec7-eb69-341ca0c37132"
      },
      "execution_count": 16,
      "outputs": [
        {
          "output_type": "execute_result",
          "data": {
            "text/plain": [
              "                jogador nacao posicao  idade  minPor90  gols  assist\n",
              "index                                                               \n",
              "0                Erison   BRA      AT     23      13.4     6       1\n",
              "1                  Hulk   BRA      AT     35      13.9     7       2\n",
              "2          Roger Guedes   BRA      AT     25      12.2     5       1\n",
              "3       Wellington Rato   BRA   LT,AT     30      13.6     4       0\n",
              "4        Stiven Mendoza   COL   AT,LT     30      11.5     7       0\n",
              "...                 ...   ...     ...    ...       ...   ...     ...\n",
              "143        Caio Matheus   BRA      AT     22      17.0    18      12\n",
              "144              Marlon   BRA   LT,AT     32       1.7     0       0\n",
              "145       Vitor Gabriel   BRA      AT     22       4.3     1       0\n",
              "146    Guilherme Parede   BRA   LT,AT     26       3.1     0       1\n",
              "147            Bruninho   BRA      AT     22       1.3     0       0\n",
              "\n",
              "[148 rows x 7 columns]"
            ],
            "text/html": [
              "\n",
              "  <div id=\"df-31b28f09-c7a0-4324-8265-26bec24363f0\">\n",
              "    <div class=\"colab-df-container\">\n",
              "      <div>\n",
              "<style scoped>\n",
              "    .dataframe tbody tr th:only-of-type {\n",
              "        vertical-align: middle;\n",
              "    }\n",
              "\n",
              "    .dataframe tbody tr th {\n",
              "        vertical-align: top;\n",
              "    }\n",
              "\n",
              "    .dataframe thead th {\n",
              "        text-align: right;\n",
              "    }\n",
              "</style>\n",
              "<table border=\"1\" class=\"dataframe\">\n",
              "  <thead>\n",
              "    <tr style=\"text-align: right;\">\n",
              "      <th></th>\n",
              "      <th>jogador</th>\n",
              "      <th>nacao</th>\n",
              "      <th>posicao</th>\n",
              "      <th>idade</th>\n",
              "      <th>minPor90</th>\n",
              "      <th>gols</th>\n",
              "      <th>assist</th>\n",
              "    </tr>\n",
              "    <tr>\n",
              "      <th>index</th>\n",
              "      <th></th>\n",
              "      <th></th>\n",
              "      <th></th>\n",
              "      <th></th>\n",
              "      <th></th>\n",
              "      <th></th>\n",
              "      <th></th>\n",
              "    </tr>\n",
              "  </thead>\n",
              "  <tbody>\n",
              "    <tr>\n",
              "      <th>0</th>\n",
              "      <td>Erison</td>\n",
              "      <td>BRA</td>\n",
              "      <td>AT</td>\n",
              "      <td>23</td>\n",
              "      <td>13.4</td>\n",
              "      <td>6</td>\n",
              "      <td>1</td>\n",
              "    </tr>\n",
              "    <tr>\n",
              "      <th>1</th>\n",
              "      <td>Hulk</td>\n",
              "      <td>BRA</td>\n",
              "      <td>AT</td>\n",
              "      <td>35</td>\n",
              "      <td>13.9</td>\n",
              "      <td>7</td>\n",
              "      <td>2</td>\n",
              "    </tr>\n",
              "    <tr>\n",
              "      <th>2</th>\n",
              "      <td>Roger Guedes</td>\n",
              "      <td>BRA</td>\n",
              "      <td>AT</td>\n",
              "      <td>25</td>\n",
              "      <td>12.2</td>\n",
              "      <td>5</td>\n",
              "      <td>1</td>\n",
              "    </tr>\n",
              "    <tr>\n",
              "      <th>3</th>\n",
              "      <td>Wellington Rato</td>\n",
              "      <td>BRA</td>\n",
              "      <td>LT,AT</td>\n",
              "      <td>30</td>\n",
              "      <td>13.6</td>\n",
              "      <td>4</td>\n",
              "      <td>0</td>\n",
              "    </tr>\n",
              "    <tr>\n",
              "      <th>4</th>\n",
              "      <td>Stiven Mendoza</td>\n",
              "      <td>COL</td>\n",
              "      <td>AT,LT</td>\n",
              "      <td>30</td>\n",
              "      <td>11.5</td>\n",
              "      <td>7</td>\n",
              "      <td>0</td>\n",
              "    </tr>\n",
              "    <tr>\n",
              "      <th>...</th>\n",
              "      <td>...</td>\n",
              "      <td>...</td>\n",
              "      <td>...</td>\n",
              "      <td>...</td>\n",
              "      <td>...</td>\n",
              "      <td>...</td>\n",
              "      <td>...</td>\n",
              "    </tr>\n",
              "    <tr>\n",
              "      <th>143</th>\n",
              "      <td>Caio Matheus</td>\n",
              "      <td>BRA</td>\n",
              "      <td>AT</td>\n",
              "      <td>22</td>\n",
              "      <td>17.0</td>\n",
              "      <td>18</td>\n",
              "      <td>12</td>\n",
              "    </tr>\n",
              "    <tr>\n",
              "      <th>144</th>\n",
              "      <td>Marlon</td>\n",
              "      <td>BRA</td>\n",
              "      <td>LT,AT</td>\n",
              "      <td>32</td>\n",
              "      <td>1.7</td>\n",
              "      <td>0</td>\n",
              "      <td>0</td>\n",
              "    </tr>\n",
              "    <tr>\n",
              "      <th>145</th>\n",
              "      <td>Vitor Gabriel</td>\n",
              "      <td>BRA</td>\n",
              "      <td>AT</td>\n",
              "      <td>22</td>\n",
              "      <td>4.3</td>\n",
              "      <td>1</td>\n",
              "      <td>0</td>\n",
              "    </tr>\n",
              "    <tr>\n",
              "      <th>146</th>\n",
              "      <td>Guilherme Parede</td>\n",
              "      <td>BRA</td>\n",
              "      <td>LT,AT</td>\n",
              "      <td>26</td>\n",
              "      <td>3.1</td>\n",
              "      <td>0</td>\n",
              "      <td>1</td>\n",
              "    </tr>\n",
              "    <tr>\n",
              "      <th>147</th>\n",
              "      <td>Bruninho</td>\n",
              "      <td>BRA</td>\n",
              "      <td>AT</td>\n",
              "      <td>22</td>\n",
              "      <td>1.3</td>\n",
              "      <td>0</td>\n",
              "      <td>0</td>\n",
              "    </tr>\n",
              "  </tbody>\n",
              "</table>\n",
              "<p>148 rows × 7 columns</p>\n",
              "</div>\n",
              "      <button class=\"colab-df-convert\" onclick=\"convertToInteractive('df-31b28f09-c7a0-4324-8265-26bec24363f0')\"\n",
              "              title=\"Convert this dataframe to an interactive table.\"\n",
              "              style=\"display:none;\">\n",
              "        \n",
              "  <svg xmlns=\"http://www.w3.org/2000/svg\" height=\"24px\"viewBox=\"0 0 24 24\"\n",
              "       width=\"24px\">\n",
              "    <path d=\"M0 0h24v24H0V0z\" fill=\"none\"/>\n",
              "    <path d=\"M18.56 5.44l.94 2.06.94-2.06 2.06-.94-2.06-.94-.94-2.06-.94 2.06-2.06.94zm-11 1L8.5 8.5l.94-2.06 2.06-.94-2.06-.94L8.5 2.5l-.94 2.06-2.06.94zm10 10l.94 2.06.94-2.06 2.06-.94-2.06-.94-.94-2.06-.94 2.06-2.06.94z\"/><path d=\"M17.41 7.96l-1.37-1.37c-.4-.4-.92-.59-1.43-.59-.52 0-1.04.2-1.43.59L10.3 9.45l-7.72 7.72c-.78.78-.78 2.05 0 2.83L4 21.41c.39.39.9.59 1.41.59.51 0 1.02-.2 1.41-.59l7.78-7.78 2.81-2.81c.8-.78.8-2.07 0-2.86zM5.41 20L4 18.59l7.72-7.72 1.47 1.35L5.41 20z\"/>\n",
              "  </svg>\n",
              "      </button>\n",
              "      \n",
              "  <style>\n",
              "    .colab-df-container {\n",
              "      display:flex;\n",
              "      flex-wrap:wrap;\n",
              "      gap: 12px;\n",
              "    }\n",
              "\n",
              "    .colab-df-convert {\n",
              "      background-color: #E8F0FE;\n",
              "      border: none;\n",
              "      border-radius: 50%;\n",
              "      cursor: pointer;\n",
              "      display: none;\n",
              "      fill: #1967D2;\n",
              "      height: 32px;\n",
              "      padding: 0 0 0 0;\n",
              "      width: 32px;\n",
              "    }\n",
              "\n",
              "    .colab-df-convert:hover {\n",
              "      background-color: #E2EBFA;\n",
              "      box-shadow: 0px 1px 2px rgba(60, 64, 67, 0.3), 0px 1px 3px 1px rgba(60, 64, 67, 0.15);\n",
              "      fill: #174EA6;\n",
              "    }\n",
              "\n",
              "    [theme=dark] .colab-df-convert {\n",
              "      background-color: #3B4455;\n",
              "      fill: #D2E3FC;\n",
              "    }\n",
              "\n",
              "    [theme=dark] .colab-df-convert:hover {\n",
              "      background-color: #434B5C;\n",
              "      box-shadow: 0px 1px 3px 1px rgba(0, 0, 0, 0.15);\n",
              "      filter: drop-shadow(0px 1px 2px rgba(0, 0, 0, 0.3));\n",
              "      fill: #FFFFFF;\n",
              "    }\n",
              "  </style>\n",
              "\n",
              "      <script>\n",
              "        const buttonEl =\n",
              "          document.querySelector('#df-31b28f09-c7a0-4324-8265-26bec24363f0 button.colab-df-convert');\n",
              "        buttonEl.style.display =\n",
              "          google.colab.kernel.accessAllowed ? 'block' : 'none';\n",
              "\n",
              "        async function convertToInteractive(key) {\n",
              "          const element = document.querySelector('#df-31b28f09-c7a0-4324-8265-26bec24363f0');\n",
              "          const dataTable =\n",
              "            await google.colab.kernel.invokeFunction('convertToInteractive',\n",
              "                                                     [key], {});\n",
              "          if (!dataTable) return;\n",
              "\n",
              "          const docLinkHtml = 'Like what you see? Visit the ' +\n",
              "            '<a target=\"_blank\" href=https://colab.research.google.com/notebooks/data_table.ipynb>data table notebook</a>'\n",
              "            + ' to learn more about interactive tables.';\n",
              "          element.innerHTML = '';\n",
              "          dataTable['output_type'] = 'display_data';\n",
              "          await google.colab.output.renderOutput(dataTable, element);\n",
              "          const docLink = document.createElement('div');\n",
              "          docLink.innerHTML = docLinkHtml;\n",
              "          element.appendChild(docLink);\n",
              "        }\n",
              "      </script>\n",
              "    </div>\n",
              "  </div>\n",
              "  "
            ]
          },
          "metadata": {},
          "execution_count": 16
        }
      ]
    },
    {
      "cell_type": "markdown",
      "source": [
        "We treat players that haven't played the same way we would treat players with NULL values. So first, we fill the players stats regarding players that haven't played with NaN values."
      ],
      "metadata": {
        "id": "ahUZ6_6-ytxT"
      }
    },
    {
      "cell_type": "code",
      "source": [
        "attack.loc[attack['minPor90']==0, ['minPor90','gols','assist']] = np.nan"
      ],
      "metadata": {
        "id": "sSL5iJYzQYXY"
      },
      "execution_count": 17,
      "outputs": []
    },
    {
      "cell_type": "markdown",
      "source": [
        "We now have the NaN values for these rows."
      ],
      "metadata": {
        "id": "tee6pgh5YLq5"
      }
    },
    {
      "cell_type": "code",
      "source": [
        "# We have the NaN values\n",
        "attack[attack['minPor90'].isnull()]"
      ],
      "metadata": {
        "colab": {
          "base_uri": "https://localhost:8080/",
          "height": 175
        },
        "id": "TskGKVb3zK4L",
        "outputId": "0f8033ce-63a3-4cf7-f3a9-f6d8e71ac2a9"
      },
      "execution_count": 18,
      "outputs": [
        {
          "output_type": "execute_result",
          "data": {
            "text/plain": [
              "          jogador nacao posicao  idade  minPor90  gols  assist\n",
              "index                                                         \n",
              "65        Rikelmi   BRA      AT     20       NaN   NaN     NaN\n",
              "127         David   BRA      AT     22       NaN   NaN     NaN\n",
              "136    Vitor Hugo   BRA      AT     18       NaN   NaN     NaN"
            ],
            "text/html": [
              "\n",
              "  <div id=\"df-0cfadb37-4ed0-4bff-a351-0fce68e93bbc\">\n",
              "    <div class=\"colab-df-container\">\n",
              "      <div>\n",
              "<style scoped>\n",
              "    .dataframe tbody tr th:only-of-type {\n",
              "        vertical-align: middle;\n",
              "    }\n",
              "\n",
              "    .dataframe tbody tr th {\n",
              "        vertical-align: top;\n",
              "    }\n",
              "\n",
              "    .dataframe thead th {\n",
              "        text-align: right;\n",
              "    }\n",
              "</style>\n",
              "<table border=\"1\" class=\"dataframe\">\n",
              "  <thead>\n",
              "    <tr style=\"text-align: right;\">\n",
              "      <th></th>\n",
              "      <th>jogador</th>\n",
              "      <th>nacao</th>\n",
              "      <th>posicao</th>\n",
              "      <th>idade</th>\n",
              "      <th>minPor90</th>\n",
              "      <th>gols</th>\n",
              "      <th>assist</th>\n",
              "    </tr>\n",
              "    <tr>\n",
              "      <th>index</th>\n",
              "      <th></th>\n",
              "      <th></th>\n",
              "      <th></th>\n",
              "      <th></th>\n",
              "      <th></th>\n",
              "      <th></th>\n",
              "      <th></th>\n",
              "    </tr>\n",
              "  </thead>\n",
              "  <tbody>\n",
              "    <tr>\n",
              "      <th>65</th>\n",
              "      <td>Rikelmi</td>\n",
              "      <td>BRA</td>\n",
              "      <td>AT</td>\n",
              "      <td>20</td>\n",
              "      <td>NaN</td>\n",
              "      <td>NaN</td>\n",
              "      <td>NaN</td>\n",
              "    </tr>\n",
              "    <tr>\n",
              "      <th>127</th>\n",
              "      <td>David</td>\n",
              "      <td>BRA</td>\n",
              "      <td>AT</td>\n",
              "      <td>22</td>\n",
              "      <td>NaN</td>\n",
              "      <td>NaN</td>\n",
              "      <td>NaN</td>\n",
              "    </tr>\n",
              "    <tr>\n",
              "      <th>136</th>\n",
              "      <td>Vitor Hugo</td>\n",
              "      <td>BRA</td>\n",
              "      <td>AT</td>\n",
              "      <td>18</td>\n",
              "      <td>NaN</td>\n",
              "      <td>NaN</td>\n",
              "      <td>NaN</td>\n",
              "    </tr>\n",
              "  </tbody>\n",
              "</table>\n",
              "</div>\n",
              "      <button class=\"colab-df-convert\" onclick=\"convertToInteractive('df-0cfadb37-4ed0-4bff-a351-0fce68e93bbc')\"\n",
              "              title=\"Convert this dataframe to an interactive table.\"\n",
              "              style=\"display:none;\">\n",
              "        \n",
              "  <svg xmlns=\"http://www.w3.org/2000/svg\" height=\"24px\"viewBox=\"0 0 24 24\"\n",
              "       width=\"24px\">\n",
              "    <path d=\"M0 0h24v24H0V0z\" fill=\"none\"/>\n",
              "    <path d=\"M18.56 5.44l.94 2.06.94-2.06 2.06-.94-2.06-.94-.94-2.06-.94 2.06-2.06.94zm-11 1L8.5 8.5l.94-2.06 2.06-.94-2.06-.94L8.5 2.5l-.94 2.06-2.06.94zm10 10l.94 2.06.94-2.06 2.06-.94-2.06-.94-.94-2.06-.94 2.06-2.06.94z\"/><path d=\"M17.41 7.96l-1.37-1.37c-.4-.4-.92-.59-1.43-.59-.52 0-1.04.2-1.43.59L10.3 9.45l-7.72 7.72c-.78.78-.78 2.05 0 2.83L4 21.41c.39.39.9.59 1.41.59.51 0 1.02-.2 1.41-.59l7.78-7.78 2.81-2.81c.8-.78.8-2.07 0-2.86zM5.41 20L4 18.59l7.72-7.72 1.47 1.35L5.41 20z\"/>\n",
              "  </svg>\n",
              "      </button>\n",
              "      \n",
              "  <style>\n",
              "    .colab-df-container {\n",
              "      display:flex;\n",
              "      flex-wrap:wrap;\n",
              "      gap: 12px;\n",
              "    }\n",
              "\n",
              "    .colab-df-convert {\n",
              "      background-color: #E8F0FE;\n",
              "      border: none;\n",
              "      border-radius: 50%;\n",
              "      cursor: pointer;\n",
              "      display: none;\n",
              "      fill: #1967D2;\n",
              "      height: 32px;\n",
              "      padding: 0 0 0 0;\n",
              "      width: 32px;\n",
              "    }\n",
              "\n",
              "    .colab-df-convert:hover {\n",
              "      background-color: #E2EBFA;\n",
              "      box-shadow: 0px 1px 2px rgba(60, 64, 67, 0.3), 0px 1px 3px 1px rgba(60, 64, 67, 0.15);\n",
              "      fill: #174EA6;\n",
              "    }\n",
              "\n",
              "    [theme=dark] .colab-df-convert {\n",
              "      background-color: #3B4455;\n",
              "      fill: #D2E3FC;\n",
              "    }\n",
              "\n",
              "    [theme=dark] .colab-df-convert:hover {\n",
              "      background-color: #434B5C;\n",
              "      box-shadow: 0px 1px 3px 1px rgba(0, 0, 0, 0.15);\n",
              "      filter: drop-shadow(0px 1px 2px rgba(0, 0, 0, 0.3));\n",
              "      fill: #FFFFFF;\n",
              "    }\n",
              "  </style>\n",
              "\n",
              "      <script>\n",
              "        const buttonEl =\n",
              "          document.querySelector('#df-0cfadb37-4ed0-4bff-a351-0fce68e93bbc button.colab-df-convert');\n",
              "        buttonEl.style.display =\n",
              "          google.colab.kernel.accessAllowed ? 'block' : 'none';\n",
              "\n",
              "        async function convertToInteractive(key) {\n",
              "          const element = document.querySelector('#df-0cfadb37-4ed0-4bff-a351-0fce68e93bbc');\n",
              "          const dataTable =\n",
              "            await google.colab.kernel.invokeFunction('convertToInteractive',\n",
              "                                                     [key], {});\n",
              "          if (!dataTable) return;\n",
              "\n",
              "          const docLinkHtml = 'Like what you see? Visit the ' +\n",
              "            '<a target=\"_blank\" href=https://colab.research.google.com/notebooks/data_table.ipynb>data table notebook</a>'\n",
              "            + ' to learn more about interactive tables.';\n",
              "          element.innerHTML = '';\n",
              "          dataTable['output_type'] = 'display_data';\n",
              "          await google.colab.output.renderOutput(dataTable, element);\n",
              "          const docLink = document.createElement('div');\n",
              "          docLink.innerHTML = docLinkHtml;\n",
              "          element.appendChild(docLink);\n",
              "        }\n",
              "      </script>\n",
              "    </div>\n",
              "  </div>\n",
              "  "
            ]
          },
          "metadata": {},
          "execution_count": 18
        }
      ]
    },
    {
      "cell_type": "markdown",
      "source": [
        "We will impute data on our NaN values and we chose the mean() approach to fill them.\n"
      ],
      "metadata": {
        "id": "aaB7vN95YOhl"
      }
    },
    {
      "cell_type": "code",
      "source": [
        "attack['minPor90'].fillna(attack['minPor90'].mean(), inplace=True)\n",
        "attack['gols'].fillna(attack['gols'].mean(), inplace=True)\n",
        "attack['assist'].fillna(attack['assist'].mean(), inplace=True)"
      ],
      "metadata": {
        "id": "SVCT4-ec0iYo"
      },
      "execution_count": 19,
      "outputs": []
    },
    {
      "cell_type": "markdown",
      "source": [
        "We have the float values regarding goals and assists, so we have to treat them and convert to an integer."
      ],
      "metadata": {
        "id": "_AoNhYb1YTB_"
      }
    },
    {
      "cell_type": "code",
      "source": [
        "attack[(attack['gols']%1!=0) | (attack['assist']%1!=0)][['jogador','gols','assist']]"
      ],
      "metadata": {
        "colab": {
          "base_uri": "https://localhost:8080/",
          "height": 175
        },
        "id": "qylNLjjQ1lMw",
        "outputId": "32ba40b8-0212-4a58-f57c-6c995ba13f33"
      },
      "execution_count": 20,
      "outputs": [
        {
          "output_type": "execute_result",
          "data": {
            "text/plain": [
              "          jogador      gols    assist\n",
              "index                                \n",
              "65        Rikelmi  2.248276  1.110345\n",
              "127         David  2.248276  1.110345\n",
              "136    Vitor Hugo  2.248276  1.110345"
            ],
            "text/html": [
              "\n",
              "  <div id=\"df-95a033bd-144a-43c4-9d2f-d2d0e0b06425\">\n",
              "    <div class=\"colab-df-container\">\n",
              "      <div>\n",
              "<style scoped>\n",
              "    .dataframe tbody tr th:only-of-type {\n",
              "        vertical-align: middle;\n",
              "    }\n",
              "\n",
              "    .dataframe tbody tr th {\n",
              "        vertical-align: top;\n",
              "    }\n",
              "\n",
              "    .dataframe thead th {\n",
              "        text-align: right;\n",
              "    }\n",
              "</style>\n",
              "<table border=\"1\" class=\"dataframe\">\n",
              "  <thead>\n",
              "    <tr style=\"text-align: right;\">\n",
              "      <th></th>\n",
              "      <th>jogador</th>\n",
              "      <th>gols</th>\n",
              "      <th>assist</th>\n",
              "    </tr>\n",
              "    <tr>\n",
              "      <th>index</th>\n",
              "      <th></th>\n",
              "      <th></th>\n",
              "      <th></th>\n",
              "    </tr>\n",
              "  </thead>\n",
              "  <tbody>\n",
              "    <tr>\n",
              "      <th>65</th>\n",
              "      <td>Rikelmi</td>\n",
              "      <td>2.248276</td>\n",
              "      <td>1.110345</td>\n",
              "    </tr>\n",
              "    <tr>\n",
              "      <th>127</th>\n",
              "      <td>David</td>\n",
              "      <td>2.248276</td>\n",
              "      <td>1.110345</td>\n",
              "    </tr>\n",
              "    <tr>\n",
              "      <th>136</th>\n",
              "      <td>Vitor Hugo</td>\n",
              "      <td>2.248276</td>\n",
              "      <td>1.110345</td>\n",
              "    </tr>\n",
              "  </tbody>\n",
              "</table>\n",
              "</div>\n",
              "      <button class=\"colab-df-convert\" onclick=\"convertToInteractive('df-95a033bd-144a-43c4-9d2f-d2d0e0b06425')\"\n",
              "              title=\"Convert this dataframe to an interactive table.\"\n",
              "              style=\"display:none;\">\n",
              "        \n",
              "  <svg xmlns=\"http://www.w3.org/2000/svg\" height=\"24px\"viewBox=\"0 0 24 24\"\n",
              "       width=\"24px\">\n",
              "    <path d=\"M0 0h24v24H0V0z\" fill=\"none\"/>\n",
              "    <path d=\"M18.56 5.44l.94 2.06.94-2.06 2.06-.94-2.06-.94-.94-2.06-.94 2.06-2.06.94zm-11 1L8.5 8.5l.94-2.06 2.06-.94-2.06-.94L8.5 2.5l-.94 2.06-2.06.94zm10 10l.94 2.06.94-2.06 2.06-.94-2.06-.94-.94-2.06-.94 2.06-2.06.94z\"/><path d=\"M17.41 7.96l-1.37-1.37c-.4-.4-.92-.59-1.43-.59-.52 0-1.04.2-1.43.59L10.3 9.45l-7.72 7.72c-.78.78-.78 2.05 0 2.83L4 21.41c.39.39.9.59 1.41.59.51 0 1.02-.2 1.41-.59l7.78-7.78 2.81-2.81c.8-.78.8-2.07 0-2.86zM5.41 20L4 18.59l7.72-7.72 1.47 1.35L5.41 20z\"/>\n",
              "  </svg>\n",
              "      </button>\n",
              "      \n",
              "  <style>\n",
              "    .colab-df-container {\n",
              "      display:flex;\n",
              "      flex-wrap:wrap;\n",
              "      gap: 12px;\n",
              "    }\n",
              "\n",
              "    .colab-df-convert {\n",
              "      background-color: #E8F0FE;\n",
              "      border: none;\n",
              "      border-radius: 50%;\n",
              "      cursor: pointer;\n",
              "      display: none;\n",
              "      fill: #1967D2;\n",
              "      height: 32px;\n",
              "      padding: 0 0 0 0;\n",
              "      width: 32px;\n",
              "    }\n",
              "\n",
              "    .colab-df-convert:hover {\n",
              "      background-color: #E2EBFA;\n",
              "      box-shadow: 0px 1px 2px rgba(60, 64, 67, 0.3), 0px 1px 3px 1px rgba(60, 64, 67, 0.15);\n",
              "      fill: #174EA6;\n",
              "    }\n",
              "\n",
              "    [theme=dark] .colab-df-convert {\n",
              "      background-color: #3B4455;\n",
              "      fill: #D2E3FC;\n",
              "    }\n",
              "\n",
              "    [theme=dark] .colab-df-convert:hover {\n",
              "      background-color: #434B5C;\n",
              "      box-shadow: 0px 1px 3px 1px rgba(0, 0, 0, 0.15);\n",
              "      filter: drop-shadow(0px 1px 2px rgba(0, 0, 0, 0.3));\n",
              "      fill: #FFFFFF;\n",
              "    }\n",
              "  </style>\n",
              "\n",
              "      <script>\n",
              "        const buttonEl =\n",
              "          document.querySelector('#df-95a033bd-144a-43c4-9d2f-d2d0e0b06425 button.colab-df-convert');\n",
              "        buttonEl.style.display =\n",
              "          google.colab.kernel.accessAllowed ? 'block' : 'none';\n",
              "\n",
              "        async function convertToInteractive(key) {\n",
              "          const element = document.querySelector('#df-95a033bd-144a-43c4-9d2f-d2d0e0b06425');\n",
              "          const dataTable =\n",
              "            await google.colab.kernel.invokeFunction('convertToInteractive',\n",
              "                                                     [key], {});\n",
              "          if (!dataTable) return;\n",
              "\n",
              "          const docLinkHtml = 'Like what you see? Visit the ' +\n",
              "            '<a target=\"_blank\" href=https://colab.research.google.com/notebooks/data_table.ipynb>data table notebook</a>'\n",
              "            + ' to learn more about interactive tables.';\n",
              "          element.innerHTML = '';\n",
              "          dataTable['output_type'] = 'display_data';\n",
              "          await google.colab.output.renderOutput(dataTable, element);\n",
              "          const docLink = document.createElement('div');\n",
              "          docLink.innerHTML = docLinkHtml;\n",
              "          element.appendChild(docLink);\n",
              "        }\n",
              "      </script>\n",
              "    </div>\n",
              "  </div>\n",
              "  "
            ]
          },
          "metadata": {},
          "execution_count": 20
        }
      ]
    },
    {
      "cell_type": "code",
      "source": [
        "attack['gols'] = attack['gols'].apply(np.floor)\n",
        "attack['assist'] = attack['assist'].apply(np.floor)"
      ],
      "metadata": {
        "id": "Nx83q1YC3THW"
      },
      "execution_count": 21,
      "outputs": []
    },
    {
      "cell_type": "markdown",
      "source": [
        "There are no longer \"float\" values"
      ],
      "metadata": {
        "id": "-06YRqulYYKs"
      }
    },
    {
      "cell_type": "code",
      "source": [
        "attack[(attack['gols']%1!=0) | (attack['assist']%1!=0)][['jogador','gols','assist']]"
      ],
      "metadata": {
        "colab": {
          "base_uri": "https://localhost:8080/",
          "height": 81
        },
        "id": "GNh_xNUN3dXW",
        "outputId": "426e3bf3-31ca-4e79-bca1-b2b68110c1aa"
      },
      "execution_count": 22,
      "outputs": [
        {
          "output_type": "execute_result",
          "data": {
            "text/plain": [
              "Empty DataFrame\n",
              "Columns: [jogador, gols, assist]\n",
              "Index: []"
            ],
            "text/html": [
              "\n",
              "  <div id=\"df-3a3d895a-d62c-4f20-b1d6-a69965e3dfc5\">\n",
              "    <div class=\"colab-df-container\">\n",
              "      <div>\n",
              "<style scoped>\n",
              "    .dataframe tbody tr th:only-of-type {\n",
              "        vertical-align: middle;\n",
              "    }\n",
              "\n",
              "    .dataframe tbody tr th {\n",
              "        vertical-align: top;\n",
              "    }\n",
              "\n",
              "    .dataframe thead th {\n",
              "        text-align: right;\n",
              "    }\n",
              "</style>\n",
              "<table border=\"1\" class=\"dataframe\">\n",
              "  <thead>\n",
              "    <tr style=\"text-align: right;\">\n",
              "      <th></th>\n",
              "      <th>jogador</th>\n",
              "      <th>gols</th>\n",
              "      <th>assist</th>\n",
              "    </tr>\n",
              "    <tr>\n",
              "      <th>index</th>\n",
              "      <th></th>\n",
              "      <th></th>\n",
              "      <th></th>\n",
              "    </tr>\n",
              "  </thead>\n",
              "  <tbody>\n",
              "  </tbody>\n",
              "</table>\n",
              "</div>\n",
              "      <button class=\"colab-df-convert\" onclick=\"convertToInteractive('df-3a3d895a-d62c-4f20-b1d6-a69965e3dfc5')\"\n",
              "              title=\"Convert this dataframe to an interactive table.\"\n",
              "              style=\"display:none;\">\n",
              "        \n",
              "  <svg xmlns=\"http://www.w3.org/2000/svg\" height=\"24px\"viewBox=\"0 0 24 24\"\n",
              "       width=\"24px\">\n",
              "    <path d=\"M0 0h24v24H0V0z\" fill=\"none\"/>\n",
              "    <path d=\"M18.56 5.44l.94 2.06.94-2.06 2.06-.94-2.06-.94-.94-2.06-.94 2.06-2.06.94zm-11 1L8.5 8.5l.94-2.06 2.06-.94-2.06-.94L8.5 2.5l-.94 2.06-2.06.94zm10 10l.94 2.06.94-2.06 2.06-.94-2.06-.94-.94-2.06-.94 2.06-2.06.94z\"/><path d=\"M17.41 7.96l-1.37-1.37c-.4-.4-.92-.59-1.43-.59-.52 0-1.04.2-1.43.59L10.3 9.45l-7.72 7.72c-.78.78-.78 2.05 0 2.83L4 21.41c.39.39.9.59 1.41.59.51 0 1.02-.2 1.41-.59l7.78-7.78 2.81-2.81c.8-.78.8-2.07 0-2.86zM5.41 20L4 18.59l7.72-7.72 1.47 1.35L5.41 20z\"/>\n",
              "  </svg>\n",
              "      </button>\n",
              "      \n",
              "  <style>\n",
              "    .colab-df-container {\n",
              "      display:flex;\n",
              "      flex-wrap:wrap;\n",
              "      gap: 12px;\n",
              "    }\n",
              "\n",
              "    .colab-df-convert {\n",
              "      background-color: #E8F0FE;\n",
              "      border: none;\n",
              "      border-radius: 50%;\n",
              "      cursor: pointer;\n",
              "      display: none;\n",
              "      fill: #1967D2;\n",
              "      height: 32px;\n",
              "      padding: 0 0 0 0;\n",
              "      width: 32px;\n",
              "    }\n",
              "\n",
              "    .colab-df-convert:hover {\n",
              "      background-color: #E2EBFA;\n",
              "      box-shadow: 0px 1px 2px rgba(60, 64, 67, 0.3), 0px 1px 3px 1px rgba(60, 64, 67, 0.15);\n",
              "      fill: #174EA6;\n",
              "    }\n",
              "\n",
              "    [theme=dark] .colab-df-convert {\n",
              "      background-color: #3B4455;\n",
              "      fill: #D2E3FC;\n",
              "    }\n",
              "\n",
              "    [theme=dark] .colab-df-convert:hover {\n",
              "      background-color: #434B5C;\n",
              "      box-shadow: 0px 1px 3px 1px rgba(0, 0, 0, 0.15);\n",
              "      filter: drop-shadow(0px 1px 2px rgba(0, 0, 0, 0.3));\n",
              "      fill: #FFFFFF;\n",
              "    }\n",
              "  </style>\n",
              "\n",
              "      <script>\n",
              "        const buttonEl =\n",
              "          document.querySelector('#df-3a3d895a-d62c-4f20-b1d6-a69965e3dfc5 button.colab-df-convert');\n",
              "        buttonEl.style.display =\n",
              "          google.colab.kernel.accessAllowed ? 'block' : 'none';\n",
              "\n",
              "        async function convertToInteractive(key) {\n",
              "          const element = document.querySelector('#df-3a3d895a-d62c-4f20-b1d6-a69965e3dfc5');\n",
              "          const dataTable =\n",
              "            await google.colab.kernel.invokeFunction('convertToInteractive',\n",
              "                                                     [key], {});\n",
              "          if (!dataTable) return;\n",
              "\n",
              "          const docLinkHtml = 'Like what you see? Visit the ' +\n",
              "            '<a target=\"_blank\" href=https://colab.research.google.com/notebooks/data_table.ipynb>data table notebook</a>'\n",
              "            + ' to learn more about interactive tables.';\n",
              "          element.innerHTML = '';\n",
              "          dataTable['output_type'] = 'display_data';\n",
              "          await google.colab.output.renderOutput(dataTable, element);\n",
              "          const docLink = document.createElement('div');\n",
              "          docLink.innerHTML = docLinkHtml;\n",
              "          element.appendChild(docLink);\n",
              "        }\n",
              "      </script>\n",
              "    </div>\n",
              "  </div>\n",
              "  "
            ]
          },
          "metadata": {},
          "execution_count": 22
        }
      ]
    },
    {
      "cell_type": "code",
      "source": [
        "# As we can see, the value has been updated to it's floor value\n",
        "attack[attack.index==65]"
      ],
      "metadata": {
        "colab": {
          "base_uri": "https://localhost:8080/",
          "height": 112
        },
        "id": "OSNRIlmf3lAY",
        "outputId": "296cb83e-edf2-4da4-9752-322e5a987a80"
      },
      "execution_count": 23,
      "outputs": [
        {
          "output_type": "execute_result",
          "data": {
            "text/plain": [
              "       jogador nacao posicao  idade  minPor90  gols  assist\n",
              "index                                                      \n",
              "65     Rikelmi   BRA      AT     20  6.268966   2.0     1.0"
            ],
            "text/html": [
              "\n",
              "  <div id=\"df-d52ebd2c-1a41-4465-a0f1-575c914b4c3e\">\n",
              "    <div class=\"colab-df-container\">\n",
              "      <div>\n",
              "<style scoped>\n",
              "    .dataframe tbody tr th:only-of-type {\n",
              "        vertical-align: middle;\n",
              "    }\n",
              "\n",
              "    .dataframe tbody tr th {\n",
              "        vertical-align: top;\n",
              "    }\n",
              "\n",
              "    .dataframe thead th {\n",
              "        text-align: right;\n",
              "    }\n",
              "</style>\n",
              "<table border=\"1\" class=\"dataframe\">\n",
              "  <thead>\n",
              "    <tr style=\"text-align: right;\">\n",
              "      <th></th>\n",
              "      <th>jogador</th>\n",
              "      <th>nacao</th>\n",
              "      <th>posicao</th>\n",
              "      <th>idade</th>\n",
              "      <th>minPor90</th>\n",
              "      <th>gols</th>\n",
              "      <th>assist</th>\n",
              "    </tr>\n",
              "    <tr>\n",
              "      <th>index</th>\n",
              "      <th></th>\n",
              "      <th></th>\n",
              "      <th></th>\n",
              "      <th></th>\n",
              "      <th></th>\n",
              "      <th></th>\n",
              "      <th></th>\n",
              "    </tr>\n",
              "  </thead>\n",
              "  <tbody>\n",
              "    <tr>\n",
              "      <th>65</th>\n",
              "      <td>Rikelmi</td>\n",
              "      <td>BRA</td>\n",
              "      <td>AT</td>\n",
              "      <td>20</td>\n",
              "      <td>6.268966</td>\n",
              "      <td>2.0</td>\n",
              "      <td>1.0</td>\n",
              "    </tr>\n",
              "  </tbody>\n",
              "</table>\n",
              "</div>\n",
              "      <button class=\"colab-df-convert\" onclick=\"convertToInteractive('df-d52ebd2c-1a41-4465-a0f1-575c914b4c3e')\"\n",
              "              title=\"Convert this dataframe to an interactive table.\"\n",
              "              style=\"display:none;\">\n",
              "        \n",
              "  <svg xmlns=\"http://www.w3.org/2000/svg\" height=\"24px\"viewBox=\"0 0 24 24\"\n",
              "       width=\"24px\">\n",
              "    <path d=\"M0 0h24v24H0V0z\" fill=\"none\"/>\n",
              "    <path d=\"M18.56 5.44l.94 2.06.94-2.06 2.06-.94-2.06-.94-.94-2.06-.94 2.06-2.06.94zm-11 1L8.5 8.5l.94-2.06 2.06-.94-2.06-.94L8.5 2.5l-.94 2.06-2.06.94zm10 10l.94 2.06.94-2.06 2.06-.94-2.06-.94-.94-2.06-.94 2.06-2.06.94z\"/><path d=\"M17.41 7.96l-1.37-1.37c-.4-.4-.92-.59-1.43-.59-.52 0-1.04.2-1.43.59L10.3 9.45l-7.72 7.72c-.78.78-.78 2.05 0 2.83L4 21.41c.39.39.9.59 1.41.59.51 0 1.02-.2 1.41-.59l7.78-7.78 2.81-2.81c.8-.78.8-2.07 0-2.86zM5.41 20L4 18.59l7.72-7.72 1.47 1.35L5.41 20z\"/>\n",
              "  </svg>\n",
              "      </button>\n",
              "      \n",
              "  <style>\n",
              "    .colab-df-container {\n",
              "      display:flex;\n",
              "      flex-wrap:wrap;\n",
              "      gap: 12px;\n",
              "    }\n",
              "\n",
              "    .colab-df-convert {\n",
              "      background-color: #E8F0FE;\n",
              "      border: none;\n",
              "      border-radius: 50%;\n",
              "      cursor: pointer;\n",
              "      display: none;\n",
              "      fill: #1967D2;\n",
              "      height: 32px;\n",
              "      padding: 0 0 0 0;\n",
              "      width: 32px;\n",
              "    }\n",
              "\n",
              "    .colab-df-convert:hover {\n",
              "      background-color: #E2EBFA;\n",
              "      box-shadow: 0px 1px 2px rgba(60, 64, 67, 0.3), 0px 1px 3px 1px rgba(60, 64, 67, 0.15);\n",
              "      fill: #174EA6;\n",
              "    }\n",
              "\n",
              "    [theme=dark] .colab-df-convert {\n",
              "      background-color: #3B4455;\n",
              "      fill: #D2E3FC;\n",
              "    }\n",
              "\n",
              "    [theme=dark] .colab-df-convert:hover {\n",
              "      background-color: #434B5C;\n",
              "      box-shadow: 0px 1px 3px 1px rgba(0, 0, 0, 0.15);\n",
              "      filter: drop-shadow(0px 1px 2px rgba(0, 0, 0, 0.3));\n",
              "      fill: #FFFFFF;\n",
              "    }\n",
              "  </style>\n",
              "\n",
              "      <script>\n",
              "        const buttonEl =\n",
              "          document.querySelector('#df-d52ebd2c-1a41-4465-a0f1-575c914b4c3e button.colab-df-convert');\n",
              "        buttonEl.style.display =\n",
              "          google.colab.kernel.accessAllowed ? 'block' : 'none';\n",
              "\n",
              "        async function convertToInteractive(key) {\n",
              "          const element = document.querySelector('#df-d52ebd2c-1a41-4465-a0f1-575c914b4c3e');\n",
              "          const dataTable =\n",
              "            await google.colab.kernel.invokeFunction('convertToInteractive',\n",
              "                                                     [key], {});\n",
              "          if (!dataTable) return;\n",
              "\n",
              "          const docLinkHtml = 'Like what you see? Visit the ' +\n",
              "            '<a target=\"_blank\" href=https://colab.research.google.com/notebooks/data_table.ipynb>data table notebook</a>'\n",
              "            + ' to learn more about interactive tables.';\n",
              "          element.innerHTML = '';\n",
              "          dataTable['output_type'] = 'display_data';\n",
              "          await google.colab.output.renderOutput(dataTable, element);\n",
              "          const docLink = document.createElement('div');\n",
              "          docLink.innerHTML = docLinkHtml;\n",
              "          element.appendChild(docLink);\n",
              "        }\n",
              "      </script>\n",
              "    </div>\n",
              "  </div>\n",
              "  "
            ]
          },
          "metadata": {},
          "execution_count": 23
        }
      ]
    },
    {
      "cell_type": "markdown",
      "source": [
        "We noticed that the Srappy method used to gather our data information included some \"wrong\" data regarding a few players. Since we already knew that the top scorer of the season was \"Germán Cano\" (Fluminense), it was easy to decide which players to exclude from our original database."
      ],
      "metadata": {
        "id": "MNf79nhyzret"
      }
    },
    {
      "cell_type": "code",
      "source": [
        "# Wrong values\n",
        "attack[attack['gols'] > attack[attack['jogador'] == 'Germán Cano']['gols'].values[0]]"
      ],
      "metadata": {
        "colab": {
          "base_uri": "https://localhost:8080/",
          "height": 269
        },
        "id": "-ktsWec4U54O",
        "outputId": "e0c4211d-286e-4afd-a017-42e9ec25a13c"
      },
      "execution_count": 24,
      "outputs": [
        {
          "output_type": "execute_result",
          "data": {
            "text/plain": [
              "                jogador nacao posicao  idade  minPor90  gols  assist\n",
              "index                                                               \n",
              "45          Jean Bonora   BRA      AT     19      17.0  17.0    11.0\n",
              "62                Bruno   BRA      AT     19      17.0  26.0    18.0\n",
              "64           Pedro Igor   BRA      AT     20      17.0  18.0    14.0\n",
              "115      Gustavo Nescau   BRA      AT     22      16.0  16.0    10.0\n",
              "132    Ángelo Henríquez   CHI      AT     28      17.0  19.0    14.0\n",
              "143        Caio Matheus   BRA      AT     22      17.0  18.0    12.0"
            ],
            "text/html": [
              "\n",
              "  <div id=\"df-07e7601e-e896-4b7b-9e98-68c1d16709e7\">\n",
              "    <div class=\"colab-df-container\">\n",
              "      <div>\n",
              "<style scoped>\n",
              "    .dataframe tbody tr th:only-of-type {\n",
              "        vertical-align: middle;\n",
              "    }\n",
              "\n",
              "    .dataframe tbody tr th {\n",
              "        vertical-align: top;\n",
              "    }\n",
              "\n",
              "    .dataframe thead th {\n",
              "        text-align: right;\n",
              "    }\n",
              "</style>\n",
              "<table border=\"1\" class=\"dataframe\">\n",
              "  <thead>\n",
              "    <tr style=\"text-align: right;\">\n",
              "      <th></th>\n",
              "      <th>jogador</th>\n",
              "      <th>nacao</th>\n",
              "      <th>posicao</th>\n",
              "      <th>idade</th>\n",
              "      <th>minPor90</th>\n",
              "      <th>gols</th>\n",
              "      <th>assist</th>\n",
              "    </tr>\n",
              "    <tr>\n",
              "      <th>index</th>\n",
              "      <th></th>\n",
              "      <th></th>\n",
              "      <th></th>\n",
              "      <th></th>\n",
              "      <th></th>\n",
              "      <th></th>\n",
              "      <th></th>\n",
              "    </tr>\n",
              "  </thead>\n",
              "  <tbody>\n",
              "    <tr>\n",
              "      <th>45</th>\n",
              "      <td>Jean Bonora</td>\n",
              "      <td>BRA</td>\n",
              "      <td>AT</td>\n",
              "      <td>19</td>\n",
              "      <td>17.0</td>\n",
              "      <td>17.0</td>\n",
              "      <td>11.0</td>\n",
              "    </tr>\n",
              "    <tr>\n",
              "      <th>62</th>\n",
              "      <td>Bruno</td>\n",
              "      <td>BRA</td>\n",
              "      <td>AT</td>\n",
              "      <td>19</td>\n",
              "      <td>17.0</td>\n",
              "      <td>26.0</td>\n",
              "      <td>18.0</td>\n",
              "    </tr>\n",
              "    <tr>\n",
              "      <th>64</th>\n",
              "      <td>Pedro Igor</td>\n",
              "      <td>BRA</td>\n",
              "      <td>AT</td>\n",
              "      <td>20</td>\n",
              "      <td>17.0</td>\n",
              "      <td>18.0</td>\n",
              "      <td>14.0</td>\n",
              "    </tr>\n",
              "    <tr>\n",
              "      <th>115</th>\n",
              "      <td>Gustavo Nescau</td>\n",
              "      <td>BRA</td>\n",
              "      <td>AT</td>\n",
              "      <td>22</td>\n",
              "      <td>16.0</td>\n",
              "      <td>16.0</td>\n",
              "      <td>10.0</td>\n",
              "    </tr>\n",
              "    <tr>\n",
              "      <th>132</th>\n",
              "      <td>Ángelo Henríquez</td>\n",
              "      <td>CHI</td>\n",
              "      <td>AT</td>\n",
              "      <td>28</td>\n",
              "      <td>17.0</td>\n",
              "      <td>19.0</td>\n",
              "      <td>14.0</td>\n",
              "    </tr>\n",
              "    <tr>\n",
              "      <th>143</th>\n",
              "      <td>Caio Matheus</td>\n",
              "      <td>BRA</td>\n",
              "      <td>AT</td>\n",
              "      <td>22</td>\n",
              "      <td>17.0</td>\n",
              "      <td>18.0</td>\n",
              "      <td>12.0</td>\n",
              "    </tr>\n",
              "  </tbody>\n",
              "</table>\n",
              "</div>\n",
              "      <button class=\"colab-df-convert\" onclick=\"convertToInteractive('df-07e7601e-e896-4b7b-9e98-68c1d16709e7')\"\n",
              "              title=\"Convert this dataframe to an interactive table.\"\n",
              "              style=\"display:none;\">\n",
              "        \n",
              "  <svg xmlns=\"http://www.w3.org/2000/svg\" height=\"24px\"viewBox=\"0 0 24 24\"\n",
              "       width=\"24px\">\n",
              "    <path d=\"M0 0h24v24H0V0z\" fill=\"none\"/>\n",
              "    <path d=\"M18.56 5.44l.94 2.06.94-2.06 2.06-.94-2.06-.94-.94-2.06-.94 2.06-2.06.94zm-11 1L8.5 8.5l.94-2.06 2.06-.94-2.06-.94L8.5 2.5l-.94 2.06-2.06.94zm10 10l.94 2.06.94-2.06 2.06-.94-2.06-.94-.94-2.06-.94 2.06-2.06.94z\"/><path d=\"M17.41 7.96l-1.37-1.37c-.4-.4-.92-.59-1.43-.59-.52 0-1.04.2-1.43.59L10.3 9.45l-7.72 7.72c-.78.78-.78 2.05 0 2.83L4 21.41c.39.39.9.59 1.41.59.51 0 1.02-.2 1.41-.59l7.78-7.78 2.81-2.81c.8-.78.8-2.07 0-2.86zM5.41 20L4 18.59l7.72-7.72 1.47 1.35L5.41 20z\"/>\n",
              "  </svg>\n",
              "      </button>\n",
              "      \n",
              "  <style>\n",
              "    .colab-df-container {\n",
              "      display:flex;\n",
              "      flex-wrap:wrap;\n",
              "      gap: 12px;\n",
              "    }\n",
              "\n",
              "    .colab-df-convert {\n",
              "      background-color: #E8F0FE;\n",
              "      border: none;\n",
              "      border-radius: 50%;\n",
              "      cursor: pointer;\n",
              "      display: none;\n",
              "      fill: #1967D2;\n",
              "      height: 32px;\n",
              "      padding: 0 0 0 0;\n",
              "      width: 32px;\n",
              "    }\n",
              "\n",
              "    .colab-df-convert:hover {\n",
              "      background-color: #E2EBFA;\n",
              "      box-shadow: 0px 1px 2px rgba(60, 64, 67, 0.3), 0px 1px 3px 1px rgba(60, 64, 67, 0.15);\n",
              "      fill: #174EA6;\n",
              "    }\n",
              "\n",
              "    [theme=dark] .colab-df-convert {\n",
              "      background-color: #3B4455;\n",
              "      fill: #D2E3FC;\n",
              "    }\n",
              "\n",
              "    [theme=dark] .colab-df-convert:hover {\n",
              "      background-color: #434B5C;\n",
              "      box-shadow: 0px 1px 3px 1px rgba(0, 0, 0, 0.15);\n",
              "      filter: drop-shadow(0px 1px 2px rgba(0, 0, 0, 0.3));\n",
              "      fill: #FFFFFF;\n",
              "    }\n",
              "  </style>\n",
              "\n",
              "      <script>\n",
              "        const buttonEl =\n",
              "          document.querySelector('#df-07e7601e-e896-4b7b-9e98-68c1d16709e7 button.colab-df-convert');\n",
              "        buttonEl.style.display =\n",
              "          google.colab.kernel.accessAllowed ? 'block' : 'none';\n",
              "\n",
              "        async function convertToInteractive(key) {\n",
              "          const element = document.querySelector('#df-07e7601e-e896-4b7b-9e98-68c1d16709e7');\n",
              "          const dataTable =\n",
              "            await google.colab.kernel.invokeFunction('convertToInteractive',\n",
              "                                                     [key], {});\n",
              "          if (!dataTable) return;\n",
              "\n",
              "          const docLinkHtml = 'Like what you see? Visit the ' +\n",
              "            '<a target=\"_blank\" href=https://colab.research.google.com/notebooks/data_table.ipynb>data table notebook</a>'\n",
              "            + ' to learn more about interactive tables.';\n",
              "          element.innerHTML = '';\n",
              "          dataTable['output_type'] = 'display_data';\n",
              "          await google.colab.output.renderOutput(dataTable, element);\n",
              "          const docLink = document.createElement('div');\n",
              "          docLink.innerHTML = docLinkHtml;\n",
              "          element.appendChild(docLink);\n",
              "        }\n",
              "      </script>\n",
              "    </div>\n",
              "  </div>\n",
              "  "
            ]
          },
          "metadata": {},
          "execution_count": 24
        }
      ]
    },
    {
      "cell_type": "code",
      "source": [
        "# We dropped all players that scored more goals than Germán Cano\n",
        "attack.drop(attack[attack['gols'] > attack[attack['jogador'] == 'Germán Cano']['gols'].values[0]].index, inplace=True)"
      ],
      "metadata": {
        "id": "HRQXZbfzWljd"
      },
      "execution_count": 25,
      "outputs": []
    },
    {
      "cell_type": "code",
      "source": [
        "# Now our data is correct\n",
        "attack[attack['gols'] > attack[attack['jogador'] == 'Germán Cano']['gols'].values[0]]"
      ],
      "metadata": {
        "colab": {
          "base_uri": "https://localhost:8080/",
          "height": 81
        },
        "id": "fWKopL_NWfZY",
        "outputId": "2e1cea04-443d-411b-d035-f0c2a5c025e5"
      },
      "execution_count": 26,
      "outputs": [
        {
          "output_type": "execute_result",
          "data": {
            "text/plain": [
              "Empty DataFrame\n",
              "Columns: [jogador, nacao, posicao, idade, minPor90, gols, assist]\n",
              "Index: []"
            ],
            "text/html": [
              "\n",
              "  <div id=\"df-f976f3af-203c-491e-96e1-8221951da26c\">\n",
              "    <div class=\"colab-df-container\">\n",
              "      <div>\n",
              "<style scoped>\n",
              "    .dataframe tbody tr th:only-of-type {\n",
              "        vertical-align: middle;\n",
              "    }\n",
              "\n",
              "    .dataframe tbody tr th {\n",
              "        vertical-align: top;\n",
              "    }\n",
              "\n",
              "    .dataframe thead th {\n",
              "        text-align: right;\n",
              "    }\n",
              "</style>\n",
              "<table border=\"1\" class=\"dataframe\">\n",
              "  <thead>\n",
              "    <tr style=\"text-align: right;\">\n",
              "      <th></th>\n",
              "      <th>jogador</th>\n",
              "      <th>nacao</th>\n",
              "      <th>posicao</th>\n",
              "      <th>idade</th>\n",
              "      <th>minPor90</th>\n",
              "      <th>gols</th>\n",
              "      <th>assist</th>\n",
              "    </tr>\n",
              "    <tr>\n",
              "      <th>index</th>\n",
              "      <th></th>\n",
              "      <th></th>\n",
              "      <th></th>\n",
              "      <th></th>\n",
              "      <th></th>\n",
              "      <th></th>\n",
              "      <th></th>\n",
              "    </tr>\n",
              "  </thead>\n",
              "  <tbody>\n",
              "  </tbody>\n",
              "</table>\n",
              "</div>\n",
              "      <button class=\"colab-df-convert\" onclick=\"convertToInteractive('df-f976f3af-203c-491e-96e1-8221951da26c')\"\n",
              "              title=\"Convert this dataframe to an interactive table.\"\n",
              "              style=\"display:none;\">\n",
              "        \n",
              "  <svg xmlns=\"http://www.w3.org/2000/svg\" height=\"24px\"viewBox=\"0 0 24 24\"\n",
              "       width=\"24px\">\n",
              "    <path d=\"M0 0h24v24H0V0z\" fill=\"none\"/>\n",
              "    <path d=\"M18.56 5.44l.94 2.06.94-2.06 2.06-.94-2.06-.94-.94-2.06-.94 2.06-2.06.94zm-11 1L8.5 8.5l.94-2.06 2.06-.94-2.06-.94L8.5 2.5l-.94 2.06-2.06.94zm10 10l.94 2.06.94-2.06 2.06-.94-2.06-.94-.94-2.06-.94 2.06-2.06.94z\"/><path d=\"M17.41 7.96l-1.37-1.37c-.4-.4-.92-.59-1.43-.59-.52 0-1.04.2-1.43.59L10.3 9.45l-7.72 7.72c-.78.78-.78 2.05 0 2.83L4 21.41c.39.39.9.59 1.41.59.51 0 1.02-.2 1.41-.59l7.78-7.78 2.81-2.81c.8-.78.8-2.07 0-2.86zM5.41 20L4 18.59l7.72-7.72 1.47 1.35L5.41 20z\"/>\n",
              "  </svg>\n",
              "      </button>\n",
              "      \n",
              "  <style>\n",
              "    .colab-df-container {\n",
              "      display:flex;\n",
              "      flex-wrap:wrap;\n",
              "      gap: 12px;\n",
              "    }\n",
              "\n",
              "    .colab-df-convert {\n",
              "      background-color: #E8F0FE;\n",
              "      border: none;\n",
              "      border-radius: 50%;\n",
              "      cursor: pointer;\n",
              "      display: none;\n",
              "      fill: #1967D2;\n",
              "      height: 32px;\n",
              "      padding: 0 0 0 0;\n",
              "      width: 32px;\n",
              "    }\n",
              "\n",
              "    .colab-df-convert:hover {\n",
              "      background-color: #E2EBFA;\n",
              "      box-shadow: 0px 1px 2px rgba(60, 64, 67, 0.3), 0px 1px 3px 1px rgba(60, 64, 67, 0.15);\n",
              "      fill: #174EA6;\n",
              "    }\n",
              "\n",
              "    [theme=dark] .colab-df-convert {\n",
              "      background-color: #3B4455;\n",
              "      fill: #D2E3FC;\n",
              "    }\n",
              "\n",
              "    [theme=dark] .colab-df-convert:hover {\n",
              "      background-color: #434B5C;\n",
              "      box-shadow: 0px 1px 3px 1px rgba(0, 0, 0, 0.15);\n",
              "      filter: drop-shadow(0px 1px 2px rgba(0, 0, 0, 0.3));\n",
              "      fill: #FFFFFF;\n",
              "    }\n",
              "  </style>\n",
              "\n",
              "      <script>\n",
              "        const buttonEl =\n",
              "          document.querySelector('#df-f976f3af-203c-491e-96e1-8221951da26c button.colab-df-convert');\n",
              "        buttonEl.style.display =\n",
              "          google.colab.kernel.accessAllowed ? 'block' : 'none';\n",
              "\n",
              "        async function convertToInteractive(key) {\n",
              "          const element = document.querySelector('#df-f976f3af-203c-491e-96e1-8221951da26c');\n",
              "          const dataTable =\n",
              "            await google.colab.kernel.invokeFunction('convertToInteractive',\n",
              "                                                     [key], {});\n",
              "          if (!dataTable) return;\n",
              "\n",
              "          const docLinkHtml = 'Like what you see? Visit the ' +\n",
              "            '<a target=\"_blank\" href=https://colab.research.google.com/notebooks/data_table.ipynb>data table notebook</a>'\n",
              "            + ' to learn more about interactive tables.';\n",
              "          element.innerHTML = '';\n",
              "          dataTable['output_type'] = 'display_data';\n",
              "          await google.colab.output.renderOutput(dataTable, element);\n",
              "          const docLink = document.createElement('div');\n",
              "          docLink.innerHTML = docLinkHtml;\n",
              "          element.appendChild(docLink);\n",
              "        }\n",
              "      </script>\n",
              "    </div>\n",
              "  </div>\n",
              "  "
            ]
          },
          "metadata": {},
          "execution_count": 26
        }
      ]
    },
    {
      "cell_type": "markdown",
      "source": [
        "Here, we have already handled NULL values and wrong data, but the index values have not been updated\n",
        "\n",
        "We can see the \"leap\" from index 142 to 144"
      ],
      "metadata": {
        "id": "RXtjyovoYmuX"
      }
    },
    {
      "cell_type": "code",
      "source": [
        "attack"
      ],
      "metadata": {
        "colab": {
          "base_uri": "https://localhost:8080/",
          "height": 455
        },
        "id": "z6S3Wi9yWhHr",
        "outputId": "69aba012-c34d-4cbb-860e-bb9e70020593"
      },
      "execution_count": 27,
      "outputs": [
        {
          "output_type": "execute_result",
          "data": {
            "text/plain": [
              "                jogador nacao posicao  idade  minPor90  gols  assist\n",
              "index                                                               \n",
              "0                Erison   BRA      AT     23      13.4   6.0     1.0\n",
              "1                  Hulk   BRA      AT     35      13.9   7.0     2.0\n",
              "2          Roger Guedes   BRA      AT     25      12.2   5.0     1.0\n",
              "3       Wellington Rato   BRA   LT,AT     30      13.6   4.0     0.0\n",
              "4        Stiven Mendoza   COL   AT,LT     30      11.5   7.0     0.0\n",
              "...                 ...   ...     ...    ...       ...   ...     ...\n",
              "142          Óscar Ruiz   PAR   AT,LT     31       6.3   3.0     0.0\n",
              "144              Marlon   BRA   LT,AT     32       1.7   0.0     0.0\n",
              "145       Vitor Gabriel   BRA      AT     22       4.3   1.0     0.0\n",
              "146    Guilherme Parede   BRA   LT,AT     26       3.1   0.0     1.0\n",
              "147            Bruninho   BRA      AT     22       1.3   0.0     0.0\n",
              "\n",
              "[142 rows x 7 columns]"
            ],
            "text/html": [
              "\n",
              "  <div id=\"df-a9463eb6-e7e2-4e00-ac09-c8b4244fb6ce\">\n",
              "    <div class=\"colab-df-container\">\n",
              "      <div>\n",
              "<style scoped>\n",
              "    .dataframe tbody tr th:only-of-type {\n",
              "        vertical-align: middle;\n",
              "    }\n",
              "\n",
              "    .dataframe tbody tr th {\n",
              "        vertical-align: top;\n",
              "    }\n",
              "\n",
              "    .dataframe thead th {\n",
              "        text-align: right;\n",
              "    }\n",
              "</style>\n",
              "<table border=\"1\" class=\"dataframe\">\n",
              "  <thead>\n",
              "    <tr style=\"text-align: right;\">\n",
              "      <th></th>\n",
              "      <th>jogador</th>\n",
              "      <th>nacao</th>\n",
              "      <th>posicao</th>\n",
              "      <th>idade</th>\n",
              "      <th>minPor90</th>\n",
              "      <th>gols</th>\n",
              "      <th>assist</th>\n",
              "    </tr>\n",
              "    <tr>\n",
              "      <th>index</th>\n",
              "      <th></th>\n",
              "      <th></th>\n",
              "      <th></th>\n",
              "      <th></th>\n",
              "      <th></th>\n",
              "      <th></th>\n",
              "      <th></th>\n",
              "    </tr>\n",
              "  </thead>\n",
              "  <tbody>\n",
              "    <tr>\n",
              "      <th>0</th>\n",
              "      <td>Erison</td>\n",
              "      <td>BRA</td>\n",
              "      <td>AT</td>\n",
              "      <td>23</td>\n",
              "      <td>13.4</td>\n",
              "      <td>6.0</td>\n",
              "      <td>1.0</td>\n",
              "    </tr>\n",
              "    <tr>\n",
              "      <th>1</th>\n",
              "      <td>Hulk</td>\n",
              "      <td>BRA</td>\n",
              "      <td>AT</td>\n",
              "      <td>35</td>\n",
              "      <td>13.9</td>\n",
              "      <td>7.0</td>\n",
              "      <td>2.0</td>\n",
              "    </tr>\n",
              "    <tr>\n",
              "      <th>2</th>\n",
              "      <td>Roger Guedes</td>\n",
              "      <td>BRA</td>\n",
              "      <td>AT</td>\n",
              "      <td>25</td>\n",
              "      <td>12.2</td>\n",
              "      <td>5.0</td>\n",
              "      <td>1.0</td>\n",
              "    </tr>\n",
              "    <tr>\n",
              "      <th>3</th>\n",
              "      <td>Wellington Rato</td>\n",
              "      <td>BRA</td>\n",
              "      <td>LT,AT</td>\n",
              "      <td>30</td>\n",
              "      <td>13.6</td>\n",
              "      <td>4.0</td>\n",
              "      <td>0.0</td>\n",
              "    </tr>\n",
              "    <tr>\n",
              "      <th>4</th>\n",
              "      <td>Stiven Mendoza</td>\n",
              "      <td>COL</td>\n",
              "      <td>AT,LT</td>\n",
              "      <td>30</td>\n",
              "      <td>11.5</td>\n",
              "      <td>7.0</td>\n",
              "      <td>0.0</td>\n",
              "    </tr>\n",
              "    <tr>\n",
              "      <th>...</th>\n",
              "      <td>...</td>\n",
              "      <td>...</td>\n",
              "      <td>...</td>\n",
              "      <td>...</td>\n",
              "      <td>...</td>\n",
              "      <td>...</td>\n",
              "      <td>...</td>\n",
              "    </tr>\n",
              "    <tr>\n",
              "      <th>142</th>\n",
              "      <td>Óscar Ruiz</td>\n",
              "      <td>PAR</td>\n",
              "      <td>AT,LT</td>\n",
              "      <td>31</td>\n",
              "      <td>6.3</td>\n",
              "      <td>3.0</td>\n",
              "      <td>0.0</td>\n",
              "    </tr>\n",
              "    <tr>\n",
              "      <th>144</th>\n",
              "      <td>Marlon</td>\n",
              "      <td>BRA</td>\n",
              "      <td>LT,AT</td>\n",
              "      <td>32</td>\n",
              "      <td>1.7</td>\n",
              "      <td>0.0</td>\n",
              "      <td>0.0</td>\n",
              "    </tr>\n",
              "    <tr>\n",
              "      <th>145</th>\n",
              "      <td>Vitor Gabriel</td>\n",
              "      <td>BRA</td>\n",
              "      <td>AT</td>\n",
              "      <td>22</td>\n",
              "      <td>4.3</td>\n",
              "      <td>1.0</td>\n",
              "      <td>0.0</td>\n",
              "    </tr>\n",
              "    <tr>\n",
              "      <th>146</th>\n",
              "      <td>Guilherme Parede</td>\n",
              "      <td>BRA</td>\n",
              "      <td>LT,AT</td>\n",
              "      <td>26</td>\n",
              "      <td>3.1</td>\n",
              "      <td>0.0</td>\n",
              "      <td>1.0</td>\n",
              "    </tr>\n",
              "    <tr>\n",
              "      <th>147</th>\n",
              "      <td>Bruninho</td>\n",
              "      <td>BRA</td>\n",
              "      <td>AT</td>\n",
              "      <td>22</td>\n",
              "      <td>1.3</td>\n",
              "      <td>0.0</td>\n",
              "      <td>0.0</td>\n",
              "    </tr>\n",
              "  </tbody>\n",
              "</table>\n",
              "<p>142 rows × 7 columns</p>\n",
              "</div>\n",
              "      <button class=\"colab-df-convert\" onclick=\"convertToInteractive('df-a9463eb6-e7e2-4e00-ac09-c8b4244fb6ce')\"\n",
              "              title=\"Convert this dataframe to an interactive table.\"\n",
              "              style=\"display:none;\">\n",
              "        \n",
              "  <svg xmlns=\"http://www.w3.org/2000/svg\" height=\"24px\"viewBox=\"0 0 24 24\"\n",
              "       width=\"24px\">\n",
              "    <path d=\"M0 0h24v24H0V0z\" fill=\"none\"/>\n",
              "    <path d=\"M18.56 5.44l.94 2.06.94-2.06 2.06-.94-2.06-.94-.94-2.06-.94 2.06-2.06.94zm-11 1L8.5 8.5l.94-2.06 2.06-.94-2.06-.94L8.5 2.5l-.94 2.06-2.06.94zm10 10l.94 2.06.94-2.06 2.06-.94-2.06-.94-.94-2.06-.94 2.06-2.06.94z\"/><path d=\"M17.41 7.96l-1.37-1.37c-.4-.4-.92-.59-1.43-.59-.52 0-1.04.2-1.43.59L10.3 9.45l-7.72 7.72c-.78.78-.78 2.05 0 2.83L4 21.41c.39.39.9.59 1.41.59.51 0 1.02-.2 1.41-.59l7.78-7.78 2.81-2.81c.8-.78.8-2.07 0-2.86zM5.41 20L4 18.59l7.72-7.72 1.47 1.35L5.41 20z\"/>\n",
              "  </svg>\n",
              "      </button>\n",
              "      \n",
              "  <style>\n",
              "    .colab-df-container {\n",
              "      display:flex;\n",
              "      flex-wrap:wrap;\n",
              "      gap: 12px;\n",
              "    }\n",
              "\n",
              "    .colab-df-convert {\n",
              "      background-color: #E8F0FE;\n",
              "      border: none;\n",
              "      border-radius: 50%;\n",
              "      cursor: pointer;\n",
              "      display: none;\n",
              "      fill: #1967D2;\n",
              "      height: 32px;\n",
              "      padding: 0 0 0 0;\n",
              "      width: 32px;\n",
              "    }\n",
              "\n",
              "    .colab-df-convert:hover {\n",
              "      background-color: #E2EBFA;\n",
              "      box-shadow: 0px 1px 2px rgba(60, 64, 67, 0.3), 0px 1px 3px 1px rgba(60, 64, 67, 0.15);\n",
              "      fill: #174EA6;\n",
              "    }\n",
              "\n",
              "    [theme=dark] .colab-df-convert {\n",
              "      background-color: #3B4455;\n",
              "      fill: #D2E3FC;\n",
              "    }\n",
              "\n",
              "    [theme=dark] .colab-df-convert:hover {\n",
              "      background-color: #434B5C;\n",
              "      box-shadow: 0px 1px 3px 1px rgba(0, 0, 0, 0.15);\n",
              "      filter: drop-shadow(0px 1px 2px rgba(0, 0, 0, 0.3));\n",
              "      fill: #FFFFFF;\n",
              "    }\n",
              "  </style>\n",
              "\n",
              "      <script>\n",
              "        const buttonEl =\n",
              "          document.querySelector('#df-a9463eb6-e7e2-4e00-ac09-c8b4244fb6ce button.colab-df-convert');\n",
              "        buttonEl.style.display =\n",
              "          google.colab.kernel.accessAllowed ? 'block' : 'none';\n",
              "\n",
              "        async function convertToInteractive(key) {\n",
              "          const element = document.querySelector('#df-a9463eb6-e7e2-4e00-ac09-c8b4244fb6ce');\n",
              "          const dataTable =\n",
              "            await google.colab.kernel.invokeFunction('convertToInteractive',\n",
              "                                                     [key], {});\n",
              "          if (!dataTable) return;\n",
              "\n",
              "          const docLinkHtml = 'Like what you see? Visit the ' +\n",
              "            '<a target=\"_blank\" href=https://colab.research.google.com/notebooks/data_table.ipynb>data table notebook</a>'\n",
              "            + ' to learn more about interactive tables.';\n",
              "          element.innerHTML = '';\n",
              "          dataTable['output_type'] = 'display_data';\n",
              "          await google.colab.output.renderOutput(dataTable, element);\n",
              "          const docLink = document.createElement('div');\n",
              "          docLink.innerHTML = docLinkHtml;\n",
              "          element.appendChild(docLink);\n",
              "        }\n",
              "      </script>\n",
              "    </div>\n",
              "  </div>\n",
              "  "
            ]
          },
          "metadata": {},
          "execution_count": 27
        }
      ]
    },
    {
      "cell_type": "code",
      "source": [
        "# We fix the index\n",
        "attack.reset_index(inplace=True, drop=True)"
      ],
      "metadata": {
        "id": "YwtSt31VWv2T"
      },
      "execution_count": 28,
      "outputs": []
    },
    {
      "cell_type": "markdown",
      "source": [
        "And finally, our dataset is ready to use in production."
      ],
      "metadata": {
        "id": "PzF7fP6WYw_x"
      }
    },
    {
      "cell_type": "code",
      "source": [
        "attack"
      ],
      "metadata": {
        "colab": {
          "base_uri": "https://localhost:8080/",
          "height": 424
        },
        "id": "XuSPB8k3Ww8t",
        "outputId": "c8129884-a9c1-458b-fb33-348f973e78fc"
      },
      "execution_count": 29,
      "outputs": [
        {
          "output_type": "execute_result",
          "data": {
            "text/plain": [
              "              jogador nacao posicao  idade  minPor90  gols  assist\n",
              "0              Erison   BRA      AT     23      13.4   6.0     1.0\n",
              "1                Hulk   BRA      AT     35      13.9   7.0     2.0\n",
              "2        Roger Guedes   BRA      AT     25      12.2   5.0     1.0\n",
              "3     Wellington Rato   BRA   LT,AT     30      13.6   4.0     0.0\n",
              "4      Stiven Mendoza   COL   AT,LT     30      11.5   7.0     0.0\n",
              "..                ...   ...     ...    ...       ...   ...     ...\n",
              "137        Óscar Ruiz   PAR   AT,LT     31       6.3   3.0     0.0\n",
              "138            Marlon   BRA   LT,AT     32       1.7   0.0     0.0\n",
              "139     Vitor Gabriel   BRA      AT     22       4.3   1.0     0.0\n",
              "140  Guilherme Parede   BRA   LT,AT     26       3.1   0.0     1.0\n",
              "141          Bruninho   BRA      AT     22       1.3   0.0     0.0\n",
              "\n",
              "[142 rows x 7 columns]"
            ],
            "text/html": [
              "\n",
              "  <div id=\"df-a693284c-02cc-4c03-98ec-7401ccf33740\">\n",
              "    <div class=\"colab-df-container\">\n",
              "      <div>\n",
              "<style scoped>\n",
              "    .dataframe tbody tr th:only-of-type {\n",
              "        vertical-align: middle;\n",
              "    }\n",
              "\n",
              "    .dataframe tbody tr th {\n",
              "        vertical-align: top;\n",
              "    }\n",
              "\n",
              "    .dataframe thead th {\n",
              "        text-align: right;\n",
              "    }\n",
              "</style>\n",
              "<table border=\"1\" class=\"dataframe\">\n",
              "  <thead>\n",
              "    <tr style=\"text-align: right;\">\n",
              "      <th></th>\n",
              "      <th>jogador</th>\n",
              "      <th>nacao</th>\n",
              "      <th>posicao</th>\n",
              "      <th>idade</th>\n",
              "      <th>minPor90</th>\n",
              "      <th>gols</th>\n",
              "      <th>assist</th>\n",
              "    </tr>\n",
              "  </thead>\n",
              "  <tbody>\n",
              "    <tr>\n",
              "      <th>0</th>\n",
              "      <td>Erison</td>\n",
              "      <td>BRA</td>\n",
              "      <td>AT</td>\n",
              "      <td>23</td>\n",
              "      <td>13.4</td>\n",
              "      <td>6.0</td>\n",
              "      <td>1.0</td>\n",
              "    </tr>\n",
              "    <tr>\n",
              "      <th>1</th>\n",
              "      <td>Hulk</td>\n",
              "      <td>BRA</td>\n",
              "      <td>AT</td>\n",
              "      <td>35</td>\n",
              "      <td>13.9</td>\n",
              "      <td>7.0</td>\n",
              "      <td>2.0</td>\n",
              "    </tr>\n",
              "    <tr>\n",
              "      <th>2</th>\n",
              "      <td>Roger Guedes</td>\n",
              "      <td>BRA</td>\n",
              "      <td>AT</td>\n",
              "      <td>25</td>\n",
              "      <td>12.2</td>\n",
              "      <td>5.0</td>\n",
              "      <td>1.0</td>\n",
              "    </tr>\n",
              "    <tr>\n",
              "      <th>3</th>\n",
              "      <td>Wellington Rato</td>\n",
              "      <td>BRA</td>\n",
              "      <td>LT,AT</td>\n",
              "      <td>30</td>\n",
              "      <td>13.6</td>\n",
              "      <td>4.0</td>\n",
              "      <td>0.0</td>\n",
              "    </tr>\n",
              "    <tr>\n",
              "      <th>4</th>\n",
              "      <td>Stiven Mendoza</td>\n",
              "      <td>COL</td>\n",
              "      <td>AT,LT</td>\n",
              "      <td>30</td>\n",
              "      <td>11.5</td>\n",
              "      <td>7.0</td>\n",
              "      <td>0.0</td>\n",
              "    </tr>\n",
              "    <tr>\n",
              "      <th>...</th>\n",
              "      <td>...</td>\n",
              "      <td>...</td>\n",
              "      <td>...</td>\n",
              "      <td>...</td>\n",
              "      <td>...</td>\n",
              "      <td>...</td>\n",
              "      <td>...</td>\n",
              "    </tr>\n",
              "    <tr>\n",
              "      <th>137</th>\n",
              "      <td>Óscar Ruiz</td>\n",
              "      <td>PAR</td>\n",
              "      <td>AT,LT</td>\n",
              "      <td>31</td>\n",
              "      <td>6.3</td>\n",
              "      <td>3.0</td>\n",
              "      <td>0.0</td>\n",
              "    </tr>\n",
              "    <tr>\n",
              "      <th>138</th>\n",
              "      <td>Marlon</td>\n",
              "      <td>BRA</td>\n",
              "      <td>LT,AT</td>\n",
              "      <td>32</td>\n",
              "      <td>1.7</td>\n",
              "      <td>0.0</td>\n",
              "      <td>0.0</td>\n",
              "    </tr>\n",
              "    <tr>\n",
              "      <th>139</th>\n",
              "      <td>Vitor Gabriel</td>\n",
              "      <td>BRA</td>\n",
              "      <td>AT</td>\n",
              "      <td>22</td>\n",
              "      <td>4.3</td>\n",
              "      <td>1.0</td>\n",
              "      <td>0.0</td>\n",
              "    </tr>\n",
              "    <tr>\n",
              "      <th>140</th>\n",
              "      <td>Guilherme Parede</td>\n",
              "      <td>BRA</td>\n",
              "      <td>LT,AT</td>\n",
              "      <td>26</td>\n",
              "      <td>3.1</td>\n",
              "      <td>0.0</td>\n",
              "      <td>1.0</td>\n",
              "    </tr>\n",
              "    <tr>\n",
              "      <th>141</th>\n",
              "      <td>Bruninho</td>\n",
              "      <td>BRA</td>\n",
              "      <td>AT</td>\n",
              "      <td>22</td>\n",
              "      <td>1.3</td>\n",
              "      <td>0.0</td>\n",
              "      <td>0.0</td>\n",
              "    </tr>\n",
              "  </tbody>\n",
              "</table>\n",
              "<p>142 rows × 7 columns</p>\n",
              "</div>\n",
              "      <button class=\"colab-df-convert\" onclick=\"convertToInteractive('df-a693284c-02cc-4c03-98ec-7401ccf33740')\"\n",
              "              title=\"Convert this dataframe to an interactive table.\"\n",
              "              style=\"display:none;\">\n",
              "        \n",
              "  <svg xmlns=\"http://www.w3.org/2000/svg\" height=\"24px\"viewBox=\"0 0 24 24\"\n",
              "       width=\"24px\">\n",
              "    <path d=\"M0 0h24v24H0V0z\" fill=\"none\"/>\n",
              "    <path d=\"M18.56 5.44l.94 2.06.94-2.06 2.06-.94-2.06-.94-.94-2.06-.94 2.06-2.06.94zm-11 1L8.5 8.5l.94-2.06 2.06-.94-2.06-.94L8.5 2.5l-.94 2.06-2.06.94zm10 10l.94 2.06.94-2.06 2.06-.94-2.06-.94-.94-2.06-.94 2.06-2.06.94z\"/><path d=\"M17.41 7.96l-1.37-1.37c-.4-.4-.92-.59-1.43-.59-.52 0-1.04.2-1.43.59L10.3 9.45l-7.72 7.72c-.78.78-.78 2.05 0 2.83L4 21.41c.39.39.9.59 1.41.59.51 0 1.02-.2 1.41-.59l7.78-7.78 2.81-2.81c.8-.78.8-2.07 0-2.86zM5.41 20L4 18.59l7.72-7.72 1.47 1.35L5.41 20z\"/>\n",
              "  </svg>\n",
              "      </button>\n",
              "      \n",
              "  <style>\n",
              "    .colab-df-container {\n",
              "      display:flex;\n",
              "      flex-wrap:wrap;\n",
              "      gap: 12px;\n",
              "    }\n",
              "\n",
              "    .colab-df-convert {\n",
              "      background-color: #E8F0FE;\n",
              "      border: none;\n",
              "      border-radius: 50%;\n",
              "      cursor: pointer;\n",
              "      display: none;\n",
              "      fill: #1967D2;\n",
              "      height: 32px;\n",
              "      padding: 0 0 0 0;\n",
              "      width: 32px;\n",
              "    }\n",
              "\n",
              "    .colab-df-convert:hover {\n",
              "      background-color: #E2EBFA;\n",
              "      box-shadow: 0px 1px 2px rgba(60, 64, 67, 0.3), 0px 1px 3px 1px rgba(60, 64, 67, 0.15);\n",
              "      fill: #174EA6;\n",
              "    }\n",
              "\n",
              "    [theme=dark] .colab-df-convert {\n",
              "      background-color: #3B4455;\n",
              "      fill: #D2E3FC;\n",
              "    }\n",
              "\n",
              "    [theme=dark] .colab-df-convert:hover {\n",
              "      background-color: #434B5C;\n",
              "      box-shadow: 0px 1px 3px 1px rgba(0, 0, 0, 0.15);\n",
              "      filter: drop-shadow(0px 1px 2px rgba(0, 0, 0, 0.3));\n",
              "      fill: #FFFFFF;\n",
              "    }\n",
              "  </style>\n",
              "\n",
              "      <script>\n",
              "        const buttonEl =\n",
              "          document.querySelector('#df-a693284c-02cc-4c03-98ec-7401ccf33740 button.colab-df-convert');\n",
              "        buttonEl.style.display =\n",
              "          google.colab.kernel.accessAllowed ? 'block' : 'none';\n",
              "\n",
              "        async function convertToInteractive(key) {\n",
              "          const element = document.querySelector('#df-a693284c-02cc-4c03-98ec-7401ccf33740');\n",
              "          const dataTable =\n",
              "            await google.colab.kernel.invokeFunction('convertToInteractive',\n",
              "                                                     [key], {});\n",
              "          if (!dataTable) return;\n",
              "\n",
              "          const docLinkHtml = 'Like what you see? Visit the ' +\n",
              "            '<a target=\"_blank\" href=https://colab.research.google.com/notebooks/data_table.ipynb>data table notebook</a>'\n",
              "            + ' to learn more about interactive tables.';\n",
              "          element.innerHTML = '';\n",
              "          dataTable['output_type'] = 'display_data';\n",
              "          await google.colab.output.renderOutput(dataTable, element);\n",
              "          const docLink = document.createElement('div');\n",
              "          docLink.innerHTML = docLinkHtml;\n",
              "          element.appendChild(docLink);\n",
              "        }\n",
              "      </script>\n",
              "    </div>\n",
              "  </div>\n",
              "  "
            ]
          },
          "metadata": {},
          "execution_count": 29
        }
      ]
    },
    {
      "cell_type": "markdown",
      "source": [
        "#### Visualization & Normalization"
      ],
      "metadata": {
        "id": "pmQZToMkHoou"
      }
    },
    {
      "cell_type": "markdown",
      "source": [
        "Here is an example of data visualization:"
      ],
      "metadata": {
        "id": "Jt4OsK-_hGhN"
      }
    },
    {
      "cell_type": "code",
      "source": [
        "fig = plt.figure(figsize=(18,4))\n",
        "plt.plot(attack['jogador'][15:40],attack['gols'][15:40])\n",
        "plt.xticks(rotation=45)\n",
        "plt.show()"
      ],
      "metadata": {
        "colab": {
          "base_uri": "https://localhost:8080/",
          "height": 326
        },
        "id": "A2NFn035f27X",
        "outputId": "63da4803-34e8-4558-970c-b1bc0d141aad"
      },
      "execution_count": 30,
      "outputs": [
        {
          "output_type": "display_data",
          "data": {
            "text/plain": [
              "<Figure size 1296x288 with 1 Axes>"
            ],
            "image/png": "[encoded data removed]"
          },
          "metadata": {
            "needs_background": "light"
          }
        }
      ]
    },
    {
      "cell_type": "markdown",
      "source": [
        "We inserted a new feature based on 2 other features"
      ],
      "metadata": {
        "id": "PNqUBhstaAq7"
      }
    },
    {
      "cell_type": "code",
      "source": [
        "# Manipulating the data in order to follow with the feature insertion\n",
        "attack['golsPorPartida'] = (attack['gols']/attack['minPor90'])"
      ],
      "metadata": {
        "id": "LmqQ2qcD_fJa"
      },
      "execution_count": 31,
      "outputs": []
    },
    {
      "cell_type": "code",
      "source": [
        "attack['golsPorPartida'].head()"
      ],
      "metadata": {
        "colab": {
          "base_uri": "https://localhost:8080/"
        },
        "id": "OIaQqVOwADWH",
        "outputId": "abbbcf82-5993-4aac-9ba3-521c1e4bf66c"
      },
      "execution_count": 32,
      "outputs": [
        {
          "output_type": "execute_result",
          "data": {
            "text/plain": [
              "0    0.447761\n",
              "1    0.503597\n",
              "2    0.409836\n",
              "3    0.294118\n",
              "4    0.608696\n",
              "Name: golsPorPartida, dtype: float64"
            ]
          },
          "metadata": {},
          "execution_count": 32
        }
      ]
    },
    {
      "cell_type": "code",
      "source": [
        "attack['golsPorPartida'].hist()"
      ],
      "metadata": {
        "colab": {
          "base_uri": "https://localhost:8080/",
          "height": 282
        },
        "id": "YOqDv4kmAQZN",
        "outputId": "04ffb54f-9349-4836-93aa-6963e61bf689"
      },
      "execution_count": 33,
      "outputs": [
        {
          "output_type": "execute_result",
          "data": {
            "text/plain": [
              "<matplotlib.axes._subplots.AxesSubplot at 0x7f49ca7dc750>"
            ]
          },
          "metadata": {},
          "execution_count": 33
        },
        {
          "output_type": "display_data",
          "data": {
            "text/plain": [
              "<Figure size 432x288 with 1 Axes>"
            ],
            "image/png": "[encoded data removed]"
          },
          "metadata": {
            "needs_background": "light"
          }
        }
      ]
    },
    {
      "cell_type": "code",
      "source": [
        "attack"
      ],
      "metadata": {
        "colab": {
          "base_uri": "https://localhost:8080/",
          "height": 424
        },
        "id": "pM0kdz8FJtSt",
        "outputId": "b6b0d221-b650-4580-d33e-090a89eb3e19"
      },
      "execution_count": 34,
      "outputs": [
        {
          "output_type": "execute_result",
          "data": {
            "text/plain": [
              "              jogador nacao posicao  idade  minPor90  gols  assist  \\\n",
              "0              Erison   BRA      AT     23      13.4   6.0     1.0   \n",
              "1                Hulk   BRA      AT     35      13.9   7.0     2.0   \n",
              "2        Roger Guedes   BRA      AT     25      12.2   5.0     1.0   \n",
              "3     Wellington Rato   BRA   LT,AT     30      13.6   4.0     0.0   \n",
              "4      Stiven Mendoza   COL   AT,LT     30      11.5   7.0     0.0   \n",
              "..                ...   ...     ...    ...       ...   ...     ...   \n",
              "137        Óscar Ruiz   PAR   AT,LT     31       6.3   3.0     0.0   \n",
              "138            Marlon   BRA   LT,AT     32       1.7   0.0     0.0   \n",
              "139     Vitor Gabriel   BRA      AT     22       4.3   1.0     0.0   \n",
              "140  Guilherme Parede   BRA   LT,AT     26       3.1   0.0     1.0   \n",
              "141          Bruninho   BRA      AT     22       1.3   0.0     0.0   \n",
              "\n",
              "     golsPorPartida  \n",
              "0          0.447761  \n",
              "1          0.503597  \n",
              "2          0.409836  \n",
              "3          0.294118  \n",
              "4          0.608696  \n",
              "..              ...  \n",
              "137        0.476190  \n",
              "138        0.000000  \n",
              "139        0.232558  \n",
              "140        0.000000  \n",
              "141        0.000000  \n",
              "\n",
              "[142 rows x 8 columns]"
            ],
            "text/html": [
              "\n",
              "  <div id=\"df-0c43cc67-a4fe-4181-b6dc-7f2dba107d09\">\n",
              "    <div class=\"colab-df-container\">\n",
              "      <div>\n",
              "<style scoped>\n",
              "    .dataframe tbody tr th:only-of-type {\n",
              "        vertical-align: middle;\n",
              "    }\n",
              "\n",
              "    .dataframe tbody tr th {\n",
              "        vertical-align: top;\n",
              "    }\n",
              "\n",
              "    .dataframe thead th {\n",
              "        text-align: right;\n",
              "    }\n",
              "</style>\n",
              "<table border=\"1\" class=\"dataframe\">\n",
              "  <thead>\n",
              "    <tr style=\"text-align: right;\">\n",
              "      <th></th>\n",
              "      <th>jogador</th>\n",
              "      <th>nacao</th>\n",
              "      <th>posicao</th>\n",
              "      <th>idade</th>\n",
              "      <th>minPor90</th>\n",
              "      <th>gols</th>\n",
              "      <th>assist</th>\n",
              "      <th>golsPorPartida</th>\n",
              "    </tr>\n",
              "  </thead>\n",
              "  <tbody>\n",
              "    <tr>\n",
              "      <th>0</th>\n",
              "      <td>Erison</td>\n",
              "      <td>BRA</td>\n",
              "      <td>AT</td>\n",
              "      <td>23</td>\n",
              "      <td>13.4</td>\n",
              "      <td>6.0</td>\n",
              "      <td>1.0</td>\n",
              "      <td>0.447761</td>\n",
              "    </tr>\n",
              "    <tr>\n",
              "      <th>1</th>\n",
              "      <td>Hulk</td>\n",
              "      <td>BRA</td>\n",
              "      <td>AT</td>\n",
              "      <td>35</td>\n",
              "      <td>13.9</td>\n",
              "      <td>7.0</td>\n",
              "      <td>2.0</td>\n",
              "      <td>0.503597</td>\n",
              "    </tr>\n",
              "    <tr>\n",
              "      <th>2</th>\n",
              "      <td>Roger Guedes</td>\n",
              "      <td>BRA</td>\n",
              "      <td>AT</td>\n",
              "      <td>25</td>\n",
              "      <td>12.2</td>\n",
              "      <td>5.0</td>\n",
              "      <td>1.0</td>\n",
              "      <td>0.409836</td>\n",
              "    </tr>\n",
              "    <tr>\n",
              "      <th>3</th>\n",
              "      <td>Wellington Rato</td>\n",
              "      <td>BRA</td>\n",
              "      <td>LT,AT</td>\n",
              "      <td>30</td>\n",
              "      <td>13.6</td>\n",
              "      <td>4.0</td>\n",
              "      <td>0.0</td>\n",
              "      <td>0.294118</td>\n",
              "    </tr>\n",
              "    <tr>\n",
              "      <th>4</th>\n",
              "      <td>Stiven Mendoza</td>\n",
              "      <td>COL</td>\n",
              "      <td>AT,LT</td>\n",
              "      <td>30</td>\n",
              "      <td>11.5</td>\n",
              "      <td>7.0</td>\n",
              "      <td>0.0</td>\n",
              "      <td>0.608696</td>\n",
              "    </tr>\n",
              "    <tr>\n",
              "      <th>...</th>\n",
              "      <td>...</td>\n",
              "      <td>...</td>\n",
              "      <td>...</td>\n",
              "      <td>...</td>\n",
              "      <td>...</td>\n",
              "      <td>...</td>\n",
              "      <td>...</td>\n",
              "      <td>...</td>\n",
              "    </tr>\n",
              "    <tr>\n",
              "      <th>137</th>\n",
              "      <td>Óscar Ruiz</td>\n",
              "      <td>PAR</td>\n",
              "      <td>AT,LT</td>\n",
              "      <td>31</td>\n",
              "      <td>6.3</td>\n",
              "      <td>3.0</td>\n",
              "      <td>0.0</td>\n",
              "      <td>0.476190</td>\n",
              "    </tr>\n",
              "    <tr>\n",
              "      <th>138</th>\n",
              "      <td>Marlon</td>\n",
              "      <td>BRA</td>\n",
              "      <td>LT,AT</td>\n",
              "      <td>32</td>\n",
              "      <td>1.7</td>\n",
              "      <td>0.0</td>\n",
              "      <td>0.0</td>\n",
              "      <td>0.000000</td>\n",
              "    </tr>\n",
              "    <tr>\n",
              "      <th>139</th>\n",
              "      <td>Vitor Gabriel</td>\n",
              "      <td>BRA</td>\n",
              "      <td>AT</td>\n",
              "      <td>22</td>\n",
              "      <td>4.3</td>\n",
              "      <td>1.0</td>\n",
              "      <td>0.0</td>\n",
              "      <td>0.232558</td>\n",
              "    </tr>\n",
              "    <tr>\n",
              "      <th>140</th>\n",
              "      <td>Guilherme Parede</td>\n",
              "      <td>BRA</td>\n",
              "      <td>LT,AT</td>\n",
              "      <td>26</td>\n",
              "      <td>3.1</td>\n",
              "      <td>0.0</td>\n",
              "      <td>1.0</td>\n",
              "      <td>0.000000</td>\n",
              "    </tr>\n",
              "    <tr>\n",
              "      <th>141</th>\n",
              "      <td>Bruninho</td>\n",
              "      <td>BRA</td>\n",
              "      <td>AT</td>\n",
              "      <td>22</td>\n",
              "      <td>1.3</td>\n",
              "      <td>0.0</td>\n",
              "      <td>0.0</td>\n",
              "      <td>0.000000</td>\n",
              "    </tr>\n",
              "  </tbody>\n",
              "</table>\n",
              "<p>142 rows × 8 columns</p>\n",
              "</div>\n",
              "      <button class=\"colab-df-convert\" onclick=\"convertToInteractive('df-0c43cc67-a4fe-4181-b6dc-7f2dba107d09')\"\n",
              "              title=\"Convert this dataframe to an interactive table.\"\n",
              "              style=\"display:none;\">\n",
              "        \n",
              "  <svg xmlns=\"http://www.w3.org/2000/svg\" height=\"24px\"viewBox=\"0 0 24 24\"\n",
              "       width=\"24px\">\n",
              "    <path d=\"M0 0h24v24H0V0z\" fill=\"none\"/>\n",
              "    <path d=\"M18.56 5.44l.94 2.06.94-2.06 2.06-.94-2.06-.94-.94-2.06-.94 2.06-2.06.94zm-11 1L8.5 8.5l.94-2.06 2.06-.94-2.06-.94L8.5 2.5l-.94 2.06-2.06.94zm10 10l.94 2.06.94-2.06 2.06-.94-2.06-.94-.94-2.06-.94 2.06-2.06.94z\"/><path d=\"M17.41 7.96l-1.37-1.37c-.4-.4-.92-.59-1.43-.59-.52 0-1.04.2-1.43.59L10.3 9.45l-7.72 7.72c-.78.78-.78 2.05 0 2.83L4 21.41c.39.39.9.59 1.41.59.51 0 1.02-.2 1.41-.59l7.78-7.78 2.81-2.81c.8-.78.8-2.07 0-2.86zM5.41 20L4 18.59l7.72-7.72 1.47 1.35L5.41 20z\"/>\n",
              "  </svg>\n",
              "      </button>\n",
              "      \n",
              "  <style>\n",
              "    .colab-df-container {\n",
              "      display:flex;\n",
              "      flex-wrap:wrap;\n",
              "      gap: 12px;\n",
              "    }\n",
              "\n",
              "    .colab-df-convert {\n",
              "      background-color: #E8F0FE;\n",
              "      border: none;\n",
              "      border-radius: 50%;\n",
              "      cursor: pointer;\n",
              "      display: none;\n",
              "      fill: #1967D2;\n",
              "      height: 32px;\n",
              "      padding: 0 0 0 0;\n",
              "      width: 32px;\n",
              "    }\n",
              "\n",
              "    .colab-df-convert:hover {\n",
              "      background-color: #E2EBFA;\n",
              "      box-shadow: 0px 1px 2px rgba(60, 64, 67, 0.3), 0px 1px 3px 1px rgba(60, 64, 67, 0.15);\n",
              "      fill: #174EA6;\n",
              "    }\n",
              "\n",
              "    [theme=dark] .colab-df-convert {\n",
              "      background-color: #3B4455;\n",
              "      fill: #D2E3FC;\n",
              "    }\n",
              "\n",
              "    [theme=dark] .colab-df-convert:hover {\n",
              "      background-color: #434B5C;\n",
              "      box-shadow: 0px 1px 3px 1px rgba(0, 0, 0, 0.15);\n",
              "      filter: drop-shadow(0px 1px 2px rgba(0, 0, 0, 0.3));\n",
              "      fill: #FFFFFF;\n",
              "    }\n",
              "  </style>\n",
              "\n",
              "      <script>\n",
              "        const buttonEl =\n",
              "          document.querySelector('#df-0c43cc67-a4fe-4181-b6dc-7f2dba107d09 button.colab-df-convert');\n",
              "        buttonEl.style.display =\n",
              "          google.colab.kernel.accessAllowed ? 'block' : 'none';\n",
              "\n",
              "        async function convertToInteractive(key) {\n",
              "          const element = document.querySelector('#df-0c43cc67-a4fe-4181-b6dc-7f2dba107d09');\n",
              "          const dataTable =\n",
              "            await google.colab.kernel.invokeFunction('convertToInteractive',\n",
              "                                                     [key], {});\n",
              "          if (!dataTable) return;\n",
              "\n",
              "          const docLinkHtml = 'Like what you see? Visit the ' +\n",
              "            '<a target=\"_blank\" href=https://colab.research.google.com/notebooks/data_table.ipynb>data table notebook</a>'\n",
              "            + ' to learn more about interactive tables.';\n",
              "          element.innerHTML = '';\n",
              "          dataTable['output_type'] = 'display_data';\n",
              "          await google.colab.output.renderOutput(dataTable, element);\n",
              "          const docLink = document.createElement('div');\n",
              "          docLink.innerHTML = docLinkHtml;\n",
              "          element.appendChild(docLink);\n",
              "        }\n",
              "      </script>\n",
              "    </div>\n",
              "  </div>\n",
              "  "
            ]
          },
          "metadata": {},
          "execution_count": 34
        }
      ]
    },
    {
      "cell_type": "markdown",
      "source": [
        "Here, we can see 2 examples of data visualization regarding:\n",
        "* The correlation matrix between each feature in out dataset\n",
        "* A histogram of goals grouped by our age column"
      ],
      "metadata": {
        "id": "4pwUnpmrZVyC"
      }
    },
    {
      "cell_type": "code",
      "source": [
        "fig = plt.figure(figsize=(12,5))\n",
        "ax1 = plt.subplot(121) \n",
        "sns.heatmap(data=attack.corr(), cmap=\"YlGnBu\", annot=True)\n",
        "plt.xticks(rotation=30)\n",
        "ax2 = plt.subplot(122) \n",
        "attack.groupby(['idade'])['gols'].mean().sort_values(ascending=False).plot.bar()\n",
        "plt.xticks(rotation=45)\n",
        "plt.show()\n"
      ],
      "metadata": {
        "colab": {
          "base_uri": "https://localhost:8080/",
          "height": 358
        },
        "id": "aOd6XFvFI3u5",
        "outputId": "ca5be7e8-bf61-4c18-9c3f-5fd89aa7533b"
      },
      "execution_count": 35,
      "outputs": [
        {
          "output_type": "display_data",
          "data": {
            "text/plain": [
              "<Figure size 864x360 with 3 Axes>"
            ],
            "image/png": "[encoded data removed]"
          },
          "metadata": {
            "needs_background": "light"
          }
        }
      ]
    },
    {
      "cell_type": "markdown",
      "source": [
        "Here, we can see 2 examples of data visualization regarding:\n",
        "\n",
        "* A boxplot refering to the distribution of goals\n",
        "* A countplot of goals regardign the amount of goals"
      ],
      "metadata": {
        "id": "fdXZqSMGaKbL"
      }
    },
    {
      "cell_type": "code",
      "source": [
        "fig = plt.figure(figsize=(12,5))\n",
        "ax1 = plt.subplot(121)\n",
        "sns.boxplot(y = attack['gols'])\n",
        "ax1 = plt.subplot(122)\n",
        "#sns.histplot(data=attack['gols'])\n",
        "#attack['gols'].plot.hist(sortvalues=True)\n",
        "sns.countplot(x='gols', data=attack, order=attack['gols'].value_counts().index)\n",
        "plt.show()"
      ],
      "metadata": {
        "colab": {
          "base_uri": "https://localhost:8080/",
          "height": 334
        },
        "id": "q0exQJHhPQ76",
        "outputId": "21201798-355d-4f5d-8195-28bcdce73154"
      },
      "execution_count": 36,
      "outputs": [
        {
          "output_type": "display_data",
          "data": {
            "text/plain": [
              "<Figure size 864x360 with 2 Axes>"
            ],
            "image/png": "[encoded data removed]"
          },
          "metadata": {
            "needs_background": "light"
          }
        }
      ]
    },
    {
      "cell_type": "markdown",
      "source": [
        "Regarding ***Data Normalization***, we want to present/test two approaches in order to treat our outliers:"
      ],
      "metadata": {
        "id": "xVVslBzlatZT"
      }
    },
    {
      "cell_type": "markdown",
      "source": [
        "##### Log Approach:"
      ],
      "metadata": {
        "id": "_AdecfNEbUw4"
      }
    },
    {
      "cell_type": "code",
      "source": [
        "attack['gols_log'] = attack['gols'].apply(np.log2)"
      ],
      "metadata": {
        "id": "nRXsVEt6RBQS"
      },
      "execution_count": 37,
      "outputs": []
    },
    {
      "cell_type": "code",
      "source": [
        "# Empiric method\n",
        "for i in range(1):\n",
        "  attack['gols_log'] = attack['gols_log'].apply(np.log2)"
      ],
      "metadata": {
        "id": "CstID9ZbRfCc"
      },
      "execution_count": 38,
      "outputs": []
    },
    {
      "cell_type": "code",
      "source": [
        "attack[attack['gols_log']>0]['gols_log'].hist()"
      ],
      "metadata": {
        "colab": {
          "base_uri": "https://localhost:8080/",
          "height": 282
        },
        "id": "bk-9fEqyL1iK",
        "outputId": "e8418fff-bcd9-43a5-d896-6f42c6a934b9"
      },
      "execution_count": 39,
      "outputs": [
        {
          "output_type": "execute_result",
          "data": {
            "text/plain": [
              "<matplotlib.axes._subplots.AxesSubplot at 0x7f49c7c0b5d0>"
            ]
          },
          "metadata": {},
          "execution_count": 39
        },
        {
          "output_type": "display_data",
          "data": {
            "text/plain": [
              "<Figure size 432x288 with 1 Axes>"
            ],
            "image/png": "[encoded data removed]"
          },
          "metadata": {
            "needs_background": "light"
          }
        }
      ]
    },
    {
      "cell_type": "code",
      "source": [
        "q1 = attack['gols_log'].quantile(q=0.25)\n",
        "q3 = attack['gols_log'].quantile(q=0.75)\n",
        "iqr = q3 - q1\n",
        "print(iqr)"
      ],
      "metadata": {
        "colab": {
          "base_uri": "https://localhost:8080/"
        },
        "id": "VXC9wc0DR6Ch",
        "outputId": "847c9e35-139a-431d-e57c-8ddf4273e547"
      },
      "execution_count": 40,
      "outputs": [
        {
          "output_type": "stream",
          "name": "stdout",
          "text": [
            "nan\n"
          ]
        },
        {
          "output_type": "stream",
          "name": "stderr",
          "text": [
            "/usr/local/lib/python3.7/dist-packages/numpy/lib/function_base.py:4009: RuntimeWarning: invalid value encountered in subtract\n",
            "  diff_b_a = subtract(b, a)\n"
          ]
        }
      ]
    },
    {
      "cell_type": "code",
      "source": [
        "sns.boxplot(data=attack['gols_log'])"
      ],
      "metadata": {
        "colab": {
          "base_uri": "https://localhost:8080/",
          "height": 282
        },
        "id": "dsAfhN4-ZRRV",
        "outputId": "f69915ca-6bdc-4078-dcb5-784edc0bfee5"
      },
      "execution_count": 41,
      "outputs": [
        {
          "output_type": "execute_result",
          "data": {
            "text/plain": [
              "<matplotlib.axes._subplots.AxesSubplot at 0x7f49c7af0d10>"
            ]
          },
          "metadata": {},
          "execution_count": 41
        },
        {
          "output_type": "display_data",
          "data": {
            "text/plain": [
              "<Figure size 432x288 with 1 Axes>"
            ],
            "image/png": "[encoded data removed]"
          },
          "metadata": {
            "needs_background": "light"
          }
        }
      ]
    },
    {
      "cell_type": "code",
      "source": [
        "#houses[houses['price_log'] < (q1-1.5*iqr)]\n",
        "attack[attack['gols_log'] > (q3+1.5*iqr)]"
      ],
      "metadata": {
        "colab": {
          "base_uri": "https://localhost:8080/",
          "height": 49
        },
        "id": "p8ocj9vBR_Rm",
        "outputId": "69171026-3f61-43da-87db-cd8dd566d0e8"
      },
      "execution_count": 42,
      "outputs": [
        {
          "output_type": "execute_result",
          "data": {
            "text/plain": [
              "Empty DataFrame\n",
              "Columns: [jogador, nacao, posicao, idade, minPor90, gols, assist, golsPorPartida, gols_log]\n",
              "Index: []"
            ],
            "text/html": [
              "\n",
              "  <div id=\"df-adb56e11-5ecd-4dcd-9cea-eebde256a273\">\n",
              "    <div class=\"colab-df-container\">\n",
              "      <div>\n",
              "<style scoped>\n",
              "    .dataframe tbody tr th:only-of-type {\n",
              "        vertical-align: middle;\n",
              "    }\n",
              "\n",
              "    .dataframe tbody tr th {\n",
              "        vertical-align: top;\n",
              "    }\n",
              "\n",
              "    .dataframe thead th {\n",
              "        text-align: right;\n",
              "    }\n",
              "</style>\n",
              "<table border=\"1\" class=\"dataframe\">\n",
              "  <thead>\n",
              "    <tr style=\"text-align: right;\">\n",
              "      <th></th>\n",
              "      <th>jogador</th>\n",
              "      <th>nacao</th>\n",
              "      <th>posicao</th>\n",
              "      <th>idade</th>\n",
              "      <th>minPor90</th>\n",
              "      <th>gols</th>\n",
              "      <th>assist</th>\n",
              "      <th>golsPorPartida</th>\n",
              "      <th>gols_log</th>\n",
              "    </tr>\n",
              "  </thead>\n",
              "  <tbody>\n",
              "  </tbody>\n",
              "</table>\n",
              "</div>\n",
              "      <button class=\"colab-df-convert\" onclick=\"convertToInteractive('df-adb56e11-5ecd-4dcd-9cea-eebde256a273')\"\n",
              "              title=\"Convert this dataframe to an interactive table.\"\n",
              "              style=\"display:none;\">\n",
              "        \n",
              "  <svg xmlns=\"http://www.w3.org/2000/svg\" height=\"24px\"viewBox=\"0 0 24 24\"\n",
              "       width=\"24px\">\n",
              "    <path d=\"M0 0h24v24H0V0z\" fill=\"none\"/>\n",
              "    <path d=\"M18.56 5.44l.94 2.06.94-2.06 2.06-.94-2.06-.94-.94-2.06-.94 2.06-2.06.94zm-11 1L8.5 8.5l.94-2.06 2.06-.94-2.06-.94L8.5 2.5l-.94 2.06-2.06.94zm10 10l.94 2.06.94-2.06 2.06-.94-2.06-.94-.94-2.06-.94 2.06-2.06.94z\"/><path d=\"M17.41 7.96l-1.37-1.37c-.4-.4-.92-.59-1.43-.59-.52 0-1.04.2-1.43.59L10.3 9.45l-7.72 7.72c-.78.78-.78 2.05 0 2.83L4 21.41c.39.39.9.59 1.41.59.51 0 1.02-.2 1.41-.59l7.78-7.78 2.81-2.81c.8-.78.8-2.07 0-2.86zM5.41 20L4 18.59l7.72-7.72 1.47 1.35L5.41 20z\"/>\n",
              "  </svg>\n",
              "      </button>\n",
              "      \n",
              "  <style>\n",
              "    .colab-df-container {\n",
              "      display:flex;\n",
              "      flex-wrap:wrap;\n",
              "      gap: 12px;\n",
              "    }\n",
              "\n",
              "    .colab-df-convert {\n",
              "      background-color: #E8F0FE;\n",
              "      border: none;\n",
              "      border-radius: 50%;\n",
              "      cursor: pointer;\n",
              "      display: none;\n",
              "      fill: #1967D2;\n",
              "      height: 32px;\n",
              "      padding: 0 0 0 0;\n",
              "      width: 32px;\n",
              "    }\n",
              "\n",
              "    .colab-df-convert:hover {\n",
              "      background-color: #E2EBFA;\n",
              "      box-shadow: 0px 1px 2px rgba(60, 64, 67, 0.3), 0px 1px 3px 1px rgba(60, 64, 67, 0.15);\n",
              "      fill: #174EA6;\n",
              "    }\n",
              "\n",
              "    [theme=dark] .colab-df-convert {\n",
              "      background-color: #3B4455;\n",
              "      fill: #D2E3FC;\n",
              "    }\n",
              "\n",
              "    [theme=dark] .colab-df-convert:hover {\n",
              "      background-color: #434B5C;\n",
              "      box-shadow: 0px 1px 3px 1px rgba(0, 0, 0, 0.15);\n",
              "      filter: drop-shadow(0px 1px 2px rgba(0, 0, 0, 0.3));\n",
              "      fill: #FFFFFF;\n",
              "    }\n",
              "  </style>\n",
              "\n",
              "      <script>\n",
              "        const buttonEl =\n",
              "          document.querySelector('#df-adb56e11-5ecd-4dcd-9cea-eebde256a273 button.colab-df-convert');\n",
              "        buttonEl.style.display =\n",
              "          google.colab.kernel.accessAllowed ? 'block' : 'none';\n",
              "\n",
              "        async function convertToInteractive(key) {\n",
              "          const element = document.querySelector('#df-adb56e11-5ecd-4dcd-9cea-eebde256a273');\n",
              "          const dataTable =\n",
              "            await google.colab.kernel.invokeFunction('convertToInteractive',\n",
              "                                                     [key], {});\n",
              "          if (!dataTable) return;\n",
              "\n",
              "          const docLinkHtml = 'Like what you see? Visit the ' +\n",
              "            '<a target=\"_blank\" href=https://colab.research.google.com/notebooks/data_table.ipynb>data table notebook</a>'\n",
              "            + ' to learn more about interactive tables.';\n",
              "          element.innerHTML = '';\n",
              "          dataTable['output_type'] = 'display_data';\n",
              "          await google.colab.output.renderOutput(dataTable, element);\n",
              "          const docLink = document.createElement('div');\n",
              "          docLink.innerHTML = docLinkHtml;\n",
              "          element.appendChild(docLink);\n",
              "        }\n",
              "      </script>\n",
              "    </div>\n",
              "  </div>\n",
              "  "
            ]
          },
          "metadata": {},
          "execution_count": 42
        }
      ]
    },
    {
      "cell_type": "markdown",
      "source": [
        "As we can see above, this method is not valid since many players didn't score any goals despite playing. So, it's not an irrelevant value."
      ],
      "metadata": {
        "id": "ZRYnOYIFbaHx"
      }
    },
    {
      "cell_type": "markdown",
      "source": [
        "##### MinMaxScaler Approach:"
      ],
      "metadata": {
        "id": "cTx9DcQTbgCz"
      }
    },
    {
      "cell_type": "code",
      "source": [
        "# Method change\n",
        "scaler = MinMaxScaler()\n",
        "attack['gols_norm'] = scaler.fit_transform(attack[['gols']])\n",
        "attack['gols_norm'].describe()"
      ],
      "metadata": {
        "colab": {
          "base_uri": "https://localhost:8080/"
        },
        "id": "_ZBuvQq1bZSu",
        "outputId": "8522be92-d8fc-45ea-f0c5-0c8e6dfec22a"
      },
      "execution_count": 43,
      "outputs": [
        {
          "output_type": "execute_result",
          "data": {
            "text/plain": [
              "count    142.000000\n",
              "mean       0.153521\n",
              "std        0.212604\n",
              "min        0.000000\n",
              "25%        0.000000\n",
              "50%        0.100000\n",
              "75%        0.200000\n",
              "max        1.000000\n",
              "Name: gols_norm, dtype: float64"
            ]
          },
          "metadata": {},
          "execution_count": 43
        }
      ]
    },
    {
      "cell_type": "code",
      "source": [
        "attack['gols_norm'].hist()"
      ],
      "metadata": {
        "colab": {
          "base_uri": "https://localhost:8080/",
          "height": 282
        },
        "id": "0uAcVwgJbpwj",
        "outputId": "618ac8f2-e51d-41aa-963f-86e85c43b9c8"
      },
      "execution_count": 44,
      "outputs": [
        {
          "output_type": "execute_result",
          "data": {
            "text/plain": [
              "<matplotlib.axes._subplots.AxesSubplot at 0x7f49c7aeb250>"
            ]
          },
          "metadata": {},
          "execution_count": 44
        },
        {
          "output_type": "display_data",
          "data": {
            "text/plain": [
              "<Figure size 432x288 with 1 Axes>"
            ],
            "image/png": "[encoded data removed]"
          },
          "metadata": {
            "needs_background": "light"
          }
        }
      ]
    },
    {
      "cell_type": "code",
      "source": [
        "q1 = attack['gols_norm'].quantile(q=0.25)\n",
        "q3 = attack['gols_norm'].quantile(q=0.75)\n",
        "iqr = q3 - q1\n",
        "print(iqr)"
      ],
      "metadata": {
        "colab": {
          "base_uri": "https://localhost:8080/"
        },
        "id": "2lirkZ7eb4MK",
        "outputId": "d607eb24-ee69-45d5-8791-b7043cb77869"
      },
      "execution_count": 45,
      "outputs": [
        {
          "output_type": "stream",
          "name": "stdout",
          "text": [
            "0.2\n"
          ]
        }
      ]
    },
    {
      "cell_type": "code",
      "source": [
        "attack[attack['gols_norm'] > (q3+1.5*iqr)]"
      ],
      "metadata": {
        "colab": {
          "base_uri": "https://localhost:8080/",
          "height": 394
        },
        "id": "SILpJBTUcpDD",
        "outputId": "c56f5efa-231d-4a5d-f506-c496d2406af1"
      },
      "execution_count": 46,
      "outputs": [
        {
          "output_type": "execute_result",
          "data": {
            "text/plain": [
              "              jogador nacao posicao  idade  minPor90  gols  assist  \\\n",
              "0              Erison   BRA      AT     23      13.4   6.0     1.0   \n",
              "1                Hulk   BRA      AT     35      13.9   7.0     2.0   \n",
              "4      Stiven Mendoza   COL   AT,LT     30      11.5   7.0     0.0   \n",
              "5   Guilherme Bissoli   BRA      AT     24      13.5   8.0     0.0   \n",
              "12        Léo Gamalho   BRA      AT     36      10.3   6.0     0.0   \n",
              "67        Germán Cano   ARG      AT     34      14.9  10.0     1.0   \n",
              "72         Pedro Raul   BRA      AT     25      12.4   8.0     0.0   \n",
              "77   Jonathan Calleri   ARG      AT     28      15.4   9.0     1.0   \n",
              "78               Rony   BRA      AT     27      13.0   7.0     0.0   \n",
              "82    Marcos Leonardo   BRA      AT     19      12.9   6.0     1.0   \n",
              "92            Luciano   BRA   AT,LT     29       8.6   6.0     0.0   \n",
              "\n",
              "    golsPorPartida  gols_log  gols_norm  \n",
              "0         0.447761  1.370143        0.6  \n",
              "1         0.503597  1.489211        0.7  \n",
              "4         0.608696  1.489211        0.7  \n",
              "5         0.592593  1.584963        0.8  \n",
              "12        0.582524  1.370143        0.6  \n",
              "67        0.671141  1.732021        1.0  \n",
              "72        0.645161  1.584963        0.8  \n",
              "77        0.584416  1.664449        0.9  \n",
              "78        0.538462  1.489211        0.7  \n",
              "82        0.465116  1.370143        0.6  \n",
              "92        0.697674  1.370143        0.6  "
            ],
            "text/html": [
              "\n",
              "  <div id=\"df-b88627aa-01d2-491b-82a3-83317da9e6bb\">\n",
              "    <div class=\"colab-df-container\">\n",
              "      <div>\n",
              "<style scoped>\n",
              "    .dataframe tbody tr th:only-of-type {\n",
              "        vertical-align: middle;\n",
              "    }\n",
              "\n",
              "    .dataframe tbody tr th {\n",
              "        vertical-align: top;\n",
              "    }\n",
              "\n",
              "    .dataframe thead th {\n",
              "        text-align: right;\n",
              "    }\n",
              "</style>\n",
              "<table border=\"1\" class=\"dataframe\">\n",
              "  <thead>\n",
              "    <tr style=\"text-align: right;\">\n",
              "      <th></th>\n",
              "      <th>jogador</th>\n",
              "      <th>nacao</th>\n",
              "      <th>posicao</th>\n",
              "      <th>idade</th>\n",
              "      <th>minPor90</th>\n",
              "      <th>gols</th>\n",
              "      <th>assist</th>\n",
              "      <th>golsPorPartida</th>\n",
              "      <th>gols_log</th>\n",
              "      <th>gols_norm</th>\n",
              "    </tr>\n",
              "  </thead>\n",
              "  <tbody>\n",
              "    <tr>\n",
              "      <th>0</th>\n",
              "      <td>Erison</td>\n",
              "      <td>BRA</td>\n",
              "      <td>AT</td>\n",
              "      <td>23</td>\n",
              "      <td>13.4</td>\n",
              "      <td>6.0</td>\n",
              "      <td>1.0</td>\n",
              "      <td>0.447761</td>\n",
              "      <td>1.370143</td>\n",
              "      <td>0.6</td>\n",
              "    </tr>\n",
              "    <tr>\n",
              "      <th>1</th>\n",
              "      <td>Hulk</td>\n",
              "      <td>BRA</td>\n",
              "      <td>AT</td>\n",
              "      <td>35</td>\n",
              "      <td>13.9</td>\n",
              "      <td>7.0</td>\n",
              "      <td>2.0</td>\n",
              "      <td>0.503597</td>\n",
              "      <td>1.489211</td>\n",
              "      <td>0.7</td>\n",
              "    </tr>\n",
              "    <tr>\n",
              "      <th>4</th>\n",
              "      <td>Stiven Mendoza</td>\n",
              "      <td>COL</td>\n",
              "      <td>AT,LT</td>\n",
              "      <td>30</td>\n",
              "      <td>11.5</td>\n",
              "      <td>7.0</td>\n",
              "      <td>0.0</td>\n",
              "      <td>0.608696</td>\n",
              "      <td>1.489211</td>\n",
              "      <td>0.7</td>\n",
              "    </tr>\n",
              "    <tr>\n",
              "      <th>5</th>\n",
              "      <td>Guilherme Bissoli</td>\n",
              "      <td>BRA</td>\n",
              "      <td>AT</td>\n",
              "      <td>24</td>\n",
              "      <td>13.5</td>\n",
              "      <td>8.0</td>\n",
              "      <td>0.0</td>\n",
              "      <td>0.592593</td>\n",
              "      <td>1.584963</td>\n",
              "      <td>0.8</td>\n",
              "    </tr>\n",
              "    <tr>\n",
              "      <th>12</th>\n",
              "      <td>Léo Gamalho</td>\n",
              "      <td>BRA</td>\n",
              "      <td>AT</td>\n",
              "      <td>36</td>\n",
              "      <td>10.3</td>\n",
              "      <td>6.0</td>\n",
              "      <td>0.0</td>\n",
              "      <td>0.582524</td>\n",
              "      <td>1.370143</td>\n",
              "      <td>0.6</td>\n",
              "    </tr>\n",
              "    <tr>\n",
              "      <th>67</th>\n",
              "      <td>Germán Cano</td>\n",
              "      <td>ARG</td>\n",
              "      <td>AT</td>\n",
              "      <td>34</td>\n",
              "      <td>14.9</td>\n",
              "      <td>10.0</td>\n",
              "      <td>1.0</td>\n",
              "      <td>0.671141</td>\n",
              "      <td>1.732021</td>\n",
              "      <td>1.0</td>\n",
              "    </tr>\n",
              "    <tr>\n",
              "      <th>72</th>\n",
              "      <td>Pedro Raul</td>\n",
              "      <td>BRA</td>\n",
              "      <td>AT</td>\n",
              "      <td>25</td>\n",
              "      <td>12.4</td>\n",
              "      <td>8.0</td>\n",
              "      <td>0.0</td>\n",
              "      <td>0.645161</td>\n",
              "      <td>1.584963</td>\n",
              "      <td>0.8</td>\n",
              "    </tr>\n",
              "    <tr>\n",
              "      <th>77</th>\n",
              "      <td>Jonathan Calleri</td>\n",
              "      <td>ARG</td>\n",
              "      <td>AT</td>\n",
              "      <td>28</td>\n",
              "      <td>15.4</td>\n",
              "      <td>9.0</td>\n",
              "      <td>1.0</td>\n",
              "      <td>0.584416</td>\n",
              "      <td>1.664449</td>\n",
              "      <td>0.9</td>\n",
              "    </tr>\n",
              "    <tr>\n",
              "      <th>78</th>\n",
              "      <td>Rony</td>\n",
              "      <td>BRA</td>\n",
              "      <td>AT</td>\n",
              "      <td>27</td>\n",
              "      <td>13.0</td>\n",
              "      <td>7.0</td>\n",
              "      <td>0.0</td>\n",
              "      <td>0.538462</td>\n",
              "      <td>1.489211</td>\n",
              "      <td>0.7</td>\n",
              "    </tr>\n",
              "    <tr>\n",
              "      <th>82</th>\n",
              "      <td>Marcos Leonardo</td>\n",
              "      <td>BRA</td>\n",
              "      <td>AT</td>\n",
              "      <td>19</td>\n",
              "      <td>12.9</td>\n",
              "      <td>6.0</td>\n",
              "      <td>1.0</td>\n",
              "      <td>0.465116</td>\n",
              "      <td>1.370143</td>\n",
              "      <td>0.6</td>\n",
              "    </tr>\n",
              "    <tr>\n",
              "      <th>92</th>\n",
              "      <td>Luciano</td>\n",
              "      <td>BRA</td>\n",
              "      <td>AT,LT</td>\n",
              "      <td>29</td>\n",
              "      <td>8.6</td>\n",
              "      <td>6.0</td>\n",
              "      <td>0.0</td>\n",
              "      <td>0.697674</td>\n",
              "      <td>1.370143</td>\n",
              "      <td>0.6</td>\n",
              "    </tr>\n",
              "  </tbody>\n",
              "</table>\n",
              "</div>\n",
              "      <button class=\"colab-df-convert\" onclick=\"convertToInteractive('df-b88627aa-01d2-491b-82a3-83317da9e6bb')\"\n",
              "              title=\"Convert this dataframe to an interactive table.\"\n",
              "              style=\"display:none;\">\n",
              "        \n",
              "  <svg xmlns=\"http://www.w3.org/2000/svg\" height=\"24px\"viewBox=\"0 0 24 24\"\n",
              "       width=\"24px\">\n",
              "    <path d=\"M0 0h24v24H0V0z\" fill=\"none\"/>\n",
              "    <path d=\"M18.56 5.44l.94 2.06.94-2.06 2.06-.94-2.06-.94-.94-2.06-.94 2.06-2.06.94zm-11 1L8.5 8.5l.94-2.06 2.06-.94-2.06-.94L8.5 2.5l-.94 2.06-2.06.94zm10 10l.94 2.06.94-2.06 2.06-.94-2.06-.94-.94-2.06-.94 2.06-2.06.94z\"/><path d=\"M17.41 7.96l-1.37-1.37c-.4-.4-.92-.59-1.43-.59-.52 0-1.04.2-1.43.59L10.3 9.45l-7.72 7.72c-.78.78-.78 2.05 0 2.83L4 21.41c.39.39.9.59 1.41.59.51 0 1.02-.2 1.41-.59l7.78-7.78 2.81-2.81c.8-.78.8-2.07 0-2.86zM5.41 20L4 18.59l7.72-7.72 1.47 1.35L5.41 20z\"/>\n",
              "  </svg>\n",
              "      </button>\n",
              "      \n",
              "  <style>\n",
              "    .colab-df-container {\n",
              "      display:flex;\n",
              "      flex-wrap:wrap;\n",
              "      gap: 12px;\n",
              "    }\n",
              "\n",
              "    .colab-df-convert {\n",
              "      background-color: #E8F0FE;\n",
              "      border: none;\n",
              "      border-radius: 50%;\n",
              "      cursor: pointer;\n",
              "      display: none;\n",
              "      fill: #1967D2;\n",
              "      height: 32px;\n",
              "      padding: 0 0 0 0;\n",
              "      width: 32px;\n",
              "    }\n",
              "\n",
              "    .colab-df-convert:hover {\n",
              "      background-color: #E2EBFA;\n",
              "      box-shadow: 0px 1px 2px rgba(60, 64, 67, 0.3), 0px 1px 3px 1px rgba(60, 64, 67, 0.15);\n",
              "      fill: #174EA6;\n",
              "    }\n",
              "\n",
              "    [theme=dark] .colab-df-convert {\n",
              "      background-color: #3B4455;\n",
              "      fill: #D2E3FC;\n",
              "    }\n",
              "\n",
              "    [theme=dark] .colab-df-convert:hover {\n",
              "      background-color: #434B5C;\n",
              "      box-shadow: 0px 1px 3px 1px rgba(0, 0, 0, 0.15);\n",
              "      filter: drop-shadow(0px 1px 2px rgba(0, 0, 0, 0.3));\n",
              "      fill: #FFFFFF;\n",
              "    }\n",
              "  </style>\n",
              "\n",
              "      <script>\n",
              "        const buttonEl =\n",
              "          document.querySelector('#df-b88627aa-01d2-491b-82a3-83317da9e6bb button.colab-df-convert');\n",
              "        buttonEl.style.display =\n",
              "          google.colab.kernel.accessAllowed ? 'block' : 'none';\n",
              "\n",
              "        async function convertToInteractive(key) {\n",
              "          const element = document.querySelector('#df-b88627aa-01d2-491b-82a3-83317da9e6bb');\n",
              "          const dataTable =\n",
              "            await google.colab.kernel.invokeFunction('convertToInteractive',\n",
              "                                                     [key], {});\n",
              "          if (!dataTable) return;\n",
              "\n",
              "          const docLinkHtml = 'Like what you see? Visit the ' +\n",
              "            '<a target=\"_blank\" href=https://colab.research.google.com/notebooks/data_table.ipynb>data table notebook</a>'\n",
              "            + ' to learn more about interactive tables.';\n",
              "          element.innerHTML = '';\n",
              "          dataTable['output_type'] = 'display_data';\n",
              "          await google.colab.output.renderOutput(dataTable, element);\n",
              "          const docLink = document.createElement('div');\n",
              "          docLink.innerHTML = docLinkHtml;\n",
              "          element.appendChild(docLink);\n",
              "        }\n",
              "      </script>\n",
              "    </div>\n",
              "  </div>\n",
              "  "
            ]
          },
          "metadata": {},
          "execution_count": 46
        }
      ]
    },
    {
      "cell_type": "code",
      "source": [
        "best_attack = attack[attack['gols_norm'] > (q3+1.5*iqr)]"
      ],
      "metadata": {
        "id": "WFrdYXx9c3IO"
      },
      "execution_count": 47,
      "outputs": []
    },
    {
      "cell_type": "code",
      "source": [
        "best_attack"
      ],
      "metadata": {
        "colab": {
          "base_uri": "https://localhost:8080/",
          "height": 394
        },
        "id": "KPcCiIn0dMd8",
        "outputId": "6e4121b7-d9bc-4844-91f4-2b5227e3c66b"
      },
      "execution_count": 48,
      "outputs": [
        {
          "output_type": "execute_result",
          "data": {
            "text/plain": [
              "              jogador nacao posicao  idade  minPor90  gols  assist  \\\n",
              "0              Erison   BRA      AT     23      13.4   6.0     1.0   \n",
              "1                Hulk   BRA      AT     35      13.9   7.0     2.0   \n",
              "4      Stiven Mendoza   COL   AT,LT     30      11.5   7.0     0.0   \n",
              "5   Guilherme Bissoli   BRA      AT     24      13.5   8.0     0.0   \n",
              "12        Léo Gamalho   BRA      AT     36      10.3   6.0     0.0   \n",
              "67        Germán Cano   ARG      AT     34      14.9  10.0     1.0   \n",
              "72         Pedro Raul   BRA      AT     25      12.4   8.0     0.0   \n",
              "77   Jonathan Calleri   ARG      AT     28      15.4   9.0     1.0   \n",
              "78               Rony   BRA      AT     27      13.0   7.0     0.0   \n",
              "82    Marcos Leonardo   BRA      AT     19      12.9   6.0     1.0   \n",
              "92            Luciano   BRA   AT,LT     29       8.6   6.0     0.0   \n",
              "\n",
              "    golsPorPartida  gols_log  gols_norm  \n",
              "0         0.447761  1.370143        0.6  \n",
              "1         0.503597  1.489211        0.7  \n",
              "4         0.608696  1.489211        0.7  \n",
              "5         0.592593  1.584963        0.8  \n",
              "12        0.582524  1.370143        0.6  \n",
              "67        0.671141  1.732021        1.0  \n",
              "72        0.645161  1.584963        0.8  \n",
              "77        0.584416  1.664449        0.9  \n",
              "78        0.538462  1.489211        0.7  \n",
              "82        0.465116  1.370143        0.6  \n",
              "92        0.697674  1.370143        0.6  "
            ],
            "text/html": [
              "\n",
              "  <div id=\"df-fd2466ca-8fb4-46a5-a44c-bea79a6a363a\">\n",
              "    <div class=\"colab-df-container\">\n",
              "      <div>\n",
              "<style scoped>\n",
              "    .dataframe tbody tr th:only-of-type {\n",
              "        vertical-align: middle;\n",
              "    }\n",
              "\n",
              "    .dataframe tbody tr th {\n",
              "        vertical-align: top;\n",
              "    }\n",
              "\n",
              "    .dataframe thead th {\n",
              "        text-align: right;\n",
              "    }\n",
              "</style>\n",
              "<table border=\"1\" class=\"dataframe\">\n",
              "  <thead>\n",
              "    <tr style=\"text-align: right;\">\n",
              "      <th></th>\n",
              "      <th>jogador</th>\n",
              "      <th>nacao</th>\n",
              "      <th>posicao</th>\n",
              "      <th>idade</th>\n",
              "      <th>minPor90</th>\n",
              "      <th>gols</th>\n",
              "      <th>assist</th>\n",
              "      <th>golsPorPartida</th>\n",
              "      <th>gols_log</th>\n",
              "      <th>gols_norm</th>\n",
              "    </tr>\n",
              "  </thead>\n",
              "  <tbody>\n",
              "    <tr>\n",
              "      <th>0</th>\n",
              "      <td>Erison</td>\n",
              "      <td>BRA</td>\n",
              "      <td>AT</td>\n",
              "      <td>23</td>\n",
              "      <td>13.4</td>\n",
              "      <td>6.0</td>\n",
              "      <td>1.0</td>\n",
              "      <td>0.447761</td>\n",
              "      <td>1.370143</td>\n",
              "      <td>0.6</td>\n",
              "    </tr>\n",
              "    <tr>\n",
              "      <th>1</th>\n",
              "      <td>Hulk</td>\n",
              "      <td>BRA</td>\n",
              "      <td>AT</td>\n",
              "      <td>35</td>\n",
              "      <td>13.9</td>\n",
              "      <td>7.0</td>\n",
              "      <td>2.0</td>\n",
              "      <td>0.503597</td>\n",
              "      <td>1.489211</td>\n",
              "      <td>0.7</td>\n",
              "    </tr>\n",
              "    <tr>\n",
              "      <th>4</th>\n",
              "      <td>Stiven Mendoza</td>\n",
              "      <td>COL</td>\n",
              "      <td>AT,LT</td>\n",
              "      <td>30</td>\n",
              "      <td>11.5</td>\n",
              "      <td>7.0</td>\n",
              "      <td>0.0</td>\n",
              "      <td>0.608696</td>\n",
              "      <td>1.489211</td>\n",
              "      <td>0.7</td>\n",
              "    </tr>\n",
              "    <tr>\n",
              "      <th>5</th>\n",
              "      <td>Guilherme Bissoli</td>\n",
              "      <td>BRA</td>\n",
              "      <td>AT</td>\n",
              "      <td>24</td>\n",
              "      <td>13.5</td>\n",
              "      <td>8.0</td>\n",
              "      <td>0.0</td>\n",
              "      <td>0.592593</td>\n",
              "      <td>1.584963</td>\n",
              "      <td>0.8</td>\n",
              "    </tr>\n",
              "    <tr>\n",
              "      <th>12</th>\n",
              "      <td>Léo Gamalho</td>\n",
              "      <td>BRA</td>\n",
              "      <td>AT</td>\n",
              "      <td>36</td>\n",
              "      <td>10.3</td>\n",
              "      <td>6.0</td>\n",
              "      <td>0.0</td>\n",
              "      <td>0.582524</td>\n",
              "      <td>1.370143</td>\n",
              "      <td>0.6</td>\n",
              "    </tr>\n",
              "    <tr>\n",
              "      <th>67</th>\n",
              "      <td>Germán Cano</td>\n",
              "      <td>ARG</td>\n",
              "      <td>AT</td>\n",
              "      <td>34</td>\n",
              "      <td>14.9</td>\n",
              "      <td>10.0</td>\n",
              "      <td>1.0</td>\n",
              "      <td>0.671141</td>\n",
              "      <td>1.732021</td>\n",
              "      <td>1.0</td>\n",
              "    </tr>\n",
              "    <tr>\n",
              "      <th>72</th>\n",
              "      <td>Pedro Raul</td>\n",
              "      <td>BRA</td>\n",
              "      <td>AT</td>\n",
              "      <td>25</td>\n",
              "      <td>12.4</td>\n",
              "      <td>8.0</td>\n",
              "      <td>0.0</td>\n",
              "      <td>0.645161</td>\n",
              "      <td>1.584963</td>\n",
              "      <td>0.8</td>\n",
              "    </tr>\n",
              "    <tr>\n",
              "      <th>77</th>\n",
              "      <td>Jonathan Calleri</td>\n",
              "      <td>ARG</td>\n",
              "      <td>AT</td>\n",
              "      <td>28</td>\n",
              "      <td>15.4</td>\n",
              "      <td>9.0</td>\n",
              "      <td>1.0</td>\n",
              "      <td>0.584416</td>\n",
              "      <td>1.664449</td>\n",
              "      <td>0.9</td>\n",
              "    </tr>\n",
              "    <tr>\n",
              "      <th>78</th>\n",
              "      <td>Rony</td>\n",
              "      <td>BRA</td>\n",
              "      <td>AT</td>\n",
              "      <td>27</td>\n",
              "      <td>13.0</td>\n",
              "      <td>7.0</td>\n",
              "      <td>0.0</td>\n",
              "      <td>0.538462</td>\n",
              "      <td>1.489211</td>\n",
              "      <td>0.7</td>\n",
              "    </tr>\n",
              "    <tr>\n",
              "      <th>82</th>\n",
              "      <td>Marcos Leonardo</td>\n",
              "      <td>BRA</td>\n",
              "      <td>AT</td>\n",
              "      <td>19</td>\n",
              "      <td>12.9</td>\n",
              "      <td>6.0</td>\n",
              "      <td>1.0</td>\n",
              "      <td>0.465116</td>\n",
              "      <td>1.370143</td>\n",
              "      <td>0.6</td>\n",
              "    </tr>\n",
              "    <tr>\n",
              "      <th>92</th>\n",
              "      <td>Luciano</td>\n",
              "      <td>BRA</td>\n",
              "      <td>AT,LT</td>\n",
              "      <td>29</td>\n",
              "      <td>8.6</td>\n",
              "      <td>6.0</td>\n",
              "      <td>0.0</td>\n",
              "      <td>0.697674</td>\n",
              "      <td>1.370143</td>\n",
              "      <td>0.6</td>\n",
              "    </tr>\n",
              "  </tbody>\n",
              "</table>\n",
              "</div>\n",
              "      <button class=\"colab-df-convert\" onclick=\"convertToInteractive('df-fd2466ca-8fb4-46a5-a44c-bea79a6a363a')\"\n",
              "              title=\"Convert this dataframe to an interactive table.\"\n",
              "              style=\"display:none;\">\n",
              "        \n",
              "  <svg xmlns=\"http://www.w3.org/2000/svg\" height=\"24px\"viewBox=\"0 0 24 24\"\n",
              "       width=\"24px\">\n",
              "    <path d=\"M0 0h24v24H0V0z\" fill=\"none\"/>\n",
              "    <path d=\"M18.56 5.44l.94 2.06.94-2.06 2.06-.94-2.06-.94-.94-2.06-.94 2.06-2.06.94zm-11 1L8.5 8.5l.94-2.06 2.06-.94-2.06-.94L8.5 2.5l-.94 2.06-2.06.94zm10 10l.94 2.06.94-2.06 2.06-.94-2.06-.94-.94-2.06-.94 2.06-2.06.94z\"/><path d=\"M17.41 7.96l-1.37-1.37c-.4-.4-.92-.59-1.43-.59-.52 0-1.04.2-1.43.59L10.3 9.45l-7.72 7.72c-.78.78-.78 2.05 0 2.83L4 21.41c.39.39.9.59 1.41.59.51 0 1.02-.2 1.41-.59l7.78-7.78 2.81-2.81c.8-.78.8-2.07 0-2.86zM5.41 20L4 18.59l7.72-7.72 1.47 1.35L5.41 20z\"/>\n",
              "  </svg>\n",
              "      </button>\n",
              "      \n",
              "  <style>\n",
              "    .colab-df-container {\n",
              "      display:flex;\n",
              "      flex-wrap:wrap;\n",
              "      gap: 12px;\n",
              "    }\n",
              "\n",
              "    .colab-df-convert {\n",
              "      background-color: #E8F0FE;\n",
              "      border: none;\n",
              "      border-radius: 50%;\n",
              "      cursor: pointer;\n",
              "      display: none;\n",
              "      fill: #1967D2;\n",
              "      height: 32px;\n",
              "      padding: 0 0 0 0;\n",
              "      width: 32px;\n",
              "    }\n",
              "\n",
              "    .colab-df-convert:hover {\n",
              "      background-color: #E2EBFA;\n",
              "      box-shadow: 0px 1px 2px rgba(60, 64, 67, 0.3), 0px 1px 3px 1px rgba(60, 64, 67, 0.15);\n",
              "      fill: #174EA6;\n",
              "    }\n",
              "\n",
              "    [theme=dark] .colab-df-convert {\n",
              "      background-color: #3B4455;\n",
              "      fill: #D2E3FC;\n",
              "    }\n",
              "\n",
              "    [theme=dark] .colab-df-convert:hover {\n",
              "      background-color: #434B5C;\n",
              "      box-shadow: 0px 1px 3px 1px rgba(0, 0, 0, 0.15);\n",
              "      filter: drop-shadow(0px 1px 2px rgba(0, 0, 0, 0.3));\n",
              "      fill: #FFFFFF;\n",
              "    }\n",
              "  </style>\n",
              "\n",
              "      <script>\n",
              "        const buttonEl =\n",
              "          document.querySelector('#df-fd2466ca-8fb4-46a5-a44c-bea79a6a363a button.colab-df-convert');\n",
              "        buttonEl.style.display =\n",
              "          google.colab.kernel.accessAllowed ? 'block' : 'none';\n",
              "\n",
              "        async function convertToInteractive(key) {\n",
              "          const element = document.querySelector('#df-fd2466ca-8fb4-46a5-a44c-bea79a6a363a');\n",
              "          const dataTable =\n",
              "            await google.colab.kernel.invokeFunction('convertToInteractive',\n",
              "                                                     [key], {});\n",
              "          if (!dataTable) return;\n",
              "\n",
              "          const docLinkHtml = 'Like what you see? Visit the ' +\n",
              "            '<a target=\"_blank\" href=https://colab.research.google.com/notebooks/data_table.ipynb>data table notebook</a>'\n",
              "            + ' to learn more about interactive tables.';\n",
              "          element.innerHTML = '';\n",
              "          dataTable['output_type'] = 'display_data';\n",
              "          await google.colab.output.renderOutput(dataTable, element);\n",
              "          const docLink = document.createElement('div');\n",
              "          docLink.innerHTML = docLinkHtml;\n",
              "          element.appendChild(docLink);\n",
              "        }\n",
              "      </script>\n",
              "    </div>\n",
              "  </div>\n",
              "  "
            ]
          },
          "metadata": {},
          "execution_count": 48
        }
      ]
    },
    {
      "cell_type": "code",
      "source": [
        "attack.drop(attack[attack['gols_norm'] > (q3+1.5*iqr)].index, inplace=True)"
      ],
      "metadata": {
        "id": "oSOeuUUxc_7P"
      },
      "execution_count": 49,
      "outputs": []
    },
    {
      "cell_type": "code",
      "source": [
        "attack"
      ],
      "metadata": {
        "colab": {
          "base_uri": "https://localhost:8080/",
          "height": 424
        },
        "id": "zt-ucqKEdLd8",
        "outputId": "2ddbb558-c52b-4bf0-d497-190eabef6595"
      },
      "execution_count": 50,
      "outputs": [
        {
          "output_type": "execute_result",
          "data": {
            "text/plain": [
              "              jogador nacao posicao  idade  minPor90  gols  assist  \\\n",
              "2        Roger Guedes   BRA      AT     25      12.2   5.0     1.0   \n",
              "3     Wellington Rato   BRA   LT,AT     30      13.6   4.0     0.0   \n",
              "6            Vinícius   BRA   AT,LT     31      11.3   1.0     2.0   \n",
              "7     Gustavo Mantuan   BRA   LT,AT     21       9.6   3.0     1.0   \n",
              "8                Lima   BRA   LT,AT     26      10.4   2.0     0.0   \n",
              "..                ...   ...     ...    ...       ...   ...     ...   \n",
              "137        Óscar Ruiz   PAR   AT,LT     31       6.3   3.0     0.0   \n",
              "138            Marlon   BRA   LT,AT     32       1.7   0.0     0.0   \n",
              "139     Vitor Gabriel   BRA      AT     22       4.3   1.0     0.0   \n",
              "140  Guilherme Parede   BRA   LT,AT     26       3.1   0.0     1.0   \n",
              "141          Bruninho   BRA      AT     22       1.3   0.0     0.0   \n",
              "\n",
              "     golsPorPartida  gols_log  gols_norm  \n",
              "2          0.409836  1.215323        0.5  \n",
              "3          0.294118  1.000000        0.4  \n",
              "6          0.088496      -inf        0.1  \n",
              "7          0.312500  0.664449        0.3  \n",
              "8          0.192308  0.000000        0.2  \n",
              "..              ...       ...        ...  \n",
              "137        0.476190  0.664449        0.3  \n",
              "138        0.000000       NaN        0.0  \n",
              "139        0.232558      -inf        0.1  \n",
              "140        0.000000       NaN        0.0  \n",
              "141        0.000000       NaN        0.0  \n",
              "\n",
              "[131 rows x 10 columns]"
            ],
            "text/html": [
              "\n",
              "  <div id=\"df-549579e3-21be-4688-a6f3-b2f7a22cc270\">\n",
              "    <div class=\"colab-df-container\">\n",
              "      <div>\n",
              "<style scoped>\n",
              "    .dataframe tbody tr th:only-of-type {\n",
              "        vertical-align: middle;\n",
              "    }\n",
              "\n",
              "    .dataframe tbody tr th {\n",
              "        vertical-align: top;\n",
              "    }\n",
              "\n",
              "    .dataframe thead th {\n",
              "        text-align: right;\n",
              "    }\n",
              "</style>\n",
              "<table border=\"1\" class=\"dataframe\">\n",
              "  <thead>\n",
              "    <tr style=\"text-align: right;\">\n",
              "      <th></th>\n",
              "      <th>jogador</th>\n",
              "      <th>nacao</th>\n",
              "      <th>posicao</th>\n",
              "      <th>idade</th>\n",
              "      <th>minPor90</th>\n",
              "      <th>gols</th>\n",
              "      <th>assist</th>\n",
              "      <th>golsPorPartida</th>\n",
              "      <th>gols_log</th>\n",
              "      <th>gols_norm</th>\n",
              "    </tr>\n",
              "  </thead>\n",
              "  <tbody>\n",
              "    <tr>\n",
              "      <th>2</th>\n",
              "      <td>Roger Guedes</td>\n",
              "      <td>BRA</td>\n",
              "      <td>AT</td>\n",
              "      <td>25</td>\n",
              "      <td>12.2</td>\n",
              "      <td>5.0</td>\n",
              "      <td>1.0</td>\n",
              "      <td>0.409836</td>\n",
              "      <td>1.215323</td>\n",
              "      <td>0.5</td>\n",
              "    </tr>\n",
              "    <tr>\n",
              "      <th>3</th>\n",
              "      <td>Wellington Rato</td>\n",
              "      <td>BRA</td>\n",
              "      <td>LT,AT</td>\n",
              "      <td>30</td>\n",
              "      <td>13.6</td>\n",
              "      <td>4.0</td>\n",
              "      <td>0.0</td>\n",
              "      <td>0.294118</td>\n",
              "      <td>1.000000</td>\n",
              "      <td>0.4</td>\n",
              "    </tr>\n",
              "    <tr>\n",
              "      <th>6</th>\n",
              "      <td>Vinícius</td>\n",
              "      <td>BRA</td>\n",
              "      <td>AT,LT</td>\n",
              "      <td>31</td>\n",
              "      <td>11.3</td>\n",
              "      <td>1.0</td>\n",
              "      <td>2.0</td>\n",
              "      <td>0.088496</td>\n",
              "      <td>-inf</td>\n",
              "      <td>0.1</td>\n",
              "    </tr>\n",
              "    <tr>\n",
              "      <th>7</th>\n",
              "      <td>Gustavo Mantuan</td>\n",
              "      <td>BRA</td>\n",
              "      <td>LT,AT</td>\n",
              "      <td>21</td>\n",
              "      <td>9.6</td>\n",
              "      <td>3.0</td>\n",
              "      <td>1.0</td>\n",
              "      <td>0.312500</td>\n",
              "      <td>0.664449</td>\n",
              "      <td>0.3</td>\n",
              "    </tr>\n",
              "    <tr>\n",
              "      <th>8</th>\n",
              "      <td>Lima</td>\n",
              "      <td>BRA</td>\n",
              "      <td>LT,AT</td>\n",
              "      <td>26</td>\n",
              "      <td>10.4</td>\n",
              "      <td>2.0</td>\n",
              "      <td>0.0</td>\n",
              "      <td>0.192308</td>\n",
              "      <td>0.000000</td>\n",
              "      <td>0.2</td>\n",
              "    </tr>\n",
              "    <tr>\n",
              "      <th>...</th>\n",
              "      <td>...</td>\n",
              "      <td>...</td>\n",
              "      <td>...</td>\n",
              "      <td>...</td>\n",
              "      <td>...</td>\n",
              "      <td>...</td>\n",
              "      <td>...</td>\n",
              "      <td>...</td>\n",
              "      <td>...</td>\n",
              "      <td>...</td>\n",
              "    </tr>\n",
              "    <tr>\n",
              "      <th>137</th>\n",
              "      <td>Óscar Ruiz</td>\n",
              "      <td>PAR</td>\n",
              "      <td>AT,LT</td>\n",
              "      <td>31</td>\n",
              "      <td>6.3</td>\n",
              "      <td>3.0</td>\n",
              "      <td>0.0</td>\n",
              "      <td>0.476190</td>\n",
              "      <td>0.664449</td>\n",
              "      <td>0.3</td>\n",
              "    </tr>\n",
              "    <tr>\n",
              "      <th>138</th>\n",
              "      <td>Marlon</td>\n",
              "      <td>BRA</td>\n",
              "      <td>LT,AT</td>\n",
              "      <td>32</td>\n",
              "      <td>1.7</td>\n",
              "      <td>0.0</td>\n",
              "      <td>0.0</td>\n",
              "      <td>0.000000</td>\n",
              "      <td>NaN</td>\n",
              "      <td>0.0</td>\n",
              "    </tr>\n",
              "    <tr>\n",
              "      <th>139</th>\n",
              "      <td>Vitor Gabriel</td>\n",
              "      <td>BRA</td>\n",
              "      <td>AT</td>\n",
              "      <td>22</td>\n",
              "      <td>4.3</td>\n",
              "      <td>1.0</td>\n",
              "      <td>0.0</td>\n",
              "      <td>0.232558</td>\n",
              "      <td>-inf</td>\n",
              "      <td>0.1</td>\n",
              "    </tr>\n",
              "    <tr>\n",
              "      <th>140</th>\n",
              "      <td>Guilherme Parede</td>\n",
              "      <td>BRA</td>\n",
              "      <td>LT,AT</td>\n",
              "      <td>26</td>\n",
              "      <td>3.1</td>\n",
              "      <td>0.0</td>\n",
              "      <td>1.0</td>\n",
              "      <td>0.000000</td>\n",
              "      <td>NaN</td>\n",
              "      <td>0.0</td>\n",
              "    </tr>\n",
              "    <tr>\n",
              "      <th>141</th>\n",
              "      <td>Bruninho</td>\n",
              "      <td>BRA</td>\n",
              "      <td>AT</td>\n",
              "      <td>22</td>\n",
              "      <td>1.3</td>\n",
              "      <td>0.0</td>\n",
              "      <td>0.0</td>\n",
              "      <td>0.000000</td>\n",
              "      <td>NaN</td>\n",
              "      <td>0.0</td>\n",
              "    </tr>\n",
              "  </tbody>\n",
              "</table>\n",
              "<p>131 rows × 10 columns</p>\n",
              "</div>\n",
              "      <button class=\"colab-df-convert\" onclick=\"convertToInteractive('df-549579e3-21be-4688-a6f3-b2f7a22cc270')\"\n",
              "              title=\"Convert this dataframe to an interactive table.\"\n",
              "              style=\"display:none;\">\n",
              "        \n",
              "  <svg xmlns=\"http://www.w3.org/2000/svg\" height=\"24px\"viewBox=\"0 0 24 24\"\n",
              "       width=\"24px\">\n",
              "    <path d=\"M0 0h24v24H0V0z\" fill=\"none\"/>\n",
              "    <path d=\"M18.56 5.44l.94 2.06.94-2.06 2.06-.94-2.06-.94-.94-2.06-.94 2.06-2.06.94zm-11 1L8.5 8.5l.94-2.06 2.06-.94-2.06-.94L8.5 2.5l-.94 2.06-2.06.94zm10 10l.94 2.06.94-2.06 2.06-.94-2.06-.94-.94-2.06-.94 2.06-2.06.94z\"/><path d=\"M17.41 7.96l-1.37-1.37c-.4-.4-.92-.59-1.43-.59-.52 0-1.04.2-1.43.59L10.3 9.45l-7.72 7.72c-.78.78-.78 2.05 0 2.83L4 21.41c.39.39.9.59 1.41.59.51 0 1.02-.2 1.41-.59l7.78-7.78 2.81-2.81c.8-.78.8-2.07 0-2.86zM5.41 20L4 18.59l7.72-7.72 1.47 1.35L5.41 20z\"/>\n",
              "  </svg>\n",
              "      </button>\n",
              "      \n",
              "  <style>\n",
              "    .colab-df-container {\n",
              "      display:flex;\n",
              "      flex-wrap:wrap;\n",
              "      gap: 12px;\n",
              "    }\n",
              "\n",
              "    .colab-df-convert {\n",
              "      background-color: #E8F0FE;\n",
              "      border: none;\n",
              "      border-radius: 50%;\n",
              "      cursor: pointer;\n",
              "      display: none;\n",
              "      fill: #1967D2;\n",
              "      height: 32px;\n",
              "      padding: 0 0 0 0;\n",
              "      width: 32px;\n",
              "    }\n",
              "\n",
              "    .colab-df-convert:hover {\n",
              "      background-color: #E2EBFA;\n",
              "      box-shadow: 0px 1px 2px rgba(60, 64, 67, 0.3), 0px 1px 3px 1px rgba(60, 64, 67, 0.15);\n",
              "      fill: #174EA6;\n",
              "    }\n",
              "\n",
              "    [theme=dark] .colab-df-convert {\n",
              "      background-color: #3B4455;\n",
              "      fill: #D2E3FC;\n",
              "    }\n",
              "\n",
              "    [theme=dark] .colab-df-convert:hover {\n",
              "      background-color: #434B5C;\n",
              "      box-shadow: 0px 1px 3px 1px rgba(0, 0, 0, 0.15);\n",
              "      filter: drop-shadow(0px 1px 2px rgba(0, 0, 0, 0.3));\n",
              "      fill: #FFFFFF;\n",
              "    }\n",
              "  </style>\n",
              "\n",
              "      <script>\n",
              "        const buttonEl =\n",
              "          document.querySelector('#df-549579e3-21be-4688-a6f3-b2f7a22cc270 button.colab-df-convert');\n",
              "        buttonEl.style.display =\n",
              "          google.colab.kernel.accessAllowed ? 'block' : 'none';\n",
              "\n",
              "        async function convertToInteractive(key) {\n",
              "          const element = document.querySelector('#df-549579e3-21be-4688-a6f3-b2f7a22cc270');\n",
              "          const dataTable =\n",
              "            await google.colab.kernel.invokeFunction('convertToInteractive',\n",
              "                                                     [key], {});\n",
              "          if (!dataTable) return;\n",
              "\n",
              "          const docLinkHtml = 'Like what you see? Visit the ' +\n",
              "            '<a target=\"_blank\" href=https://colab.research.google.com/notebooks/data_table.ipynb>data table notebook</a>'\n",
              "            + ' to learn more about interactive tables.';\n",
              "          element.innerHTML = '';\n",
              "          dataTable['output_type'] = 'display_data';\n",
              "          await google.colab.output.renderOutput(dataTable, element);\n",
              "          const docLink = document.createElement('div');\n",
              "          docLink.innerHTML = docLinkHtml;\n",
              "          element.appendChild(docLink);\n",
              "        }\n",
              "      </script>\n",
              "    </div>\n",
              "  </div>\n",
              "  "
            ]
          },
          "metadata": {},
          "execution_count": 50
        }
      ]
    },
    {
      "cell_type": "code",
      "source": [
        "best_attack.reset_index(drop=True, inplace=True)"
      ],
      "metadata": {
        "id": "GOh3XSqXdTf1"
      },
      "execution_count": 51,
      "outputs": []
    },
    {
      "cell_type": "code",
      "source": [
        "attack.reset_index(drop=True, inplace=True)"
      ],
      "metadata": {
        "id": "Rj5p00jNdaTa"
      },
      "execution_count": 52,
      "outputs": []
    },
    {
      "cell_type": "code",
      "source": [
        "sns.boxplot(y=attack['gols'])"
      ],
      "metadata": {
        "colab": {
          "base_uri": "https://localhost:8080/",
          "height": 269
        },
        "id": "61xMMM2peC3p",
        "outputId": "e48a08b3-fac8-42d9-f021-3018c0e8f9f7"
      },
      "execution_count": 53,
      "outputs": [
        {
          "output_type": "execute_result",
          "data": {
            "text/plain": [
              "<matplotlib.axes._subplots.AxesSubplot at 0x7f49c7b87e90>"
            ]
          },
          "metadata": {},
          "execution_count": 53
        },
        {
          "output_type": "display_data",
          "data": {
            "text/plain": [
              "<Figure size 432x288 with 1 Axes>"
            ],
            "image/png": "[encoded data removed]"
          },
          "metadata": {
            "needs_background": "light"
          }
        }
      ]
    },
    {
      "cell_type": "markdown",
      "source": [
        "As we can see above, we have seperated our outliers from our original dataset. Therefore, there are no more outliers in our \"attack dataset\" analysis.  "
      ],
      "metadata": {
        "id": "tAIMXCUgcAhO"
      }
    },
    {
      "cell_type": "markdown",
      "source": [
        "#### Encoding"
      ],
      "metadata": {
        "id": "kQT9gW8ZGjLM"
      }
    },
    {
      "cell_type": "markdown",
      "source": [
        "Here, we have a OneHotEncoding approach:"
      ],
      "metadata": {
        "id": "Wd4ymHWIcZ3v"
      }
    },
    {
      "cell_type": "code",
      "source": [
        "from sklearn.preprocessing import OneHotEncoder\n",
        "enc = OneHotEncoder()\n",
        "enc_df = pd.DataFrame(enc.fit_transform(attack[['nacao']]).toarray())\n",
        "enc_df.columns = enc.get_feature_names(['nacao'])\n",
        "attack_onehot = attack.join(enc_df)\n",
        "attack_onehot\n"
      ],
      "metadata": {
        "id": "sCkeB3jFecTu",
        "colab": {
          "base_uri": "https://localhost:8080/",
          "height": 589
        },
        "outputId": "9bdfe233-e179-4ea0-aead-acdef0998a4a"
      },
      "execution_count": 54,
      "outputs": [
        {
          "output_type": "execute_result",
          "data": {
            "text/plain": [
              "              jogador nacao posicao  idade  minPor90  gols  assist  \\\n",
              "0        Roger Guedes   BRA      AT     25      12.2   5.0     1.0   \n",
              "1     Wellington Rato   BRA   LT,AT     30      13.6   4.0     0.0   \n",
              "2            Vinícius   BRA   AT,LT     31      11.3   1.0     2.0   \n",
              "3     Gustavo Mantuan   BRA   LT,AT     21       9.6   3.0     1.0   \n",
              "4                Lima   BRA   LT,AT     26      10.4   2.0     0.0   \n",
              "..                ...   ...     ...    ...       ...   ...     ...   \n",
              "126        Óscar Ruiz   PAR   AT,LT     31       6.3   3.0     0.0   \n",
              "127            Marlon   BRA   LT,AT     32       1.7   0.0     0.0   \n",
              "128     Vitor Gabriel   BRA      AT     22       4.3   1.0     0.0   \n",
              "129  Guilherme Parede   BRA   LT,AT     26       3.1   0.0     1.0   \n",
              "130          Bruninho   BRA      AT     22       1.3   0.0     0.0   \n",
              "\n",
              "     golsPorPartida  gols_log  gols_norm  ...  nacao_ BRA  nacao_ CHI  \\\n",
              "0          0.409836  1.215323        0.5  ...         1.0         0.0   \n",
              "1          0.294118  1.000000        0.4  ...         1.0         0.0   \n",
              "2          0.088496      -inf        0.1  ...         1.0         0.0   \n",
              "3          0.312500  0.664449        0.3  ...         1.0         0.0   \n",
              "4          0.192308  0.000000        0.2  ...         1.0         0.0   \n",
              "..              ...       ...        ...  ...         ...         ...   \n",
              "126        0.476190  0.664449        0.3  ...         0.0         0.0   \n",
              "127        0.000000       NaN        0.0  ...         1.0         0.0   \n",
              "128        0.232558      -inf        0.1  ...         1.0         0.0   \n",
              "129        0.000000       NaN        0.0  ...         1.0         0.0   \n",
              "130        0.000000       NaN        0.0  ...         1.0         0.0   \n",
              "\n",
              "     nacao_ CHN  nacao_ COL  nacao_ ECU  nacao_ ITA  nacao_ PAR  nacao_ UKR  \\\n",
              "0           0.0         0.0         0.0         0.0         0.0         0.0   \n",
              "1           0.0         0.0         0.0         0.0         0.0         0.0   \n",
              "2           0.0         0.0         0.0         0.0         0.0         0.0   \n",
              "3           0.0         0.0         0.0         0.0         0.0         0.0   \n",
              "4           0.0         0.0         0.0         0.0         0.0         0.0   \n",
              "..          ...         ...         ...         ...         ...         ...   \n",
              "126         0.0         0.0         0.0         0.0         1.0         0.0   \n",
              "127         0.0         0.0         0.0         0.0         0.0         0.0   \n",
              "128         0.0         0.0         0.0         0.0         0.0         0.0   \n",
              "129         0.0         0.0         0.0         0.0         0.0         0.0   \n",
              "130         0.0         0.0         0.0         0.0         0.0         0.0   \n",
              "\n",
              "     nacao_ URU  nacao_ VEN  \n",
              "0           0.0         0.0  \n",
              "1           0.0         0.0  \n",
              "2           0.0         0.0  \n",
              "3           0.0         0.0  \n",
              "4           0.0         0.0  \n",
              "..          ...         ...  \n",
              "126         0.0         0.0  \n",
              "127         0.0         0.0  \n",
              "128         0.0         0.0  \n",
              "129         0.0         0.0  \n",
              "130         0.0         0.0  \n",
              "\n",
              "[131 rows x 21 columns]"
            ],
            "text/html": [
              "\n",
              "  <div id=\"df-178c2dfb-c784-4211-87c9-0898bc672b6d\">\n",
              "    <div class=\"colab-df-container\">\n",
              "      <div>\n",
              "<style scoped>\n",
              "    .dataframe tbody tr th:only-of-type {\n",
              "        vertical-align: middle;\n",
              "    }\n",
              "\n",
              "    .dataframe tbody tr th {\n",
              "        vertical-align: top;\n",
              "    }\n",
              "\n",
              "    .dataframe thead th {\n",
              "        text-align: right;\n",
              "    }\n",
              "</style>\n",
              "<table border=\"1\" class=\"dataframe\">\n",
              "  <thead>\n",
              "    <tr style=\"text-align: right;\">\n",
              "      <th></th>\n",
              "      <th>jogador</th>\n",
              "      <th>nacao</th>\n",
              "      <th>posicao</th>\n",
              "      <th>idade</th>\n",
              "      <th>minPor90</th>\n",
              "      <th>gols</th>\n",
              "      <th>assist</th>\n",
              "      <th>golsPorPartida</th>\n",
              "      <th>gols_log</th>\n",
              "      <th>gols_norm</th>\n",
              "      <th>...</th>\n",
              "      <th>nacao_ BRA</th>\n",
              "      <th>nacao_ CHI</th>\n",
              "      <th>nacao_ CHN</th>\n",
              "      <th>nacao_ COL</th>\n",
              "      <th>nacao_ ECU</th>\n",
              "      <th>nacao_ ITA</th>\n",
              "      <th>nacao_ PAR</th>\n",
              "      <th>nacao_ UKR</th>\n",
              "      <th>nacao_ URU</th>\n",
              "      <th>nacao_ VEN</th>\n",
              "    </tr>\n",
              "  </thead>\n",
              "  <tbody>\n",
              "    <tr>\n",
              "      <th>0</th>\n",
              "      <td>Roger Guedes</td>\n",
              "      <td>BRA</td>\n",
              "      <td>AT</td>\n",
              "      <td>25</td>\n",
              "      <td>12.2</td>\n",
              "      <td>5.0</td>\n",
              "      <td>1.0</td>\n",
              "      <td>0.409836</td>\n",
              "      <td>1.215323</td>\n",
              "      <td>0.5</td>\n",
              "      <td>...</td>\n",
              "      <td>1.0</td>\n",
              "      <td>0.0</td>\n",
              "      <td>0.0</td>\n",
              "      <td>0.0</td>\n",
              "      <td>0.0</td>\n",
              "      <td>0.0</td>\n",
              "      <td>0.0</td>\n",
              "      <td>0.0</td>\n",
              "      <td>0.0</td>\n",
              "      <td>0.0</td>\n",
              "    </tr>\n",
              "    <tr>\n",
              "      <th>1</th>\n",
              "      <td>Wellington Rato</td>\n",
              "      <td>BRA</td>\n",
              "      <td>LT,AT</td>\n",
              "      <td>30</td>\n",
              "      <td>13.6</td>\n",
              "      <td>4.0</td>\n",
              "      <td>0.0</td>\n",
              "      <td>0.294118</td>\n",
              "      <td>1.000000</td>\n",
              "      <td>0.4</td>\n",
              "      <td>...</td>\n",
              "      <td>1.0</td>\n",
              "      <td>0.0</td>\n",
              "      <td>0.0</td>\n",
              "      <td>0.0</td>\n",
              "      <td>0.0</td>\n",
              "      <td>0.0</td>\n",
              "      <td>0.0</td>\n",
              "      <td>0.0</td>\n",
              "      <td>0.0</td>\n",
              "      <td>0.0</td>\n",
              "    </tr>\n",
              "    <tr>\n",
              "      <th>2</th>\n",
              "      <td>Vinícius</td>\n",
              "      <td>BRA</td>\n",
              "      <td>AT,LT</td>\n",
              "      <td>31</td>\n",
              "      <td>11.3</td>\n",
              "      <td>1.0</td>\n",
              "      <td>2.0</td>\n",
              "      <td>0.088496</td>\n",
              "      <td>-inf</td>\n",
              "      <td>0.1</td>\n",
              "      <td>...</td>\n",
              "      <td>1.0</td>\n",
              "      <td>0.0</td>\n",
              "      <td>0.0</td>\n",
              "      <td>0.0</td>\n",
              "      <td>0.0</td>\n",
              "      <td>0.0</td>\n",
              "      <td>0.0</td>\n",
              "      <td>0.0</td>\n",
              "      <td>0.0</td>\n",
              "      <td>0.0</td>\n",
              "    </tr>\n",
              "    <tr>\n",
              "      <th>3</th>\n",
              "      <td>Gustavo Mantuan</td>\n",
              "      <td>BRA</td>\n",
              "      <td>LT,AT</td>\n",
              "      <td>21</td>\n",
              "      <td>9.6</td>\n",
              "      <td>3.0</td>\n",
              "      <td>1.0</td>\n",
              "      <td>0.312500</td>\n",
              "      <td>0.664449</td>\n",
              "      <td>0.3</td>\n",
              "      <td>...</td>\n",
              "      <td>1.0</td>\n",
              "      <td>0.0</td>\n",
              "      <td>0.0</td>\n",
              "      <td>0.0</td>\n",
              "      <td>0.0</td>\n",
              "      <td>0.0</td>\n",
              "      <td>0.0</td>\n",
              "      <td>0.0</td>\n",
              "      <td>0.0</td>\n",
              "      <td>0.0</td>\n",
              "    </tr>\n",
              "    <tr>\n",
              "      <th>4</th>\n",
              "      <td>Lima</td>\n",
              "      <td>BRA</td>\n",
              "      <td>LT,AT</td>\n",
              "      <td>26</td>\n",
              "      <td>10.4</td>\n",
              "      <td>2.0</td>\n",
              "      <td>0.0</td>\n",
              "      <td>0.192308</td>\n",
              "      <td>0.000000</td>\n",
              "      <td>0.2</td>\n",
              "      <td>...</td>\n",
              "      <td>1.0</td>\n",
              "      <td>0.0</td>\n",
              "      <td>0.0</td>\n",
              "      <td>0.0</td>\n",
              "      <td>0.0</td>\n",
              "      <td>0.0</td>\n",
              "      <td>0.0</td>\n",
              "      <td>0.0</td>\n",
              "      <td>0.0</td>\n",
              "      <td>0.0</td>\n",
              "    </tr>\n",
              "    <tr>\n",
              "      <th>...</th>\n",
              "      <td>...</td>\n",
              "      <td>...</td>\n",
              "      <td>...</td>\n",
              "      <td>...</td>\n",
              "      <td>...</td>\n",
              "      <td>...</td>\n",
              "      <td>...</td>\n",
              "      <td>...</td>\n",
              "      <td>...</td>\n",
              "      <td>...</td>\n",
              "      <td>...</td>\n",
              "      <td>...</td>\n",
              "      <td>...</td>\n",
              "      <td>...</td>\n",
              "      <td>...</td>\n",
              "      <td>...</td>\n",
              "      <td>...</td>\n",
              "      <td>...</td>\n",
              "      <td>...</td>\n",
              "      <td>...</td>\n",
              "      <td>...</td>\n",
              "    </tr>\n",
              "    <tr>\n",
              "      <th>126</th>\n",
              "      <td>Óscar Ruiz</td>\n",
              "      <td>PAR</td>\n",
              "      <td>AT,LT</td>\n",
              "      <td>31</td>\n",
              "      <td>6.3</td>\n",
              "      <td>3.0</td>\n",
              "      <td>0.0</td>\n",
              "      <td>0.476190</td>\n",
              "      <td>0.664449</td>\n",
              "      <td>0.3</td>\n",
              "      <td>...</td>\n",
              "      <td>0.0</td>\n",
              "      <td>0.0</td>\n",
              "      <td>0.0</td>\n",
              "      <td>0.0</td>\n",
              "      <td>0.0</td>\n",
              "      <td>0.0</td>\n",
              "      <td>1.0</td>\n",
              "      <td>0.0</td>\n",
              "      <td>0.0</td>\n",
              "      <td>0.0</td>\n",
              "    </tr>\n",
              "    <tr>\n",
              "      <th>127</th>\n",
              "      <td>Marlon</td>\n",
              "      <td>BRA</td>\n",
              "      <td>LT,AT</td>\n",
              "      <td>32</td>\n",
              "      <td>1.7</td>\n",
              "      <td>0.0</td>\n",
              "      <td>0.0</td>\n",
              "      <td>0.000000</td>\n",
              "      <td>NaN</td>\n",
              "      <td>0.0</td>\n",
              "      <td>...</td>\n",
              "      <td>1.0</td>\n",
              "      <td>0.0</td>\n",
              "      <td>0.0</td>\n",
              "      <td>0.0</td>\n",
              "      <td>0.0</td>\n",
              "      <td>0.0</td>\n",
              "      <td>0.0</td>\n",
              "      <td>0.0</td>\n",
              "      <td>0.0</td>\n",
              "      <td>0.0</td>\n",
              "    </tr>\n",
              "    <tr>\n",
              "      <th>128</th>\n",
              "      <td>Vitor Gabriel</td>\n",
              "      <td>BRA</td>\n",
              "      <td>AT</td>\n",
              "      <td>22</td>\n",
              "      <td>4.3</td>\n",
              "      <td>1.0</td>\n",
              "      <td>0.0</td>\n",
              "      <td>0.232558</td>\n",
              "      <td>-inf</td>\n",
              "      <td>0.1</td>\n",
              "      <td>...</td>\n",
              "      <td>1.0</td>\n",
              "      <td>0.0</td>\n",
              "      <td>0.0</td>\n",
              "      <td>0.0</td>\n",
              "      <td>0.0</td>\n",
              "      <td>0.0</td>\n",
              "      <td>0.0</td>\n",
              "      <td>0.0</td>\n",
              "      <td>0.0</td>\n",
              "      <td>0.0</td>\n",
              "    </tr>\n",
              "    <tr>\n",
              "      <th>129</th>\n",
              "      <td>Guilherme Parede</td>\n",
              "      <td>BRA</td>\n",
              "      <td>LT,AT</td>\n",
              "      <td>26</td>\n",
              "      <td>3.1</td>\n",
              "      <td>0.0</td>\n",
              "      <td>1.0</td>\n",
              "      <td>0.000000</td>\n",
              "      <td>NaN</td>\n",
              "      <td>0.0</td>\n",
              "      <td>...</td>\n",
              "      <td>1.0</td>\n",
              "      <td>0.0</td>\n",
              "      <td>0.0</td>\n",
              "      <td>0.0</td>\n",
              "      <td>0.0</td>\n",
              "      <td>0.0</td>\n",
              "      <td>0.0</td>\n",
              "      <td>0.0</td>\n",
              "      <td>0.0</td>\n",
              "      <td>0.0</td>\n",
              "    </tr>\n",
              "    <tr>\n",
              "      <th>130</th>\n",
              "      <td>Bruninho</td>\n",
              "      <td>BRA</td>\n",
              "      <td>AT</td>\n",
              "      <td>22</td>\n",
              "      <td>1.3</td>\n",
              "      <td>0.0</td>\n",
              "      <td>0.0</td>\n",
              "      <td>0.000000</td>\n",
              "      <td>NaN</td>\n",
              "      <td>0.0</td>\n",
              "      <td>...</td>\n",
              "      <td>1.0</td>\n",
              "      <td>0.0</td>\n",
              "      <td>0.0</td>\n",
              "      <td>0.0</td>\n",
              "      <td>0.0</td>\n",
              "      <td>0.0</td>\n",
              "      <td>0.0</td>\n",
              "      <td>0.0</td>\n",
              "      <td>0.0</td>\n",
              "      <td>0.0</td>\n",
              "    </tr>\n",
              "  </tbody>\n",
              "</table>\n",
              "<p>131 rows × 21 columns</p>\n",
              "</div>\n",
              "      <button class=\"colab-df-convert\" onclick=\"convertToInteractive('df-178c2dfb-c784-4211-87c9-0898bc672b6d')\"\n",
              "              title=\"Convert this dataframe to an interactive table.\"\n",
              "              style=\"display:none;\">\n",
              "        \n",
              "  <svg xmlns=\"http://www.w3.org/2000/svg\" height=\"24px\"viewBox=\"0 0 24 24\"\n",
              "       width=\"24px\">\n",
              "    <path d=\"M0 0h24v24H0V0z\" fill=\"none\"/>\n",
              "    <path d=\"M18.56 5.44l.94 2.06.94-2.06 2.06-.94-2.06-.94-.94-2.06-.94 2.06-2.06.94zm-11 1L8.5 8.5l.94-2.06 2.06-.94-2.06-.94L8.5 2.5l-.94 2.06-2.06.94zm10 10l.94 2.06.94-2.06 2.06-.94-2.06-.94-.94-2.06-.94 2.06-2.06.94z\"/><path d=\"M17.41 7.96l-1.37-1.37c-.4-.4-.92-.59-1.43-.59-.52 0-1.04.2-1.43.59L10.3 9.45l-7.72 7.72c-.78.78-.78 2.05 0 2.83L4 21.41c.39.39.9.59 1.41.59.51 0 1.02-.2 1.41-.59l7.78-7.78 2.81-2.81c.8-.78.8-2.07 0-2.86zM5.41 20L4 18.59l7.72-7.72 1.47 1.35L5.41 20z\"/>\n",
              "  </svg>\n",
              "      </button>\n",
              "      \n",
              "  <style>\n",
              "    .colab-df-container {\n",
              "      display:flex;\n",
              "      flex-wrap:wrap;\n",
              "      gap: 12px;\n",
              "    }\n",
              "\n",
              "    .colab-df-convert {\n",
              "      background-color: #E8F0FE;\n",
              "      border: none;\n",
              "      border-radius: 50%;\n",
              "      cursor: pointer;\n",
              "      display: none;\n",
              "      fill: #1967D2;\n",
              "      height: 32px;\n",
              "      padding: 0 0 0 0;\n",
              "      width: 32px;\n",
              "    }\n",
              "\n",
              "    .colab-df-convert:hover {\n",
              "      background-color: #E2EBFA;\n",
              "      box-shadow: 0px 1px 2px rgba(60, 64, 67, 0.3), 0px 1px 3px 1px rgba(60, 64, 67, 0.15);\n",
              "      fill: #174EA6;\n",
              "    }\n",
              "\n",
              "    [theme=dark] .colab-df-convert {\n",
              "      background-color: #3B4455;\n",
              "      fill: #D2E3FC;\n",
              "    }\n",
              "\n",
              "    [theme=dark] .colab-df-convert:hover {\n",
              "      background-color: #434B5C;\n",
              "      box-shadow: 0px 1px 3px 1px rgba(0, 0, 0, 0.15);\n",
              "      filter: drop-shadow(0px 1px 2px rgba(0, 0, 0, 0.3));\n",
              "      fill: #FFFFFF;\n",
              "    }\n",
              "  </style>\n",
              "\n",
              "      <script>\n",
              "        const buttonEl =\n",
              "          document.querySelector('#df-178c2dfb-c784-4211-87c9-0898bc672b6d button.colab-df-convert');\n",
              "        buttonEl.style.display =\n",
              "          google.colab.kernel.accessAllowed ? 'block' : 'none';\n",
              "\n",
              "        async function convertToInteractive(key) {\n",
              "          const element = document.querySelector('#df-178c2dfb-c784-4211-87c9-0898bc672b6d');\n",
              "          const dataTable =\n",
              "            await google.colab.kernel.invokeFunction('convertToInteractive',\n",
              "                                                     [key], {});\n",
              "          if (!dataTable) return;\n",
              "\n",
              "          const docLinkHtml = 'Like what you see? Visit the ' +\n",
              "            '<a target=\"_blank\" href=https://colab.research.google.com/notebooks/data_table.ipynb>data table notebook</a>'\n",
              "            + ' to learn more about interactive tables.';\n",
              "          element.innerHTML = '';\n",
              "          dataTable['output_type'] = 'display_data';\n",
              "          await google.colab.output.renderOutput(dataTable, element);\n",
              "          const docLink = document.createElement('div');\n",
              "          docLink.innerHTML = docLinkHtml;\n",
              "          element.appendChild(docLink);\n",
              "        }\n",
              "      </script>\n",
              "    </div>\n",
              "  </div>\n",
              "  "
            ]
          },
          "metadata": {},
          "execution_count": 54
        }
      ]
    },
    {
      "cell_type": "markdown",
      "source": [
        "Here, we have a OrdinalEncoding approach:"
      ],
      "metadata": {
        "id": "MdHo3D2wcefn"
      }
    },
    {
      "cell_type": "code",
      "source": [
        "from sklearn.preprocessing import OrdinalEncoder\n",
        "encoder = OrdinalEncoder()\n",
        "attack_onehot2 = attack\n",
        "attack_onehot2['nacao'] = encoder.fit_transform(attack[['nacao']])\n",
        "attack_onehot2\n"
      ],
      "metadata": {
        "colab": {
          "base_uri": "https://localhost:8080/",
          "height": 424
        },
        "id": "cInvqWPXipPm",
        "outputId": "68aa6f93-3297-4728-e67e-d79f491a4d6a"
      },
      "execution_count": 55,
      "outputs": [
        {
          "output_type": "execute_result",
          "data": {
            "text/plain": [
              "              jogador  nacao posicao  idade  minPor90  gols  assist  \\\n",
              "0        Roger Guedes    1.0      AT     25      12.2   5.0     1.0   \n",
              "1     Wellington Rato    1.0   LT,AT     30      13.6   4.0     0.0   \n",
              "2            Vinícius    1.0   AT,LT     31      11.3   1.0     2.0   \n",
              "3     Gustavo Mantuan    1.0   LT,AT     21       9.6   3.0     1.0   \n",
              "4                Lima    1.0   LT,AT     26      10.4   2.0     0.0   \n",
              "..                ...    ...     ...    ...       ...   ...     ...   \n",
              "126        Óscar Ruiz    7.0   AT,LT     31       6.3   3.0     0.0   \n",
              "127            Marlon    1.0   LT,AT     32       1.7   0.0     0.0   \n",
              "128     Vitor Gabriel    1.0      AT     22       4.3   1.0     0.0   \n",
              "129  Guilherme Parede    1.0   LT,AT     26       3.1   0.0     1.0   \n",
              "130          Bruninho    1.0      AT     22       1.3   0.0     0.0   \n",
              "\n",
              "     golsPorPartida  gols_log  gols_norm  \n",
              "0          0.409836  1.215323        0.5  \n",
              "1          0.294118  1.000000        0.4  \n",
              "2          0.088496      -inf        0.1  \n",
              "3          0.312500  0.664449        0.3  \n",
              "4          0.192308  0.000000        0.2  \n",
              "..              ...       ...        ...  \n",
              "126        0.476190  0.664449        0.3  \n",
              "127        0.000000       NaN        0.0  \n",
              "128        0.232558      -inf        0.1  \n",
              "129        0.000000       NaN        0.0  \n",
              "130        0.000000       NaN        0.0  \n",
              "\n",
              "[131 rows x 10 columns]"
            ],
            "text/html": [
              "\n",
              "  <div id=\"df-ca3198ba-0ecf-4a74-b13f-b383792ec446\">\n",
              "    <div class=\"colab-df-container\">\n",
              "      <div>\n",
              "<style scoped>\n",
              "    .dataframe tbody tr th:only-of-type {\n",
              "        vertical-align: middle;\n",
              "    }\n",
              "\n",
              "    .dataframe tbody tr th {\n",
              "        vertical-align: top;\n",
              "    }\n",
              "\n",
              "    .dataframe thead th {\n",
              "        text-align: right;\n",
              "    }\n",
              "</style>\n",
              "<table border=\"1\" class=\"dataframe\">\n",
              "  <thead>\n",
              "    <tr style=\"text-align: right;\">\n",
              "      <th></th>\n",
              "      <th>jogador</th>\n",
              "      <th>nacao</th>\n",
              "      <th>posicao</th>\n",
              "      <th>idade</th>\n",
              "      <th>minPor90</th>\n",
              "      <th>gols</th>\n",
              "      <th>assist</th>\n",
              "      <th>golsPorPartida</th>\n",
              "      <th>gols_log</th>\n",
              "      <th>gols_norm</th>\n",
              "    </tr>\n",
              "  </thead>\n",
              "  <tbody>\n",
              "    <tr>\n",
              "      <th>0</th>\n",
              "      <td>Roger Guedes</td>\n",
              "      <td>1.0</td>\n",
              "      <td>AT</td>\n",
              "      <td>25</td>\n",
              "      <td>12.2</td>\n",
              "      <td>5.0</td>\n",
              "      <td>1.0</td>\n",
              "      <td>0.409836</td>\n",
              "      <td>1.215323</td>\n",
              "      <td>0.5</td>\n",
              "    </tr>\n",
              "    <tr>\n",
              "      <th>1</th>\n",
              "      <td>Wellington Rato</td>\n",
              "      <td>1.0</td>\n",
              "      <td>LT,AT</td>\n",
              "      <td>30</td>\n",
              "      <td>13.6</td>\n",
              "      <td>4.0</td>\n",
              "      <td>0.0</td>\n",
              "      <td>0.294118</td>\n",
              "      <td>1.000000</td>\n",
              "      <td>0.4</td>\n",
              "    </tr>\n",
              "    <tr>\n",
              "      <th>2</th>\n",
              "      <td>Vinícius</td>\n",
              "      <td>1.0</td>\n",
              "      <td>AT,LT</td>\n",
              "      <td>31</td>\n",
              "      <td>11.3</td>\n",
              "      <td>1.0</td>\n",
              "      <td>2.0</td>\n",
              "      <td>0.088496</td>\n",
              "      <td>-inf</td>\n",
              "      <td>0.1</td>\n",
              "    </tr>\n",
              "    <tr>\n",
              "      <th>3</th>\n",
              "      <td>Gustavo Mantuan</td>\n",
              "      <td>1.0</td>\n",
              "      <td>LT,AT</td>\n",
              "      <td>21</td>\n",
              "      <td>9.6</td>\n",
              "      <td>3.0</td>\n",
              "      <td>1.0</td>\n",
              "      <td>0.312500</td>\n",
              "      <td>0.664449</td>\n",
              "      <td>0.3</td>\n",
              "    </tr>\n",
              "    <tr>\n",
              "      <th>4</th>\n",
              "      <td>Lima</td>\n",
              "      <td>1.0</td>\n",
              "      <td>LT,AT</td>\n",
              "      <td>26</td>\n",
              "      <td>10.4</td>\n",
              "      <td>2.0</td>\n",
              "      <td>0.0</td>\n",
              "      <td>0.192308</td>\n",
              "      <td>0.000000</td>\n",
              "      <td>0.2</td>\n",
              "    </tr>\n",
              "    <tr>\n",
              "      <th>...</th>\n",
              "      <td>...</td>\n",
              "      <td>...</td>\n",
              "      <td>...</td>\n",
              "      <td>...</td>\n",
              "      <td>...</td>\n",
              "      <td>...</td>\n",
              "      <td>...</td>\n",
              "      <td>...</td>\n",
              "      <td>...</td>\n",
              "      <td>...</td>\n",
              "    </tr>\n",
              "    <tr>\n",
              "      <th>126</th>\n",
              "      <td>Óscar Ruiz</td>\n",
              "      <td>7.0</td>\n",
              "      <td>AT,LT</td>\n",
              "      <td>31</td>\n",
              "      <td>6.3</td>\n",
              "      <td>3.0</td>\n",
              "      <td>0.0</td>\n",
              "      <td>0.476190</td>\n",
              "      <td>0.664449</td>\n",
              "      <td>0.3</td>\n",
              "    </tr>\n",
              "    <tr>\n",
              "      <th>127</th>\n",
              "      <td>Marlon</td>\n",
              "      <td>1.0</td>\n",
              "      <td>LT,AT</td>\n",
              "      <td>32</td>\n",
              "      <td>1.7</td>\n",
              "      <td>0.0</td>\n",
              "      <td>0.0</td>\n",
              "      <td>0.000000</td>\n",
              "      <td>NaN</td>\n",
              "      <td>0.0</td>\n",
              "    </tr>\n",
              "    <tr>\n",
              "      <th>128</th>\n",
              "      <td>Vitor Gabriel</td>\n",
              "      <td>1.0</td>\n",
              "      <td>AT</td>\n",
              "      <td>22</td>\n",
              "      <td>4.3</td>\n",
              "      <td>1.0</td>\n",
              "      <td>0.0</td>\n",
              "      <td>0.232558</td>\n",
              "      <td>-inf</td>\n",
              "      <td>0.1</td>\n",
              "    </tr>\n",
              "    <tr>\n",
              "      <th>129</th>\n",
              "      <td>Guilherme Parede</td>\n",
              "      <td>1.0</td>\n",
              "      <td>LT,AT</td>\n",
              "      <td>26</td>\n",
              "      <td>3.1</td>\n",
              "      <td>0.0</td>\n",
              "      <td>1.0</td>\n",
              "      <td>0.000000</td>\n",
              "      <td>NaN</td>\n",
              "      <td>0.0</td>\n",
              "    </tr>\n",
              "    <tr>\n",
              "      <th>130</th>\n",
              "      <td>Bruninho</td>\n",
              "      <td>1.0</td>\n",
              "      <td>AT</td>\n",
              "      <td>22</td>\n",
              "      <td>1.3</td>\n",
              "      <td>0.0</td>\n",
              "      <td>0.0</td>\n",
              "      <td>0.000000</td>\n",
              "      <td>NaN</td>\n",
              "      <td>0.0</td>\n",
              "    </tr>\n",
              "  </tbody>\n",
              "</table>\n",
              "<p>131 rows × 10 columns</p>\n",
              "</div>\n",
              "      <button class=\"colab-df-convert\" onclick=\"convertToInteractive('df-ca3198ba-0ecf-4a74-b13f-b383792ec446')\"\n",
              "              title=\"Convert this dataframe to an interactive table.\"\n",
              "              style=\"display:none;\">\n",
              "        \n",
              "  <svg xmlns=\"http://www.w3.org/2000/svg\" height=\"24px\"viewBox=\"0 0 24 24\"\n",
              "       width=\"24px\">\n",
              "    <path d=\"M0 0h24v24H0V0z\" fill=\"none\"/>\n",
              "    <path d=\"M18.56 5.44l.94 2.06.94-2.06 2.06-.94-2.06-.94-.94-2.06-.94 2.06-2.06.94zm-11 1L8.5 8.5l.94-2.06 2.06-.94-2.06-.94L8.5 2.5l-.94 2.06-2.06.94zm10 10l.94 2.06.94-2.06 2.06-.94-2.06-.94-.94-2.06-.94 2.06-2.06.94z\"/><path d=\"M17.41 7.96l-1.37-1.37c-.4-.4-.92-.59-1.43-.59-.52 0-1.04.2-1.43.59L10.3 9.45l-7.72 7.72c-.78.78-.78 2.05 0 2.83L4 21.41c.39.39.9.59 1.41.59.51 0 1.02-.2 1.41-.59l7.78-7.78 2.81-2.81c.8-.78.8-2.07 0-2.86zM5.41 20L4 18.59l7.72-7.72 1.47 1.35L5.41 20z\"/>\n",
              "  </svg>\n",
              "      </button>\n",
              "      \n",
              "  <style>\n",
              "    .colab-df-container {\n",
              "      display:flex;\n",
              "      flex-wrap:wrap;\n",
              "      gap: 12px;\n",
              "    }\n",
              "\n",
              "    .colab-df-convert {\n",
              "      background-color: #E8F0FE;\n",
              "      border: none;\n",
              "      border-radius: 50%;\n",
              "      cursor: pointer;\n",
              "      display: none;\n",
              "      fill: #1967D2;\n",
              "      height: 32px;\n",
              "      padding: 0 0 0 0;\n",
              "      width: 32px;\n",
              "    }\n",
              "\n",
              "    .colab-df-convert:hover {\n",
              "      background-color: #E2EBFA;\n",
              "      box-shadow: 0px 1px 2px rgba(60, 64, 67, 0.3), 0px 1px 3px 1px rgba(60, 64, 67, 0.15);\n",
              "      fill: #174EA6;\n",
              "    }\n",
              "\n",
              "    [theme=dark] .colab-df-convert {\n",
              "      background-color: #3B4455;\n",
              "      fill: #D2E3FC;\n",
              "    }\n",
              "\n",
              "    [theme=dark] .colab-df-convert:hover {\n",
              "      background-color: #434B5C;\n",
              "      box-shadow: 0px 1px 3px 1px rgba(0, 0, 0, 0.15);\n",
              "      filter: drop-shadow(0px 1px 2px rgba(0, 0, 0, 0.3));\n",
              "      fill: #FFFFFF;\n",
              "    }\n",
              "  </style>\n",
              "\n",
              "      <script>\n",
              "        const buttonEl =\n",
              "          document.querySelector('#df-ca3198ba-0ecf-4a74-b13f-b383792ec446 button.colab-df-convert');\n",
              "        buttonEl.style.display =\n",
              "          google.colab.kernel.accessAllowed ? 'block' : 'none';\n",
              "\n",
              "        async function convertToInteractive(key) {\n",
              "          const element = document.querySelector('#df-ca3198ba-0ecf-4a74-b13f-b383792ec446');\n",
              "          const dataTable =\n",
              "            await google.colab.kernel.invokeFunction('convertToInteractive',\n",
              "                                                     [key], {});\n",
              "          if (!dataTable) return;\n",
              "\n",
              "          const docLinkHtml = 'Like what you see? Visit the ' +\n",
              "            '<a target=\"_blank\" href=https://colab.research.google.com/notebooks/data_table.ipynb>data table notebook</a>'\n",
              "            + ' to learn more about interactive tables.';\n",
              "          element.innerHTML = '';\n",
              "          dataTable['output_type'] = 'display_data';\n",
              "          await google.colab.output.renderOutput(dataTable, element);\n",
              "          const docLink = document.createElement('div');\n",
              "          docLink.innerHTML = docLinkHtml;\n",
              "          element.appendChild(docLink);\n",
              "        }\n",
              "      </script>\n",
              "    </div>\n",
              "  </div>\n",
              "  "
            ]
          },
          "metadata": {},
          "execution_count": 55
        }
      ]
    },
    {
      "cell_type": "markdown",
      "source": [
        "#### Discretization"
      ],
      "metadata": {
        "id": "mplaVPozCKg6"
      }
    },
    {
      "cell_type": "markdown",
      "source": [
        "Here, we have a histogram regarding the attack players ages"
      ],
      "metadata": {
        "id": "NSF8Sz3iEj66"
      }
    },
    {
      "cell_type": "code",
      "source": [
        "attack['idade'].plot.hist()"
      ],
      "metadata": {
        "colab": {
          "base_uri": "https://localhost:8080/",
          "height": 282
        },
        "id": "OHlTfnBKCPZH",
        "outputId": "1aaaf7f6-1d3d-4ed0-814e-00bf7a4bdfe1"
      },
      "execution_count": 56,
      "outputs": [
        {
          "output_type": "execute_result",
          "data": {
            "text/plain": [
              "<matplotlib.axes._subplots.AxesSubplot at 0x7f49ca737410>"
            ]
          },
          "metadata": {},
          "execution_count": 56
        },
        {
          "output_type": "display_data",
          "data": {
            "text/plain": [
              "<Figure size 432x288 with 1 Axes>"
            ],
            "image/png": "[encoded data removed]"
          },
          "metadata": {
            "needs_background": "light"
          }
        }
      ]
    },
    {
      "cell_type": "markdown",
      "source": [
        "If it's in our best interest to discreticize these values into different categories, we have a few approaches:"
      ],
      "metadata": {
        "id": "0LDjsyp9Eo5N"
      }
    },
    {
      "cell_type": "markdown",
      "source": [
        "##### Quantile Approach"
      ],
      "metadata": {
        "id": "DA40E8CuE8-P"
      }
    },
    {
      "cell_type": "code",
      "source": [
        "# Here, we determine a quartile approach to follow our values segmentation\n",
        "attack_age_disc_qcut = pd.qcut(attack['idade'], 4)"
      ],
      "metadata": {
        "id": "-FbegwN7CT9I"
      },
      "execution_count": 57,
      "outputs": []
    },
    {
      "cell_type": "code",
      "source": [
        "attack_age_disc_qcut.value_counts()"
      ],
      "metadata": {
        "colab": {
          "base_uri": "https://localhost:8080/"
        },
        "id": "MKqujmVyCjwe",
        "outputId": "1f87aa14-e8b0-48a6-9c7c-5290a4d2f395"
      },
      "execution_count": 58,
      "outputs": [
        {
          "output_type": "execute_result",
          "data": {
            "text/plain": [
              "(17.999, 22.0]    37\n",
              "(26.0, 31.0]      35\n",
              "(22.0, 26.0]      30\n",
              "(31.0, 41.0]      29\n",
              "Name: idade, dtype: int64"
            ]
          },
          "metadata": {},
          "execution_count": 58
        }
      ]
    },
    {
      "cell_type": "code",
      "source": [
        "attack_age_disc_qcut.describe()"
      ],
      "metadata": {
        "colab": {
          "base_uri": "https://localhost:8080/"
        },
        "id": "GnbnpekuC57v",
        "outputId": "64697083-248f-47d9-af1b-1417dc47aa8d"
      },
      "execution_count": 59,
      "outputs": [
        {
          "output_type": "execute_result",
          "data": {
            "text/plain": [
              "count                131\n",
              "unique                 4\n",
              "top       (17.999, 22.0]\n",
              "freq                  37\n",
              "Name: idade, dtype: object"
            ]
          },
          "metadata": {},
          "execution_count": 59
        }
      ]
    },
    {
      "cell_type": "markdown",
      "source": [
        "##### Usual Approach"
      ],
      "metadata": {
        "id": "XjiMpqNJFJr3"
      }
    },
    {
      "cell_type": "code",
      "source": [
        "attack_age_disc_cut = pd.cut(attack['idade'], bins=4)"
      ],
      "metadata": {
        "id": "AZz1pjBSDABp"
      },
      "execution_count": 60,
      "outputs": []
    },
    {
      "cell_type": "code",
      "source": [
        "attack_age_disc_cut.value_counts()"
      ],
      "metadata": {
        "colab": {
          "base_uri": "https://localhost:8080/"
        },
        "id": "PhdYLBCYDAm4",
        "outputId": "c3b087aa-a857-4c52-827e-df16d0bcba3d"
      },
      "execution_count": 61,
      "outputs": [
        {
          "output_type": "execute_result",
          "data": {
            "text/plain": [
              "(23.75, 29.5]      47\n",
              "(17.977, 23.75]    40\n",
              "(29.5, 35.25]      39\n",
              "(35.25, 41.0]       5\n",
              "Name: idade, dtype: int64"
            ]
          },
          "metadata": {},
          "execution_count": 61
        }
      ]
    },
    {
      "cell_type": "code",
      "source": [
        "attack_age_disc_cut.describe()"
      ],
      "metadata": {
        "colab": {
          "base_uri": "https://localhost:8080/"
        },
        "id": "KZbVbQ4JDBLT",
        "outputId": "03cdd94e-c10a-4e4b-a46f-aa821a5799d7"
      },
      "execution_count": 62,
      "outputs": [
        {
          "output_type": "execute_result",
          "data": {
            "text/plain": [
              "count               131\n",
              "unique                4\n",
              "top       (23.75, 29.5]\n",
              "freq                 47\n",
              "Name: idade, dtype: object"
            ]
          },
          "metadata": {},
          "execution_count": 62
        }
      ]
    },
    {
      "cell_type": "markdown",
      "source": [
        "### Hypothesis Testing"
      ],
      "metadata": {
        "id": "T1gMHzYa27gL"
      }
    },
    {
      "cell_type": "markdown",
      "source": [
        "![hypothesis.png](data:image/png;base64,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)"
      ],
      "metadata": {
        "id": "qAc5wQksE30m"
      }
    },
    {
      "cell_type": "markdown",
      "source": [
        "Conduct the hypothesis testing to check whether the amount of goals scored by older players tend to be higher than the amount of goals scored by younger players (using a 0.05 significance level).\n",
        "\n",
        "\n"
      ],
      "metadata": {
        "id": "RrHkjCQL3saq"
      }
    },
    {
      "cell_type": "markdown",
      "source": [
        "To decide whether to use the parametric or nonparametric version of the test, we should check the specific requirements listed below:\n",
        "\n",
        "* Observations in each sample are independent and identically distributed (IID).\n",
        "* Observations in each sample are normally distributed.\n",
        "* Observations in each sample have the same variance."
      ],
      "metadata": {
        "id": "NVJJfMV8dQTk"
      }
    },
    {
      "cell_type": "markdown",
      "source": [
        "For that, we have two Hypothesis:\n",
        "*   Ho -> μy ≤ μo  \n",
        "*   Ha -> μo > μy\n",
        "\n",
        "Where μo is the mean of goals scored by older players, and μy is the mean of goals scored by younger players.\n"
      ],
      "metadata": {
        "id": "FI28iIR7dYxK"
      }
    },
    {
      "cell_type": "markdown",
      "source": [
        "Please remember that rejecting H₀ validates H₁. However, failing to reject H₀ does not mean H₀ is valid, nor does it mean H₁ is wrong."
      ],
      "metadata": {
        "id": "Gb-9WqBHKcXx"
      }
    },
    {
      "cell_type": "code",
      "source": [
        "# Our age median is 26\n",
        "attack['idade'].median()"
      ],
      "metadata": {
        "colab": {
          "base_uri": "https://localhost:8080/"
        },
        "id": "yV5kVarR4H3b",
        "outputId": "55d7cca7-61c7-446e-a08d-db217e165dc1"
      },
      "execution_count": 63,
      "outputs": [
        {
          "output_type": "execute_result",
          "data": {
            "text/plain": [
              "26.0"
            ]
          },
          "metadata": {},
          "execution_count": 63
        }
      ]
    },
    {
      "cell_type": "code",
      "source": [
        "# Our age mean is aprox. 26.74\n",
        "attack['idade'].mean()"
      ],
      "metadata": {
        "colab": {
          "base_uri": "https://localhost:8080/"
        },
        "id": "D50258FX6FR8",
        "outputId": "87b18c0f-7cb5-423b-e9f0-b8377c1895f7"
      },
      "execution_count": 64,
      "outputs": [
        {
          "output_type": "execute_result",
          "data": {
            "text/plain": [
              "26.740458015267176"
            ]
          },
          "metadata": {},
          "execution_count": 64
        }
      ]
    },
    {
      "cell_type": "code",
      "source": [
        "# We have a clue that it's normally distributed (might not be)\n",
        "sns.histplot(data=attack[attack['idade'] > 26]['gols'])"
      ],
      "metadata": {
        "colab": {
          "base_uri": "https://localhost:8080/",
          "height": 296
        },
        "id": "abHwBHSl5aBB",
        "outputId": "5df7cdd8-a0f5-476e-bc0f-fd59ce3d1853"
      },
      "execution_count": 65,
      "outputs": [
        {
          "output_type": "execute_result",
          "data": {
            "text/plain": [
              "<matplotlib.axes._subplots.AxesSubplot at 0x7f49c7a6fc50>"
            ]
          },
          "metadata": {},
          "execution_count": 65
        },
        {
          "output_type": "display_data",
          "data": {
            "text/plain": [
              "<Figure size 432x288 with 1 Axes>"
            ],
            "image/png": "[encoded data removed]"
          },
          "metadata": {
            "needs_background": "light"
          }
        }
      ]
    },
    {
      "cell_type": "code",
      "source": [
        "# We have a clue that it's normally distributed (might not be)\n",
        "sns.histplot(data=attack[attack['idade'] <= 26]['gols'])"
      ],
      "metadata": {
        "colab": {
          "base_uri": "https://localhost:8080/",
          "height": 296
        },
        "id": "U2tfxuT66A1D",
        "outputId": "92d0094d-5502-4476-98ad-32a3bd915752"
      },
      "execution_count": 66,
      "outputs": [
        {
          "output_type": "execute_result",
          "data": {
            "text/plain": [
              "<matplotlib.axes._subplots.AxesSubplot at 0x7f49c7c8ecd0>"
            ]
          },
          "metadata": {},
          "execution_count": 66
        },
        {
          "output_type": "display_data",
          "data": {
            "text/plain": [
              "<Figure size 432x288 with 1 Axes>"
            ],
            "image/png": "[encoded data removed]"
          },
          "metadata": {
            "needs_background": "light"
          }
        }
      ]
    },
    {
      "cell_type": "code",
      "source": [
        "def check_normality(data):\n",
        "    test_stat_normality, p_value_normality=stats.shapiro(data)\n",
        "    print(\"p value:%.10f\" % p_value_normality)\n",
        "    if p_value_normality <0.05:\n",
        "        print(\"Reject null hypothesis >> The data is not normally distributed\")\n",
        "    else:\n",
        "        print(\"Fail to reject null hypothesis >> The data is normally distributed\")"
      ],
      "metadata": {
        "id": "wPQfUDbo5nY9"
      },
      "execution_count": 67,
      "outputs": []
    },
    {
      "cell_type": "code",
      "source": [
        "def check_variance_homogeneity(group1, group2):\n",
        "    test_stat_var, p_value_var= stats.levene(group1,group2)\n",
        "    print(\"p value:%.4f\" % p_value_var)\n",
        "    if p_value_var <0.05:\n",
        "        print(\"Reject null hypothesis >> The variances of the samples are different.\")\n",
        "    else:\n",
        "        print(\"Fail to reject null hypothesis >> The variances of the samples are same.\")"
      ],
      "metadata": {
        "id": "0N6_FT1UBama"
      },
      "execution_count": 68,
      "outputs": []
    },
    {
      "cell_type": "code",
      "source": [
        "older_players_goals = attack[attack['idade'] > 26]['gols']"
      ],
      "metadata": {
        "id": "xSPr-lbK6lTO"
      },
      "execution_count": 69,
      "outputs": []
    },
    {
      "cell_type": "code",
      "source": [
        "younger_players_goals = attack[attack['idade'] <= 26]['gols']"
      ],
      "metadata": {
        "id": "wo4GM0bv7cua"
      },
      "execution_count": 70,
      "outputs": []
    },
    {
      "cell_type": "markdown",
      "source": [
        "CHECKING"
      ],
      "metadata": {
        "id": "0xKpk8heAY3A"
      }
    },
    {
      "cell_type": "markdown",
      "source": [
        "H₀: The data is normally distributed.\n",
        "\n",
        "H₁: The data is not normally distributed.\n",
        "\n",
        "\n"
      ],
      "metadata": {
        "id": "agjvBJI3BBpy"
      }
    },
    {
      "cell_type": "code",
      "source": [
        "older_players_goals.count()"
      ],
      "metadata": {
        "colab": {
          "base_uri": "https://localhost:8080/"
        },
        "id": "9xx5uXhnA17L",
        "outputId": "5c7e648b-b9bb-4793-d638-c1cfc96c4462"
      },
      "execution_count": 71,
      "outputs": [
        {
          "output_type": "execute_result",
          "data": {
            "text/plain": [
              "64"
            ]
          },
          "metadata": {},
          "execution_count": 71
        }
      ]
    },
    {
      "cell_type": "code",
      "source": [
        "younger_players_goals.count()"
      ],
      "metadata": {
        "colab": {
          "base_uri": "https://localhost:8080/"
        },
        "id": "hIjZ5XPOA3mq",
        "outputId": "73c58652-4079-4701-fc78-4ee73ea7ad87"
      },
      "execution_count": 72,
      "outputs": [
        {
          "output_type": "execute_result",
          "data": {
            "text/plain": [
              "67"
            ]
          },
          "metadata": {},
          "execution_count": 72
        }
      ]
    },
    {
      "cell_type": "code",
      "source": [
        "check_normality(older_players_goals)"
      ],
      "metadata": {
        "colab": {
          "base_uri": "https://localhost:8080/"
        },
        "id": "gur6JwbBAW8M",
        "outputId": "6c626cdd-4ab4-4397-abf6-8fe0a4676872"
      },
      "execution_count": 73,
      "outputs": [
        {
          "output_type": "stream",
          "name": "stdout",
          "text": [
            "p value:0.0000007537\n",
            "Reject null hypothesis >> The data is not normally distributed\n"
          ]
        }
      ]
    },
    {
      "cell_type": "code",
      "source": [
        "check_normality(younger_players_goals)"
      ],
      "metadata": {
        "colab": {
          "base_uri": "https://localhost:8080/"
        },
        "id": "8XCEBuarAYA_",
        "outputId": "44a62b0d-2d5e-436a-dc97-35caa50d5481"
      },
      "execution_count": 74,
      "outputs": [
        {
          "output_type": "stream",
          "name": "stdout",
          "text": [
            "p value:0.0000000001\n",
            "Reject null hypothesis >> The data is not normally distributed\n"
          ]
        }
      ]
    },
    {
      "cell_type": "markdown",
      "source": [
        "H₀: The variances of the samples are the same.\n",
        "\n",
        "H₁: The variances of the samples are different."
      ],
      "metadata": {
        "id": "5YKa7WM2Bijy"
      }
    },
    {
      "cell_type": "code",
      "source": [
        "check_variance_homogeneity(older_players_goals, younger_players_goals)\n"
      ],
      "metadata": {
        "colab": {
          "base_uri": "https://localhost:8080/"
        },
        "id": "lexci5oUBkLX",
        "outputId": "8df65257-5c42-4188-9fdc-1e169b7ff22f"
      },
      "execution_count": 75,
      "outputs": [
        {
          "output_type": "stream",
          "name": "stdout",
          "text": [
            "p value:0.4067\n",
            "Fail to reject null hypothesis >> The variances of the samples are same.\n"
          ]
        }
      ]
    },
    {
      "cell_type": "markdown",
      "source": [
        "There are two groups, and data is collected from different individuals, so it is not paired. However, the normality assumption is not satisfied; therefore, we need to use the nonparametric version of 2 group comparison for unpaired data: the Mann-Whitney U Test."
      ],
      "metadata": {
        "id": "6SIVanfYBubr"
      }
    },
    {
      "cell_type": "code",
      "source": [
        "ttest,pvalue = stats.mannwhitneyu(older_players_goals, younger_players_goals, alternative=\"greater\")\n",
        "print(\"p-value:%.10f\" % pvalue)\n",
        "if pvalue <0.05:\n",
        "    print(\"Reject null hypothesis\")\n",
        "else:\n",
        "    print(\"Fail to reject null hypothesis\")"
      ],
      "metadata": {
        "colab": {
          "base_uri": "https://localhost:8080/"
        },
        "id": "EXIIZkzGByZL",
        "outputId": "ac804cac-db6a-432b-f47a-4af8deddecf0"
      },
      "execution_count": 76,
      "outputs": [
        {
          "output_type": "stream",
          "name": "stdout",
          "text": [
            "p-value:0.0036808399\n",
            "Reject null hypothesis\n"
          ]
        }
      ]
    },
    {
      "cell_type": "markdown",
      "source": [
        "This means our alternative hypothesis that older players perform better than younger players (regarding the number of goals) is true."
      ],
      "metadata": {
        "id": "HFbmPyndJzfR"
      }
    },
    {
      "cell_type": "markdown",
      "source": [
        "Here is a little hint of why this assumption was chosen:"
      ],
      "metadata": {
        "id": "FcCgQLMSfDpr"
      }
    },
    {
      "cell_type": "code",
      "source": [
        "older_players_goals.mean()"
      ],
      "metadata": {
        "colab": {
          "base_uri": "https://localhost:8080/"
        },
        "id": "LZde4OcOF1aN",
        "outputId": "5eb784a5-1e2d-4653-88e1-fc9442fa7d5e"
      },
      "execution_count": 77,
      "outputs": [
        {
          "output_type": "execute_result",
          "data": {
            "text/plain": [
              "1.296875"
            ]
          },
          "metadata": {},
          "execution_count": 77
        }
      ]
    },
    {
      "cell_type": "code",
      "source": [
        "younger_players_goals.mean()"
      ],
      "metadata": {
        "colab": {
          "base_uri": "https://localhost:8080/"
        },
        "id": "So3ZzcncF517",
        "outputId": "ad8d1c06-0fe6-4ae5-d71a-3edaa6686e81"
      },
      "execution_count": 78,
      "outputs": [
        {
          "output_type": "execute_result",
          "data": {
            "text/plain": [
              "0.8208955223880597"
            ]
          },
          "metadata": {},
          "execution_count": 78
        }
      ]
    },
    {
      "cell_type": "markdown",
      "source": [
        "# Part 2 (Project 2)"
      ],
      "metadata": {
        "id": "uaG5tGcU96s4"
      }
    },
    {
      "cell_type": "markdown",
      "source": [
        "#### Since our data analysis and pre-processing have already been done, now we want to generate inferences over our data. For that, we use 4 different ML models (On SkLearn) in order to gather the best performance results and compare them."
      ],
      "metadata": {
        "id": "VpRSwy3IxUCc"
      }
    },
    {
      "cell_type": "markdown",
      "source": [
        "We intend to use 'golsPorPartida' as our dependent variable (to work upon), referring to the average amount of goals scored per match by a specific player."
      ],
      "metadata": {
        "id": "FjPJKvrixsyA"
      }
    },
    {
      "cell_type": "code",
      "source": [
        "# using golsPorPartida as our target variable and rest is X variables\n",
        "X = attack.drop(['golsPorPartida', 'jogador', 'posicao', 'gols_log'], axis=1)\n",
        "y = attack['golsPorPartida']\n",
        "\n",
        "# Divide X and y for training and test set and for training set divide it for training and validation set\n",
        "\n",
        "# X_train, X_test, y_train, y_test = train_test_split(X, y, test_size=0.2, random_state=42)\n",
        "\n",
        "# Splitting the data into train and test\n",
        "from sklearn.model_selection import train_test_split\n",
        "X_train, X_test, y_train, y_test = train_test_split(X, y, test_size=0.2, random_state=42)\n",
        "\n",
        "\n",
        "#Shape of the train and test data\n",
        "print(X_train.shape)\n",
        "print(X_test.shape)\n",
        "print(y_train.shape)\n",
        "print(y_test.shape)\n"
      ],
      "metadata": {
        "colab": {
          "base_uri": "https://localhost:8080/"
        },
        "id": "PddfVEUu86tU",
        "outputId": "8c198999-64af-4bce-8596-52b1d844339f"
      },
      "execution_count": 79,
      "outputs": [
        {
          "output_type": "stream",
          "name": "stdout",
          "text": [
            "(104, 6)\n",
            "(27, 6)\n",
            "(104,)\n",
            "(27,)\n"
          ]
        }
      ]
    },
    {
      "cell_type": "markdown",
      "source": [
        "We also intend to use the r2_score as our metric for evaluation"
      ],
      "metadata": {
        "id": "sB9UFD7uyB1K"
      }
    },
    {
      "cell_type": "code",
      "source": [
        "r2_scores_list = {}"
      ],
      "metadata": {
        "id": "HXWKhsFfVeZh"
      },
      "execution_count": 80,
      "outputs": []
    },
    {
      "cell_type": "markdown",
      "source": [
        "Here, we have a Linear Regression Model (native/default)."
      ],
      "metadata": {
        "id": "vUarYIvOyMfk"
      }
    },
    {
      "cell_type": "code",
      "source": [
        "from sklearn.linear_model import LinearRegression\n",
        "from sklearn.metrics import mean_squared_error, r2_score\n",
        "from sklearn.model_selection import cross_val_score\n",
        "\n",
        "lr = LinearRegression()\n",
        "\n",
        "lr.fit(X_train, y_train)\n",
        "\n",
        "y_pred = lr.predict(X_test)\n",
        "\n",
        "print(\"R2 score: %.2f\" % r2_score(y_test, y_pred))\n",
        "print(\"MSE: %.2f\" % mean_squared_error(y_test, y_pred))\n",
        "\n",
        "\n",
        "scores = cross_val_score(lr, X, y, cv=5)\n",
        "print(\"Cross-validation scores: {}\".format(scores))"
      ],
      "metadata": {
        "colab": {
          "base_uri": "https://localhost:8080/"
        },
        "id": "Q8h2Za6P9He7",
        "outputId": "f2a24648-2663-473a-9856-e8a464799342"
      },
      "execution_count": 81,
      "outputs": [
        {
          "output_type": "stream",
          "name": "stdout",
          "text": [
            "R2 score: 0.82\n",
            "MSE: 0.01\n",
            "Cross-validation scores: [0.83232632 0.32495272 0.62282945 0.74880356 0.45021638]\n"
          ]
        }
      ]
    },
    {
      "cell_type": "markdown",
      "source": [
        "In order to gather the best hyper-parameters regarding a certain model, we use Optuna (that performs a combination of the selected hyper-parameters and gather those that performed better when evaluated by our selected score - r2_score)"
      ],
      "metadata": {
        "id": "eh5IQyqiym1G"
      }
    },
    {
      "cell_type": "code",
      "source": [
        "!pip install optuna"
      ],
      "metadata": {
        "colab": {
          "base_uri": "https://localhost:8080/"
        },
        "id": "1T4Hh2SNoxdF",
        "outputId": "69bc8311-4d15-4737-9a57-1410b82ecbb4"
      },
      "execution_count": 82,
      "outputs": [
        {
          "output_type": "stream",
          "name": "stdout",
          "text": [
            "Looking in indexes: https://pypi.org/simple, https://us-python.pkg.dev/colab-wheels/public/simple/\n",
            "Collecting optuna\n",
            "  Downloading optuna-3.0.2-py3-none-any.whl (348 kB)\n",
            "\u001b[K     |████████████████████████████████| 348 kB 6.5 MB/s \n",
            "\u001b[?25hCollecting cliff\n",
            "  Downloading cliff-3.10.1-py3-none-any.whl (81 kB)\n",
            "\u001b[K     |████████████████████████████████| 81 kB 9.1 MB/s \n",
            "\u001b[?25hRequirement already satisfied: scipy<1.9.0,>=1.7.0 in /usr/local/lib/python3.7/dist-packages (from optuna) (1.7.3)\n",
            "Requirement already satisfied: tqdm in /usr/local/lib/python3.7/dist-packages (from optuna) (4.64.1)\n",
            "Requirement already satisfied: packaging>=20.0 in /usr/local/lib/python3.7/dist-packages (from optuna) (21.3)\n",
            "Requirement already satisfied: PyYAML in /usr/local/lib/python3.7/dist-packages (from optuna) (6.0)\n",
            "Collecting cmaes>=0.8.2\n",
            "  Downloading cmaes-0.8.2-py3-none-any.whl (15 kB)\n",
            "Requirement already satisfied: numpy in /usr/local/lib/python3.7/dist-packages (from optuna) (1.21.6)\n",
            "Requirement already satisfied: sqlalchemy>=1.3.0 in /usr/local/lib/python3.7/dist-packages (from optuna) (1.4.41)\n",
            "Collecting alembic>=1.5.0\n",
            "  Downloading alembic-1.8.1-py3-none-any.whl (209 kB)\n",
            "\u001b[K     |████████████████████████████████| 209 kB 41.3 MB/s \n",
            "\u001b[?25hCollecting colorlog\n",
            "  Downloading colorlog-6.7.0-py2.py3-none-any.whl (11 kB)\n",
            "Requirement already satisfied: importlib-metadata in /usr/local/lib/python3.7/dist-packages (from alembic>=1.5.0->optuna) (4.12.0)\n",
            "Collecting Mako\n",
            "  Downloading Mako-1.2.3-py3-none-any.whl (78 kB)\n",
            "\u001b[K     |████████████████████████████████| 78 kB 3.5 MB/s \n",
            "\u001b[?25hRequirement already satisfied: importlib-resources in /usr/local/lib/python3.7/dist-packages (from alembic>=1.5.0->optuna) (5.9.0)\n",
            "Requirement already satisfied: pyparsing!=3.0.5,>=2.0.2 in /usr/local/lib/python3.7/dist-packages (from packaging>=20.0->optuna) (3.0.9)\n",
            "Requirement already satisfied: greenlet!=0.4.17 in /usr/local/lib/python3.7/dist-packages (from sqlalchemy>=1.3.0->optuna) (1.1.3)\n",
            "Collecting autopage>=0.4.0\n",
            "  Downloading autopage-0.5.1-py3-none-any.whl (29 kB)\n",
            "Requirement already satisfied: PrettyTable>=0.7.2 in /usr/local/lib/python3.7/dist-packages (from cliff->optuna) (3.4.1)\n",
            "Collecting stevedore>=2.0.1\n",
            "  Downloading stevedore-3.5.0-py3-none-any.whl (49 kB)\n",
            "\u001b[K     |████████████████████████████████| 49 kB 6.1 MB/s \n",
            "\u001b[?25hCollecting pbr!=2.1.0,>=2.0.0\n",
            "  Downloading pbr-5.10.0-py2.py3-none-any.whl (112 kB)\n",
            "\u001b[K     |████████████████████████████████| 112 kB 48.8 MB/s \n",
            "\u001b[?25hCollecting cmd2>=1.0.0\n",
            "  Downloading cmd2-2.4.2-py3-none-any.whl (147 kB)\n",
            "\u001b[K     |████████████████████████████████| 147 kB 46.8 MB/s \n",
            "\u001b[?25hRequirement already satisfied: attrs>=16.3.0 in /usr/local/lib/python3.7/dist-packages (from cmd2>=1.0.0->cliff->optuna) (22.1.0)\n",
            "Requirement already satisfied: wcwidth>=0.1.7 in /usr/local/lib/python3.7/dist-packages (from cmd2>=1.0.0->cliff->optuna) (0.2.5)\n",
            "Collecting pyperclip>=1.6\n",
            "  Downloading pyperclip-1.8.2.tar.gz (20 kB)\n",
            "Requirement already satisfied: typing-extensions in /usr/local/lib/python3.7/dist-packages (from cmd2>=1.0.0->cliff->optuna) (4.1.1)\n",
            "Requirement already satisfied: zipp>=0.5 in /usr/local/lib/python3.7/dist-packages (from importlib-metadata->alembic>=1.5.0->optuna) (3.8.1)\n",
            "Requirement already satisfied: MarkupSafe>=0.9.2 in /usr/local/lib/python3.7/dist-packages (from Mako->alembic>=1.5.0->optuna) (2.0.1)\n",
            "Building wheels for collected packages: pyperclip\n",
            "  Building wheel for pyperclip (setup.py) ... \u001b[?25l\u001b[?25hdone\n",
            "  Created wheel for pyperclip: filename=pyperclip-1.8.2-py3-none-any.whl size=11137 sha256=b61d75e2899b54363bc04b5ee679e3f49bb6bf64447a8125be737dbcfaa1dfe2\n",
            "  Stored in directory: /root/.cache/pip/wheels/9f/18/84/8f69f8b08169c7bae2dde6bd7daf0c19fca8c8e500ee620a28\n",
            "Successfully built pyperclip\n",
            "Installing collected packages: pyperclip, pbr, stevedore, Mako, cmd2, autopage, colorlog, cmaes, cliff, alembic, optuna\n",
            "Successfully installed Mako-1.2.3 alembic-1.8.1 autopage-0.5.1 cliff-3.10.1 cmaes-0.8.2 cmd2-2.4.2 colorlog-6.7.0 optuna-3.0.2 pbr-5.10.0 pyperclip-1.8.2 stevedore-3.5.0\n"
          ]
        }
      ]
    },
    {
      "cell_type": "markdown",
      "source": [
        "We also use mlflow to keep track of the metadata generated in our project."
      ],
      "metadata": {
        "id": "PWT6xIPTzGv1"
      }
    },
    {
      "cell_type": "code",
      "source": [
        "!pip install mlflow"
      ],
      "metadata": {
        "colab": {
          "base_uri": "https://localhost:8080/"
        },
        "id": "I1BjQL5So0Qf",
        "outputId": "07edec67-52ae-4227-deeb-7b93d3af9c7e"
      },
      "execution_count": 83,
      "outputs": [
        {
          "output_type": "stream",
          "name": "stdout",
          "text": [
            "Looking in indexes: https://pypi.org/simple, https://us-python.pkg.dev/colab-wheels/public/simple/\n",
            "Collecting mlflow\n",
            "  Downloading mlflow-1.29.0-py3-none-any.whl (16.9 MB)\n",
            "\u001b[K     |████████████████████████████████| 16.9 MB 8.9 MB/s \n",
            "\u001b[?25hRequirement already satisfied: pytz<2023 in /usr/local/lib/python3.7/dist-packages (from mlflow) (2022.2.1)\n",
            "Requirement already satisfied: scipy<2 in /usr/local/lib/python3.7/dist-packages (from mlflow) (1.7.3)\n",
            "Collecting databricks-cli<1,>=0.8.7\n",
            "  Downloading databricks-cli-0.17.3.tar.gz (77 kB)\n",
            "\u001b[K     |████████████████████████████████| 77 kB 7.1 MB/s \n",
            "\u001b[?25hRequirement already satisfied: pyyaml<7,>=5.1 in /usr/local/lib/python3.7/dist-packages (from mlflow) (6.0)\n",
            "Requirement already satisfied: requests<3,>=2.17.3 in /usr/local/lib/python3.7/dist-packages (from mlflow) (2.23.0)\n",
            "Requirement already satisfied: Flask<3 in /usr/local/lib/python3.7/dist-packages (from mlflow) (1.1.4)\n",
            "Requirement already satisfied: alembic<2 in /usr/local/lib/python3.7/dist-packages (from mlflow) (1.8.1)\n",
            "Collecting querystring-parser<2\n",
            "  Downloading querystring_parser-1.2.4-py2.py3-none-any.whl (7.9 kB)\n",
            "Requirement already satisfied: entrypoints<1 in /usr/local/lib/python3.7/dist-packages (from mlflow) (0.4)\n",
            "Collecting gitpython<4,>=2.1.0\n",
            "  Downloading GitPython-3.1.27-py3-none-any.whl (181 kB)\n",
            "\u001b[K     |████████████████████████████████| 181 kB 53.3 MB/s \n",
            "\u001b[?25hRequirement already satisfied: numpy<2 in /usr/local/lib/python3.7/dist-packages (from mlflow) (1.21.6)\n",
            "Requirement already satisfied: pandas<2 in /usr/local/lib/python3.7/dist-packages (from mlflow) (1.3.5)\n",
            "Requirement already satisfied: cloudpickle<3 in /usr/local/lib/python3.7/dist-packages (from mlflow) (1.5.0)\n",
            "Requirement already satisfied: sqlalchemy<2,>=1.4.0 in /usr/local/lib/python3.7/dist-packages (from mlflow) (1.4.41)\n",
            "Requirement already satisfied: importlib-metadata!=4.7.0,<5,>=3.7.0 in /usr/local/lib/python3.7/dist-packages (from mlflow) (4.12.0)\n",
            "Requirement already satisfied: click<9,>=7.0 in /usr/local/lib/python3.7/dist-packages (from mlflow) (7.1.2)\n",
            "Requirement already satisfied: packaging<22 in /usr/local/lib/python3.7/dist-packages (from mlflow) (21.3)\n",
            "Requirement already satisfied: protobuf<5,>=3.12.0 in /usr/local/lib/python3.7/dist-packages (from mlflow) (3.17.3)\n",
            "Requirement already satisfied: sqlparse<1,>=0.4.0 in /usr/local/lib/python3.7/dist-packages (from mlflow) (0.4.2)\n",
            "Collecting gunicorn<21\n",
            "  Downloading gunicorn-20.1.0-py3-none-any.whl (79 kB)\n",
            "\u001b[K     |████████████████████████████████| 79 kB 7.8 MB/s \n",
            "\u001b[?25hCollecting prometheus-flask-exporter<1\n",
            "  Downloading prometheus_flask_exporter-0.20.3-py3-none-any.whl (18 kB)\n",
            "Collecting docker<7,>=4.0.0\n",
            "  Downloading docker-6.0.0-py3-none-any.whl (147 kB)\n",
            "\u001b[K     |████████████████████████████████| 147 kB 49.1 MB/s \n",
            "\u001b[?25hRequirement already satisfied: Mako in /usr/local/lib/python3.7/dist-packages (from alembic<2->mlflow) (1.2.3)\n",
            "Requirement already satisfied: importlib-resources in /usr/local/lib/python3.7/dist-packages (from alembic<2->mlflow) (5.9.0)\n",
            "Collecting pyjwt>=1.7.0\n",
            "  Downloading PyJWT-2.5.0-py3-none-any.whl (20 kB)\n",
            "Requirement already satisfied: oauthlib>=3.1.0 in /usr/local/lib/python3.7/dist-packages (from databricks-cli<1,>=0.8.7->mlflow) (3.2.0)\n",
            "Requirement already satisfied: tabulate>=0.7.7 in /usr/local/lib/python3.7/dist-packages (from databricks-cli<1,>=0.8.7->mlflow) (0.8.10)\n",
            "Requirement already satisfied: six>=1.10.0 in /usr/local/lib/python3.7/dist-packages (from databricks-cli<1,>=0.8.7->mlflow) (1.15.0)\n",
            "Collecting websocket-client>=0.32.0\n",
            "  Downloading websocket_client-1.4.1-py3-none-any.whl (55 kB)\n",
            "\u001b[K     |████████████████████████████████| 55 kB 2.2 MB/s \n",
            "\u001b[?25hCollecting urllib3>=1.26.0\n",
            "  Downloading urllib3-1.26.12-py2.py3-none-any.whl (140 kB)\n",
            "\u001b[K     |████████████████████████████████| 140 kB 50.2 MB/s \n",
            "\u001b[?25hCollecting requests<3,>=2.17.3\n",
            "  Downloading requests-2.28.1-py3-none-any.whl (62 kB)\n",
            "\u001b[K     |████████████████████████████████| 62 kB 1.7 MB/s \n",
            "\u001b[?25hRequirement already satisfied: itsdangerous<2.0,>=0.24 in /usr/local/lib/python3.7/dist-packages (from Flask<3->mlflow) (1.1.0)\n",
            "Requirement already satisfied: Jinja2<3.0,>=2.10.1 in /usr/local/lib/python3.7/dist-packages (from Flask<3->mlflow) (2.11.3)\n",
            "Requirement already satisfied: Werkzeug<2.0,>=0.15 in /usr/local/lib/python3.7/dist-packages (from Flask<3->mlflow) (1.0.1)\n",
            "Requirement already satisfied: typing-extensions>=3.7.4.3 in /usr/local/lib/python3.7/dist-packages (from gitpython<4,>=2.1.0->mlflow) (4.1.1)\n",
            "Collecting gitdb<5,>=4.0.1\n",
            "  Downloading gitdb-4.0.9-py3-none-any.whl (63 kB)\n",
            "\u001b[K     |████████████████████████████████| 63 kB 2.0 MB/s \n",
            "\u001b[?25hCollecting smmap<6,>=3.0.1\n",
            "  Downloading smmap-5.0.0-py3-none-any.whl (24 kB)\n",
            "Requirement already satisfied: setuptools>=3.0 in /usr/local/lib/python3.7/dist-packages (from gunicorn<21->mlflow) (57.4.0)\n",
            "Requirement already satisfied: zipp>=0.5 in /usr/local/lib/python3.7/dist-packages (from importlib-metadata!=4.7.0,<5,>=3.7.0->mlflow) (3.8.1)\n",
            "Requirement already satisfied: MarkupSafe>=0.23 in /usr/local/lib/python3.7/dist-packages (from Jinja2<3.0,>=2.10.1->Flask<3->mlflow) (2.0.1)\n",
            "Requirement already satisfied: pyparsing!=3.0.5,>=2.0.2 in /usr/local/lib/python3.7/dist-packages (from packaging<22->mlflow) (3.0.9)\n",
            "Requirement already satisfied: python-dateutil>=2.7.3 in /usr/local/lib/python3.7/dist-packages (from pandas<2->mlflow) (2.8.2)\n",
            "Collecting prometheus-client\n",
            "  Downloading prometheus_client-0.14.1-py3-none-any.whl (59 kB)\n",
            "\u001b[K     |████████████████████████████████| 59 kB 7.7 MB/s \n",
            "\u001b[?25hRequirement already satisfied: charset-normalizer<3,>=2 in /usr/local/lib/python3.7/dist-packages (from requests<3,>=2.17.3->mlflow) (2.1.1)\n",
            "Requirement already satisfied: idna<4,>=2.5 in /usr/local/lib/python3.7/dist-packages (from requests<3,>=2.17.3->mlflow) (2.10)\n",
            "Requirement already satisfied: certifi>=2017.4.17 in /usr/local/lib/python3.7/dist-packages (from requests<3,>=2.17.3->mlflow) (2022.6.15)\n",
            "Requirement already satisfied: greenlet!=0.4.17 in /usr/local/lib/python3.7/dist-packages (from sqlalchemy<2,>=1.4.0->mlflow) (1.1.3)\n",
            "Building wheels for collected packages: databricks-cli\n",
            "  Building wheel for databricks-cli (setup.py) ... \u001b[?25l\u001b[?25hdone\n",
            "  Created wheel for databricks-cli: filename=databricks_cli-0.17.3-py3-none-any.whl size=139102 sha256=6c6521d4c65e8a96defe76a415c2c00debc16510ead901d6ea717cc7eaeeff70\n",
            "  Stored in directory: /root/.cache/pip/wheels/3f/73/87/c1e4b2145eb6049bb6c9aaf7ea1e38302b77ca219b6fef5d5c\n",
            "Successfully built databricks-cli\n",
            "Installing collected packages: urllib3, smmap, websocket-client, requests, pyjwt, prometheus-client, gitdb, querystring-parser, prometheus-flask-exporter, gunicorn, gitpython, docker, databricks-cli, mlflow\n",
            "  Attempting uninstall: urllib3\n",
            "    Found existing installation: urllib3 1.24.3\n",
            "    Uninstalling urllib3-1.24.3:\n",
            "      Successfully uninstalled urllib3-1.24.3\n",
            "  Attempting uninstall: requests\n",
            "    Found existing installation: requests 2.23.0\n",
            "    Uninstalling requests-2.23.0:\n",
            "      Successfully uninstalled requests-2.23.0\n",
            "Successfully installed databricks-cli-0.17.3 docker-6.0.0 gitdb-4.0.9 gitpython-3.1.27 gunicorn-20.1.0 mlflow-1.29.0 prometheus-client-0.14.1 prometheus-flask-exporter-0.20.3 pyjwt-2.5.0 querystring-parser-1.2.4 requests-2.28.1 smmap-5.0.0 urllib3-1.26.12 websocket-client-1.4.1\n"
          ]
        }
      ]
    },
    {
      "cell_type": "markdown",
      "source": [
        "Here, we now apply the optuna framework in our Linear Regression model, in order to select the best hyper-parameters."
      ],
      "metadata": {
        "id": "RMH0yFA_zU7S"
      }
    },
    {
      "cell_type": "code",
      "source": [
        "import optuna\n",
        "import mlflow\n",
        "\n",
        "def objective(trial):\n",
        "    #Define the parameters\n",
        "    fit_intercept = trial.suggest_categorical('fit_intercept', [True, False])\n",
        "    normalize = trial.suggest_categorical('normalize', [True, False])\n",
        "    copy_X = trial.suggest_categorical('copy_X', [True, False])\n",
        "    n_jobs = trial.suggest_categorical('n_jobs', [None, 1, 2, 3, 4, 5])\n",
        "\n",
        "    #Define the model\n",
        "    model = LinearRegression(fit_intercept=fit_intercept, normalize=normalize, copy_X=copy_X, n_jobs=n_jobs)\n",
        "\n",
        "    #Train the model\n",
        "    model.fit(X_train, y_train)\n",
        "\n",
        "\n",
        "    #Predict the model\n",
        "    y_pred = model.predict(X_test)\n",
        "\n",
        "    #Calculate the accuracy\n",
        "    score = r2_score(y_test, y_pred)\n",
        "\n",
        "\n",
        "    return score\n",
        "\n",
        "study = optuna.create_study(direction='maximize')\n",
        "study.optimize(objective, n_trials=100)\n",
        "\n",
        "# Use mlflow to log the parameters\n",
        "mlflow.set_experiment(\"Linear Regression\")\n",
        "with mlflow.start_run():\n",
        "\n",
        "    # Log the parameters\n",
        "    mlflow.log_param(\"fit_intercept\", study.best_params['fit_intercept'])\n",
        "    mlflow.log_param(\"normalize\", study.best_params['normalize'])\n",
        "    mlflow.log_param(\"copy_X\", study.best_params['copy_X'])\n",
        "    mlflow.log_param(\"n_jobs\", study.best_params['n_jobs'])\n",
        "\n",
        "    # Log the metrics\n",
        "    mlflow.log_metric(\"r2_score\", study.best_value)\n",
        "\n",
        "    # Log the model\n",
        "    mlflow.sklearn.log_model(lr, \"model\")\n",
        "\n",
        "print('Number of finished trials:', len(study.trials))\n",
        "print('Best trial:', study.best_trial.params)\n",
        "    \n",
        "\n",
        "best = study.best_trial.params\n"
      ],
      "metadata": {
        "colab": {
          "base_uri": "https://localhost:8080/"
        },
        "id": "fdC3nPOl9NEH",
        "outputId": "e7b257c6-ce4c-4cd1-a838-ee8ad734aa7e"
      },
      "execution_count": 84,
      "outputs": [
        {
          "output_type": "stream",
          "name": "stderr",
          "text": [
            "\u001b[32m[I 2022-10-03 18:01:34,983]\u001b[0m A new study created in memory with name: no-name-6eb35aa7-cefa-48ac-85a4-4c8c9817aafa\u001b[0m\n",
            "\u001b[32m[I 2022-10-03 18:01:34,994]\u001b[0m Trial 0 finished with value: 0.8286942372754351 and parameters: {'fit_intercept': False, 'normalize': True, 'copy_X': False, 'n_jobs': None}. Best is trial 0 with value: 0.8286942372754351.\u001b[0m\n",
            "\u001b[32m[I 2022-10-03 18:01:35,002]\u001b[0m Trial 1 finished with value: 0.8151742655384873 and parameters: {'fit_intercept': True, 'normalize': False, 'copy_X': False, 'n_jobs': 4}. Best is trial 0 with value: 0.8286942372754351.\u001b[0m\n",
            "\u001b[32m[I 2022-10-03 18:01:35,008]\u001b[0m Trial 2 finished with value: 0.8286942372754351 and parameters: {'fit_intercept': False, 'normalize': True, 'copy_X': False, 'n_jobs': None}. Best is trial 0 with value: 0.8286942372754351.\u001b[0m\n",
            "\u001b[32m[I 2022-10-03 18:01:35,021]\u001b[0m Trial 3 finished with value: 0.8151742655384873 and parameters: {'fit_intercept': True, 'normalize': False, 'copy_X': False, 'n_jobs': 3}. Best is trial 0 with value: 0.8286942372754351.\u001b[0m\n",
            "\u001b[32m[I 2022-10-03 18:01:35,030]\u001b[0m Trial 4 finished with value: 0.8286942372754351 and parameters: {'fit_intercept': False, 'normalize': False, 'copy_X': True, 'n_jobs': 2}. Best is trial 0 with value: 0.8286942372754351.\u001b[0m\n",
            "\u001b[32m[I 2022-10-03 18:01:35,039]\u001b[0m Trial 5 finished with value: 0.8286942372754351 and parameters: {'fit_intercept': False, 'normalize': True, 'copy_X': False, 'n_jobs': 5}. Best is trial 0 with value: 0.8286942372754351.\u001b[0m\n",
            "\u001b[32m[I 2022-10-03 18:01:35,050]\u001b[0m Trial 6 finished with value: 0.8286942372754351 and parameters: {'fit_intercept': False, 'normalize': True, 'copy_X': False, 'n_jobs': 4}. Best is trial 0 with value: 0.8286942372754351.\u001b[0m\n",
            "\u001b[32m[I 2022-10-03 18:01:35,059]\u001b[0m Trial 7 finished with value: 0.8286942372754351 and parameters: {'fit_intercept': False, 'normalize': True, 'copy_X': False, 'n_jobs': None}. Best is trial 0 with value: 0.8286942372754351.\u001b[0m\n",
            "\u001b[32m[I 2022-10-03 18:01:35,066]\u001b[0m Trial 8 finished with value: 0.8151742655384873 and parameters: {'fit_intercept': True, 'normalize': False, 'copy_X': True, 'n_jobs': 3}. Best is trial 0 with value: 0.8286942372754351.\u001b[0m\n",
            "\u001b[32m[I 2022-10-03 18:01:35,077]\u001b[0m Trial 9 finished with value: 0.8286942372754351 and parameters: {'fit_intercept': False, 'normalize': False, 'copy_X': False, 'n_jobs': 2}. Best is trial 0 with value: 0.8286942372754351.\u001b[0m\n",
            "\u001b[32m[I 2022-10-03 18:01:35,089]\u001b[0m Trial 10 finished with value: 0.8462446940301727 and parameters: {'fit_intercept': True, 'normalize': True, 'copy_X': True, 'n_jobs': 1}. Best is trial 10 with value: 0.8462446940301727.\u001b[0m\n",
            "\u001b[32m[I 2022-10-03 18:01:35,099]\u001b[0m Trial 11 finished with value: 0.8462446940301727 and parameters: {'fit_intercept': True, 'normalize': True, 'copy_X': True, 'n_jobs': 1}. Best is trial 10 with value: 0.8462446940301727.\u001b[0m\n",
            "\u001b[32m[I 2022-10-03 18:01:35,113]\u001b[0m Trial 12 finished with value: 0.8462446940301727 and parameters: {'fit_intercept': True, 'normalize': True, 'copy_X': True, 'n_jobs': 1}. Best is trial 10 with value: 0.8462446940301727.\u001b[0m\n",
            "\u001b[32m[I 2022-10-03 18:01:35,125]\u001b[0m Trial 13 finished with value: 0.8462446940301727 and parameters: {'fit_intercept': True, 'normalize': True, 'copy_X': True, 'n_jobs': 1}. Best is trial 10 with value: 0.8462446940301727.\u001b[0m\n",
            "\u001b[32m[I 2022-10-03 18:01:35,136]\u001b[0m Trial 14 finished with value: 0.8462446940301727 and parameters: {'fit_intercept': True, 'normalize': True, 'copy_X': True, 'n_jobs': 1}. Best is trial 10 with value: 0.8462446940301727.\u001b[0m\n",
            "\u001b[32m[I 2022-10-03 18:01:35,150]\u001b[0m Trial 15 finished with value: 0.8462446940301727 and parameters: {'fit_intercept': True, 'normalize': True, 'copy_X': True, 'n_jobs': 1}. Best is trial 10 with value: 0.8462446940301727.\u001b[0m\n",
            "\u001b[32m[I 2022-10-03 18:01:35,163]\u001b[0m Trial 16 finished with value: 0.8462446940301727 and parameters: {'fit_intercept': True, 'normalize': True, 'copy_X': True, 'n_jobs': 1}. Best is trial 10 with value: 0.8462446940301727.\u001b[0m\n",
            "\u001b[32m[I 2022-10-03 18:01:35,191]\u001b[0m Trial 17 finished with value: 0.8462446940301727 and parameters: {'fit_intercept': True, 'normalize': True, 'copy_X': True, 'n_jobs': 5}. Best is trial 10 with value: 0.8462446940301727.\u001b[0m\n",
            "\u001b[32m[I 2022-10-03 18:01:35,206]\u001b[0m Trial 18 finished with value: 0.8462446940301727 and parameters: {'fit_intercept': True, 'normalize': True, 'copy_X': True, 'n_jobs': 5}. Best is trial 10 with value: 0.8462446940301727.\u001b[0m\n",
            "\u001b[32m[I 2022-10-03 18:01:35,220]\u001b[0m Trial 19 finished with value: 0.8462446940301727 and parameters: {'fit_intercept': True, 'normalize': True, 'copy_X': True, 'n_jobs': 5}. Best is trial 10 with value: 0.8462446940301727.\u001b[0m\n",
            "\u001b[32m[I 2022-10-03 18:01:35,235]\u001b[0m Trial 20 finished with value: 0.8462446940301727 and parameters: {'fit_intercept': True, 'normalize': True, 'copy_X': True, 'n_jobs': 5}. Best is trial 10 with value: 0.8462446940301727.\u001b[0m\n",
            "\u001b[32m[I 2022-10-03 18:01:35,249]\u001b[0m Trial 21 finished with value: 0.8462446940301727 and parameters: {'fit_intercept': True, 'normalize': True, 'copy_X': True, 'n_jobs': 5}. Best is trial 10 with value: 0.8462446940301727.\u001b[0m\n",
            "\u001b[32m[I 2022-10-03 18:01:35,262]\u001b[0m Trial 22 finished with value: 0.8462446940301727 and parameters: {'fit_intercept': True, 'normalize': True, 'copy_X': True, 'n_jobs': 5}. Best is trial 10 with value: 0.8462446940301727.\u001b[0m\n",
            "\u001b[32m[I 2022-10-03 18:01:35,278]\u001b[0m Trial 23 finished with value: 0.8462446940301727 and parameters: {'fit_intercept': True, 'normalize': True, 'copy_X': True, 'n_jobs': 5}. Best is trial 10 with value: 0.8462446940301727.\u001b[0m\n",
            "\u001b[32m[I 2022-10-03 18:01:35,292]\u001b[0m Trial 24 finished with value: 0.8462446940301727 and parameters: {'fit_intercept': True, 'normalize': True, 'copy_X': True, 'n_jobs': 5}. Best is trial 10 with value: 0.8462446940301727.\u001b[0m\n",
            "\u001b[32m[I 2022-10-03 18:01:35,304]\u001b[0m Trial 25 finished with value: 0.8462446940301727 and parameters: {'fit_intercept': True, 'normalize': True, 'copy_X': True, 'n_jobs': 5}. Best is trial 10 with value: 0.8462446940301727.\u001b[0m\n",
            "\u001b[32m[I 2022-10-03 18:01:35,319]\u001b[0m Trial 26 finished with value: 0.8151742655384873 and parameters: {'fit_intercept': True, 'normalize': False, 'copy_X': True, 'n_jobs': 4}. Best is trial 10 with value: 0.8462446940301727.\u001b[0m\n",
            "\u001b[32m[I 2022-10-03 18:01:35,332]\u001b[0m Trial 27 finished with value: 0.8462446940301727 and parameters: {'fit_intercept': True, 'normalize': True, 'copy_X': True, 'n_jobs': 2}. Best is trial 10 with value: 0.8462446940301727.\u001b[0m\n",
            "\u001b[32m[I 2022-10-03 18:01:35,345]\u001b[0m Trial 28 finished with value: 0.8462446940301727 and parameters: {'fit_intercept': True, 'normalize': True, 'copy_X': True, 'n_jobs': 3}. Best is trial 10 with value: 0.8462446940301727.\u001b[0m\n",
            "\u001b[32m[I 2022-10-03 18:01:35,359]\u001b[0m Trial 29 finished with value: 0.8462446940301727 and parameters: {'fit_intercept': True, 'normalize': True, 'copy_X': True, 'n_jobs': None}. Best is trial 10 with value: 0.8462446940301727.\u001b[0m\n",
            "\u001b[32m[I 2022-10-03 18:01:35,371]\u001b[0m Trial 30 finished with value: 0.8462446940301727 and parameters: {'fit_intercept': True, 'normalize': True, 'copy_X': True, 'n_jobs': 2}. Best is trial 10 with value: 0.8462446940301727.\u001b[0m\n",
            "\u001b[32m[I 2022-10-03 18:01:35,388]\u001b[0m Trial 31 finished with value: 0.8462446940301727 and parameters: {'fit_intercept': True, 'normalize': True, 'copy_X': True, 'n_jobs': 3}. Best is trial 10 with value: 0.8462446940301727.\u001b[0m\n",
            "\u001b[32m[I 2022-10-03 18:01:35,401]\u001b[0m Trial 32 finished with value: 0.8462446940301727 and parameters: {'fit_intercept': True, 'normalize': True, 'copy_X': True, 'n_jobs': None}. Best is trial 10 with value: 0.8462446940301727.\u001b[0m\n",
            "\u001b[32m[I 2022-10-03 18:01:35,416]\u001b[0m Trial 33 finished with value: 0.8462446940301727 and parameters: {'fit_intercept': True, 'normalize': True, 'copy_X': True, 'n_jobs': None}. Best is trial 10 with value: 0.8462446940301727.\u001b[0m\n",
            "\u001b[32m[I 2022-10-03 18:01:35,435]\u001b[0m Trial 34 finished with value: 0.8151742655384873 and parameters: {'fit_intercept': True, 'normalize': False, 'copy_X': True, 'n_jobs': 3}. Best is trial 10 with value: 0.8462446940301727.\u001b[0m\n",
            "\u001b[32m[I 2022-10-03 18:01:35,452]\u001b[0m Trial 35 finished with value: 0.8462446940301727 and parameters: {'fit_intercept': True, 'normalize': True, 'copy_X': True, 'n_jobs': 5}. Best is trial 10 with value: 0.8462446940301727.\u001b[0m\n",
            "\u001b[32m[I 2022-10-03 18:01:35,466]\u001b[0m Trial 36 finished with value: 0.8286942372754351 and parameters: {'fit_intercept': False, 'normalize': True, 'copy_X': False, 'n_jobs': None}. Best is trial 10 with value: 0.8462446940301727.\u001b[0m\n",
            "\u001b[32m[I 2022-10-03 18:01:35,479]\u001b[0m Trial 37 finished with value: 0.8151742655384873 and parameters: {'fit_intercept': True, 'normalize': False, 'copy_X': True, 'n_jobs': 5}. Best is trial 10 with value: 0.8462446940301727.\u001b[0m\n",
            "\u001b[32m[I 2022-10-03 18:01:35,492]\u001b[0m Trial 38 finished with value: 0.8286942372754351 and parameters: {'fit_intercept': False, 'normalize': True, 'copy_X': False, 'n_jobs': 5}. Best is trial 10 with value: 0.8462446940301727.\u001b[0m\n",
            "\u001b[32m[I 2022-10-03 18:01:35,505]\u001b[0m Trial 39 finished with value: 0.8462446940301727 and parameters: {'fit_intercept': True, 'normalize': True, 'copy_X': True, 'n_jobs': 5}. Best is trial 10 with value: 0.8462446940301727.\u001b[0m\n",
            "\u001b[32m[I 2022-10-03 18:01:35,518]\u001b[0m Trial 40 finished with value: 0.8286942372754351 and parameters: {'fit_intercept': False, 'normalize': False, 'copy_X': False, 'n_jobs': 5}. Best is trial 10 with value: 0.8462446940301727.\u001b[0m\n",
            "\u001b[32m[I 2022-10-03 18:01:35,531]\u001b[0m Trial 41 finished with value: 0.8462446940301727 and parameters: {'fit_intercept': True, 'normalize': True, 'copy_X': True, 'n_jobs': 5}. Best is trial 10 with value: 0.8462446940301727.\u001b[0m\n",
            "\u001b[32m[I 2022-10-03 18:01:35,553]\u001b[0m Trial 42 finished with value: 0.8462446940301727 and parameters: {'fit_intercept': True, 'normalize': True, 'copy_X': True, 'n_jobs': 5}. Best is trial 10 with value: 0.8462446940301727.\u001b[0m\n",
            "\u001b[32m[I 2022-10-03 18:01:35,569]\u001b[0m Trial 43 finished with value: 0.8462446940301727 and parameters: {'fit_intercept': True, 'normalize': True, 'copy_X': True, 'n_jobs': 5}. Best is trial 10 with value: 0.8462446940301727.\u001b[0m\n",
            "\u001b[32m[I 2022-10-03 18:01:35,584]\u001b[0m Trial 44 finished with value: 0.8462446940301727 and parameters: {'fit_intercept': True, 'normalize': True, 'copy_X': True, 'n_jobs': 5}. Best is trial 10 with value: 0.8462446940301727.\u001b[0m\n",
            "\u001b[32m[I 2022-10-03 18:01:35,598]\u001b[0m Trial 45 finished with value: 0.8462446940301727 and parameters: {'fit_intercept': True, 'normalize': True, 'copy_X': True, 'n_jobs': 4}. Best is trial 10 with value: 0.8462446940301727.\u001b[0m\n",
            "\u001b[32m[I 2022-10-03 18:01:35,612]\u001b[0m Trial 46 finished with value: 0.8286942372754351 and parameters: {'fit_intercept': False, 'normalize': True, 'copy_X': False, 'n_jobs': 5}. Best is trial 10 with value: 0.8462446940301727.\u001b[0m\n",
            "\u001b[32m[I 2022-10-03 18:01:35,626]\u001b[0m Trial 47 finished with value: 0.8462446940301727 and parameters: {'fit_intercept': True, 'normalize': True, 'copy_X': True, 'n_jobs': 2}. Best is trial 10 with value: 0.8462446940301727.\u001b[0m\n",
            "\u001b[32m[I 2022-10-03 18:01:35,640]\u001b[0m Trial 48 finished with value: 0.8151742655384873 and parameters: {'fit_intercept': True, 'normalize': False, 'copy_X': True, 'n_jobs': 2}. Best is trial 10 with value: 0.8462446940301727.\u001b[0m\n",
            "\u001b[32m[I 2022-10-03 18:01:35,656]\u001b[0m Trial 49 finished with value: 0.8462446940301727 and parameters: {'fit_intercept': True, 'normalize': True, 'copy_X': True, 'n_jobs': None}. Best is trial 10 with value: 0.8462446940301727.\u001b[0m\n",
            "\u001b[32m[I 2022-10-03 18:01:35,671]\u001b[0m Trial 50 finished with value: 0.8462446940301727 and parameters: {'fit_intercept': True, 'normalize': True, 'copy_X': True, 'n_jobs': 3}. Best is trial 10 with value: 0.8462446940301727.\u001b[0m\n",
            "\u001b[32m[I 2022-10-03 18:01:35,685]\u001b[0m Trial 51 finished with value: 0.8462446940301727 and parameters: {'fit_intercept': True, 'normalize': True, 'copy_X': True, 'n_jobs': 3}. Best is trial 10 with value: 0.8462446940301727.\u001b[0m\n",
            "\u001b[32m[I 2022-10-03 18:01:35,700]\u001b[0m Trial 52 finished with value: 0.8462446940301727 and parameters: {'fit_intercept': True, 'normalize': True, 'copy_X': True, 'n_jobs': 3}. Best is trial 10 with value: 0.8462446940301727.\u001b[0m\n",
            "\u001b[32m[I 2022-10-03 18:01:35,714]\u001b[0m Trial 53 finished with value: 0.8462446940301727 and parameters: {'fit_intercept': True, 'normalize': True, 'copy_X': True, 'n_jobs': 5}. Best is trial 10 with value: 0.8462446940301727.\u001b[0m\n",
            "\u001b[32m[I 2022-10-03 18:01:35,730]\u001b[0m Trial 54 finished with value: 0.8462446940301727 and parameters: {'fit_intercept': True, 'normalize': True, 'copy_X': True, 'n_jobs': 5}. Best is trial 10 with value: 0.8462446940301727.\u001b[0m\n",
            "\u001b[32m[I 2022-10-03 18:01:35,745]\u001b[0m Trial 55 finished with value: 0.8462446940301727 and parameters: {'fit_intercept': True, 'normalize': True, 'copy_X': True, 'n_jobs': 2}. Best is trial 10 with value: 0.8462446940301727.\u001b[0m\n",
            "\u001b[32m[I 2022-10-03 18:01:35,760]\u001b[0m Trial 56 finished with value: 0.8462446940301727 and parameters: {'fit_intercept': True, 'normalize': True, 'copy_X': True, 'n_jobs': 2}. Best is trial 10 with value: 0.8462446940301727.\u001b[0m\n",
            "\u001b[32m[I 2022-10-03 18:01:35,773]\u001b[0m Trial 57 finished with value: 0.8286942372754351 and parameters: {'fit_intercept': False, 'normalize': True, 'copy_X': False, 'n_jobs': 2}. Best is trial 10 with value: 0.8462446940301727.\u001b[0m\n",
            "\u001b[32m[I 2022-10-03 18:01:35,790]\u001b[0m Trial 58 finished with value: 0.8462446940301727 and parameters: {'fit_intercept': True, 'normalize': True, 'copy_X': True, 'n_jobs': 4}. Best is trial 10 with value: 0.8462446940301727.\u001b[0m\n",
            "\u001b[32m[I 2022-10-03 18:01:35,806]\u001b[0m Trial 59 finished with value: 0.8462446940301727 and parameters: {'fit_intercept': True, 'normalize': True, 'copy_X': True, 'n_jobs': None}. Best is trial 10 with value: 0.8462446940301727.\u001b[0m\n",
            "\u001b[32m[I 2022-10-03 18:01:35,823]\u001b[0m Trial 60 finished with value: 0.8462446940301727 and parameters: {'fit_intercept': True, 'normalize': True, 'copy_X': True, 'n_jobs': 4}. Best is trial 10 with value: 0.8462446940301727.\u001b[0m\n",
            "\u001b[32m[I 2022-10-03 18:01:35,839]\u001b[0m Trial 61 finished with value: 0.8462446940301727 and parameters: {'fit_intercept': True, 'normalize': True, 'copy_X': True, 'n_jobs': None}. Best is trial 10 with value: 0.8462446940301727.\u001b[0m\n",
            "\u001b[32m[I 2022-10-03 18:01:35,852]\u001b[0m Trial 62 finished with value: 0.8462446940301727 and parameters: {'fit_intercept': True, 'normalize': True, 'copy_X': True, 'n_jobs': None}. Best is trial 10 with value: 0.8462446940301727.\u001b[0m\n",
            "\u001b[32m[I 2022-10-03 18:01:35,873]\u001b[0m Trial 63 finished with value: 0.8462446940301727 and parameters: {'fit_intercept': True, 'normalize': True, 'copy_X': True, 'n_jobs': None}. Best is trial 10 with value: 0.8462446940301727.\u001b[0m\n",
            "\u001b[32m[I 2022-10-03 18:01:35,887]\u001b[0m Trial 64 finished with value: 0.8462446940301727 and parameters: {'fit_intercept': True, 'normalize': True, 'copy_X': True, 'n_jobs': None}. Best is trial 10 with value: 0.8462446940301727.\u001b[0m\n",
            "\u001b[32m[I 2022-10-03 18:01:35,906]\u001b[0m Trial 65 finished with value: 0.8462446940301727 and parameters: {'fit_intercept': True, 'normalize': True, 'copy_X': True, 'n_jobs': None}. Best is trial 10 with value: 0.8462446940301727.\u001b[0m\n",
            "\u001b[32m[I 2022-10-03 18:01:35,924]\u001b[0m Trial 66 finished with value: 0.8462446940301727 and parameters: {'fit_intercept': True, 'normalize': True, 'copy_X': True, 'n_jobs': None}. Best is trial 10 with value: 0.8462446940301727.\u001b[0m\n",
            "\u001b[32m[I 2022-10-03 18:01:35,941]\u001b[0m Trial 67 finished with value: 0.8151742655384873 and parameters: {'fit_intercept': True, 'normalize': False, 'copy_X': True, 'n_jobs': None}. Best is trial 10 with value: 0.8462446940301727.\u001b[0m\n",
            "\u001b[32m[I 2022-10-03 18:01:35,959]\u001b[0m Trial 68 finished with value: 0.8462446940301727 and parameters: {'fit_intercept': True, 'normalize': True, 'copy_X': True, 'n_jobs': 2}. Best is trial 10 with value: 0.8462446940301727.\u001b[0m\n",
            "\u001b[32m[I 2022-10-03 18:01:35,978]\u001b[0m Trial 69 finished with value: 0.8286942372754351 and parameters: {'fit_intercept': False, 'normalize': True, 'copy_X': False, 'n_jobs': 2}. Best is trial 10 with value: 0.8462446940301727.\u001b[0m\n",
            "\u001b[32m[I 2022-10-03 18:01:35,994]\u001b[0m Trial 70 finished with value: 0.8462446940301727 and parameters: {'fit_intercept': True, 'normalize': True, 'copy_X': True, 'n_jobs': 3}. Best is trial 10 with value: 0.8462446940301727.\u001b[0m\n",
            "\u001b[32m[I 2022-10-03 18:01:36,019]\u001b[0m Trial 71 finished with value: 0.8462446940301727 and parameters: {'fit_intercept': True, 'normalize': True, 'copy_X': True, 'n_jobs': 5}. Best is trial 10 with value: 0.8462446940301727.\u001b[0m\n",
            "\u001b[32m[I 2022-10-03 18:01:36,036]\u001b[0m Trial 72 finished with value: 0.8462446940301727 and parameters: {'fit_intercept': True, 'normalize': True, 'copy_X': True, 'n_jobs': 5}. Best is trial 10 with value: 0.8462446940301727.\u001b[0m\n",
            "\u001b[32m[I 2022-10-03 18:01:36,051]\u001b[0m Trial 73 finished with value: 0.8462446940301727 and parameters: {'fit_intercept': True, 'normalize': True, 'copy_X': True, 'n_jobs': 3}. Best is trial 10 with value: 0.8462446940301727.\u001b[0m\n",
            "\u001b[32m[I 2022-10-03 18:01:36,068]\u001b[0m Trial 74 finished with value: 0.8462446940301727 and parameters: {'fit_intercept': True, 'normalize': True, 'copy_X': True, 'n_jobs': 4}. Best is trial 10 with value: 0.8462446940301727.\u001b[0m\n",
            "\u001b[32m[I 2022-10-03 18:01:36,086]\u001b[0m Trial 75 finished with value: 0.8462446940301727 and parameters: {'fit_intercept': True, 'normalize': True, 'copy_X': True, 'n_jobs': None}. Best is trial 10 with value: 0.8462446940301727.\u001b[0m\n",
            "\u001b[32m[I 2022-10-03 18:01:36,105]\u001b[0m Trial 76 finished with value: 0.8462446940301727 and parameters: {'fit_intercept': True, 'normalize': True, 'copy_X': True, 'n_jobs': None}. Best is trial 10 with value: 0.8462446940301727.\u001b[0m\n",
            "\u001b[32m[I 2022-10-03 18:01:36,122]\u001b[0m Trial 77 finished with value: 0.8151742655384873 and parameters: {'fit_intercept': True, 'normalize': False, 'copy_X': True, 'n_jobs': None}. Best is trial 10 with value: 0.8462446940301727.\u001b[0m\n",
            "\u001b[32m[I 2022-10-03 18:01:36,142]\u001b[0m Trial 78 finished with value: 0.8462446940301727 and parameters: {'fit_intercept': True, 'normalize': True, 'copy_X': True, 'n_jobs': None}. Best is trial 10 with value: 0.8462446940301727.\u001b[0m\n",
            "\u001b[32m[I 2022-10-03 18:01:36,161]\u001b[0m Trial 79 finished with value: 0.8462446940301727 and parameters: {'fit_intercept': True, 'normalize': True, 'copy_X': True, 'n_jobs': 4}. Best is trial 10 with value: 0.8462446940301727.\u001b[0m\n",
            "\u001b[32m[I 2022-10-03 18:01:36,179]\u001b[0m Trial 80 finished with value: 0.8462446940301727 and parameters: {'fit_intercept': True, 'normalize': True, 'copy_X': True, 'n_jobs': 5}. Best is trial 10 with value: 0.8462446940301727.\u001b[0m\n",
            "\u001b[32m[I 2022-10-03 18:01:36,197]\u001b[0m Trial 81 finished with value: 0.8462446940301727 and parameters: {'fit_intercept': True, 'normalize': True, 'copy_X': True, 'n_jobs': None}. Best is trial 10 with value: 0.8462446940301727.\u001b[0m\n",
            "\u001b[32m[I 2022-10-03 18:01:36,213]\u001b[0m Trial 82 finished with value: 0.8462446940301727 and parameters: {'fit_intercept': True, 'normalize': True, 'copy_X': True, 'n_jobs': None}. Best is trial 10 with value: 0.8462446940301727.\u001b[0m\n",
            "\u001b[32m[I 2022-10-03 18:01:36,234]\u001b[0m Trial 83 finished with value: 0.8462446940301727 and parameters: {'fit_intercept': True, 'normalize': True, 'copy_X': True, 'n_jobs': 3}. Best is trial 10 with value: 0.8462446940301727.\u001b[0m\n",
            "\u001b[32m[I 2022-10-03 18:01:36,253]\u001b[0m Trial 84 finished with value: 0.8462446940301727 and parameters: {'fit_intercept': True, 'normalize': True, 'copy_X': True, 'n_jobs': 3}. Best is trial 10 with value: 0.8462446940301727.\u001b[0m\n",
            "\u001b[32m[I 2022-10-03 18:01:36,269]\u001b[0m Trial 85 finished with value: 0.8462446940301727 and parameters: {'fit_intercept': True, 'normalize': True, 'copy_X': True, 'n_jobs': 2}. Best is trial 10 with value: 0.8462446940301727.\u001b[0m\n",
            "\u001b[32m[I 2022-10-03 18:01:36,284]\u001b[0m Trial 86 finished with value: 0.8462446940301727 and parameters: {'fit_intercept': True, 'normalize': True, 'copy_X': True, 'n_jobs': 4}. Best is trial 10 with value: 0.8462446940301727.\u001b[0m\n",
            "\u001b[32m[I 2022-10-03 18:01:36,302]\u001b[0m Trial 87 finished with value: 0.8462446940301727 and parameters: {'fit_intercept': True, 'normalize': True, 'copy_X': True, 'n_jobs': 4}. Best is trial 10 with value: 0.8462446940301727.\u001b[0m\n",
            "\u001b[32m[I 2022-10-03 18:01:36,318]\u001b[0m Trial 88 finished with value: 0.8462446940301727 and parameters: {'fit_intercept': True, 'normalize': True, 'copy_X': True, 'n_jobs': 4}. Best is trial 10 with value: 0.8462446940301727.\u001b[0m\n",
            "\u001b[32m[I 2022-10-03 18:01:36,333]\u001b[0m Trial 89 finished with value: 0.8286942372754351 and parameters: {'fit_intercept': False, 'normalize': True, 'copy_X': False, 'n_jobs': 4}. Best is trial 10 with value: 0.8462446940301727.\u001b[0m\n",
            "\u001b[32m[I 2022-10-03 18:01:36,349]\u001b[0m Trial 90 finished with value: 0.8151742655384873 and parameters: {'fit_intercept': True, 'normalize': False, 'copy_X': True, 'n_jobs': 5}. Best is trial 10 with value: 0.8462446940301727.\u001b[0m\n",
            "\u001b[32m[I 2022-10-03 18:01:36,368]\u001b[0m Trial 91 finished with value: 0.8462446940301727 and parameters: {'fit_intercept': True, 'normalize': True, 'copy_X': True, 'n_jobs': 1}. Best is trial 10 with value: 0.8462446940301727.\u001b[0m\n",
            "\u001b[32m[I 2022-10-03 18:01:36,387]\u001b[0m Trial 92 finished with value: 0.8462446940301727 and parameters: {'fit_intercept': True, 'normalize': True, 'copy_X': True, 'n_jobs': 4}. Best is trial 10 with value: 0.8462446940301727.\u001b[0m\n",
            "\u001b[32m[I 2022-10-03 18:01:36,409]\u001b[0m Trial 93 finished with value: 0.8462446940301727 and parameters: {'fit_intercept': True, 'normalize': True, 'copy_X': True, 'n_jobs': 4}. Best is trial 10 with value: 0.8462446940301727.\u001b[0m\n",
            "\u001b[32m[I 2022-10-03 18:01:36,425]\u001b[0m Trial 94 finished with value: 0.8462446940301727 and parameters: {'fit_intercept': True, 'normalize': True, 'copy_X': True, 'n_jobs': 4}. Best is trial 10 with value: 0.8462446940301727.\u001b[0m\n",
            "\u001b[32m[I 2022-10-03 18:01:36,444]\u001b[0m Trial 95 finished with value: 0.8462446940301727 and parameters: {'fit_intercept': True, 'normalize': True, 'copy_X': True, 'n_jobs': None}. Best is trial 10 with value: 0.8462446940301727.\u001b[0m\n",
            "\u001b[32m[I 2022-10-03 18:01:36,470]\u001b[0m Trial 96 finished with value: 0.8462446940301727 and parameters: {'fit_intercept': True, 'normalize': True, 'copy_X': True, 'n_jobs': None}. Best is trial 10 with value: 0.8462446940301727.\u001b[0m\n",
            "\u001b[32m[I 2022-10-03 18:01:36,492]\u001b[0m Trial 97 finished with value: 0.8462446940301727 and parameters: {'fit_intercept': True, 'normalize': True, 'copy_X': True, 'n_jobs': 3}. Best is trial 10 with value: 0.8462446940301727.\u001b[0m\n",
            "\u001b[32m[I 2022-10-03 18:01:36,508]\u001b[0m Trial 98 finished with value: 0.8462446940301727 and parameters: {'fit_intercept': True, 'normalize': True, 'copy_X': True, 'n_jobs': 3}. Best is trial 10 with value: 0.8462446940301727.\u001b[0m\n",
            "\u001b[32m[I 2022-10-03 18:01:36,525]\u001b[0m Trial 99 finished with value: 0.8462446940301727 and parameters: {'fit_intercept': True, 'normalize': True, 'copy_X': True, 'n_jobs': None}. Best is trial 10 with value: 0.8462446940301727.\u001b[0m\n",
            "2022/10/03 18:01:36 INFO mlflow.tracking.fluent: Experiment with name 'Linear Regression' does not exist. Creating a new experiment.\n"
          ]
        },
        {
          "output_type": "stream",
          "name": "stdout",
          "text": [
            "Number of finished trials: 100\n",
            "Best trial: {'fit_intercept': True, 'normalize': True, 'copy_X': True, 'n_jobs': 1}\n"
          ]
        }
      ]
    },
    {
      "cell_type": "code",
      "source": [
        "lr = LinearRegression(fit_intercept=best['fit_intercept'], normalize=best['normalize'], copy_X=best['copy_X'], n_jobs=best['n_jobs'])\n",
        "\n",
        "lr.fit(X_train, y_train)\n",
        "\n",
        "y_pred = lr.predict(X_test)\n",
        "\n",
        "\n",
        "print(\"R2 score: %.2f\" % r2_score(y_test, y_pred))\n",
        "print(\"MSE: %.2f\" % mean_squared_error(y_test, y_pred))\n",
        "\n",
        "scores = cross_val_score(lr, X, y, cv=5)\n",
        "print(\"Cross-validation scores: {}\".format(scores))\n"
      ],
      "metadata": {
        "id": "V6r7YVwV9khd",
        "colab": {
          "base_uri": "https://localhost:8080/"
        },
        "outputId": "cbe0d592-dbf7-412e-8212-2c815960ead5"
      },
      "execution_count": 85,
      "outputs": [
        {
          "output_type": "stream",
          "name": "stdout",
          "text": [
            "R2 score: 0.85\n",
            "MSE: 0.01\n",
            "Cross-validation scores: [0.83232632 0.32495272 0.62282945 0.74880356 0.45021638]\n"
          ]
        }
      ]
    },
    {
      "cell_type": "markdown",
      "source": [
        "As we can see. Optuna gathered new hyper-parameters and resulted in a higher R2 SCORE for our model."
      ],
      "metadata": {
        "id": "ozADK5u0zmiD"
      }
    },
    {
      "cell_type": "markdown",
      "source": [
        "We also want to keep track of our models' scores in order, by the end of the analysis, select the one that performed better."
      ],
      "metadata": {
        "id": "eAHl4vGrz0PK"
      }
    },
    {
      "cell_type": "code",
      "source": [
        "score_lr = r2_score(y_test, y_pred)\n",
        "r2_scores_list['LinearRegression'] = score_lr\n",
        "\n",
        "print(r2_scores_list)"
      ],
      "metadata": {
        "id": "-w92keuU9wFJ",
        "colab": {
          "base_uri": "https://localhost:8080/"
        },
        "outputId": "e70bc145-6ab7-471a-a55d-fd7b01cadac1"
      },
      "execution_count": 86,
      "outputs": [
        {
          "output_type": "stream",
          "name": "stdout",
          "text": [
            "{'LinearRegression': 0.8462446940301727}\n"
          ]
        }
      ]
    },
    {
      "cell_type": "markdown",
      "source": [
        "Here, we have a Decision Tree Regression Model (native/default)."
      ],
      "metadata": {
        "id": "T1BqqH6d0Yoy"
      }
    },
    {
      "cell_type": "code",
      "source": [
        "from sklearn.tree import DecisionTreeRegressor\n",
        "\n",
        "dtr = DecisionTreeRegressor()\n",
        "\n",
        "# Train the model\n",
        "dtr.fit(X_train, y_train)\n",
        "\n",
        "# Predict the model\n",
        "y_pred1 = dtr.predict(X_test)\n",
        "\n",
        "# Calculate the accuracy\n",
        "print(\"R2 score: %.2f\" % r2_score(y_test, y_pred1))\n",
        "print(\"MSE: %.2f\" % mean_squared_error(y_test, y_pred))\n",
        "\n",
        "scores = cross_val_score(dtr, X, y, cv=5)\n",
        "print(\"Cross-validation scores: {}\".format(scores))"
      ],
      "metadata": {
        "id": "41-VSUTo9xgY",
        "colab": {
          "base_uri": "https://localhost:8080/"
        },
        "outputId": "7e163223-873d-4ca4-a087-e5eeb9c3219d"
      },
      "execution_count": 87,
      "outputs": [
        {
          "output_type": "stream",
          "name": "stdout",
          "text": [
            "R2 score: 0.87\n",
            "MSE: 0.01\n",
            "Cross-validation scores: [0.84900928 0.99980443 0.90202013 0.88642023 0.84642629]\n"
          ]
        }
      ]
    },
    {
      "cell_type": "markdown",
      "source": [
        "Here, we now apply the optuna framework in our Decision Tree Regression model, in order to select the best hyper-parameters."
      ],
      "metadata": {
        "id": "Z-JTaiRW0gGa"
      }
    },
    {
      "cell_type": "code",
      "source": [
        "def objective_dt(trial):\n",
        "  criterion = trial.suggest_categorical('criterion', ['squared_error', 'friedman_mse', 'absolute_error', 'poisson'])\n",
        "  splitter = trial.suggest_categorical('splitter', ['best', 'random'])\n",
        "\n",
        "  model = DecisionTreeRegressor(criterion=criterion, splitter=splitter)\n",
        "\n",
        "  model.fit(X_train, y_train)\n",
        "\n",
        "  y_pred1 = model.predict(X_test)\n",
        "\n",
        "  score = r2_score(y_test, y_pred1)\n",
        "\n",
        "  return score\n",
        "\n",
        "study = optuna.create_study(direction='maximize')\n",
        "study.optimize(objective_dt, n_trials=100)\n",
        "\n",
        "mlflow.set_experiment(\"Decision Tree Regressor\")\n",
        "with mlflow.start_run():\n",
        "\n",
        "    # Log the parameters\n",
        "    mlflow.log_param(\"criterion\", study.best_params['criterion'])\n",
        "    mlflow.log_param(\"splitter\", study.best_params['splitter'])\n",
        "\n",
        "    # Log the metrics\n",
        "    mlflow.log_metric(\"r2_score\", study.best_value)\n",
        "\n",
        "    # Log the model\n",
        "    mlflow.sklearn.log_model(dtr, \"model\")\n",
        "\n",
        "print('Number of finished trials:', len(study.trials))\n",
        "print('Best trial:', study.best_trial.params)\n",
        "    \n",
        "\n",
        "best = study.best_trial.params\n",
        "  "
      ],
      "metadata": {
        "id": "F_wVLFPQ-p5t",
        "colab": {
          "base_uri": "https://localhost:8080/"
        },
        "outputId": "b67a1e17-e509-457d-b5aa-1951d5de4ce9"
      },
      "execution_count": 88,
      "outputs": [
        {
          "output_type": "stream",
          "name": "stderr",
          "text": [
            "\u001b[32m[I 2022-10-03 18:01:39,917]\u001b[0m A new study created in memory with name: no-name-a1e83361-9743-4bea-b561-156d0510d545\u001b[0m\n",
            "\u001b[32m[I 2022-10-03 18:01:39,930]\u001b[0m Trial 0 finished with value: 0.3000057889744472 and parameters: {'criterion': 'poisson', 'splitter': 'best'}. Best is trial 0 with value: 0.3000057889744472.\u001b[0m\n",
            "\u001b[32m[I 2022-10-03 18:01:39,938]\u001b[0m Trial 1 finished with value: 0.7815962712036411 and parameters: {'criterion': 'squared_error', 'splitter': 'best'}. Best is trial 1 with value: 0.7815962712036411.\u001b[0m\n",
            "\u001b[32m[I 2022-10-03 18:01:39,946]\u001b[0m Trial 2 finished with value: 0.4526869559770329 and parameters: {'criterion': 'poisson', 'splitter': 'random'}. Best is trial 1 with value: 0.7815962712036411.\u001b[0m\n",
            "\u001b[32m[I 2022-10-03 18:01:39,954]\u001b[0m Trial 3 finished with value: 0.7487746633427675 and parameters: {'criterion': 'friedman_mse', 'splitter': 'random'}. Best is trial 1 with value: 0.7815962712036411.\u001b[0m\n",
            "\u001b[32m[I 2022-10-03 18:01:39,962]\u001b[0m Trial 4 finished with value: 0.2903382494979585 and parameters: {'criterion': 'poisson', 'splitter': 'best'}. Best is trial 1 with value: 0.7815962712036411.\u001b[0m\n",
            "\u001b[32m[I 2022-10-03 18:01:39,972]\u001b[0m Trial 5 finished with value: 0.8528794435907593 and parameters: {'criterion': 'absolute_error', 'splitter': 'best'}. Best is trial 5 with value: 0.8528794435907593.\u001b[0m\n",
            "\u001b[32m[I 2022-10-03 18:01:39,980]\u001b[0m Trial 6 finished with value: 0.9395972293861599 and parameters: {'criterion': 'squared_error', 'splitter': 'best'}. Best is trial 6 with value: 0.9395972293861599.\u001b[0m\n",
            "\u001b[32m[I 2022-10-03 18:01:39,988]\u001b[0m Trial 7 finished with value: 0.7448584759958746 and parameters: {'criterion': 'friedman_mse', 'splitter': 'random'}. Best is trial 6 with value: 0.9395972293861599.\u001b[0m\n",
            "\u001b[32m[I 2022-10-03 18:01:40,001]\u001b[0m Trial 8 finished with value: 0.7328930969016091 and parameters: {'criterion': 'absolute_error', 'splitter': 'best'}. Best is trial 6 with value: 0.9395972293861599.\u001b[0m\n",
            "\u001b[32m[I 2022-10-03 18:01:40,017]\u001b[0m Trial 9 finished with value: 0.9198550135590359 and parameters: {'criterion': 'squared_error', 'splitter': 'random'}. Best is trial 6 with value: 0.9395972293861599.\u001b[0m\n",
            "\u001b[32m[I 2022-10-03 18:01:40,039]\u001b[0m Trial 10 finished with value: 0.9403846127769572 and parameters: {'criterion': 'squared_error', 'splitter': 'best'}. Best is trial 10 with value: 0.9403846127769572.\u001b[0m\n",
            "\u001b[32m[I 2022-10-03 18:01:40,069]\u001b[0m Trial 11 finished with value: 0.7824401521519205 and parameters: {'criterion': 'squared_error', 'splitter': 'best'}. Best is trial 10 with value: 0.9403846127769572.\u001b[0m\n",
            "\u001b[32m[I 2022-10-03 18:01:40,085]\u001b[0m Trial 12 finished with value: 0.8523398250994718 and parameters: {'criterion': 'squared_error', 'splitter': 'best'}. Best is trial 10 with value: 0.9403846127769572.\u001b[0m\n",
            "\u001b[32m[I 2022-10-03 18:01:40,102]\u001b[0m Trial 13 finished with value: 0.8530236131152396 and parameters: {'criterion': 'squared_error', 'splitter': 'best'}. Best is trial 10 with value: 0.9403846127769572.\u001b[0m\n",
            "\u001b[32m[I 2022-10-03 18:01:40,133]\u001b[0m Trial 14 finished with value: 0.8522366202286009 and parameters: {'criterion': 'squared_error', 'splitter': 'best'}. Best is trial 10 with value: 0.9403846127769572.\u001b[0m\n",
            "\u001b[32m[I 2022-10-03 18:01:40,155]\u001b[0m Trial 15 finished with value: 0.852340365483715 and parameters: {'criterion': 'squared_error', 'splitter': 'best'}. Best is trial 10 with value: 0.9403846127769572.\u001b[0m\n",
            "\u001b[32m[I 2022-10-03 18:01:40,187]\u001b[0m Trial 16 finished with value: 0.8541256964819165 and parameters: {'criterion': 'squared_error', 'splitter': 'best'}. Best is trial 10 with value: 0.9403846127769572.\u001b[0m\n",
            "\u001b[32m[I 2022-10-03 18:01:40,204]\u001b[0m Trial 17 finished with value: 0.7777847505630613 and parameters: {'criterion': 'absolute_error', 'splitter': 'best'}. Best is trial 10 with value: 0.9403846127769572.\u001b[0m\n",
            "\u001b[32m[I 2022-10-03 18:01:40,232]\u001b[0m Trial 18 finished with value: 0.751819879508309 and parameters: {'criterion': 'friedman_mse', 'splitter': 'random'}. Best is trial 10 with value: 0.9403846127769572.\u001b[0m\n",
            "\u001b[32m[I 2022-10-03 18:01:40,247]\u001b[0m Trial 19 finished with value: 0.939564644635117 and parameters: {'criterion': 'squared_error', 'splitter': 'best'}. Best is trial 10 with value: 0.9403846127769572.\u001b[0m\n",
            "\u001b[32m[I 2022-10-03 18:01:40,267]\u001b[0m Trial 20 finished with value: 0.8522587434758211 and parameters: {'criterion': 'squared_error', 'splitter': 'best'}. Best is trial 10 with value: 0.9403846127769572.\u001b[0m\n",
            "\u001b[32m[I 2022-10-03 18:01:40,279]\u001b[0m Trial 21 finished with value: 0.7816189348351045 and parameters: {'criterion': 'squared_error', 'splitter': 'best'}. Best is trial 10 with value: 0.9403846127769572.\u001b[0m\n",
            "\u001b[32m[I 2022-10-03 18:01:40,293]\u001b[0m Trial 22 finished with value: 0.9397103204044263 and parameters: {'criterion': 'squared_error', 'splitter': 'best'}. Best is trial 10 with value: 0.9403846127769572.\u001b[0m\n",
            "\u001b[32m[I 2022-10-03 18:01:40,306]\u001b[0m Trial 23 finished with value: 0.8522917187310228 and parameters: {'criterion': 'squared_error', 'splitter': 'best'}. Best is trial 10 with value: 0.9403846127769572.\u001b[0m\n",
            "\u001b[32m[I 2022-10-03 18:01:40,319]\u001b[0m Trial 24 finished with value: 0.8538358751730619 and parameters: {'criterion': 'squared_error', 'splitter': 'best'}. Best is trial 10 with value: 0.9403846127769572.\u001b[0m\n",
            "\u001b[32m[I 2022-10-03 18:01:40,334]\u001b[0m Trial 25 finished with value: 0.8689662261243524 and parameters: {'criterion': 'squared_error', 'splitter': 'best'}. Best is trial 10 with value: 0.9403846127769572.\u001b[0m\n",
            "\u001b[32m[I 2022-10-03 18:01:40,352]\u001b[0m Trial 26 finished with value: 0.8705482163556886 and parameters: {'criterion': 'friedman_mse', 'splitter': 'random'}. Best is trial 10 with value: 0.9403846127769572.\u001b[0m\n",
            "\u001b[32m[I 2022-10-03 18:01:40,374]\u001b[0m Trial 27 finished with value: 0.6557091165975144 and parameters: {'criterion': 'absolute_error', 'splitter': 'best'}. Best is trial 10 with value: 0.9403846127769572.\u001b[0m\n",
            "\u001b[32m[I 2022-10-03 18:01:40,392]\u001b[0m Trial 28 finished with value: 0.3301125422777118 and parameters: {'criterion': 'poisson', 'splitter': 'best'}. Best is trial 10 with value: 0.9403846127769572.\u001b[0m\n",
            "\u001b[32m[I 2022-10-03 18:01:40,409]\u001b[0m Trial 29 finished with value: 0.24026194726246586 and parameters: {'criterion': 'poisson', 'splitter': 'best'}. Best is trial 10 with value: 0.9403846127769572.\u001b[0m\n",
            "\u001b[32m[I 2022-10-03 18:01:40,426]\u001b[0m Trial 30 finished with value: 0.8697460533112163 and parameters: {'criterion': 'squared_error', 'splitter': 'best'}. Best is trial 10 with value: 0.9403846127769572.\u001b[0m\n",
            "\u001b[32m[I 2022-10-03 18:01:40,441]\u001b[0m Trial 31 finished with value: 0.8522587434758211 and parameters: {'criterion': 'squared_error', 'splitter': 'best'}. Best is trial 10 with value: 0.9403846127769572.\u001b[0m\n",
            "\u001b[32m[I 2022-10-03 18:01:40,456]\u001b[0m Trial 32 finished with value: 0.7815962712036411 and parameters: {'criterion': 'squared_error', 'splitter': 'best'}. Best is trial 10 with value: 0.9403846127769572.\u001b[0m\n",
            "\u001b[32m[I 2022-10-03 18:01:40,471]\u001b[0m Trial 33 finished with value: 0.8679931571839734 and parameters: {'criterion': 'squared_error', 'splitter': 'best'}. Best is trial 10 with value: 0.9403846127769572.\u001b[0m\n",
            "\u001b[32m[I 2022-10-03 18:01:40,496]\u001b[0m Trial 34 finished with value: 0.8532007339099864 and parameters: {'criterion': 'squared_error', 'splitter': 'best'}. Best is trial 10 with value: 0.9403846127769572.\u001b[0m\n",
            "\u001b[32m[I 2022-10-03 18:01:40,515]\u001b[0m Trial 35 finished with value: 0.8546604776692149 and parameters: {'criterion': 'squared_error', 'splitter': 'random'}. Best is trial 10 with value: 0.9403846127769572.\u001b[0m\n",
            "\u001b[32m[I 2022-10-03 18:01:40,530]\u001b[0m Trial 36 finished with value: 0.2534360696860136 and parameters: {'criterion': 'poisson', 'splitter': 'best'}. Best is trial 10 with value: 0.9403846127769572.\u001b[0m\n",
            "\u001b[32m[I 2022-10-03 18:01:40,545]\u001b[0m Trial 37 finished with value: 0.8532647876714018 and parameters: {'criterion': 'friedman_mse', 'splitter': 'best'}. Best is trial 10 with value: 0.9403846127769572.\u001b[0m\n",
            "\u001b[32m[I 2022-10-03 18:01:40,567]\u001b[0m Trial 38 finished with value: 0.8669972285379046 and parameters: {'criterion': 'squared_error', 'splitter': 'random'}. Best is trial 10 with value: 0.9403846127769572.\u001b[0m\n",
            "\u001b[32m[I 2022-10-03 18:01:40,588]\u001b[0m Trial 39 finished with value: 0.8541483601133799 and parameters: {'criterion': 'absolute_error', 'splitter': 'best'}. Best is trial 10 with value: 0.9403846127769572.\u001b[0m\n",
            "\u001b[32m[I 2022-10-03 18:01:40,604]\u001b[0m Trial 40 finished with value: 0.8532166813029529 and parameters: {'criterion': 'squared_error', 'splitter': 'best'}. Best is trial 10 with value: 0.9403846127769572.\u001b[0m\n",
            "\u001b[32m[I 2022-10-03 18:01:40,620]\u001b[0m Trial 41 finished with value: 0.7055728440932736 and parameters: {'criterion': 'squared_error', 'splitter': 'random'}. Best is trial 10 with value: 0.9403846127769572.\u001b[0m\n",
            "\u001b[32m[I 2022-10-03 18:01:40,636]\u001b[0m Trial 42 finished with value: 0.6425099031110924 and parameters: {'criterion': 'squared_error', 'splitter': 'random'}. Best is trial 10 with value: 0.9403846127769572.\u001b[0m\n",
            "\u001b[32m[I 2022-10-03 18:01:40,652]\u001b[0m Trial 43 finished with value: 0.8477301569132367 and parameters: {'criterion': 'squared_error', 'splitter': 'random'}. Best is trial 10 with value: 0.9403846127769572.\u001b[0m\n",
            "\u001b[32m[I 2022-10-03 18:01:40,669]\u001b[0m Trial 44 finished with value: 0.8535590586974882 and parameters: {'criterion': 'squared_error', 'splitter': 'random'}. Best is trial 10 with value: 0.9403846127769572.\u001b[0m\n",
            "\u001b[32m[I 2022-10-03 18:01:40,686]\u001b[0m Trial 45 finished with value: 0.7508505497791285 and parameters: {'criterion': 'squared_error', 'splitter': 'random'}. Best is trial 10 with value: 0.9403846127769572.\u001b[0m\n",
            "\u001b[32m[I 2022-10-03 18:01:40,707]\u001b[0m Trial 46 finished with value: 0.429248459600337 and parameters: {'criterion': 'poisson', 'splitter': 'random'}. Best is trial 10 with value: 0.9403846127769572.\u001b[0m\n",
            "\u001b[32m[I 2022-10-03 18:01:40,723]\u001b[0m Trial 47 finished with value: 0.781467742535278 and parameters: {'criterion': 'friedman_mse', 'splitter': 'best'}. Best is trial 10 with value: 0.9403846127769572.\u001b[0m\n",
            "\u001b[32m[I 2022-10-03 18:01:40,745]\u001b[0m Trial 48 finished with value: 0.7816519100903061 and parameters: {'criterion': 'squared_error', 'splitter': 'best'}. Best is trial 10 with value: 0.9403846127769572.\u001b[0m\n",
            "\u001b[32m[I 2022-10-03 18:01:40,763]\u001b[0m Trial 49 finished with value: 0.7293760572407648 and parameters: {'criterion': 'absolute_error', 'splitter': 'best'}. Best is trial 10 with value: 0.9403846127769572.\u001b[0m\n",
            "\u001b[32m[I 2022-10-03 18:01:40,778]\u001b[0m Trial 50 finished with value: 0.8337585279847758 and parameters: {'criterion': 'squared_error', 'splitter': 'random'}. Best is trial 10 with value: 0.9403846127769572.\u001b[0m\n",
            "\u001b[32m[I 2022-10-03 18:01:40,794]\u001b[0m Trial 51 finished with value: 0.8678168343453321 and parameters: {'criterion': 'friedman_mse', 'splitter': 'random'}. Best is trial 10 with value: 0.9403846127769572.\u001b[0m\n",
            "\u001b[32m[I 2022-10-03 18:01:40,808]\u001b[0m Trial 52 finished with value: 0.9082674114588745 and parameters: {'criterion': 'friedman_mse', 'splitter': 'random'}. Best is trial 10 with value: 0.9403846127769572.\u001b[0m\n",
            "\u001b[32m[I 2022-10-03 18:01:40,821]\u001b[0m Trial 53 finished with value: 0.7332054653511453 and parameters: {'criterion': 'friedman_mse', 'splitter': 'random'}. Best is trial 10 with value: 0.9403846127769572.\u001b[0m\n",
            "\u001b[32m[I 2022-10-03 18:01:40,834]\u001b[0m Trial 54 finished with value: 0.7557603519628349 and parameters: {'criterion': 'friedman_mse', 'splitter': 'random'}. Best is trial 10 with value: 0.9403846127769572.\u001b[0m\n",
            "\u001b[32m[I 2022-10-03 18:01:40,852]\u001b[0m Trial 55 finished with value: 0.8211317653851409 and parameters: {'criterion': 'friedman_mse', 'splitter': 'random'}. Best is trial 10 with value: 0.9403846127769572.\u001b[0m\n",
            "\u001b[32m[I 2022-10-03 18:01:40,869]\u001b[0m Trial 56 finished with value: 0.7830372227748095 and parameters: {'criterion': 'squared_error', 'splitter': 'best'}. Best is trial 10 with value: 0.9403846127769572.\u001b[0m\n",
            "\u001b[32m[I 2022-10-03 18:01:40,884]\u001b[0m Trial 57 finished with value: 0.9394199587113286 and parameters: {'criterion': 'squared_error', 'splitter': 'best'}. Best is trial 10 with value: 0.9403846127769572.\u001b[0m\n",
            "\u001b[32m[I 2022-10-03 18:01:40,897]\u001b[0m Trial 58 finished with value: 0.7824401521519205 and parameters: {'criterion': 'squared_error', 'splitter': 'best'}. Best is trial 10 with value: 0.9403846127769572.\u001b[0m\n",
            "\u001b[32m[I 2022-10-03 18:01:40,912]\u001b[0m Trial 59 finished with value: 0.8529434973521748 and parameters: {'criterion': 'squared_error', 'splitter': 'best'}. Best is trial 10 with value: 0.9403846127769572.\u001b[0m\n",
            "\u001b[32m[I 2022-10-03 18:01:40,929]\u001b[0m Trial 60 finished with value: 0.938736711079804 and parameters: {'criterion': 'squared_error', 'splitter': 'best'}. Best is trial 10 with value: 0.9403846127769572.\u001b[0m\n",
            "\u001b[32m[I 2022-10-03 18:01:40,946]\u001b[0m Trial 61 finished with value: 0.8529109126011318 and parameters: {'criterion': 'squared_error', 'splitter': 'best'}. Best is trial 10 with value: 0.9403846127769572.\u001b[0m\n",
            "\u001b[32m[I 2022-10-03 18:01:40,963]\u001b[0m Trial 62 finished with value: 0.8531196522863358 and parameters: {'criterion': 'squared_error', 'splitter': 'best'}. Best is trial 10 with value: 0.9403846127769572.\u001b[0m\n",
            "\u001b[32m[I 2022-10-03 18:01:40,977]\u001b[0m Trial 63 finished with value: 0.8528243450883375 and parameters: {'criterion': 'squared_error', 'splitter': 'best'}. Best is trial 10 with value: 0.9403846127769572.\u001b[0m\n",
            "\u001b[32m[I 2022-10-03 18:01:40,990]\u001b[0m Trial 64 finished with value: 0.9396302046413615 and parameters: {'criterion': 'squared_error', 'splitter': 'best'}. Best is trial 10 with value: 0.9403846127769572.\u001b[0m\n",
            "\u001b[32m[I 2022-10-03 18:01:41,005]\u001b[0m Trial 65 finished with value: 0.9397418846685748 and parameters: {'criterion': 'squared_error', 'splitter': 'best'}. Best is trial 10 with value: 0.9403846127769572.\u001b[0m\n",
            "\u001b[32m[I 2022-10-03 18:01:41,019]\u001b[0m Trial 66 finished with value: 0.8530633998627141 and parameters: {'criterion': 'squared_error', 'splitter': 'best'}. Best is trial 10 with value: 0.9403846127769572.\u001b[0m\n",
            "\u001b[32m[I 2022-10-03 18:01:41,033]\u001b[0m Trial 67 finished with value: 0.9386789524113532 and parameters: {'criterion': 'squared_error', 'splitter': 'best'}. Best is trial 10 with value: 0.9403846127769572.\u001b[0m\n",
            "\u001b[32m[I 2022-10-03 18:01:41,046]\u001b[0m Trial 68 finished with value: 0.7815151895799904 and parameters: {'criterion': 'squared_error', 'splitter': 'best'}. Best is trial 10 with value: 0.9403846127769572.\u001b[0m\n",
            "\u001b[32m[I 2022-10-03 18:01:41,061]\u001b[0m Trial 69 finished with value: 0.7329157845768426 and parameters: {'criterion': 'absolute_error', 'splitter': 'best'}. Best is trial 10 with value: 0.9403846127769572.\u001b[0m\n",
            "\u001b[32m[I 2022-10-03 18:01:41,075]\u001b[0m Trial 70 finished with value: 0.28002439421542336 and parameters: {'criterion': 'poisson', 'splitter': 'best'}. Best is trial 10 with value: 0.9403846127769572.\u001b[0m\n",
            "\u001b[32m[I 2022-10-03 18:01:41,088]\u001b[0m Trial 71 finished with value: 0.9397427552753848 and parameters: {'criterion': 'squared_error', 'splitter': 'best'}. Best is trial 10 with value: 0.9403846127769572.\u001b[0m\n",
            "\u001b[32m[I 2022-10-03 18:01:41,102]\u001b[0m Trial 72 finished with value: 0.9387854530862721 and parameters: {'criterion': 'squared_error', 'splitter': 'best'}. Best is trial 10 with value: 0.9403846127769572.\u001b[0m\n",
            "\u001b[32m[I 2022-10-03 18:01:41,115]\u001b[0m Trial 73 finished with value: 0.7823124940903673 and parameters: {'criterion': 'squared_error', 'splitter': 'best'}. Best is trial 10 with value: 0.9403846127769572.\u001b[0m\n",
            "\u001b[32m[I 2022-10-03 18:01:41,129]\u001b[0m Trial 74 finished with value: 0.8532968923197936 and parameters: {'criterion': 'squared_error', 'splitter': 'best'}. Best is trial 10 with value: 0.9403846127769572.\u001b[0m\n",
            "\u001b[32m[I 2022-10-03 18:01:41,141]\u001b[0m Trial 75 finished with value: 0.8529109126011318 and parameters: {'criterion': 'squared_error', 'splitter': 'best'}. Best is trial 10 with value: 0.9403846127769572.\u001b[0m\n",
            "\u001b[32m[I 2022-10-03 18:01:41,153]\u001b[0m Trial 76 finished with value: 0.8681704278588046 and parameters: {'criterion': 'squared_error', 'splitter': 'best'}. Best is trial 10 with value: 0.9403846127769572.\u001b[0m\n",
            "\u001b[32m[I 2022-10-03 18:01:41,164]\u001b[0m Trial 77 finished with value: 0.8696175246428532 and parameters: {'criterion': 'squared_error', 'splitter': 'best'}. Best is trial 10 with value: 0.9403846127769572.\u001b[0m\n",
            "\u001b[32m[I 2022-10-03 18:01:41,175]\u001b[0m Trial 78 finished with value: 0.853320426558067 and parameters: {'criterion': 'squared_error', 'splitter': 'best'}. Best is trial 10 with value: 0.9403846127769572.\u001b[0m\n",
            "\u001b[32m[I 2022-10-03 18:01:41,188]\u001b[0m Trial 79 finished with value: 0.9385437381458666 and parameters: {'criterion': 'squared_error', 'splitter': 'best'}. Best is trial 10 with value: 0.9403846127769572.\u001b[0m\n",
            "\u001b[32m[I 2022-10-03 18:01:41,199]\u001b[0m Trial 80 finished with value: 0.8680654334287148 and parameters: {'criterion': 'squared_error', 'splitter': 'best'}. Best is trial 10 with value: 0.9403846127769572.\u001b[0m\n",
            "\u001b[32m[I 2022-10-03 18:01:41,210]\u001b[0m Trial 81 finished with value: 0.8534750336014348 and parameters: {'criterion': 'squared_error', 'splitter': 'best'}. Best is trial 10 with value: 0.9403846127769572.\u001b[0m\n",
            "\u001b[32m[I 2022-10-03 18:01:41,220]\u001b[0m Trial 82 finished with value: 0.9404333547834254 and parameters: {'criterion': 'squared_error', 'splitter': 'best'}. Best is trial 82 with value: 0.9404333547834254.\u001b[0m\n",
            "\u001b[32m[I 2022-10-03 18:01:41,233]\u001b[0m Trial 83 finished with value: 0.8522917187310228 and parameters: {'criterion': 'squared_error', 'splitter': 'best'}. Best is trial 82 with value: 0.9404333547834254.\u001b[0m\n",
            "\u001b[32m[I 2022-10-03 18:01:41,243]\u001b[0m Trial 84 finished with value: 0.7813064498947866 and parameters: {'criterion': 'squared_error', 'splitter': 'best'}. Best is trial 82 with value: 0.9404333547834254.\u001b[0m\n",
            "\u001b[32m[I 2022-10-03 18:01:41,257]\u001b[0m Trial 85 finished with value: 0.8531852122925803 and parameters: {'criterion': 'squared_error', 'splitter': 'best'}. Best is trial 82 with value: 0.9404333547834254.\u001b[0m\n",
            "\u001b[32m[I 2022-10-03 18:01:41,272]\u001b[0m Trial 86 finished with value: 0.2768248029166851 and parameters: {'criterion': 'poisson', 'splitter': 'best'}. Best is trial 82 with value: 0.9404333547834254.\u001b[0m\n",
            "\u001b[32m[I 2022-10-03 18:01:41,284]\u001b[0m Trial 87 finished with value: 0.7319908220049125 and parameters: {'criterion': 'absolute_error', 'splitter': 'best'}. Best is trial 82 with value: 0.9404333547834254.\u001b[0m\n",
            "\u001b[32m[I 2022-10-03 18:01:41,295]\u001b[0m Trial 88 finished with value: 0.8695860556324806 and parameters: {'criterion': 'squared_error', 'splitter': 'best'}. Best is trial 82 with value: 0.9404333547834254.\u001b[0m\n",
            "\u001b[32m[I 2022-10-03 18:01:41,308]\u001b[0m Trial 89 finished with value: 0.7812513513923647 and parameters: {'criterion': 'squared_error', 'splitter': 'best'}. Best is trial 82 with value: 0.9404333547834254.\u001b[0m\n",
            "\u001b[32m[I 2022-10-03 18:01:41,321]\u001b[0m Trial 90 finished with value: 0.8539160861899027 and parameters: {'criterion': 'squared_error', 'splitter': 'best'}. Best is trial 82 with value: 0.9404333547834254.\u001b[0m\n",
            "\u001b[32m[I 2022-10-03 18:01:41,333]\u001b[0m Trial 91 finished with value: 0.8681544498244648 and parameters: {'criterion': 'squared_error', 'splitter': 'best'}. Best is trial 82 with value: 0.9404333547834254.\u001b[0m\n",
            "\u001b[32m[I 2022-10-03 18:01:41,346]\u001b[0m Trial 92 finished with value: 0.782199943456344 and parameters: {'criterion': 'squared_error', 'splitter': 'best'}. Best is trial 82 with value: 0.9404333547834254.\u001b[0m\n",
            "\u001b[32m[I 2022-10-03 18:01:41,358]\u001b[0m Trial 93 finished with value: 0.7822160054579934 and parameters: {'criterion': 'squared_error', 'splitter': 'best'}. Best is trial 82 with value: 0.9404333547834254.\u001b[0m\n",
            "\u001b[32m[I 2022-10-03 18:01:41,370]\u001b[0m Trial 94 finished with value: 0.7815166958248195 and parameters: {'criterion': 'squared_error', 'splitter': 'best'}. Best is trial 82 with value: 0.9404333547834254.\u001b[0m\n",
            "\u001b[32m[I 2022-10-03 18:01:41,381]\u001b[0m Trial 95 finished with value: 0.939388489700956 and parameters: {'criterion': 'squared_error', 'splitter': 'best'}. Best is trial 82 with value: 0.9404333547834254.\u001b[0m\n",
            "\u001b[32m[I 2022-10-03 18:01:41,391]\u001b[0m Trial 96 finished with value: 0.7824798436456191 and parameters: {'criterion': 'squared_error', 'splitter': 'best'}. Best is trial 82 with value: 0.9404333547834254.\u001b[0m\n",
            "\u001b[32m[I 2022-10-03 18:01:41,405]\u001b[0m Trial 97 finished with value: 0.7822314124667167 and parameters: {'criterion': 'squared_error', 'splitter': 'best'}. Best is trial 82 with value: 0.9404333547834254.\u001b[0m\n",
            "\u001b[32m[I 2022-10-03 18:01:41,417]\u001b[0m Trial 98 finished with value: 0.8686123510540824 and parameters: {'criterion': 'squared_error', 'splitter': 'best'}. Best is trial 82 with value: 0.9404333547834254.\u001b[0m\n",
            "\u001b[32m[I 2022-10-03 18:01:41,433]\u001b[0m Trial 99 finished with value: 0.939870413336938 and parameters: {'criterion': 'squared_error', 'splitter': 'best'}. Best is trial 82 with value: 0.9404333547834254.\u001b[0m\n",
            "2022/10/03 18:01:41 INFO mlflow.tracking.fluent: Experiment with name 'Decision Tree Regressor' does not exist. Creating a new experiment.\n"
          ]
        },
        {
          "output_type": "stream",
          "name": "stdout",
          "text": [
            "Number of finished trials: 100\n",
            "Best trial: {'criterion': 'squared_error', 'splitter': 'best'}\n"
          ]
        }
      ]
    },
    {
      "cell_type": "code",
      "source": [
        "dtr = DecisionTreeRegressor(criterion=best['criterion'], splitter=best['splitter'])\n",
        "\n",
        "dtr.fit(X_train, y_train)\n",
        "\n",
        "y_pred1 = dtr.predict(X_test)\n",
        "\n",
        "print('R2 score: %.2f' % r2_score(y_test, y_pred1))\n",
        "print('MSE: %.2f' % mean_squared_error(y_test, y_pred1))\n",
        "\n",
        "scores1 = cross_val_score(dtr, X, y, cv=5)\n",
        "print('Cross-validation scores: {}'.format(scores1))\n"
      ],
      "metadata": {
        "id": "nV7xqcbvCtxS",
        "colab": {
          "base_uri": "https://localhost:8080/"
        },
        "outputId": "4dcb33fb-b3a8-42fd-82a8-640d7916b138"
      },
      "execution_count": 89,
      "outputs": [
        {
          "output_type": "stream",
          "name": "stdout",
          "text": [
            "R2 score: 0.87\n",
            "MSE: 0.01\n",
            "Cross-validation scores: [0.84204457 0.99980443 0.89907757 0.63491886 0.84642629]\n"
          ]
        }
      ]
    },
    {
      "cell_type": "markdown",
      "source": [
        "As we can see. Optuna gathered new hyper-parameters and resulted in a higher R2 SCORE for our model."
      ],
      "metadata": {
        "id": "9NUEpOYb0P-w"
      }
    },
    {
      "cell_type": "code",
      "source": [
        "score_dtr = r2_score(y_test, y_pred1)\n",
        "r2_scores_list['DecisionTreeRegressor'] = score_dtr\n",
        "\n",
        "print(r2_scores_list)"
      ],
      "metadata": {
        "id": "HqXWjmMlc1iQ",
        "colab": {
          "base_uri": "https://localhost:8080/"
        },
        "outputId": "a636b0ac-e592-48f6-ea4f-fd8d641df645"
      },
      "execution_count": 90,
      "outputs": [
        {
          "output_type": "stream",
          "name": "stdout",
          "text": [
            "{'LinearRegression': 0.8462446940301727, 'DecisionTreeRegressor': 0.8687963073260372}\n"
          ]
        }
      ]
    },
    {
      "cell_type": "markdown",
      "source": [
        "Here, we have a Gradient Boosting Regression Model (native/default)."
      ],
      "metadata": {
        "id": "E7Xx_m2w01V4"
      }
    },
    {
      "cell_type": "code",
      "source": [
        "from sklearn.ensemble import GradientBoostingRegressor\n",
        "\n",
        "gbr = GradientBoostingRegressor()\n",
        "\n",
        "gbr.fit(X_train, y_train)\n",
        "\n",
        "y_pred2 = gbr.predict(X_test)\n",
        "\n",
        "print(\"R2 score: %.2f\" % r2_score(y_test, y_pred))\n",
        "print(\"MSE: %.2f\" % mean_squared_error(y_test, y_pred))\n",
        "\n",
        "scores2 = cross_val_score(gbr, X, y, cv=5)\n",
        "\n",
        "print('Cross-validation scores: {}'.format(scores2))\n"
      ],
      "metadata": {
        "id": "GIshG48BEp6D",
        "colab": {
          "base_uri": "https://localhost:8080/"
        },
        "outputId": "be49efb3-45fe-4886-8da3-045223ed61ba"
      },
      "execution_count": 91,
      "outputs": [
        {
          "output_type": "stream",
          "name": "stdout",
          "text": [
            "R2 score: 0.85\n",
            "MSE: 0.01\n",
            "Cross-validation scores: [0.87900178 0.90233751 0.9224694  0.94337368 0.84335026]\n"
          ]
        }
      ]
    },
    {
      "cell_type": "markdown",
      "source": [
        "Now, we apply the optuna framework in our Gradient Boosting Regression model, in order to select the best hyper-parameters."
      ],
      "metadata": {
        "id": "cRrIgpp51Aui"
      }
    },
    {
      "cell_type": "code",
      "source": [
        "def objective_gbr(trial):\n",
        "  loss = trial.suggest_categorical('loss', ['squared_error', 'absolute_error', 'huber', 'quantile'])\n",
        "  learning_rate = trial.suggest_uniform('learning_rate', 0.01, 1.0)\n",
        "  criterion = trial.suggest_categorical('criterion', ['friedman_mse', 'squared_error'])\n",
        "\n",
        "  model = GradientBoostingRegressor(loss=loss, learning_rate=learning_rate, criterion=criterion)\n",
        "\n",
        "  model.fit(X_train, y_train)\n",
        "\n",
        "  y_pred = model.predict(X_test)\n",
        "\n",
        "  score = r2_score(y_test, y_pred)\n",
        "\n",
        "  return score\n",
        "\n",
        "study = optuna.create_study(direction='maximize')\n",
        "study.optimize(objective_gbr, n_trials=100)\n",
        "\n",
        "mlflow.set_experiment(\"Gradient Boosting Regression\")\n",
        "with mlflow.start_run():\n",
        "   mlflow.log_param(\"loss\", study.best_params['loss'])\n",
        "   mlflow.log_param(\"learning_rate\", study.best_params['learning_rate'])\n",
        "   mlflow.log_param(\"criterion\", study.best_params['criterion'])\n",
        "   mlflow.log_metric(\"r2_score\", study.best_value)\n",
        "   mlflow.sklearn.log_model(gbr, \"model\")\n",
        "\n",
        "print(\"Best trial: {}\".format(study.best_params))\n",
        "\n",
        "best = study.best_params\n",
        "\n",
        "print(\"Best value: {}\".format(study.best_value))\n"
      ],
      "metadata": {
        "id": "az0DGpMzHAfJ",
        "colab": {
          "base_uri": "https://localhost:8080/"
        },
        "outputId": "670304a4-cc9f-4234-c111-af7e4b1e91a7"
      },
      "execution_count": 92,
      "outputs": [
        {
          "output_type": "stream",
          "name": "stderr",
          "text": [
            "\u001b[32m[I 2022-10-03 18:01:43,812]\u001b[0m A new study created in memory with name: no-name-b335a930-4fae-448e-ac08-2e32ef01a51a\u001b[0m\n",
            "\u001b[32m[I 2022-10-03 18:01:44,077]\u001b[0m Trial 0 finished with value: 0.8649519602945162 and parameters: {'loss': 'quantile', 'learning_rate': 0.9327964278151157, 'criterion': 'squared_error'}. Best is trial 0 with value: 0.8649519602945162.\u001b[0m\n",
            "\u001b[32m[I 2022-10-03 18:01:44,270]\u001b[0m Trial 1 finished with value: 0.8970834130637204 and parameters: {'loss': 'absolute_error', 'learning_rate': 0.9195214457778592, 'criterion': 'squared_error'}. Best is trial 1 with value: 0.8970834130637204.\u001b[0m\n",
            "\u001b[32m[I 2022-10-03 18:01:44,539]\u001b[0m Trial 2 finished with value: 0.8207375313755325 and parameters: {'loss': 'huber', 'learning_rate': 0.020398605358860282, 'criterion': 'friedman_mse'}. Best is trial 1 with value: 0.8970834130637204.\u001b[0m\n",
            "\u001b[32m[I 2022-10-03 18:01:44,763]\u001b[0m Trial 3 finished with value: 0.8634755250838536 and parameters: {'loss': 'quantile', 'learning_rate': 0.9634458843298015, 'criterion': 'friedman_mse'}. Best is trial 1 with value: 0.8970834130637204.\u001b[0m\n",
            "\u001b[32m[I 2022-10-03 18:01:44,807]\u001b[0m Trial 4 finished with value: 0.8398575828372367 and parameters: {'loss': 'squared_error', 'learning_rate': 0.6002083092001865, 'criterion': 'friedman_mse'}. Best is trial 1 with value: 0.8970834130637204.\u001b[0m\n",
            "\u001b[32m[I 2022-10-03 18:01:44,855]\u001b[0m Trial 5 finished with value: 0.920992174399419 and parameters: {'loss': 'squared_error', 'learning_rate': 0.8815483506698111, 'criterion': 'squared_error'}. Best is trial 5 with value: 0.920992174399419.\u001b[0m\n",
            "\u001b[32m[I 2022-10-03 18:01:45,047]\u001b[0m Trial 6 finished with value: 0.48378423577548824 and parameters: {'loss': 'quantile', 'learning_rate': 0.03052237433715734, 'criterion': 'squared_error'}. Best is trial 5 with value: 0.920992174399419.\u001b[0m\n",
            "\u001b[32m[I 2022-10-03 18:01:45,097]\u001b[0m Trial 7 finished with value: 0.9250564887936484 and parameters: {'loss': 'squared_error', 'learning_rate': 0.4889694831400235, 'criterion': 'squared_error'}. Best is trial 7 with value: 0.9250564887936484.\u001b[0m\n",
            "\u001b[32m[I 2022-10-03 18:01:45,416]\u001b[0m Trial 8 finished with value: 0.8913485519720197 and parameters: {'loss': 'huber', 'learning_rate': 0.3147275594844884, 'criterion': 'squared_error'}. Best is trial 7 with value: 0.9250564887936484.\u001b[0m\n",
            "\u001b[32m[I 2022-10-03 18:01:45,689]\u001b[0m Trial 9 finished with value: 0.9177498302511332 and parameters: {'loss': 'huber', 'learning_rate': 0.11932942756975921, 'criterion': 'friedman_mse'}. Best is trial 7 with value: 0.9250564887936484.\u001b[0m\n",
            "\u001b[32m[I 2022-10-03 18:01:45,745]\u001b[0m Trial 10 finished with value: 0.902080200613224 and parameters: {'loss': 'squared_error', 'learning_rate': 0.5681584420199802, 'criterion': 'squared_error'}. Best is trial 7 with value: 0.9250564887936484.\u001b[0m\n",
            "\u001b[32m[I 2022-10-03 18:01:45,792]\u001b[0m Trial 11 finished with value: 0.8733293509870943 and parameters: {'loss': 'squared_error', 'learning_rate': 0.7291537426857055, 'criterion': 'squared_error'}. Best is trial 7 with value: 0.9250564887936484.\u001b[0m\n",
            "\u001b[32m[I 2022-10-03 18:01:45,841]\u001b[0m Trial 12 finished with value: 0.896133686984067 and parameters: {'loss': 'squared_error', 'learning_rate': 0.38337149417483213, 'criterion': 'squared_error'}. Best is trial 7 with value: 0.9250564887936484.\u001b[0m\n",
            "\u001b[32m[I 2022-10-03 18:01:45,896]\u001b[0m Trial 13 finished with value: 0.8070656391550368 and parameters: {'loss': 'squared_error', 'learning_rate': 0.7565486690882188, 'criterion': 'squared_error'}. Best is trial 7 with value: 0.9250564887936484.\u001b[0m\n",
            "\u001b[32m[I 2022-10-03 18:01:46,063]\u001b[0m Trial 14 finished with value: 0.879938996769894 and parameters: {'loss': 'absolute_error', 'learning_rate': 0.4087006956291559, 'criterion': 'squared_error'}. Best is trial 7 with value: 0.9250564887936484.\u001b[0m\n",
            "\u001b[32m[I 2022-10-03 18:01:46,113]\u001b[0m Trial 15 finished with value: 0.8757294366216698 and parameters: {'loss': 'squared_error', 'learning_rate': 0.7415224076542244, 'criterion': 'squared_error'}. Best is trial 7 with value: 0.9250564887936484.\u001b[0m\n",
            "\u001b[32m[I 2022-10-03 18:01:46,161]\u001b[0m Trial 16 finished with value: 0.9338757035319797 and parameters: {'loss': 'squared_error', 'learning_rate': 0.24449223557588626, 'criterion': 'squared_error'}. Best is trial 16 with value: 0.9338757035319797.\u001b[0m\n",
            "\u001b[32m[I 2022-10-03 18:01:46,212]\u001b[0m Trial 17 finished with value: 0.9173130873588574 and parameters: {'loss': 'squared_error', 'learning_rate': 0.26557443723774987, 'criterion': 'squared_error'}. Best is trial 16 with value: 0.9338757035319797.\u001b[0m\n",
            "\u001b[32m[I 2022-10-03 18:01:46,404]\u001b[0m Trial 18 finished with value: 0.7495846620559894 and parameters: {'loss': 'absolute_error', 'learning_rate': 0.1878700665814484, 'criterion': 'friedman_mse'}. Best is trial 16 with value: 0.9338757035319797.\u001b[0m\n",
            "\u001b[32m[I 2022-10-03 18:01:46,456]\u001b[0m Trial 19 finished with value: 0.8564460021073403 and parameters: {'loss': 'squared_error', 'learning_rate': 0.48345568038651926, 'criterion': 'squared_error'}. Best is trial 16 with value: 0.9338757035319797.\u001b[0m\n",
            "\u001b[32m[I 2022-10-03 18:01:46,509]\u001b[0m Trial 20 finished with value: 0.9042676192675019 and parameters: {'loss': 'squared_error', 'learning_rate': 0.2236564955387758, 'criterion': 'squared_error'}. Best is trial 16 with value: 0.9338757035319797.\u001b[0m\n",
            "\u001b[32m[I 2022-10-03 18:01:46,592]\u001b[0m Trial 21 finished with value: 0.870373053961713 and parameters: {'loss': 'squared_error', 'learning_rate': 0.617371358631153, 'criterion': 'squared_error'}. Best is trial 16 with value: 0.9338757035319797.\u001b[0m\n",
            "\u001b[32m[I 2022-10-03 18:01:46,738]\u001b[0m Trial 22 finished with value: 0.9238360843059732 and parameters: {'loss': 'squared_error', 'learning_rate': 0.43358201167928334, 'criterion': 'squared_error'}. Best is trial 16 with value: 0.9338757035319797.\u001b[0m\n",
            "\u001b[32m[I 2022-10-03 18:01:46,812]\u001b[0m Trial 23 finished with value: 0.8788487519713573 and parameters: {'loss': 'squared_error', 'learning_rate': 0.4489363702024679, 'criterion': 'squared_error'}. Best is trial 16 with value: 0.9338757035319797.\u001b[0m\n",
            "\u001b[32m[I 2022-10-03 18:01:46,888]\u001b[0m Trial 24 finished with value: 0.8691552254804458 and parameters: {'loss': 'squared_error', 'learning_rate': 0.34906493799978167, 'criterion': 'squared_error'}. Best is trial 16 with value: 0.9338757035319797.\u001b[0m\n",
            "\u001b[32m[I 2022-10-03 18:01:46,976]\u001b[0m Trial 25 finished with value: 0.8971381317761391 and parameters: {'loss': 'squared_error', 'learning_rate': 0.5202046008580127, 'criterion': 'squared_error'}. Best is trial 16 with value: 0.9338757035319797.\u001b[0m\n",
            "\u001b[32m[I 2022-10-03 18:01:47,292]\u001b[0m Trial 26 finished with value: 0.8967038891230485 and parameters: {'loss': 'absolute_error', 'learning_rate': 0.3089276273871884, 'criterion': 'friedman_mse'}. Best is trial 16 with value: 0.9338757035319797.\u001b[0m\n",
            "\u001b[32m[I 2022-10-03 18:01:47,891]\u001b[0m Trial 27 finished with value: 0.9259964687453989 and parameters: {'loss': 'huber', 'learning_rate': 0.15176810743835883, 'criterion': 'squared_error'}. Best is trial 16 with value: 0.9338757035319797.\u001b[0m\n",
            "\u001b[32m[I 2022-10-03 18:01:48,520]\u001b[0m Trial 28 finished with value: 0.9055111446598559 and parameters: {'loss': 'huber', 'learning_rate': 0.13158577705406693, 'criterion': 'squared_error'}. Best is trial 16 with value: 0.9338757035319797.\u001b[0m\n",
            "\u001b[32m[I 2022-10-03 18:01:49,059]\u001b[0m Trial 29 finished with value: 0.8943987732889066 and parameters: {'loss': 'huber', 'learning_rate': 0.12383389987316121, 'criterion': 'squared_error'}. Best is trial 16 with value: 0.9338757035319797.\u001b[0m\n",
            "\u001b[32m[I 2022-10-03 18:01:49,483]\u001b[0m Trial 30 finished with value: 0.8252752041722287 and parameters: {'loss': 'quantile', 'learning_rate': 0.22889814386426774, 'criterion': 'squared_error'}. Best is trial 16 with value: 0.9338757035319797.\u001b[0m\n",
            "\u001b[32m[I 2022-10-03 18:01:50,152]\u001b[0m Trial 31 finished with value: 0.9344121944075868 and parameters: {'loss': 'huber', 'learning_rate': 0.4321636926068293, 'criterion': 'squared_error'}. Best is trial 31 with value: 0.9344121944075868.\u001b[0m\n",
            "\u001b[32m[I 2022-10-03 18:01:50,855]\u001b[0m Trial 32 finished with value: 0.9014829671495673 and parameters: {'loss': 'huber', 'learning_rate': 0.6683627457272172, 'criterion': 'squared_error'}. Best is trial 31 with value: 0.9344121944075868.\u001b[0m\n",
            "\u001b[32m[I 2022-10-03 18:01:51,594]\u001b[0m Trial 33 finished with value: 0.9059627661088576 and parameters: {'loss': 'huber', 'learning_rate': 0.5276644188452569, 'criterion': 'squared_error'}. Best is trial 31 with value: 0.9344121944075868.\u001b[0m\n",
            "\u001b[32m[I 2022-10-03 18:01:52,461]\u001b[0m Trial 34 finished with value: 0.899119126919779 and parameters: {'loss': 'huber', 'learning_rate': 0.17553353210345424, 'criterion': 'squared_error'}. Best is trial 31 with value: 0.9344121944075868.\u001b[0m\n",
            "\u001b[32m[I 2022-10-03 18:01:53,019]\u001b[0m Trial 35 finished with value: 0.9148022212928568 and parameters: {'loss': 'huber', 'learning_rate': 0.045566568824292664, 'criterion': 'friedman_mse'}. Best is trial 31 with value: 0.9344121944075868.\u001b[0m\n",
            "\u001b[32m[I 2022-10-03 18:01:53,508]\u001b[0m Trial 36 finished with value: 0.9522412265715414 and parameters: {'loss': 'huber', 'learning_rate': 0.2801361479692229, 'criterion': 'squared_error'}. Best is trial 36 with value: 0.9522412265715414.\u001b[0m\n",
            "\u001b[32m[I 2022-10-03 18:01:54,031]\u001b[0m Trial 37 finished with value: 0.9446626129855928 and parameters: {'loss': 'huber', 'learning_rate': 0.29716582030654026, 'criterion': 'friedman_mse'}. Best is trial 36 with value: 0.9522412265715414.\u001b[0m\n",
            "\u001b[32m[I 2022-10-03 18:01:54,693]\u001b[0m Trial 38 finished with value: 0.9065182617777663 and parameters: {'loss': 'huber', 'learning_rate': 0.28121228112984004, 'criterion': 'friedman_mse'}. Best is trial 36 with value: 0.9522412265715414.\u001b[0m\n",
            "\u001b[32m[I 2022-10-03 18:01:55,347]\u001b[0m Trial 39 finished with value: 0.8116677310201701 and parameters: {'loss': 'quantile', 'learning_rate': 0.3469290049468901, 'criterion': 'friedman_mse'}. Best is trial 36 with value: 0.9522412265715414.\u001b[0m\n",
            "\u001b[32m[I 2022-10-03 18:01:55,957]\u001b[0m Trial 40 finished with value: 0.9398616428819284 and parameters: {'loss': 'huber', 'learning_rate': 0.3742484539657129, 'criterion': 'friedman_mse'}. Best is trial 36 with value: 0.9522412265715414.\u001b[0m\n",
            "\u001b[32m[I 2022-10-03 18:01:56,488]\u001b[0m Trial 41 finished with value: 0.909591569609831 and parameters: {'loss': 'huber', 'learning_rate': 0.37065528285208527, 'criterion': 'friedman_mse'}. Best is trial 36 with value: 0.9522412265715414.\u001b[0m\n",
            "\u001b[32m[I 2022-10-03 18:01:57,069]\u001b[0m Trial 42 finished with value: 0.9263429076586361 and parameters: {'loss': 'huber', 'learning_rate': 0.2736905342501945, 'criterion': 'friedman_mse'}. Best is trial 36 with value: 0.9522412265715414.\u001b[0m\n",
            "\u001b[32m[I 2022-10-03 18:01:57,696]\u001b[0m Trial 43 finished with value: 0.9002311193491646 and parameters: {'loss': 'huber', 'learning_rate': 0.22745030000708144, 'criterion': 'friedman_mse'}. Best is trial 36 with value: 0.9522412265715414.\u001b[0m\n",
            "\u001b[32m[I 2022-10-03 18:01:58,360]\u001b[0m Trial 44 finished with value: 0.8799614939276804 and parameters: {'loss': 'huber', 'learning_rate': 0.31535672156644756, 'criterion': 'friedman_mse'}. Best is trial 36 with value: 0.9522412265715414.\u001b[0m\n",
            "\u001b[32m[I 2022-10-03 18:01:58,967]\u001b[0m Trial 45 finished with value: 0.9434560419804562 and parameters: {'loss': 'huber', 'learning_rate': 0.45947659496393795, 'criterion': 'friedman_mse'}. Best is trial 36 with value: 0.9522412265715414.\u001b[0m\n",
            "\u001b[32m[I 2022-10-03 18:01:59,700]\u001b[0m Trial 46 finished with value: 0.8985663739742801 and parameters: {'loss': 'huber', 'learning_rate': 0.4733447636489511, 'criterion': 'friedman_mse'}. Best is trial 36 with value: 0.9522412265715414.\u001b[0m\n",
            "\u001b[32m[I 2022-10-03 18:02:00,353]\u001b[0m Trial 47 finished with value: 0.9003900579778567 and parameters: {'loss': 'huber', 'learning_rate': 0.41333412514062684, 'criterion': 'friedman_mse'}. Best is trial 36 with value: 0.9522412265715414.\u001b[0m\n",
            "\u001b[32m[I 2022-10-03 18:02:01,023]\u001b[0m Trial 48 finished with value: 0.9111594869378892 and parameters: {'loss': 'huber', 'learning_rate': 0.5709526202723061, 'criterion': 'friedman_mse'}. Best is trial 36 with value: 0.9522412265715414.\u001b[0m\n",
            "\u001b[32m[I 2022-10-03 18:02:01,802]\u001b[0m Trial 49 finished with value: 0.9097858566131563 and parameters: {'loss': 'huber', 'learning_rate': 0.375946128959709, 'criterion': 'friedman_mse'}. Best is trial 36 with value: 0.9522412265715414.\u001b[0m\n",
            "\u001b[32m[I 2022-10-03 18:02:02,238]\u001b[0m Trial 50 finished with value: 0.8381610996306541 and parameters: {'loss': 'quantile', 'learning_rate': 0.31517143510254053, 'criterion': 'friedman_mse'}. Best is trial 36 with value: 0.9522412265715414.\u001b[0m\n",
            "\u001b[32m[I 2022-10-03 18:02:02,823]\u001b[0m Trial 51 finished with value: 0.9023546217815449 and parameters: {'loss': 'huber', 'learning_rate': 0.4006436868995359, 'criterion': 'friedman_mse'}. Best is trial 36 with value: 0.9522412265715414.\u001b[0m\n",
            "\u001b[32m[I 2022-10-03 18:02:03,157]\u001b[0m Trial 52 finished with value: 0.7796333888378503 and parameters: {'loss': 'absolute_error', 'learning_rate': 0.44366143805659447, 'criterion': 'friedman_mse'}. Best is trial 36 with value: 0.9522412265715414.\u001b[0m\n",
            "\u001b[32m[I 2022-10-03 18:02:03,754]\u001b[0m Trial 53 finished with value: 0.9397324889251594 and parameters: {'loss': 'huber', 'learning_rate': 0.25217896223956576, 'criterion': 'friedman_mse'}. Best is trial 36 with value: 0.9522412265715414.\u001b[0m\n",
            "\u001b[32m[I 2022-10-03 18:02:04,448]\u001b[0m Trial 54 finished with value: 0.9074272472938618 and parameters: {'loss': 'huber', 'learning_rate': 0.3462871402585745, 'criterion': 'friedman_mse'}. Best is trial 36 with value: 0.9522412265715414.\u001b[0m\n",
            "\u001b[32m[I 2022-10-03 18:02:04,928]\u001b[0m Trial 55 finished with value: 0.9132383012516545 and parameters: {'loss': 'huber', 'learning_rate': 0.09026249922070964, 'criterion': 'friedman_mse'}. Best is trial 36 with value: 0.9522412265715414.\u001b[0m\n",
            "\u001b[32m[I 2022-10-03 18:02:05,495]\u001b[0m Trial 56 finished with value: 0.8097241559922408 and parameters: {'loss': 'huber', 'learning_rate': 0.8957523633811433, 'criterion': 'friedman_mse'}. Best is trial 36 with value: 0.9522412265715414.\u001b[0m\n",
            "\u001b[32m[I 2022-10-03 18:02:06,334]\u001b[0m Trial 57 finished with value: 0.9038583818477334 and parameters: {'loss': 'huber', 'learning_rate': 0.5472188541296927, 'criterion': 'friedman_mse'}. Best is trial 36 with value: 0.9522412265715414.\u001b[0m\n",
            "\u001b[32m[I 2022-10-03 18:02:07,296]\u001b[0m Trial 58 finished with value: 0.9075499332700001 and parameters: {'loss': 'huber', 'learning_rate': 0.18838988638672705, 'criterion': 'friedman_mse'}. Best is trial 36 with value: 0.9522412265715414.\u001b[0m\n",
            "\u001b[32m[I 2022-10-03 18:02:08,366]\u001b[0m Trial 59 finished with value: 0.9022203422457349 and parameters: {'loss': 'huber', 'learning_rate': 0.48071065713559497, 'criterion': 'friedman_mse'}. Best is trial 36 with value: 0.9522412265715414.\u001b[0m\n",
            "\u001b[32m[I 2022-10-03 18:02:08,703]\u001b[0m Trial 60 finished with value: 0.8474375984120044 and parameters: {'loss': 'absolute_error', 'learning_rate': 0.2993197522262326, 'criterion': 'friedman_mse'}. Best is trial 36 with value: 0.9522412265715414.\u001b[0m\n",
            "\u001b[32m[I 2022-10-03 18:02:09,483]\u001b[0m Trial 61 finished with value: 0.8986191035431546 and parameters: {'loss': 'huber', 'learning_rate': 0.24670377022732393, 'criterion': 'squared_error'}. Best is trial 36 with value: 0.9522412265715414.\u001b[0m\n",
            "\u001b[32m[I 2022-10-03 18:02:10,113]\u001b[0m Trial 62 finished with value: 0.7364518314230479 and parameters: {'loss': 'quantile', 'learning_rate': 0.19880190141833004, 'criterion': 'squared_error'}. Best is trial 36 with value: 0.9522412265715414.\u001b[0m\n",
            "\u001b[32m[I 2022-10-03 18:02:10,670]\u001b[0m Trial 63 finished with value: 0.8927269693820402 and parameters: {'loss': 'huber', 'learning_rate': 0.2533741047534044, 'criterion': 'squared_error'}. Best is trial 36 with value: 0.9522412265715414.\u001b[0m\n",
            "\u001b[32m[I 2022-10-03 18:02:11,177]\u001b[0m Trial 64 finished with value: 0.9045092728717584 and parameters: {'loss': 'huber', 'learning_rate': 0.3323253968818966, 'criterion': 'squared_error'}. Best is trial 36 with value: 0.9522412265715414.\u001b[0m\n",
            "\u001b[32m[I 2022-10-03 18:02:11,720]\u001b[0m Trial 65 finished with value: 0.897893316073089 and parameters: {'loss': 'huber', 'learning_rate': 0.4073124986119702, 'criterion': 'friedman_mse'}. Best is trial 36 with value: 0.9522412265715414.\u001b[0m\n",
            "\u001b[32m[I 2022-10-03 18:02:11,806]\u001b[0m Trial 66 finished with value: 0.8171424933296543 and parameters: {'loss': 'squared_error', 'learning_rate': 0.983869033110085, 'criterion': 'squared_error'}. Best is trial 36 with value: 0.9522412265715414.\u001b[0m\n",
            "\u001b[32m[I 2022-10-03 18:02:12,258]\u001b[0m Trial 67 finished with value: 0.8365235493992119 and parameters: {'loss': 'absolute_error', 'learning_rate': 0.2887627406272666, 'criterion': 'squared_error'}. Best is trial 36 with value: 0.9522412265715414.\u001b[0m\n",
            "\u001b[32m[I 2022-10-03 18:02:12,863]\u001b[0m Trial 68 finished with value: 0.8968567872104746 and parameters: {'loss': 'huber', 'learning_rate': 0.4543411694272419, 'criterion': 'friedman_mse'}. Best is trial 36 with value: 0.9522412265715414.\u001b[0m\n",
            "\u001b[32m[I 2022-10-03 18:02:13,405]\u001b[0m Trial 69 finished with value: 0.918907626212719 and parameters: {'loss': 'huber', 'learning_rate': 0.37477369534540855, 'criterion': 'squared_error'}. Best is trial 36 with value: 0.9522412265715414.\u001b[0m\n",
            "\u001b[32m[I 2022-10-03 18:02:13,479]\u001b[0m Trial 70 finished with value: 0.8094929438269831 and parameters: {'loss': 'squared_error', 'learning_rate': 0.8372854539383139, 'criterion': 'friedman_mse'}. Best is trial 36 with value: 0.9522412265715414.\u001b[0m\n",
            "\u001b[32m[I 2022-10-03 18:02:13,978]\u001b[0m Trial 71 finished with value: 0.9481889638890649 and parameters: {'loss': 'huber', 'learning_rate': 0.2689218459041422, 'criterion': 'friedman_mse'}. Best is trial 36 with value: 0.9522412265715414.\u001b[0m\n",
            "\u001b[32m[I 2022-10-03 18:02:14,479]\u001b[0m Trial 72 finished with value: 0.8981464542409958 and parameters: {'loss': 'huber', 'learning_rate': 0.21396439970848335, 'criterion': 'friedman_mse'}. Best is trial 36 with value: 0.9522412265715414.\u001b[0m\n",
            "\u001b[32m[I 2022-10-03 18:02:15,025]\u001b[0m Trial 73 finished with value: 0.8910719249399591 and parameters: {'loss': 'huber', 'learning_rate': 0.15476339030367464, 'criterion': 'friedman_mse'}. Best is trial 36 with value: 0.9522412265715414.\u001b[0m\n",
            "\u001b[32m[I 2022-10-03 18:02:15,658]\u001b[0m Trial 74 finished with value: 0.9490995728035283 and parameters: {'loss': 'huber', 'learning_rate': 0.2751206389597886, 'criterion': 'friedman_mse'}. Best is trial 36 with value: 0.9522412265715414.\u001b[0m\n",
            "\u001b[32m[I 2022-10-03 18:02:16,406]\u001b[0m Trial 75 finished with value: 0.9024252619978231 and parameters: {'loss': 'huber', 'learning_rate': 0.27141461097414715, 'criterion': 'friedman_mse'}. Best is trial 36 with value: 0.9522412265715414.\u001b[0m\n",
            "\u001b[32m[I 2022-10-03 18:02:16,760]\u001b[0m Trial 76 finished with value: 0.8975975971274839 and parameters: {'loss': 'huber', 'learning_rate': 0.5055981183575969, 'criterion': 'friedman_mse'}. Best is trial 36 with value: 0.9522412265715414.\u001b[0m\n",
            "\u001b[32m[I 2022-10-03 18:02:17,054]\u001b[0m Trial 77 finished with value: 0.9045595472912141 and parameters: {'loss': 'huber', 'learning_rate': 0.3284364547752536, 'criterion': 'friedman_mse'}. Best is trial 36 with value: 0.9522412265715414.\u001b[0m\n",
            "\u001b[32m[I 2022-10-03 18:02:17,386]\u001b[0m Trial 78 finished with value: 0.8901484655482055 and parameters: {'loss': 'huber', 'learning_rate': 0.4229623687394296, 'criterion': 'friedman_mse'}. Best is trial 36 with value: 0.9522412265715414.\u001b[0m\n",
            "\u001b[32m[I 2022-10-03 18:02:17,715]\u001b[0m Trial 79 finished with value: 0.9131873608782272 and parameters: {'loss': 'huber', 'learning_rate': 0.35830439500100447, 'criterion': 'friedman_mse'}. Best is trial 36 with value: 0.9522412265715414.\u001b[0m\n",
            "\u001b[32m[I 2022-10-03 18:02:18,016]\u001b[0m Trial 80 finished with value: 0.8962684419988003 and parameters: {'loss': 'huber', 'learning_rate': 0.396802461953671, 'criterion': 'friedman_mse'}. Best is trial 36 with value: 0.9522412265715414.\u001b[0m\n",
            "\u001b[32m[I 2022-10-03 18:02:18,243]\u001b[0m Trial 81 finished with value: 0.8122986271717472 and parameters: {'loss': 'quantile', 'learning_rate': 0.2562805196741131, 'criterion': 'squared_error'}. Best is trial 36 with value: 0.9522412265715414.\u001b[0m\n",
            "\u001b[32m[I 2022-10-03 18:02:18,291]\u001b[0m Trial 82 finished with value: 0.9338623078460937 and parameters: {'loss': 'squared_error', 'learning_rate': 0.24297509005585993, 'criterion': 'squared_error'}. Best is trial 36 with value: 0.9522412265715414.\u001b[0m\n",
            "\u001b[32m[I 2022-10-03 18:02:18,580]\u001b[0m Trial 83 finished with value: 0.9507225427089865 and parameters: {'loss': 'huber', 'learning_rate': 0.28833112659703725, 'criterion': 'friedman_mse'}. Best is trial 36 with value: 0.9522412265715414.\u001b[0m\n",
            "\u001b[32m[I 2022-10-03 18:02:18,887]\u001b[0m Trial 84 finished with value: 0.9018199121759074 and parameters: {'loss': 'huber', 'learning_rate': 0.2892715029032877, 'criterion': 'friedman_mse'}. Best is trial 36 with value: 0.9522412265715414.\u001b[0m\n",
            "\u001b[32m[I 2022-10-03 18:02:19,168]\u001b[0m Trial 85 finished with value: 0.8961535013244868 and parameters: {'loss': 'huber', 'learning_rate': 0.20770397388913267, 'criterion': 'friedman_mse'}. Best is trial 36 with value: 0.9522412265715414.\u001b[0m\n",
            "\u001b[32m[I 2022-10-03 18:02:19,457]\u001b[0m Trial 86 finished with value: 0.8909336140702505 and parameters: {'loss': 'huber', 'learning_rate': 0.3268558383561846, 'criterion': 'friedman_mse'}. Best is trial 36 with value: 0.9522412265715414.\u001b[0m\n",
            "\u001b[32m[I 2022-10-03 18:02:19,765]\u001b[0m Trial 87 finished with value: 0.915803819880274 and parameters: {'loss': 'huber', 'learning_rate': 0.1659596165503629, 'criterion': 'friedman_mse'}. Best is trial 36 with value: 0.9522412265715414.\u001b[0m\n",
            "\u001b[32m[I 2022-10-03 18:02:20,054]\u001b[0m Trial 88 finished with value: 0.9043279102379753 and parameters: {'loss': 'huber', 'learning_rate': 0.3014565280689908, 'criterion': 'friedman_mse'}. Best is trial 36 with value: 0.9522412265715414.\u001b[0m\n",
            "\u001b[32m[I 2022-10-03 18:02:20,344]\u001b[0m Trial 89 finished with value: 0.8971016193938832 and parameters: {'loss': 'huber', 'learning_rate': 0.35559284265383456, 'criterion': 'friedman_mse'}. Best is trial 36 with value: 0.9522412265715414.\u001b[0m\n",
            "\u001b[32m[I 2022-10-03 18:02:20,650]\u001b[0m Trial 90 finished with value: 0.9095894967046774 and parameters: {'loss': 'huber', 'learning_rate': 0.38896202049933987, 'criterion': 'friedman_mse'}. Best is trial 36 with value: 0.9522412265715414.\u001b[0m\n",
            "\u001b[32m[I 2022-10-03 18:02:20,703]\u001b[0m Trial 91 finished with value: 0.9137887011114366 and parameters: {'loss': 'squared_error', 'learning_rate': 0.2230523776733592, 'criterion': 'squared_error'}. Best is trial 36 with value: 0.9522412265715414.\u001b[0m\n",
            "\u001b[32m[I 2022-10-03 18:02:21,019]\u001b[0m Trial 92 finished with value: 0.9454417013569992 and parameters: {'loss': 'huber', 'learning_rate': 0.26667205867523325, 'criterion': 'friedman_mse'}. Best is trial 36 with value: 0.9522412265715414.\u001b[0m\n",
            "\u001b[32m[I 2022-10-03 18:02:21,300]\u001b[0m Trial 93 finished with value: 0.9088015400638264 and parameters: {'loss': 'huber', 'learning_rate': 0.2934412960828162, 'criterion': 'friedman_mse'}. Best is trial 36 with value: 0.9522412265715414.\u001b[0m\n",
            "\u001b[32m[I 2022-10-03 18:02:21,600]\u001b[0m Trial 94 finished with value: 0.9411570236120679 and parameters: {'loss': 'huber', 'learning_rate': 0.4587342823767025, 'criterion': 'friedman_mse'}. Best is trial 36 with value: 0.9522412265715414.\u001b[0m\n",
            "\u001b[32m[I 2022-10-03 18:02:21,892]\u001b[0m Trial 95 finished with value: 0.9496263937885323 and parameters: {'loss': 'huber', 'learning_rate': 0.26994471890921695, 'criterion': 'friedman_mse'}. Best is trial 36 with value: 0.9522412265715414.\u001b[0m\n",
            "\u001b[32m[I 2022-10-03 18:02:22,184]\u001b[0m Trial 96 finished with value: 0.9443285992647752 and parameters: {'loss': 'huber', 'learning_rate': 0.2804872079292016, 'criterion': 'friedman_mse'}. Best is trial 36 with value: 0.9522412265715414.\u001b[0m\n",
            "\u001b[32m[I 2022-10-03 18:02:22,482]\u001b[0m Trial 97 finished with value: 0.8956488830601611 and parameters: {'loss': 'huber', 'learning_rate': 0.6640512120446399, 'criterion': 'friedman_mse'}. Best is trial 36 with value: 0.9522412265715414.\u001b[0m\n",
            "\u001b[32m[I 2022-10-03 18:02:22,672]\u001b[0m Trial 98 finished with value: 0.800641846351229 and parameters: {'loss': 'absolute_error', 'learning_rate': 0.07404274126257282, 'criterion': 'friedman_mse'}. Best is trial 36 with value: 0.9522412265715414.\u001b[0m\n",
            "\u001b[32m[I 2022-10-03 18:02:22,976]\u001b[0m Trial 99 finished with value: 0.8966975301390147 and parameters: {'loss': 'huber', 'learning_rate': 0.23267139733410824, 'criterion': 'friedman_mse'}. Best is trial 36 with value: 0.9522412265715414.\u001b[0m\n",
            "2022/10/03 18:02:22 INFO mlflow.tracking.fluent: Experiment with name 'Gradient Boosting Regression' does not exist. Creating a new experiment.\n"
          ]
        },
        {
          "output_type": "stream",
          "name": "stdout",
          "text": [
            "Best trial: {'loss': 'huber', 'learning_rate': 0.2801361479692229, 'criterion': 'squared_error'}\n",
            "Best value: 0.9522412265715414\n"
          ]
        }
      ]
    },
    {
      "cell_type": "code",
      "source": [
        "best['learning_rate']\n",
        "print(best['loss'])"
      ],
      "metadata": {
        "id": "4OtntZQPjIV1",
        "colab": {
          "base_uri": "https://localhost:8080/"
        },
        "outputId": "5254e3e9-7e54-4515-ab99-90805b800dd6"
      },
      "execution_count": 93,
      "outputs": [
        {
          "output_type": "stream",
          "name": "stdout",
          "text": [
            "huber\n"
          ]
        }
      ]
    },
    {
      "cell_type": "code",
      "source": [
        "gbr = GradientBoostingRegressor(loss=best['loss'], learning_rate=best['learning_rate'], criterion=best['criterion'])\n",
        "\n",
        "gbr.fit(X_train, y_train)\n",
        "\n",
        "y_pred2 = gbr.predict(X_test)\n",
        "\n",
        "print('R2 score : %.2f' % r2_score(y_test, y_pred2))\n",
        "print('MSE: %.2f' % mean_squared_error(y_test, y_pred2))\n",
        "\n",
        "scores = cross_val_score(gbr, X, y, cv=5)\n",
        "\n",
        "print('Cross-validation scores: {}'.format(scores))"
      ],
      "metadata": {
        "id": "grxdrSJtKENJ",
        "colab": {
          "base_uri": "https://localhost:8080/"
        },
        "outputId": "1f049cda-6cef-4ebd-cd61-893c7f287082"
      },
      "execution_count": 94,
      "outputs": [
        {
          "output_type": "stream",
          "name": "stdout",
          "text": [
            "R2 score : 0.95\n",
            "MSE: 0.00\n",
            "Cross-validation scores: [0.85833324 0.78377199 0.97431537 0.87249681 0.8448878 ]\n"
          ]
        }
      ]
    },
    {
      "cell_type": "markdown",
      "source": [
        "As we can see. Optuna gathered new hyper-parameters and resulted in a higher R2 SCORE for our model."
      ],
      "metadata": {
        "id": "IRbP9WDY1Nq2"
      }
    },
    {
      "cell_type": "code",
      "source": [
        "score_gbr = r2_score(y_test, y_pred2)\n",
        "r2_scores_list['GradienBoostRegressor'] = score_gbr\n",
        "\n",
        "print(r2_scores_list)"
      ],
      "metadata": {
        "id": "T2m-h_TOdhy8",
        "colab": {
          "base_uri": "https://localhost:8080/"
        },
        "outputId": "93c5a467-c216-45cc-a4e5-a7f868fb8309"
      },
      "execution_count": 95,
      "outputs": [
        {
          "output_type": "stream",
          "name": "stdout",
          "text": [
            "{'LinearRegression': 0.8462446940301727, 'DecisionTreeRegressor': 0.8687963073260372, 'GradienBoostRegressor': 0.9472380943459017}\n"
          ]
        }
      ]
    },
    {
      "cell_type": "markdown",
      "source": [
        "Here, we have a Ada Boosting Regression Model (native/default)."
      ],
      "metadata": {
        "id": "s86Wdntn1kTq"
      }
    },
    {
      "cell_type": "code",
      "source": [
        "from sklearn.ensemble import AdaBoostRegressor\n",
        "\n",
        "abr = AdaBoostRegressor()\n",
        "\n",
        "abr.fit(X_train, y_train)\n",
        "\n",
        "y_pred3 = abr.predict(X_test)\n",
        "\n",
        "print('R2 score: %.2f' % r2_score(y_test, y_pred3))\n",
        "print('MSE: %.2f' % mean_squared_error(y_test, y_pred3))\n",
        "\n",
        "scores3 = cross_val_score(dtr, X, y, cv=5)\n",
        "print('Cross-validation scores: {}'.format(scores3))"
      ],
      "metadata": {
        "id": "z18yDIajO0Lq",
        "colab": {
          "base_uri": "https://localhost:8080/"
        },
        "outputId": "fb33c2cf-e35b-4dff-8e74-570e3c3a236a"
      },
      "execution_count": 96,
      "outputs": [
        {
          "output_type": "stream",
          "name": "stdout",
          "text": [
            "R2 score: 0.72\n",
            "MSE: 0.01\n",
            "Cross-validation scores: [0.82801289 0.76708187 0.91015035 0.85218815 0.84642629]\n"
          ]
        }
      ]
    },
    {
      "cell_type": "markdown",
      "source": [
        "Now, we apply the optuna framework in our Gradient Boosting Regression model, in order to select the best hyper-parameters."
      ],
      "metadata": {
        "id": "3nrntSr-1l6N"
      }
    },
    {
      "cell_type": "code",
      "source": [
        "def objective_abr(trial):\n",
        "  learning_rate = trial.suggest_uniform('learning_rate', 0.1, 1.0)\n",
        "  loss = trial.suggest_categorical('loss', ['linear', 'square', 'exponential'])\n",
        "\n",
        "  model = AdaBoostRegressor(learning_rate=learning_rate, loss=loss)\n",
        "\n",
        "  model.fit(X_train, y_train)\n",
        "\n",
        "  y_pred = model.predict(X_test)\n",
        "\n",
        "  score = r2_score(y_test, y_pred)\n",
        "\n",
        "  return score\n",
        "\n",
        "study = optuna.create_study(direction='maximize')\n",
        "study.optimize(objective_abr, n_trials=100)\n",
        "\n",
        "mlflow.set_experiment(\"AdaBoost Regression\")\n",
        "with mlflow.start_run():\n",
        "  mlflow.log_param(\"learning_rate\", study.best_params['learning_rate'])\n",
        "  mlflow.log_param(\"loss\", study.best_params['loss'])\n",
        "\n",
        "print(\"Best trial: {}\".format(study.best_params))\n",
        "print(\"Best value: {}\".format(study.best_value))\n",
        "\n",
        "best = study.best_params\n",
        "\n"
      ],
      "metadata": {
        "id": "5OXfCymPPhAD",
        "colab": {
          "base_uri": "https://localhost:8080/"
        },
        "outputId": "5b413816-9bfb-4ac2-f4bc-58dd4e94b700"
      },
      "execution_count": 97,
      "outputs": [
        {
          "output_type": "stream",
          "name": "stderr",
          "text": [
            "\u001b[32m[I 2022-10-03 18:02:26,801]\u001b[0m A new study created in memory with name: no-name-389d77bf-f2f2-4ca2-94a5-738d10c0a4e7\u001b[0m\n",
            "\u001b[32m[I 2022-10-03 18:02:26,890]\u001b[0m Trial 0 finished with value: 0.6836940296504503 and parameters: {'learning_rate': 0.1983015821003992, 'loss': 'exponential'}. Best is trial 0 with value: 0.6836940296504503.\u001b[0m\n",
            "\u001b[32m[I 2022-10-03 18:02:26,982]\u001b[0m Trial 1 finished with value: 0.7732391731449857 and parameters: {'learning_rate': 0.4283104845954372, 'loss': 'square'}. Best is trial 1 with value: 0.7732391731449857.\u001b[0m\n",
            "\u001b[32m[I 2022-10-03 18:02:27,059]\u001b[0m Trial 2 finished with value: 0.7071709751120637 and parameters: {'learning_rate': 0.5834175264814799, 'loss': 'linear'}. Best is trial 1 with value: 0.7732391731449857.\u001b[0m\n",
            "\u001b[32m[I 2022-10-03 18:02:27,133]\u001b[0m Trial 3 finished with value: 0.7223103143777851 and parameters: {'learning_rate': 0.6932370384930036, 'loss': 'square'}. Best is trial 1 with value: 0.7732391731449857.\u001b[0m\n",
            "\u001b[32m[I 2022-10-03 18:02:27,213]\u001b[0m Trial 4 finished with value: 0.7169093773995001 and parameters: {'learning_rate': 0.5586359265593406, 'loss': 'exponential'}. Best is trial 1 with value: 0.7732391731449857.\u001b[0m\n",
            "\u001b[32m[I 2022-10-03 18:02:27,302]\u001b[0m Trial 5 finished with value: 0.7254838379840711 and parameters: {'learning_rate': 0.8397277295612869, 'loss': 'exponential'}. Best is trial 1 with value: 0.7732391731449857.\u001b[0m\n",
            "\u001b[32m[I 2022-10-03 18:02:27,377]\u001b[0m Trial 6 finished with value: 0.6982965500872405 and parameters: {'learning_rate': 0.33886127435149804, 'loss': 'linear'}. Best is trial 1 with value: 0.7732391731449857.\u001b[0m\n",
            "\u001b[32m[I 2022-10-03 18:02:27,453]\u001b[0m Trial 7 finished with value: 0.7332694500985109 and parameters: {'learning_rate': 0.6166532580958188, 'loss': 'exponential'}. Best is trial 1 with value: 0.7732391731449857.\u001b[0m\n",
            "\u001b[32m[I 2022-10-03 18:02:27,526]\u001b[0m Trial 8 finished with value: 0.717250077269425 and parameters: {'learning_rate': 0.8667521365951665, 'loss': 'square'}. Best is trial 1 with value: 0.7732391731449857.\u001b[0m\n",
            "\u001b[32m[I 2022-10-03 18:02:27,605]\u001b[0m Trial 9 finished with value: 0.7631495233932621 and parameters: {'learning_rate': 0.9328812833578853, 'loss': 'square'}. Best is trial 1 with value: 0.7732391731449857.\u001b[0m\n",
            "\u001b[32m[I 2022-10-03 18:02:27,692]\u001b[0m Trial 10 finished with value: 0.7149307180524558 and parameters: {'learning_rate': 0.37039047777210504, 'loss': 'square'}. Best is trial 1 with value: 0.7732391731449857.\u001b[0m\n",
            "\u001b[32m[I 2022-10-03 18:02:27,776]\u001b[0m Trial 11 finished with value: 0.7295836325105441 and parameters: {'learning_rate': 0.9862803917746472, 'loss': 'square'}. Best is trial 1 with value: 0.7732391731449857.\u001b[0m\n",
            "\u001b[32m[I 2022-10-03 18:02:27,858]\u001b[0m Trial 12 finished with value: 0.6837772733756198 and parameters: {'learning_rate': 0.3957217583320318, 'loss': 'square'}. Best is trial 1 with value: 0.7732391731449857.\u001b[0m\n",
            "\u001b[32m[I 2022-10-03 18:02:27,950]\u001b[0m Trial 13 finished with value: 0.6879987549630471 and parameters: {'learning_rate': 0.11933332401816282, 'loss': 'square'}. Best is trial 1 with value: 0.7732391731449857.\u001b[0m\n",
            "\u001b[32m[I 2022-10-03 18:02:28,029]\u001b[0m Trial 14 finished with value: 0.7198145755052834 and parameters: {'learning_rate': 0.7515200067228649, 'loss': 'square'}. Best is trial 1 with value: 0.7732391731449857.\u001b[0m\n",
            "\u001b[32m[I 2022-10-03 18:02:28,111]\u001b[0m Trial 15 finished with value: 0.7091881445107743 and parameters: {'learning_rate': 0.4714120029353758, 'loss': 'square'}. Best is trial 1 with value: 0.7732391731449857.\u001b[0m\n",
            "\u001b[32m[I 2022-10-03 18:02:28,193]\u001b[0m Trial 16 finished with value: 0.7425794511224375 and parameters: {'learning_rate': 0.9838990605960685, 'loss': 'linear'}. Best is trial 1 with value: 0.7732391731449857.\u001b[0m\n",
            "\u001b[32m[I 2022-10-03 18:02:28,287]\u001b[0m Trial 17 finished with value: 0.7106827018534776 and parameters: {'learning_rate': 0.2721168981870482, 'loss': 'square'}. Best is trial 1 with value: 0.7732391731449857.\u001b[0m\n",
            "\u001b[32m[I 2022-10-03 18:02:28,369]\u001b[0m Trial 18 finished with value: 0.7034942205626589 and parameters: {'learning_rate': 0.46869757402419726, 'loss': 'square'}. Best is trial 1 with value: 0.7732391731449857.\u001b[0m\n",
            "\u001b[32m[I 2022-10-03 18:02:28,451]\u001b[0m Trial 19 finished with value: 0.7386373250086504 and parameters: {'learning_rate': 0.6772936120063003, 'loss': 'linear'}. Best is trial 1 with value: 0.7732391731449857.\u001b[0m\n",
            "\u001b[32m[I 2022-10-03 18:02:28,532]\u001b[0m Trial 20 finished with value: 0.7736479918362025 and parameters: {'learning_rate': 0.829269938768674, 'loss': 'square'}. Best is trial 20 with value: 0.7736479918362025.\u001b[0m\n",
            "\u001b[32m[I 2022-10-03 18:02:28,610]\u001b[0m Trial 21 finished with value: 0.7968181630061879 and parameters: {'learning_rate': 0.8700363925335529, 'loss': 'square'}. Best is trial 21 with value: 0.7968181630061879.\u001b[0m\n",
            "\u001b[32m[I 2022-10-03 18:02:28,691]\u001b[0m Trial 22 finished with value: 0.7261440399301128 and parameters: {'learning_rate': 0.8053061310920379, 'loss': 'square'}. Best is trial 21 with value: 0.7968181630061879.\u001b[0m\n",
            "\u001b[32m[I 2022-10-03 18:02:28,769]\u001b[0m Trial 23 finished with value: 0.7913743679749539 and parameters: {'learning_rate': 0.8917419053020115, 'loss': 'square'}. Best is trial 21 with value: 0.7968181630061879.\u001b[0m\n",
            "\u001b[32m[I 2022-10-03 18:02:28,847]\u001b[0m Trial 24 finished with value: 0.7252639763711809 and parameters: {'learning_rate': 0.8909313879147907, 'loss': 'square'}. Best is trial 21 with value: 0.7968181630061879.\u001b[0m\n",
            "\u001b[32m[I 2022-10-03 18:02:28,947]\u001b[0m Trial 25 finished with value: 0.7669536554428575 and parameters: {'learning_rate': 0.7720437368628019, 'loss': 'square'}. Best is trial 21 with value: 0.7968181630061879.\u001b[0m\n",
            "\u001b[32m[I 2022-10-03 18:02:29,029]\u001b[0m Trial 26 finished with value: 0.7688148547645977 and parameters: {'learning_rate': 0.9166589878246001, 'loss': 'square'}. Best is trial 21 with value: 0.7968181630061879.\u001b[0m\n",
            "\u001b[32m[I 2022-10-03 18:02:29,112]\u001b[0m Trial 27 finished with value: 0.7163121934755002 and parameters: {'learning_rate': 0.6994104300576194, 'loss': 'square'}. Best is trial 21 with value: 0.7968181630061879.\u001b[0m\n",
            "\u001b[32m[I 2022-10-03 18:02:29,196]\u001b[0m Trial 28 finished with value: 0.6908250506465496 and parameters: {'learning_rate': 0.7950620758628243, 'loss': 'linear'}. Best is trial 21 with value: 0.7968181630061879.\u001b[0m\n",
            "\u001b[32m[I 2022-10-03 18:02:29,275]\u001b[0m Trial 29 finished with value: 0.7332780295704568 and parameters: {'learning_rate': 0.9383719014932181, 'loss': 'exponential'}. Best is trial 21 with value: 0.7968181630061879.\u001b[0m\n",
            "\u001b[32m[I 2022-10-03 18:02:29,359]\u001b[0m Trial 30 finished with value: 0.7596742229567377 and parameters: {'learning_rate': 0.8443079897705921, 'loss': 'exponential'}. Best is trial 21 with value: 0.7968181630061879.\u001b[0m\n",
            "\u001b[32m[I 2022-10-03 18:02:29,437]\u001b[0m Trial 31 finished with value: 0.7083745128964993 and parameters: {'learning_rate': 0.47228791736720216, 'loss': 'square'}. Best is trial 21 with value: 0.7968181630061879.\u001b[0m\n",
            "\u001b[32m[I 2022-10-03 18:02:29,520]\u001b[0m Trial 32 finished with value: 0.6960501053696277 and parameters: {'learning_rate': 0.2716991554252739, 'loss': 'square'}. Best is trial 21 with value: 0.7968181630061879.\u001b[0m\n",
            "\u001b[32m[I 2022-10-03 18:02:29,603]\u001b[0m Trial 33 finished with value: 0.7610059651248222 and parameters: {'learning_rate': 0.6165023995551493, 'loss': 'square'}. Best is trial 21 with value: 0.7968181630061879.\u001b[0m\n",
            "\u001b[32m[I 2022-10-03 18:02:29,685]\u001b[0m Trial 34 finished with value: 0.7704367244642623 and parameters: {'learning_rate': 0.7224372706327783, 'loss': 'square'}. Best is trial 21 with value: 0.7968181630061879.\u001b[0m\n",
            "\u001b[32m[I 2022-10-03 18:02:29,765]\u001b[0m Trial 35 finished with value: 0.7099970958533235 and parameters: {'learning_rate': 0.8128059881677228, 'loss': 'square'}. Best is trial 21 with value: 0.7968181630061879.\u001b[0m\n",
            "\u001b[32m[I 2022-10-03 18:02:29,846]\u001b[0m Trial 36 finished with value: 0.7214443014249905 and parameters: {'learning_rate': 0.5193762836874674, 'loss': 'linear'}. Best is trial 21 with value: 0.7968181630061879.\u001b[0m\n",
            "\u001b[32m[I 2022-10-03 18:02:29,932]\u001b[0m Trial 37 finished with value: 0.712763368808859 and parameters: {'learning_rate': 0.6179693272609782, 'loss': 'exponential'}. Best is trial 21 with value: 0.7968181630061879.\u001b[0m\n",
            "\u001b[32m[I 2022-10-03 18:02:30,021]\u001b[0m Trial 38 finished with value: 0.7502024575738061 and parameters: {'learning_rate': 0.8899281119037966, 'loss': 'square'}. Best is trial 21 with value: 0.7968181630061879.\u001b[0m\n",
            "\u001b[32m[I 2022-10-03 18:02:30,118]\u001b[0m Trial 39 finished with value: 0.7463941210061088 and parameters: {'learning_rate': 0.5337524122405896, 'loss': 'square'}. Best is trial 21 with value: 0.7968181630061879.\u001b[0m\n",
            "\u001b[32m[I 2022-10-03 18:02:30,203]\u001b[0m Trial 40 finished with value: 0.7481649029832877 and parameters: {'learning_rate': 0.9652395091257205, 'loss': 'exponential'}. Best is trial 21 with value: 0.7968181630061879.\u001b[0m\n",
            "\u001b[32m[I 2022-10-03 18:02:30,293]\u001b[0m Trial 41 finished with value: 0.6974041062873555 and parameters: {'learning_rate': 0.7351573650759607, 'loss': 'square'}. Best is trial 21 with value: 0.7968181630061879.\u001b[0m\n",
            "\u001b[32m[I 2022-10-03 18:02:30,385]\u001b[0m Trial 42 finished with value: 0.7147974266627668 and parameters: {'learning_rate': 0.8535877009704657, 'loss': 'square'}. Best is trial 21 with value: 0.7968181630061879.\u001b[0m\n",
            "\u001b[32m[I 2022-10-03 18:02:30,474]\u001b[0m Trial 43 finished with value: 0.7467400351885786 and parameters: {'learning_rate': 0.6802226048358426, 'loss': 'square'}. Best is trial 21 with value: 0.7968181630061879.\u001b[0m\n",
            "\u001b[32m[I 2022-10-03 18:02:30,557]\u001b[0m Trial 44 finished with value: 0.7585145421528867 and parameters: {'learning_rate': 0.8953160319807646, 'loss': 'square'}. Best is trial 21 with value: 0.7968181630061879.\u001b[0m\n",
            "\u001b[32m[I 2022-10-03 18:02:30,640]\u001b[0m Trial 45 finished with value: 0.761636559873522 and parameters: {'learning_rate': 0.7405249032610604, 'loss': 'square'}. Best is trial 21 with value: 0.7968181630061879.\u001b[0m\n",
            "\u001b[32m[I 2022-10-03 18:02:30,735]\u001b[0m Trial 46 finished with value: 0.6933953718385288 and parameters: {'learning_rate': 0.8194709695249348, 'loss': 'square'}. Best is trial 21 with value: 0.7968181630061879.\u001b[0m\n",
            "\u001b[32m[I 2022-10-03 18:02:30,815]\u001b[0m Trial 47 finished with value: 0.7124945203456968 and parameters: {'learning_rate': 0.4090054912638905, 'loss': 'square'}. Best is trial 21 with value: 0.7968181630061879.\u001b[0m\n",
            "\u001b[32m[I 2022-10-03 18:02:30,895]\u001b[0m Trial 48 finished with value: 0.7346217300190051 and parameters: {'learning_rate': 0.9463253654221636, 'loss': 'linear'}. Best is trial 21 with value: 0.7968181630061879.\u001b[0m\n",
            "\u001b[32m[I 2022-10-03 18:02:30,981]\u001b[0m Trial 49 finished with value: 0.747819397370044 and parameters: {'learning_rate': 0.7169159285048121, 'loss': 'square'}. Best is trial 21 with value: 0.7968181630061879.\u001b[0m\n",
            "\u001b[32m[I 2022-10-03 18:02:31,060]\u001b[0m Trial 50 finished with value: 0.701734949798444 and parameters: {'learning_rate': 0.6510079428351955, 'loss': 'square'}. Best is trial 21 with value: 0.7968181630061879.\u001b[0m\n",
            "\u001b[32m[I 2022-10-03 18:02:31,142]\u001b[0m Trial 51 finished with value: 0.7443713908591303 and parameters: {'learning_rate': 0.89602378190257, 'loss': 'square'}. Best is trial 21 with value: 0.7968181630061879.\u001b[0m\n",
            "\u001b[32m[I 2022-10-03 18:02:31,225]\u001b[0m Trial 52 finished with value: 0.706113936682055 and parameters: {'learning_rate': 0.9243221744343997, 'loss': 'square'}. Best is trial 21 with value: 0.7968181630061879.\u001b[0m\n",
            "\u001b[32m[I 2022-10-03 18:02:31,302]\u001b[0m Trial 53 finished with value: 0.7305115056565712 and parameters: {'learning_rate': 0.9876966820678228, 'loss': 'square'}. Best is trial 21 with value: 0.7968181630061879.\u001b[0m\n",
            "\u001b[32m[I 2022-10-03 18:02:31,392]\u001b[0m Trial 54 finished with value: 0.7412336651030841 and parameters: {'learning_rate': 0.7785359634078152, 'loss': 'square'}. Best is trial 21 with value: 0.7968181630061879.\u001b[0m\n",
            "\u001b[32m[I 2022-10-03 18:02:31,469]\u001b[0m Trial 55 finished with value: 0.801484609222773 and parameters: {'learning_rate': 0.8654140704327042, 'loss': 'square'}. Best is trial 55 with value: 0.801484609222773.\u001b[0m\n",
            "\u001b[32m[I 2022-10-03 18:02:31,548]\u001b[0m Trial 56 finished with value: 0.7687601579956842 and parameters: {'learning_rate': 0.8329235120069383, 'loss': 'square'}. Best is trial 55 with value: 0.801484609222773.\u001b[0m\n",
            "\u001b[32m[I 2022-10-03 18:02:31,633]\u001b[0m Trial 57 finished with value: 0.7487173880084972 and parameters: {'learning_rate': 0.8644413870378939, 'loss': 'square'}. Best is trial 55 with value: 0.801484609222773.\u001b[0m\n",
            "\u001b[32m[I 2022-10-03 18:02:31,716]\u001b[0m Trial 58 finished with value: 0.6435216755313953 and parameters: {'learning_rate': 0.3060213232443374, 'loss': 'linear'}. Best is trial 55 with value: 0.801484609222773.\u001b[0m\n",
            "\u001b[32m[I 2022-10-03 18:02:31,798]\u001b[0m Trial 59 finished with value: 0.7468367880919882 and parameters: {'learning_rate': 0.5712643993611887, 'loss': 'exponential'}. Best is trial 55 with value: 0.801484609222773.\u001b[0m\n",
            "\u001b[32m[I 2022-10-03 18:02:31,878]\u001b[0m Trial 60 finished with value: 0.6990421997541965 and parameters: {'learning_rate': 0.43049786611587043, 'loss': 'square'}. Best is trial 55 with value: 0.801484609222773.\u001b[0m\n",
            "\u001b[32m[I 2022-10-03 18:02:31,969]\u001b[0m Trial 61 finished with value: 0.7251494093167118 and parameters: {'learning_rate': 0.9040588291891993, 'loss': 'square'}. Best is trial 55 with value: 0.801484609222773.\u001b[0m\n",
            "\u001b[32m[I 2022-10-03 18:02:32,066]\u001b[0m Trial 62 finished with value: 0.7450855070919639 and parameters: {'learning_rate': 0.7709586344267166, 'loss': 'square'}. Best is trial 55 with value: 0.801484609222773.\u001b[0m\n",
            "\u001b[32m[I 2022-10-03 18:02:32,147]\u001b[0m Trial 63 finished with value: 0.7419839932915654 and parameters: {'learning_rate': 0.867791581881251, 'loss': 'square'}. Best is trial 55 with value: 0.801484609222773.\u001b[0m\n",
            "\u001b[32m[I 2022-10-03 18:02:32,227]\u001b[0m Trial 64 finished with value: 0.7751723740191443 and parameters: {'learning_rate': 0.8220569075775676, 'loss': 'square'}. Best is trial 55 with value: 0.801484609222773.\u001b[0m\n",
            "\u001b[32m[I 2022-10-03 18:02:32,310]\u001b[0m Trial 65 finished with value: 0.702207998114529 and parameters: {'learning_rate': 0.7925132714917051, 'loss': 'square'}. Best is trial 55 with value: 0.801484609222773.\u001b[0m\n",
            "\u001b[32m[I 2022-10-03 18:02:32,392]\u001b[0m Trial 66 finished with value: 0.7873571202380694 and parameters: {'learning_rate': 0.8346197653384595, 'loss': 'square'}. Best is trial 55 with value: 0.801484609222773.\u001b[0m\n",
            "\u001b[32m[I 2022-10-03 18:02:32,472]\u001b[0m Trial 67 finished with value: 0.6866605924229232 and parameters: {'learning_rate': 0.14557746301741192, 'loss': 'square'}. Best is trial 55 with value: 0.801484609222773.\u001b[0m\n",
            "\u001b[32m[I 2022-10-03 18:02:32,558]\u001b[0m Trial 68 finished with value: 0.7496766610204764 and parameters: {'learning_rate': 0.9651815790228897, 'loss': 'square'}. Best is trial 55 with value: 0.801484609222773.\u001b[0m\n",
            "\u001b[32m[I 2022-10-03 18:02:32,640]\u001b[0m Trial 69 finished with value: 0.7554349635590685 and parameters: {'learning_rate': 0.8284842411300302, 'loss': 'square'}. Best is trial 55 with value: 0.801484609222773.\u001b[0m\n",
            "\u001b[32m[I 2022-10-03 18:02:32,725]\u001b[0m Trial 70 finished with value: 0.7781438722561189 and parameters: {'learning_rate': 0.8714892680585411, 'loss': 'linear'}. Best is trial 55 with value: 0.801484609222773.\u001b[0m\n",
            "\u001b[32m[I 2022-10-03 18:02:32,808]\u001b[0m Trial 71 finished with value: 0.717694598599896 and parameters: {'learning_rate': 0.8732477447634768, 'loss': 'linear'}. Best is trial 55 with value: 0.801484609222773.\u001b[0m\n",
            "\u001b[32m[I 2022-10-03 18:02:32,895]\u001b[0m Trial 72 finished with value: 0.7311811836479715 and parameters: {'learning_rate': 0.7577064777935094, 'loss': 'linear'}. Best is trial 55 with value: 0.801484609222773.\u001b[0m\n",
            "\u001b[32m[I 2022-10-03 18:02:32,974]\u001b[0m Trial 73 finished with value: 0.7365307636190264 and parameters: {'learning_rate': 0.9259547936575564, 'loss': 'linear'}. Best is trial 55 with value: 0.801484609222773.\u001b[0m\n",
            "\u001b[32m[I 2022-10-03 18:02:33,061]\u001b[0m Trial 74 finished with value: 0.7537110235524416 and parameters: {'learning_rate': 0.8457461664210941, 'loss': 'linear'}. Best is trial 55 with value: 0.801484609222773.\u001b[0m\n",
            "\u001b[32m[I 2022-10-03 18:02:33,146]\u001b[0m Trial 75 finished with value: 0.7558274075031218 and parameters: {'learning_rate': 0.8163148909749707, 'loss': 'exponential'}. Best is trial 55 with value: 0.801484609222773.\u001b[0m\n",
            "\u001b[32m[I 2022-10-03 18:02:33,226]\u001b[0m Trial 76 finished with value: 0.7085023298295813 and parameters: {'learning_rate': 0.8757904783706348, 'loss': 'linear'}. Best is trial 55 with value: 0.801484609222773.\u001b[0m\n",
            "\u001b[32m[I 2022-10-03 18:02:33,304]\u001b[0m Trial 77 finished with value: 0.7073188910578009 and parameters: {'learning_rate': 0.49724744606877835, 'loss': 'square'}. Best is trial 55 with value: 0.801484609222773.\u001b[0m\n",
            "\u001b[32m[I 2022-10-03 18:02:33,382]\u001b[0m Trial 78 finished with value: 0.769533061673136 and parameters: {'learning_rate': 0.9678161945131812, 'loss': 'square'}. Best is trial 55 with value: 0.801484609222773.\u001b[0m\n",
            "\u001b[32m[I 2022-10-03 18:02:33,467]\u001b[0m Trial 79 finished with value: 0.693482268074794 and parameters: {'learning_rate': 0.3686651571141819, 'loss': 'square'}. Best is trial 55 with value: 0.801484609222773.\u001b[0m\n",
            "\u001b[32m[I 2022-10-03 18:02:33,545]\u001b[0m Trial 80 finished with value: 0.7413265656119763 and parameters: {'learning_rate': 0.8028741635283079, 'loss': 'square'}. Best is trial 55 with value: 0.801484609222773.\u001b[0m\n",
            "\u001b[32m[I 2022-10-03 18:02:33,622]\u001b[0m Trial 81 finished with value: 0.7241241744636102 and parameters: {'learning_rate': 0.8431104158030784, 'loss': 'square'}. Best is trial 55 with value: 0.801484609222773.\u001b[0m\n",
            "\u001b[32m[I 2022-10-03 18:02:33,700]\u001b[0m Trial 82 finished with value: 0.7367441078926881 and parameters: {'learning_rate': 0.9413001505334223, 'loss': 'square'}. Best is trial 55 with value: 0.801484609222773.\u001b[0m\n",
            "\u001b[32m[I 2022-10-03 18:02:33,780]\u001b[0m Trial 83 finished with value: 0.6950403159950933 and parameters: {'learning_rate': 0.9081011469028912, 'loss': 'square'}. Best is trial 55 with value: 0.801484609222773.\u001b[0m\n",
            "\u001b[32m[I 2022-10-03 18:02:33,861]\u001b[0m Trial 84 finished with value: 0.6885347065626661 and parameters: {'learning_rate': 0.7251715167805621, 'loss': 'square'}. Best is trial 55 with value: 0.801484609222773.\u001b[0m\n",
            "\u001b[32m[I 2022-10-03 18:02:33,942]\u001b[0m Trial 85 finished with value: 0.7530402140488796 and parameters: {'learning_rate': 0.7930645156956374, 'loss': 'square'}. Best is trial 55 with value: 0.801484609222773.\u001b[0m\n",
            "\u001b[32m[I 2022-10-03 18:02:34,021]\u001b[0m Trial 86 finished with value: 0.7710196287938177 and parameters: {'learning_rate': 0.886605072558024, 'loss': 'square'}. Best is trial 55 with value: 0.801484609222773.\u001b[0m\n",
            "\u001b[32m[I 2022-10-03 18:02:34,117]\u001b[0m Trial 87 finished with value: 0.7169793197438132 and parameters: {'learning_rate': 0.8794597519669528, 'loss': 'linear'}. Best is trial 55 with value: 0.801484609222773.\u001b[0m\n",
            "\u001b[32m[I 2022-10-03 18:02:34,202]\u001b[0m Trial 88 finished with value: 0.7167982903106156 and parameters: {'learning_rate': 0.8561157231304732, 'loss': 'square'}. Best is trial 55 with value: 0.801484609222773.\u001b[0m\n",
            "\u001b[32m[I 2022-10-03 18:02:34,285]\u001b[0m Trial 89 finished with value: 0.7446754502927935 and parameters: {'learning_rate': 0.9952045722765702, 'loss': 'exponential'}. Best is trial 55 with value: 0.801484609222773.\u001b[0m\n",
            "\u001b[32m[I 2022-10-03 18:02:34,373]\u001b[0m Trial 90 finished with value: 0.7515209849507103 and parameters: {'learning_rate': 0.23277301968950737, 'loss': 'square'}. Best is trial 55 with value: 0.801484609222773.\u001b[0m\n",
            "\u001b[32m[I 2022-10-03 18:02:34,456]\u001b[0m Trial 91 finished with value: 0.7490324672678921 and parameters: {'learning_rate': 0.8279691219551978, 'loss': 'square'}. Best is trial 55 with value: 0.801484609222773.\u001b[0m\n",
            "\u001b[32m[I 2022-10-03 18:02:34,536]\u001b[0m Trial 92 finished with value: 0.7422069904846056 and parameters: {'learning_rate': 0.9174468650779046, 'loss': 'square'}. Best is trial 55 with value: 0.801484609222773.\u001b[0m\n",
            "\u001b[32m[I 2022-10-03 18:02:34,615]\u001b[0m Trial 93 finished with value: 0.7055559215277494 and parameters: {'learning_rate': 0.8955155130163581, 'loss': 'square'}. Best is trial 55 with value: 0.801484609222773.\u001b[0m\n",
            "\u001b[32m[I 2022-10-03 18:02:34,695]\u001b[0m Trial 94 finished with value: 0.727163187898201 and parameters: {'learning_rate': 0.7633434844359697, 'loss': 'square'}. Best is trial 55 with value: 0.801484609222773.\u001b[0m\n",
            "\u001b[32m[I 2022-10-03 18:02:34,774]\u001b[0m Trial 95 finished with value: 0.7715279758215356 and parameters: {'learning_rate': 0.9552997072076923, 'loss': 'square'}. Best is trial 55 with value: 0.801484609222773.\u001b[0m\n",
            "\u001b[32m[I 2022-10-03 18:02:34,863]\u001b[0m Trial 96 finished with value: 0.7152716448904131 and parameters: {'learning_rate': 0.9537043438445254, 'loss': 'square'}. Best is trial 55 with value: 0.801484609222773.\u001b[0m\n",
            "\u001b[32m[I 2022-10-03 18:02:34,943]\u001b[0m Trial 97 finished with value: 0.7029619050992197 and parameters: {'learning_rate': 0.9344742314383225, 'loss': 'square'}. Best is trial 55 with value: 0.801484609222773.\u001b[0m\n",
            "\u001b[32m[I 2022-10-03 18:02:35,023]\u001b[0m Trial 98 finished with value: 0.7227792683471559 and parameters: {'learning_rate': 0.8520602556713534, 'loss': 'square'}. Best is trial 55 with value: 0.801484609222773.\u001b[0m\n",
            "\u001b[32m[I 2022-10-03 18:02:35,112]\u001b[0m Trial 99 finished with value: 0.7321495283265124 and parameters: {'learning_rate': 0.883812465930042, 'loss': 'square'}. Best is trial 55 with value: 0.801484609222773.\u001b[0m\n",
            "2022/10/03 18:02:35 INFO mlflow.tracking.fluent: Experiment with name 'AdaBoost Regression' does not exist. Creating a new experiment.\n"
          ]
        },
        {
          "output_type": "stream",
          "name": "stdout",
          "text": [
            "Best trial: {'learning_rate': 0.8654140704327042, 'loss': 'square'}\n",
            "Best value: 0.801484609222773\n"
          ]
        }
      ]
    },
    {
      "cell_type": "code",
      "source": [
        "abr = AdaBoostRegressor(learning_rate=best['learning_rate'], loss=best['loss'])\n",
        "\n",
        "abr.fit(X_train, y_train)\n",
        "\n",
        "y_pred3 = abr.predict(X_test)\n",
        "\n",
        "print('R2 score: %.2f' % r2_score(y_test, y_pred3))\n",
        "print('MSE: %.2f' % mean_squared_error(y_test, y_pred3))\n",
        "\n",
        "scores = cross_val_score(abr, X, y, cv=5)\n",
        "\n",
        "print('Cross-validation scores: {}'.format(scores))"
      ],
      "metadata": {
        "id": "gDFqMjv6SmEj",
        "colab": {
          "base_uri": "https://localhost:8080/"
        },
        "outputId": "ee244428-3c75-4c9e-a74c-84a2aa185c5b"
      },
      "execution_count": 98,
      "outputs": [
        {
          "output_type": "stream",
          "name": "stdout",
          "text": [
            "R2 score: 0.78\n",
            "MSE: 0.01\n",
            "Cross-validation scores: [0.68248495 0.41782197 0.77777863 0.76788791 0.83020351]\n"
          ]
        }
      ]
    },
    {
      "cell_type": "markdown",
      "source": [
        "As we can see. Optuna gathered new hyper-parameters and resulted in a higher R2 SCORE for our model."
      ],
      "metadata": {
        "id": "OPyzCG8f1wYa"
      }
    },
    {
      "cell_type": "code",
      "source": [
        "score_abr = r2_score(y_test, y_pred3)\n",
        "r2_scores_list['AdaBoostRegressor'] = score_abr\n",
        "\n",
        "print(r2_scores_list)"
      ],
      "metadata": {
        "id": "sYPvYDiadnaH",
        "colab": {
          "base_uri": "https://localhost:8080/"
        },
        "outputId": "8dc506bf-3a9d-4a8a-f808-073def8567e0"
      },
      "execution_count": 99,
      "outputs": [
        {
          "output_type": "stream",
          "name": "stdout",
          "text": [
            "{'LinearRegression': 0.8462446940301727, 'DecisionTreeRegressor': 0.8687963073260372, 'GradienBoostRegressor': 0.9472380943459017, 'AdaBoostRegressor': 0.7784119183760005}\n"
          ]
        }
      ]
    },
    {
      "cell_type": "markdown",
      "source": [
        "Here, we have our best model (according to the R2 SCORE metric and to OPTUNA evaluation for different hyper-parameters)."
      ],
      "metadata": {
        "id": "HmXhmeE64Rgl"
      }
    },
    {
      "cell_type": "code",
      "source": [
        "best_model = max(r2_scores_list, key=r2_scores_list.get)\n",
        "\n",
        "print(best_model)\n",
        "\n",
        "r2_scores_list[best_model]"
      ],
      "metadata": {
        "id": "ENsbbR7kgIZL",
        "colab": {
          "base_uri": "https://localhost:8080/"
        },
        "outputId": "f509b6cd-f207-4e7e-bee0-0992813da850"
      },
      "execution_count": 100,
      "outputs": [
        {
          "output_type": "stream",
          "name": "stdout",
          "text": [
            "GradienBoostRegressor\n"
          ]
        },
        {
          "output_type": "execute_result",
          "data": {
            "text/plain": [
              "0.9472380943459017"
            ]
          },
          "metadata": {},
          "execution_count": 100
        }
      ]
    },
    {
      "cell_type": "markdown",
      "source": [
        "We also made a comparison regarding each model quality."
      ],
      "metadata": {
        "id": "yPsM1czi46u5"
      }
    },
    {
      "cell_type": "code",
      "source": [
        "from sklearn.model_selection import KFold\n",
        "\n",
        "models = []\n",
        "models.append(('Linear Regression', lr))\n",
        "models.append(('DecisionTreeRegressor', dtr))\n",
        "models.append(('GradientBoostRegressor', gbr))\n",
        "models.append(('AdaBoostRegressor', abr))\n",
        "\n",
        "results = []\n",
        "names = []\n",
        "\n",
        "# from r2_score to compare the models\n",
        "for name, model in models:\n",
        "    kfold = KFold(n_splits=10, random_state=42, shuffle=True)\n",
        "    cv_results = cross_val_score(model, X, y, cv=kfold, scoring='r2')\n",
        "    results.append(cv_results)\n",
        "    names.append(name)\n",
        "    msg = \"%s: %f (%f)\" % (name, cv_results.mean(), cv_results.std())\n",
        "    print(msg)\n",
        "\n",
        "# Compare the models\n",
        "fig = plt.figure()\n",
        "fig.suptitle('Algorithm Comparison')\n",
        "ax = fig.add_subplot(111)\n",
        "plt.boxplot(results)\n",
        "ax.set_xticklabels(names)\n",
        "plt.xticks(rotation=45)\n",
        "plt.show()"
      ],
      "metadata": {
        "id": "oD3c4NSrlR6x",
        "colab": {
          "base_uri": "https://localhost:8080/",
          "height": 446
        },
        "outputId": "2b4e046b-95c0-427b-ecdf-fa11c949013c"
      },
      "execution_count": 101,
      "outputs": [
        {
          "output_type": "stream",
          "name": "stdout",
          "text": [
            "Linear Regression: 0.670058 (0.149289)\n",
            "DecisionTreeRegressor: 0.899471 (0.145946)\n",
            "GradientBoostRegressor: 0.909184 (0.090300)\n",
            "AdaBoostRegressor: 0.738018 (0.199539)\n"
          ]
        },
        {
          "output_type": "display_data",
          "data": {
            "text/plain": [
              "<Figure size 432x288 with 1 Axes>"
            ],
            "image/png": "[encoded data removed]"
          },
          "metadata": {
            "needs_background": "light"
          }
        }
      ]
    },
    {
      "cell_type": "markdown",
      "source": [
        "In order to get a Disagnostic regarding our best model's performance, we need to analyse it regarding the training set and the test set. "
      ],
      "metadata": {
        "id": "4QicvAOR5aSp"
      }
    },
    {
      "cell_type": "code",
      "source": [
        "# Our Best Model\n",
        "print(best_model)"
      ],
      "metadata": {
        "colab": {
          "base_uri": "https://localhost:8080/"
        },
        "id": "U9UFaMLy7UJL",
        "outputId": "a4679faf-62c7-42f7-b023-275cac1f1fc5"
      },
      "execution_count": 102,
      "outputs": [
        {
          "output_type": "stream",
          "name": "stdout",
          "text": [
            "GradienBoostRegressor\n"
          ]
        }
      ]
    },
    {
      "cell_type": "code",
      "source": [
        "# Related to best model training set\n",
        "def objective_gbr_for_train(trial):\n",
        "  loss = trial.suggest_categorical('loss', ['squared_error', 'absolute_error', 'huber', 'quantile'])\n",
        "  learning_rate = trial.suggest_uniform('learning_rate', 0.01, 1.0)\n",
        "  criterion = trial.suggest_categorical('criterion', ['friedman_mse', 'squared_error'])\n",
        "\n",
        "  model = GradientBoostingRegressor(loss=loss, learning_rate=learning_rate, criterion=criterion)\n",
        "\n",
        "  model.fit(X_train, y_train)\n",
        "\n",
        "  y_pred = model.predict(X_train)\n",
        "\n",
        "  score = r2_score(y_train, y_pred)\n",
        "\n",
        "  return score\n",
        "\n",
        "study = optuna.create_study(direction='maximize')\n",
        "study.optimize(objective_gbr_for_train, n_trials=100)\n",
        "\n",
        "mlflow.set_experiment(\"Gradient Boosting Regression\")\n",
        "with mlflow.start_run():\n",
        "   mlflow.log_param(\"loss\", study.best_params['loss'])\n",
        "   mlflow.log_param(\"learning_rate\", study.best_params['learning_rate'])\n",
        "   mlflow.log_param(\"criterion\", study.best_params['criterion'])\n",
        "   mlflow.log_metric(\"r2_score\", study.best_value)\n",
        "   mlflow.sklearn.log_model(gbr, \"model\")\n",
        "\n",
        "print(\"Best trial: {}\".format(study.best_params))\n",
        "\n",
        "best = study.best_params\n",
        "\n",
        "print(\"Best value: {}\".format(study.best_value))"
      ],
      "metadata": {
        "colab": {
          "base_uri": "https://localhost:8080/"
        },
        "id": "BXHcQd0V5Zvu",
        "outputId": "ff98040f-6b85-401a-ce3e-2db1e5c0b82a"
      },
      "execution_count": 103,
      "outputs": [
        {
          "output_type": "stream",
          "name": "stderr",
          "text": [
            "\u001b[32m[I 2022-10-03 18:02:39,562]\u001b[0m A new study created in memory with name: no-name-65164c2f-53db-4356-bdb7-29d43c13592b\u001b[0m\n",
            "\u001b[32m[I 2022-10-03 18:02:39,767]\u001b[0m Trial 0 finished with value: 0.08484800097996426 and parameters: {'loss': 'quantile', 'learning_rate': 0.013445786524922839, 'criterion': 'friedman_mse'}. Best is trial 0 with value: 0.08484800097996426.\u001b[0m\n",
            "\u001b[32m[I 2022-10-03 18:02:39,954]\u001b[0m Trial 1 finished with value: 0.9933400681212651 and parameters: {'loss': 'absolute_error', 'learning_rate': 0.9982894588836029, 'criterion': 'friedman_mse'}. Best is trial 1 with value: 0.9933400681212651.\u001b[0m\n",
            "\u001b[32m[I 2022-10-03 18:02:39,995]\u001b[0m Trial 2 finished with value: 0.9999986966653455 and parameters: {'loss': 'squared_error', 'learning_rate': 0.4965004135311429, 'criterion': 'friedman_mse'}. Best is trial 2 with value: 0.9999986966653455.\u001b[0m\n",
            "\u001b[32m[I 2022-10-03 18:02:40,306]\u001b[0m Trial 3 finished with value: 0.9997887710746283 and parameters: {'loss': 'huber', 'learning_rate': 0.9057238169223836, 'criterion': 'friedman_mse'}. Best is trial 2 with value: 0.9999986966653455.\u001b[0m\n",
            "\u001b[32m[I 2022-10-03 18:02:40,579]\u001b[0m Trial 4 finished with value: 0.9973764682076736 and parameters: {'loss': 'huber', 'learning_rate': 0.15078842866819225, 'criterion': 'friedman_mse'}. Best is trial 2 with value: 0.9999986966653455.\u001b[0m\n",
            "\u001b[32m[I 2022-10-03 18:02:40,771]\u001b[0m Trial 5 finished with value: 0.9518372284907972 and parameters: {'loss': 'quantile', 'learning_rate': 0.6773028890345418, 'criterion': 'squared_error'}. Best is trial 2 with value: 0.9999986966653455.\u001b[0m\n",
            "\u001b[32m[I 2022-10-03 18:02:40,812]\u001b[0m Trial 6 finished with value: 0.9993961349879004 and parameters: {'loss': 'squared_error', 'learning_rate': 0.08482001167488695, 'criterion': 'friedman_mse'}. Best is trial 2 with value: 0.9999986966653455.\u001b[0m\n",
            "\u001b[32m[I 2022-10-03 18:02:40,853]\u001b[0m Trial 7 finished with value: 0.9999999975517211 and parameters: {'loss': 'squared_error', 'learning_rate': 0.9237606867690985, 'criterion': 'squared_error'}. Best is trial 7 with value: 0.9999999975517211.\u001b[0m\n",
            "\u001b[32m[I 2022-10-03 18:02:41,087]\u001b[0m Trial 8 finished with value: 0.9382831618567968 and parameters: {'loss': 'quantile', 'learning_rate': 0.252857174804391, 'criterion': 'squared_error'}. Best is trial 7 with value: 0.9999999975517211.\u001b[0m\n",
            "\u001b[32m[I 2022-10-03 18:02:41,263]\u001b[0m Trial 9 finished with value: 0.9150567243668227 and parameters: {'loss': 'absolute_error', 'learning_rate': 0.39427430646508477, 'criterion': 'friedman_mse'}. Best is trial 7 with value: 0.9999999975517211.\u001b[0m\n",
            "\u001b[32m[I 2022-10-03 18:02:41,311]\u001b[0m Trial 10 finished with value: 0.9999998592798253 and parameters: {'loss': 'squared_error', 'learning_rate': 0.7500037940421671, 'criterion': 'squared_error'}. Best is trial 7 with value: 0.9999999975517211.\u001b[0m\n",
            "\u001b[32m[I 2022-10-03 18:02:41,356]\u001b[0m Trial 11 finished with value: 0.9999999631327094 and parameters: {'loss': 'squared_error', 'learning_rate': 0.7502984574889191, 'criterion': 'squared_error'}. Best is trial 7 with value: 0.9999999975517211.\u001b[0m\n",
            "\u001b[32m[I 2022-10-03 18:02:41,408]\u001b[0m Trial 12 finished with value: 0.999999985302347 and parameters: {'loss': 'squared_error', 'learning_rate': 0.7507174281877238, 'criterion': 'squared_error'}. Best is trial 7 with value: 0.9999999975517211.\u001b[0m\n",
            "\u001b[32m[I 2022-10-03 18:02:41,454]\u001b[0m Trial 13 finished with value: 0.9999999843212315 and parameters: {'loss': 'squared_error', 'learning_rate': 0.8481578341826178, 'criterion': 'squared_error'}. Best is trial 7 with value: 0.9999999975517211.\u001b[0m\n",
            "\u001b[32m[I 2022-10-03 18:02:41,499]\u001b[0m Trial 14 finished with value: 0.9999999051780647 and parameters: {'loss': 'squared_error', 'learning_rate': 0.627665991271584, 'criterion': 'squared_error'}. Best is trial 7 with value: 0.9999999975517211.\u001b[0m\n",
            "\u001b[32m[I 2022-10-03 18:02:41,548]\u001b[0m Trial 15 finished with value: 0.9999999973526473 and parameters: {'loss': 'squared_error', 'learning_rate': 0.9802391601293348, 'criterion': 'squared_error'}. Best is trial 7 with value: 0.9999999975517211.\u001b[0m\n",
            "\u001b[32m[I 2022-10-03 18:02:41,598]\u001b[0m Trial 16 finished with value: 0.9999999840890595 and parameters: {'loss': 'squared_error', 'learning_rate': 0.9660117155678025, 'criterion': 'squared_error'}. Best is trial 7 with value: 0.9999999975517211.\u001b[0m\n",
            "\u001b[32m[I 2022-10-03 18:02:41,931]\u001b[0m Trial 17 finished with value: 0.9997742880549639 and parameters: {'loss': 'huber', 'learning_rate': 0.8609060377495074, 'criterion': 'squared_error'}. Best is trial 7 with value: 0.9999999975517211.\u001b[0m\n",
            "\u001b[32m[I 2022-10-03 18:02:42,097]\u001b[0m Trial 18 finished with value: 0.9483334075378523 and parameters: {'loss': 'absolute_error', 'learning_rate': 0.583897764736939, 'criterion': 'squared_error'}. Best is trial 7 with value: 0.9999999975517211.\u001b[0m\n",
            "\u001b[32m[I 2022-10-03 18:02:42,145]\u001b[0m Trial 19 finished with value: 0.9999953367094787 and parameters: {'loss': 'squared_error', 'learning_rate': 0.4329554434976918, 'criterion': 'squared_error'}. Best is trial 7 with value: 0.9999999975517211.\u001b[0m\n",
            "\u001b[32m[I 2022-10-03 18:02:42,196]\u001b[0m Trial 20 finished with value: 0.9999999277979348 and parameters: {'loss': 'squared_error', 'learning_rate': 0.8358389702850642, 'criterion': 'squared_error'}. Best is trial 7 with value: 0.9999999975517211.\u001b[0m\n",
            "\u001b[32m[I 2022-10-03 18:02:42,253]\u001b[0m Trial 21 finished with value: 0.9999995634713572 and parameters: {'loss': 'squared_error', 'learning_rate': 0.7698346861919487, 'criterion': 'squared_error'}. Best is trial 7 with value: 0.9999999975517211.\u001b[0m\n",
            "\u001b[32m[I 2022-10-03 18:02:42,303]\u001b[0m Trial 22 finished with value: 0.9999999987401641 and parameters: {'loss': 'squared_error', 'learning_rate': 0.9957329243803907, 'criterion': 'squared_error'}. Best is trial 22 with value: 0.9999999987401641.\u001b[0m\n",
            "\u001b[32m[I 2022-10-03 18:02:42,359]\u001b[0m Trial 23 finished with value: 0.9999999955619736 and parameters: {'loss': 'squared_error', 'learning_rate': 0.9332081945141857, 'criterion': 'squared_error'}. Best is trial 22 with value: 0.9999999987401641.\u001b[0m\n",
            "\u001b[32m[I 2022-10-03 18:02:42,407]\u001b[0m Trial 24 finished with value: 0.9999999727700944 and parameters: {'loss': 'squared_error', 'learning_rate': 0.9943064186077923, 'criterion': 'squared_error'}. Best is trial 22 with value: 0.9999999987401641.\u001b[0m\n",
            "\u001b[32m[I 2022-10-03 18:02:42,454]\u001b[0m Trial 25 finished with value: 0.999999993445509 and parameters: {'loss': 'squared_error', 'learning_rate': 0.8941023184169375, 'criterion': 'squared_error'}. Best is trial 22 with value: 0.9999999987401641.\u001b[0m\n",
            "\u001b[32m[I 2022-10-03 18:02:42,626]\u001b[0m Trial 26 finished with value: 0.9839190807841396 and parameters: {'loss': 'absolute_error', 'learning_rate': 0.821469568084104, 'criterion': 'squared_error'}. Best is trial 22 with value: 0.9999999987401641.\u001b[0m\n",
            "\u001b[32m[I 2022-10-03 18:02:42,937]\u001b[0m Trial 27 finished with value: 0.9999576526998847 and parameters: {'loss': 'huber', 'learning_rate': 0.663805363965219, 'criterion': 'squared_error'}. Best is trial 22 with value: 0.9999999987401641.\u001b[0m\n",
            "\u001b[32m[I 2022-10-03 18:02:43,089]\u001b[0m Trial 28 finished with value: 0.921895629469194 and parameters: {'loss': 'quantile', 'learning_rate': 0.9251790722098892, 'criterion': 'squared_error'}. Best is trial 22 with value: 0.9999999987401641.\u001b[0m\n",
            "\u001b[32m[I 2022-10-03 18:02:43,279]\u001b[0m Trial 29 finished with value: 0.9110042577151745 and parameters: {'loss': 'quantile', 'learning_rate': 0.9994266145244849, 'criterion': 'squared_error'}. Best is trial 22 with value: 0.9999999987401641.\u001b[0m\n",
            "\u001b[32m[I 2022-10-03 18:02:43,325]\u001b[0m Trial 30 finished with value: 0.9999957025090156 and parameters: {'loss': 'squared_error', 'learning_rate': 0.3289986693318441, 'criterion': 'squared_error'}. Best is trial 22 with value: 0.9999999987401641.\u001b[0m\n",
            "\u001b[32m[I 2022-10-03 18:02:43,371]\u001b[0m Trial 31 finished with value: 0.9999999857678006 and parameters: {'loss': 'squared_error', 'learning_rate': 0.916775422759252, 'criterion': 'squared_error'}. Best is trial 22 with value: 0.9999999987401641.\u001b[0m\n",
            "\u001b[32m[I 2022-10-03 18:02:43,420]\u001b[0m Trial 32 finished with value: 0.9999999947458865 and parameters: {'loss': 'squared_error', 'learning_rate': 0.9451654318405442, 'criterion': 'squared_error'}. Best is trial 22 with value: 0.9999999987401641.\u001b[0m\n",
            "\u001b[32m[I 2022-10-03 18:02:43,467]\u001b[0m Trial 33 finished with value: 0.999999935331951 and parameters: {'loss': 'squared_error', 'learning_rate': 0.8071964578863223, 'criterion': 'squared_error'}. Best is trial 22 with value: 0.9999999987401641.\u001b[0m\n",
            "\u001b[32m[I 2022-10-03 18:02:43,516]\u001b[0m Trial 34 finished with value: 0.9999999986062473 and parameters: {'loss': 'squared_error', 'learning_rate': 0.9073175677887032, 'criterion': 'friedman_mse'}. Best is trial 22 with value: 0.9999999987401641.\u001b[0m\n",
            "\u001b[32m[I 2022-10-03 18:02:43,698]\u001b[0m Trial 35 finished with value: 0.9982821165572884 and parameters: {'loss': 'absolute_error', 'learning_rate': 0.8822976774895148, 'criterion': 'friedman_mse'}. Best is trial 22 with value: 0.9999999987401641.\u001b[0m\n",
            "\u001b[32m[I 2022-10-03 18:02:43,986]\u001b[0m Trial 36 finished with value: 0.9999570256770289 and parameters: {'loss': 'huber', 'learning_rate': 0.5388983399570849, 'criterion': 'friedman_mse'}. Best is trial 22 with value: 0.9999999987401641.\u001b[0m\n",
            "\u001b[32m[I 2022-10-03 18:02:44,037]\u001b[0m Trial 37 finished with value: 0.9999997143246719 and parameters: {'loss': 'squared_error', 'learning_rate': 0.692255584733346, 'criterion': 'friedman_mse'}. Best is trial 22 with value: 0.9999999987401641.\u001b[0m\n",
            "\u001b[32m[I 2022-10-03 18:02:44,091]\u001b[0m Trial 38 finished with value: 0.9999999989994814 and parameters: {'loss': 'squared_error', 'learning_rate': 0.958432989415392, 'criterion': 'friedman_mse'}. Best is trial 38 with value: 0.9999999989994814.\u001b[0m\n",
            "\u001b[32m[I 2022-10-03 18:02:44,299]\u001b[0m Trial 39 finished with value: 0.9517929955205177 and parameters: {'loss': 'quantile', 'learning_rate': 0.8072678668509785, 'criterion': 'friedman_mse'}. Best is trial 38 with value: 0.9999999989994814.\u001b[0m\n",
            "\u001b[32m[I 2022-10-03 18:02:44,348]\u001b[0m Trial 40 finished with value: 0.9999999895771798 and parameters: {'loss': 'squared_error', 'learning_rate': 0.8956258751417101, 'criterion': 'friedman_mse'}. Best is trial 38 with value: 0.9999999989994814.\u001b[0m\n",
            "\u001b[32m[I 2022-10-03 18:02:44,399]\u001b[0m Trial 41 finished with value: 0.9999999872602839 and parameters: {'loss': 'squared_error', 'learning_rate': 0.9980693022440165, 'criterion': 'friedman_mse'}. Best is trial 38 with value: 0.9999999989994814.\u001b[0m\n",
            "\u001b[32m[I 2022-10-03 18:02:44,447]\u001b[0m Trial 42 finished with value: 0.999999999138417 and parameters: {'loss': 'squared_error', 'learning_rate': 0.953834876627068, 'criterion': 'friedman_mse'}. Best is trial 42 with value: 0.999999999138417.\u001b[0m\n",
            "\u001b[32m[I 2022-10-03 18:02:44,498]\u001b[0m Trial 43 finished with value: 0.9999999936794948 and parameters: {'loss': 'squared_error', 'learning_rate': 0.9417122839886178, 'criterion': 'friedman_mse'}. Best is trial 42 with value: 0.999999999138417.\u001b[0m\n",
            "\u001b[32m[I 2022-10-03 18:02:44,546]\u001b[0m Trial 44 finished with value: 0.9999999875539315 and parameters: {'loss': 'squared_error', 'learning_rate': 0.8696454505379666, 'criterion': 'friedman_mse'}. Best is trial 42 with value: 0.999999999138417.\u001b[0m\n",
            "\u001b[32m[I 2022-10-03 18:02:44,590]\u001b[0m Trial 45 finished with value: 0.9893508720429369 and parameters: {'loss': 'squared_error', 'learning_rate': 0.03647527132628403, 'criterion': 'friedman_mse'}. Best is trial 42 with value: 0.999999999138417.\u001b[0m\n",
            "\u001b[32m[I 2022-10-03 18:02:44,898]\u001b[0m Trial 46 finished with value: 0.999717064934446 and parameters: {'loss': 'huber', 'learning_rate': 0.7821494060536595, 'criterion': 'friedman_mse'}. Best is trial 42 with value: 0.999999999138417.\u001b[0m\n",
            "\u001b[32m[I 2022-10-03 18:02:44,949]\u001b[0m Trial 47 finished with value: 0.9999999297093216 and parameters: {'loss': 'squared_error', 'learning_rate': 0.7171415870408901, 'criterion': 'friedman_mse'}. Best is trial 42 with value: 0.999999999138417.\u001b[0m\n",
            "\u001b[32m[I 2022-10-03 18:02:45,126]\u001b[0m Trial 48 finished with value: 0.9921026752645453 and parameters: {'loss': 'absolute_error', 'learning_rate': 0.9562723400539126, 'criterion': 'friedman_mse'}. Best is trial 42 with value: 0.999999999138417.\u001b[0m\n",
            "\u001b[32m[I 2022-10-03 18:02:45,179]\u001b[0m Trial 49 finished with value: 0.999986834277761 and parameters: {'loss': 'squared_error', 'learning_rate': 0.21857572726220864, 'criterion': 'friedman_mse'}. Best is trial 42 with value: 0.999999999138417.\u001b[0m\n",
            "\u001b[32m[I 2022-10-03 18:02:45,361]\u001b[0m Trial 50 finished with value: 0.93861799750487 and parameters: {'loss': 'quantile', 'learning_rate': 0.8609061873178302, 'criterion': 'friedman_mse'}. Best is trial 42 with value: 0.999999999138417.\u001b[0m\n",
            "\u001b[32m[I 2022-10-03 18:02:45,413]\u001b[0m Trial 51 finished with value: 0.9999999760395013 and parameters: {'loss': 'squared_error', 'learning_rate': 0.9676479252550713, 'criterion': 'friedman_mse'}. Best is trial 42 with value: 0.999999999138417.\u001b[0m\n",
            "\u001b[32m[I 2022-10-03 18:02:45,460]\u001b[0m Trial 52 finished with value: 0.9999999910899087 and parameters: {'loss': 'squared_error', 'learning_rate': 0.9071058222398534, 'criterion': 'friedman_mse'}. Best is trial 42 with value: 0.999999999138417.\u001b[0m\n",
            "\u001b[32m[I 2022-10-03 18:02:45,512]\u001b[0m Trial 53 finished with value: 0.9999999807211708 and parameters: {'loss': 'squared_error', 'learning_rate': 0.9548181704251603, 'criterion': 'friedman_mse'}. Best is trial 42 with value: 0.999999999138417.\u001b[0m\n",
            "\u001b[32m[I 2022-10-03 18:02:45,559]\u001b[0m Trial 54 finished with value: 0.9999999776112223 and parameters: {'loss': 'squared_error', 'learning_rate': 0.9834766199205499, 'criterion': 'friedman_mse'}. Best is trial 42 with value: 0.999999999138417.\u001b[0m\n",
            "\u001b[32m[I 2022-10-03 18:02:45,608]\u001b[0m Trial 55 finished with value: 0.9999999666265267 and parameters: {'loss': 'squared_error', 'learning_rate': 0.8436709764486553, 'criterion': 'squared_error'}. Best is trial 42 with value: 0.999999999138417.\u001b[0m\n",
            "\u001b[32m[I 2022-10-03 18:02:45,660]\u001b[0m Trial 56 finished with value: 0.9999999992917785 and parameters: {'loss': 'squared_error', 'learning_rate': 0.9190853004502191, 'criterion': 'squared_error'}. Best is trial 56 with value: 0.9999999992917785.\u001b[0m\n",
            "\u001b[32m[I 2022-10-03 18:02:45,705]\u001b[0m Trial 57 finished with value: 0.9999999927151282 and parameters: {'loss': 'squared_error', 'learning_rate': 0.9086642832016896, 'criterion': 'friedman_mse'}. Best is trial 56 with value: 0.9999999992917785.\u001b[0m\n",
            "\u001b[32m[I 2022-10-03 18:02:45,753]\u001b[0m Trial 58 finished with value: 0.99999944396476 and parameters: {'loss': 'squared_error', 'learning_rate': 0.7814324319360009, 'criterion': 'squared_error'}. Best is trial 56 with value: 0.9999999992917785.\u001b[0m\n",
            "\u001b[32m[I 2022-10-03 18:02:46,060]\u001b[0m Trial 59 finished with value: 0.9998724938113717 and parameters: {'loss': 'huber', 'learning_rate': 0.8674763927406077, 'criterion': 'squared_error'}. Best is trial 56 with value: 0.9999999992917785.\u001b[0m\n",
            "\u001b[32m[I 2022-10-03 18:02:46,111]\u001b[0m Trial 60 finished with value: 0.9999997452407496 and parameters: {'loss': 'squared_error', 'learning_rate': 0.7146426599865389, 'criterion': 'squared_error'}. Best is trial 56 with value: 0.9999999992917785.\u001b[0m\n",
            "\u001b[32m[I 2022-10-03 18:02:46,159]\u001b[0m Trial 61 finished with value: 0.9999999984807898 and parameters: {'loss': 'squared_error', 'learning_rate': 0.9590881429427348, 'criterion': 'squared_error'}. Best is trial 56 with value: 0.9999999992917785.\u001b[0m\n",
            "\u001b[32m[I 2022-10-03 18:02:46,205]\u001b[0m Trial 62 finished with value: 0.9999999933166261 and parameters: {'loss': 'squared_error', 'learning_rate': 0.9399894019158486, 'criterion': 'squared_error'}. Best is trial 56 with value: 0.9999999992917785.\u001b[0m\n",
            "\u001b[32m[I 2022-10-03 18:02:46,254]\u001b[0m Trial 63 finished with value: 0.9999999994525685 and parameters: {'loss': 'squared_error', 'learning_rate': 0.9082741920319016, 'criterion': 'squared_error'}. Best is trial 63 with value: 0.9999999994525685.\u001b[0m\n",
            "\u001b[32m[I 2022-10-03 18:02:46,308]\u001b[0m Trial 64 finished with value: 0.9999999816881595 and parameters: {'loss': 'squared_error', 'learning_rate': 0.8923081647825496, 'criterion': 'squared_error'}. Best is trial 63 with value: 0.9999999994525685.\u001b[0m\n",
            "\u001b[32m[I 2022-10-03 18:02:46,356]\u001b[0m Trial 65 finished with value: 0.9999999719981091 and parameters: {'loss': 'squared_error', 'learning_rate': 0.8386150888481562, 'criterion': 'squared_error'}. Best is trial 63 with value: 0.9999999994525685.\u001b[0m\n",
            "\u001b[32m[I 2022-10-03 18:02:46,529]\u001b[0m Trial 66 finished with value: 0.9631045368929573 and parameters: {'loss': 'absolute_error', 'learning_rate': 0.9664557755463477, 'criterion': 'squared_error'}. Best is trial 63 with value: 0.9999999994525685.\u001b[0m\n",
            "\u001b[32m[I 2022-10-03 18:02:46,583]\u001b[0m Trial 67 finished with value: 0.9999999957022302 and parameters: {'loss': 'squared_error', 'learning_rate': 0.9280137106478318, 'criterion': 'squared_error'}. Best is trial 63 with value: 0.9999999994525685.\u001b[0m\n",
            "\u001b[32m[I 2022-10-03 18:02:46,635]\u001b[0m Trial 68 finished with value: 0.9999999940675279 and parameters: {'loss': 'squared_error', 'learning_rate': 0.9983809883153639, 'criterion': 'squared_error'}. Best is trial 63 with value: 0.9999999994525685.\u001b[0m\n",
            "\u001b[32m[I 2022-10-03 18:02:46,684]\u001b[0m Trial 69 finished with value: 0.9999989818275785 and parameters: {'loss': 'squared_error', 'learning_rate': 0.4687960110281872, 'criterion': 'squared_error'}. Best is trial 63 with value: 0.9999999994525685.\u001b[0m\n",
            "\u001b[32m[I 2022-10-03 18:02:46,850]\u001b[0m Trial 70 finished with value: 0.9505728658697687 and parameters: {'loss': 'quantile', 'learning_rate': 0.8148250793453132, 'criterion': 'friedman_mse'}. Best is trial 63 with value: 0.9999999994525685.\u001b[0m\n",
            "\u001b[32m[I 2022-10-03 18:02:46,898]\u001b[0m Trial 71 finished with value: 0.9999999820696852 and parameters: {'loss': 'squared_error', 'learning_rate': 0.9119479405680986, 'criterion': 'squared_error'}. Best is trial 63 with value: 0.9999999994525685.\u001b[0m\n",
            "\u001b[32m[I 2022-10-03 18:02:46,946]\u001b[0m Trial 72 finished with value: 0.9999999516995285 and parameters: {'loss': 'squared_error', 'learning_rate': 0.9643158015732685, 'criterion': 'squared_error'}. Best is trial 63 with value: 0.9999999994525685.\u001b[0m\n",
            "\u001b[32m[I 2022-10-03 18:02:46,992]\u001b[0m Trial 73 finished with value: 0.9999999967869504 and parameters: {'loss': 'squared_error', 'learning_rate': 0.8808131982906819, 'criterion': 'squared_error'}. Best is trial 63 with value: 0.9999999994525685.\u001b[0m\n",
            "\u001b[32m[I 2022-10-03 18:02:47,039]\u001b[0m Trial 74 finished with value: 0.9999999981341922 and parameters: {'loss': 'squared_error', 'learning_rate': 0.9227671860885879, 'criterion': 'squared_error'}. Best is trial 63 with value: 0.9999999994525685.\u001b[0m\n",
            "\u001b[32m[I 2022-10-03 18:02:47,087]\u001b[0m Trial 75 finished with value: 0.9999999735018271 and parameters: {'loss': 'squared_error', 'learning_rate': 0.9357222376123301, 'criterion': 'squared_error'}. Best is trial 63 with value: 0.9999999994525685.\u001b[0m\n",
            "\u001b[32m[I 2022-10-03 18:02:47,138]\u001b[0m Trial 76 finished with value: 0.999999998943746 and parameters: {'loss': 'squared_error', 'learning_rate': 0.9742850734341286, 'criterion': 'squared_error'}. Best is trial 63 with value: 0.9999999994525685.\u001b[0m\n",
            "\u001b[32m[I 2022-10-03 18:02:47,189]\u001b[0m Trial 77 finished with value: 0.9999999948806133 and parameters: {'loss': 'squared_error', 'learning_rate': 0.9737927306365805, 'criterion': 'squared_error'}. Best is trial 63 with value: 0.9999999994525685.\u001b[0m\n",
            "\u001b[32m[I 2022-10-03 18:02:47,520]\u001b[0m Trial 78 finished with value: 0.999890166481274 and parameters: {'loss': 'huber', 'learning_rate': 0.882549446291044, 'criterion': 'friedman_mse'}. Best is trial 63 with value: 0.9999999994525685.\u001b[0m\n",
            "\u001b[32m[I 2022-10-03 18:02:47,693]\u001b[0m Trial 79 finished with value: 0.9845999063392434 and parameters: {'loss': 'absolute_error', 'learning_rate': 0.838731513095728, 'criterion': 'squared_error'}. Best is trial 63 with value: 0.9999999994525685.\u001b[0m\n",
            "\u001b[32m[I 2022-10-03 18:02:47,741]\u001b[0m Trial 80 finished with value: 0.9999993970992306 and parameters: {'loss': 'squared_error', 'learning_rate': 0.5990661945073215, 'criterion': 'friedman_mse'}. Best is trial 63 with value: 0.9999999994525685.\u001b[0m\n",
            "\u001b[32m[I 2022-10-03 18:02:47,793]\u001b[0m Trial 81 finished with value: 0.9999999979748913 and parameters: {'loss': 'squared_error', 'learning_rate': 0.923173223121698, 'criterion': 'squared_error'}. Best is trial 63 with value: 0.9999999994525685.\u001b[0m\n",
            "\u001b[32m[I 2022-10-03 18:02:47,840]\u001b[0m Trial 82 finished with value: 0.9999999992166636 and parameters: {'loss': 'squared_error', 'learning_rate': 0.9988756273804781, 'criterion': 'squared_error'}. Best is trial 63 with value: 0.9999999994525685.\u001b[0m\n",
            "\u001b[32m[I 2022-10-03 18:02:47,892]\u001b[0m Trial 83 finished with value: 0.9999999977402139 and parameters: {'loss': 'squared_error', 'learning_rate': 0.9968663891821343, 'criterion': 'squared_error'}. Best is trial 63 with value: 0.9999999994525685.\u001b[0m\n",
            "\u001b[32m[I 2022-10-03 18:02:47,939]\u001b[0m Trial 84 finished with value: 0.9999999917332524 and parameters: {'loss': 'squared_error', 'learning_rate': 0.9532195992682467, 'criterion': 'squared_error'}. Best is trial 63 with value: 0.9999999994525685.\u001b[0m\n",
            "\u001b[32m[I 2022-10-03 18:02:47,988]\u001b[0m Trial 85 finished with value: 0.9999999966196335 and parameters: {'loss': 'squared_error', 'learning_rate': 0.9748529635080125, 'criterion': 'squared_error'}. Best is trial 63 with value: 0.9999999994525685.\u001b[0m\n",
            "\u001b[32m[I 2022-10-03 18:02:48,035]\u001b[0m Trial 86 finished with value: 0.9999942946946558 and parameters: {'loss': 'squared_error', 'learning_rate': 0.34111902795812266, 'criterion': 'squared_error'}. Best is trial 63 with value: 0.9999999994525685.\u001b[0m\n",
            "\u001b[32m[I 2022-10-03 18:02:48,082]\u001b[0m Trial 87 finished with value: 0.9999999946911631 and parameters: {'loss': 'squared_error', 'learning_rate': 0.9435649921785685, 'criterion': 'friedman_mse'}. Best is trial 63 with value: 0.9999999994525685.\u001b[0m\n",
            "\u001b[32m[I 2022-10-03 18:02:48,306]\u001b[0m Trial 88 finished with value: 0.93057755580685 and parameters: {'loss': 'quantile', 'learning_rate': 0.8980578716537588, 'criterion': 'squared_error'}. Best is trial 63 with value: 0.9999999994525685.\u001b[0m\n",
            "\u001b[32m[I 2022-10-03 18:02:48,363]\u001b[0m Trial 89 finished with value: 0.9999999870388461 and parameters: {'loss': 'squared_error', 'learning_rate': 0.8586819050814233, 'criterion': 'friedman_mse'}. Best is trial 63 with value: 0.9999999994525685.\u001b[0m\n",
            "\u001b[32m[I 2022-10-03 18:02:48,417]\u001b[0m Trial 90 finished with value: 0.9999999952224158 and parameters: {'loss': 'squared_error', 'learning_rate': 0.9776003128792841, 'criterion': 'squared_error'}. Best is trial 63 with value: 0.9999999994525685.\u001b[0m\n",
            "\u001b[32m[I 2022-10-03 18:02:48,464]\u001b[0m Trial 91 finished with value: 0.9999999959622278 and parameters: {'loss': 'squared_error', 'learning_rate': 0.9092208961096332, 'criterion': 'squared_error'}. Best is trial 63 with value: 0.9999999994525685.\u001b[0m\n",
            "\u001b[32m[I 2022-10-03 18:02:48,514]\u001b[0m Trial 92 finished with value: 0.9999999956958596 and parameters: {'loss': 'squared_error', 'learning_rate': 0.9296728885346888, 'criterion': 'squared_error'}. Best is trial 63 with value: 0.9999999994525685.\u001b[0m\n",
            "\u001b[32m[I 2022-10-03 18:02:48,567]\u001b[0m Trial 93 finished with value: 0.9999999980558654 and parameters: {'loss': 'squared_error', 'learning_rate': 0.9993053715130907, 'criterion': 'squared_error'}. Best is trial 63 with value: 0.9999999994525685.\u001b[0m\n",
            "\u001b[32m[I 2022-10-03 18:02:48,615]\u001b[0m Trial 94 finished with value: 0.9999999975213317 and parameters: {'loss': 'squared_error', 'learning_rate': 0.9510646597224179, 'criterion': 'squared_error'}. Best is trial 63 with value: 0.9999999994525685.\u001b[0m\n",
            "\u001b[32m[I 2022-10-03 18:02:48,663]\u001b[0m Trial 95 finished with value: 0.9999999916998854 and parameters: {'loss': 'squared_error', 'learning_rate': 0.8735159134826239, 'criterion': 'squared_error'}. Best is trial 63 with value: 0.9999999994525685.\u001b[0m\n",
            "\u001b[32m[I 2022-10-03 18:02:48,711]\u001b[0m Trial 96 finished with value: 0.999999937191191 and parameters: {'loss': 'squared_error', 'learning_rate': 0.9158098659904591, 'criterion': 'friedman_mse'}. Best is trial 63 with value: 0.9999999994525685.\u001b[0m\n",
            "\u001b[32m[I 2022-10-03 18:02:48,993]\u001b[0m Trial 97 finished with value: 0.9980155976716422 and parameters: {'loss': 'huber', 'learning_rate': 0.1397265159314366, 'criterion': 'squared_error'}. Best is trial 63 with value: 0.9999999994525685.\u001b[0m\n",
            "\u001b[32m[I 2022-10-03 18:02:49,041]\u001b[0m Trial 98 finished with value: 0.999999996530182 and parameters: {'loss': 'squared_error', 'learning_rate': 0.9770686647401549, 'criterion': 'squared_error'}. Best is trial 63 with value: 0.9999999994525685.\u001b[0m\n",
            "\u001b[32m[I 2022-10-03 18:02:49,213]\u001b[0m Trial 99 finished with value: 0.9938631306047702 and parameters: {'loss': 'absolute_error', 'learning_rate': 0.7913361198669917, 'criterion': 'friedman_mse'}. Best is trial 63 with value: 0.9999999994525685.\u001b[0m\n"
          ]
        },
        {
          "output_type": "stream",
          "name": "stdout",
          "text": [
            "Best trial: {'loss': 'squared_error', 'learning_rate': 0.9082741920319016, 'criterion': 'squared_error'}\n",
            "Best value: 0.9999999994525685\n"
          ]
        }
      ]
    },
    {
      "cell_type": "code",
      "source": [
        "print(f'Regarding Test Set in the {best_model}: {r2_scores_list[best_model]}')"
      ],
      "metadata": {
        "colab": {
          "base_uri": "https://localhost:8080/"
        },
        "id": "fstPD-vE5tnh",
        "outputId": "66182b7f-fc8f-4620-8617-3d1dca5304b5"
      },
      "execution_count": 104,
      "outputs": [
        {
          "output_type": "stream",
          "name": "stdout",
          "text": [
            "Regarding Test Set in the GradienBoostRegressor: 0.9472380943459017\n"
          ]
        }
      ]
    },
    {
      "cell_type": "code",
      "source": [
        "y_pred4 = gbr.predict(X_train) \n",
        "print(f'Regarding Test Set in the {best_model}: {r2_score(y_train, y_pred4)}')"
      ],
      "metadata": {
        "colab": {
          "base_uri": "https://localhost:8080/"
        },
        "id": "W3katGYx6Q0d",
        "outputId": "ba5eb611-8f97-48b5-cb57-ce059ec7f492"
      },
      "execution_count": 105,
      "outputs": [
        {
          "output_type": "stream",
          "name": "stdout",
          "text": [
            "Regarding Test Set in the GradienBoostRegressor: 0.9995459896186428\n"
          ]
        }
      ]
    },
    {
      "cell_type": "markdown",
      "source": [
        "As we can see, the chosen model possesses a high performance in both training and test set, which implies that it is indeed a good model for analysis, besides not presenting a high variance."
      ],
      "metadata": {
        "id": "sRDtdoqa7hUT"
      }
    },
    {
      "cell_type": "markdown",
      "source": [
        "![image.png](data:image/png;base64,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)"
      ],
      "metadata": {
        "id": "IS2lZymF8HOj"
      }
    },
    {
      "cell_type": "markdown",
      "source": [
        "The next cells can be ignored (regarding google collab simultaneous coding)."
      ],
      "metadata": {
        "id": "HbPEdJEb8jrr"
      }
    },
    {
      "cell_type": "code",
      "source": [
        "%%javascript\n",
        "const listenerChannel = new BroadcastChannel('channel');\n",
        "listenerChannel.onmessage = (msg) => {\n",
        "  const div = document.createElement('div');\n",
        "  div.textContent = msg.data;\n",
        "  document.body.appendChild(div);\n",
        "};"
      ],
      "metadata": {
        "id": "urWyuHXxhjDv",
        "colab": {
          "base_uri": "https://localhost:8080/",
          "height": 34
        },
        "outputId": "228fcdee-d7a4-4200-e666-a0cc5419898a"
      },
      "execution_count": 106,
      "outputs": [
        {
          "output_type": "display_data",
          "data": {
            "text/plain": [
              "<IPython.core.display.Javascript object>"
            ],
            "application/javascript": [
              "const listenerChannel = new BroadcastChannel('channel');\n",
              "listenerChannel.onmessage = (msg) => {\n",
              "  const div = document.createElement('div');\n",
              "  div.textContent = msg.data;\n",
              "  document.body.appendChild(div);\n",
              "};\n"
            ]
          },
          "metadata": {}
        }
      ]
    },
    {
      "cell_type": "code",
      "source": [
        "%%javascript\n",
        "const senderChannel = new BroadcastChannel('channel');\n",
        "senderChannel.postMessage('Hello world!');"
      ],
      "metadata": {
        "id": "fGeENsaYhjDw",
        "colab": {
          "base_uri": "https://localhost:8080/",
          "height": 17
        },
        "outputId": "b5e68d7e-86d6-4ee8-f092-8f99efc13a25"
      },
      "execution_count": 107,
      "outputs": [
        {
          "output_type": "display_data",
          "data": {
            "text/plain": [
              "<IPython.core.display.Javascript object>"
            ],
            "application/javascript": [
              "const senderChannel = new BroadcastChannel('channel');\n",
              "senderChannel.postMessage('Hello world!');\n"
            ]
          },
          "metadata": {}
        }
      ]
    },
    {
      "cell_type": "markdown",
      "source": [
        "## Defense"
      ],
      "metadata": {
        "id": "IS6DUikld-Wv"
      }
    },
    {
      "cell_type": "code",
      "source": [
        "defense.head()"
      ],
      "metadata": {
        "id": "zQHwXuNed-Ww",
        "colab": {
          "base_uri": "https://localhost:8080/",
          "height": 206
        },
        "outputId": "588aebcb-291f-4f8e-ec3f-45ee7e9ad42e"
      },
      "execution_count": 108,
      "outputs": [
        {
          "output_type": "execute_result",
          "data": {
            "text/plain": [
              "            jogador nacao posicao  idade  minPor90  desarmes\n",
              "0           Juninho   BRA      LT     34      14.7        12\n",
              "1    Marlon Freitas   BRA      LT     27      15.4        22\n",
              "2           Éverson   BRA       G     31      17.0         0\n",
              "3             Kevin   BRA      ZG     24      16.8        21\n",
              "4  Gatito Fernández   PAR       G     34      14.0         1"
            ],
            "text/html": [
              "\n",
              "  <div id=\"df-a6fa191e-7341-4df2-8a98-7106416997c1\">\n",
              "    <div class=\"colab-df-container\">\n",
              "      <div>\n",
              "<style scoped>\n",
              "    .dataframe tbody tr th:only-of-type {\n",
              "        vertical-align: middle;\n",
              "    }\n",
              "\n",
              "    .dataframe tbody tr th {\n",
              "        vertical-align: top;\n",
              "    }\n",
              "\n",
              "    .dataframe thead th {\n",
              "        text-align: right;\n",
              "    }\n",
              "</style>\n",
              "<table border=\"1\" class=\"dataframe\">\n",
              "  <thead>\n",
              "    <tr style=\"text-align: right;\">\n",
              "      <th></th>\n",
              "      <th>jogador</th>\n",
              "      <th>nacao</th>\n",
              "      <th>posicao</th>\n",
              "      <th>idade</th>\n",
              "      <th>minPor90</th>\n",
              "      <th>desarmes</th>\n",
              "    </tr>\n",
              "  </thead>\n",
              "  <tbody>\n",
              "    <tr>\n",
              "      <th>0</th>\n",
              "      <td>Juninho</td>\n",
              "      <td>BRA</td>\n",
              "      <td>LT</td>\n",
              "      <td>34</td>\n",
              "      <td>14.7</td>\n",
              "      <td>12</td>\n",
              "    </tr>\n",
              "    <tr>\n",
              "      <th>1</th>\n",
              "      <td>Marlon Freitas</td>\n",
              "      <td>BRA</td>\n",
              "      <td>LT</td>\n",
              "      <td>27</td>\n",
              "      <td>15.4</td>\n",
              "      <td>22</td>\n",
              "    </tr>\n",
              "    <tr>\n",
              "      <th>2</th>\n",
              "      <td>Éverson</td>\n",
              "      <td>BRA</td>\n",
              "      <td>G</td>\n",
              "      <td>31</td>\n",
              "      <td>17.0</td>\n",
              "      <td>0</td>\n",
              "    </tr>\n",
              "    <tr>\n",
              "      <th>3</th>\n",
              "      <td>Kevin</td>\n",
              "      <td>BRA</td>\n",
              "      <td>ZG</td>\n",
              "      <td>24</td>\n",
              "      <td>16.8</td>\n",
              "      <td>21</td>\n",
              "    </tr>\n",
              "    <tr>\n",
              "      <th>4</th>\n",
              "      <td>Gatito Fernández</td>\n",
              "      <td>PAR</td>\n",
              "      <td>G</td>\n",
              "      <td>34</td>\n",
              "      <td>14.0</td>\n",
              "      <td>1</td>\n",
              "    </tr>\n",
              "  </tbody>\n",
              "</table>\n",
              "</div>\n",
              "      <button class=\"colab-df-convert\" onclick=\"convertToInteractive('df-a6fa191e-7341-4df2-8a98-7106416997c1')\"\n",
              "              title=\"Convert this dataframe to an interactive table.\"\n",
              "              style=\"display:none;\">\n",
              "        \n",
              "  <svg xmlns=\"http://www.w3.org/2000/svg\" height=\"24px\"viewBox=\"0 0 24 24\"\n",
              "       width=\"24px\">\n",
              "    <path d=\"M0 0h24v24H0V0z\" fill=\"none\"/>\n",
              "    <path d=\"M18.56 5.44l.94 2.06.94-2.06 2.06-.94-2.06-.94-.94-2.06-.94 2.06-2.06.94zm-11 1L8.5 8.5l.94-2.06 2.06-.94-2.06-.94L8.5 2.5l-.94 2.06-2.06.94zm10 10l.94 2.06.94-2.06 2.06-.94-2.06-.94-.94-2.06-.94 2.06-2.06.94z\"/><path d=\"M17.41 7.96l-1.37-1.37c-.4-.4-.92-.59-1.43-.59-.52 0-1.04.2-1.43.59L10.3 9.45l-7.72 7.72c-.78.78-.78 2.05 0 2.83L4 21.41c.39.39.9.59 1.41.59.51 0 1.02-.2 1.41-.59l7.78-7.78 2.81-2.81c.8-.78.8-2.07 0-2.86zM5.41 20L4 18.59l7.72-7.72 1.47 1.35L5.41 20z\"/>\n",
              "  </svg>\n",
              "      </button>\n",
              "      \n",
              "  <style>\n",
              "    .colab-df-container {\n",
              "      display:flex;\n",
              "      flex-wrap:wrap;\n",
              "      gap: 12px;\n",
              "    }\n",
              "\n",
              "    .colab-df-convert {\n",
              "      background-color: #E8F0FE;\n",
              "      border: none;\n",
              "      border-radius: 50%;\n",
              "      cursor: pointer;\n",
              "      display: none;\n",
              "      fill: #1967D2;\n",
              "      height: 32px;\n",
              "      padding: 0 0 0 0;\n",
              "      width: 32px;\n",
              "    }\n",
              "\n",
              "    .colab-df-convert:hover {\n",
              "      background-color: #E2EBFA;\n",
              "      box-shadow: 0px 1px 2px rgba(60, 64, 67, 0.3), 0px 1px 3px 1px rgba(60, 64, 67, 0.15);\n",
              "      fill: #174EA6;\n",
              "    }\n",
              "\n",
              "    [theme=dark] .colab-df-convert {\n",
              "      background-color: #3B4455;\n",
              "      fill: #D2E3FC;\n",
              "    }\n",
              "\n",
              "    [theme=dark] .colab-df-convert:hover {\n",
              "      background-color: #434B5C;\n",
              "      box-shadow: 0px 1px 3px 1px rgba(0, 0, 0, 0.15);\n",
              "      filter: drop-shadow(0px 1px 2px rgba(0, 0, 0, 0.3));\n",
              "      fill: #FFFFFF;\n",
              "    }\n",
              "  </style>\n",
              "\n",
              "      <script>\n",
              "        const buttonEl =\n",
              "          document.querySelector('#df-a6fa191e-7341-4df2-8a98-7106416997c1 button.colab-df-convert');\n",
              "        buttonEl.style.display =\n",
              "          google.colab.kernel.accessAllowed ? 'block' : 'none';\n",
              "\n",
              "        async function convertToInteractive(key) {\n",
              "          const element = document.querySelector('#df-a6fa191e-7341-4df2-8a98-7106416997c1');\n",
              "          const dataTable =\n",
              "            await google.colab.kernel.invokeFunction('convertToInteractive',\n",
              "                                                     [key], {});\n",
              "          if (!dataTable) return;\n",
              "\n",
              "          const docLinkHtml = 'Like what you see? Visit the ' +\n",
              "            '<a target=\"_blank\" href=https://colab.research.google.com/notebooks/data_table.ipynb>data table notebook</a>'\n",
              "            + ' to learn more about interactive tables.';\n",
              "          element.innerHTML = '';\n",
              "          dataTable['output_type'] = 'display_data';\n",
              "          await google.colab.output.renderOutput(dataTable, element);\n",
              "          const docLink = document.createElement('div');\n",
              "          docLink.innerHTML = docLinkHtml;\n",
              "          element.appendChild(docLink);\n",
              "        }\n",
              "      </script>\n",
              "    </div>\n",
              "  </div>\n",
              "  "
            ]
          },
          "metadata": {},
          "execution_count": 108
        }
      ]
    },
    {
      "cell_type": "markdown",
      "source": [
        "## Goalkeeping"
      ],
      "metadata": {
        "id": "HCaPp0Vhd-vJ"
      }
    },
    {
      "cell_type": "code",
      "source": [
        "goalie.head()"
      ],
      "metadata": {
        "id": "xKH0hGxVd-vJ",
        "colab": {
          "base_uri": "https://localhost:8080/",
          "height": 0
        },
        "outputId": "ab24d6c7-b7aa-43b9-84fb-a12b2baefbb7"
      },
      "execution_count": 109,
      "outputs": [
        {
          "output_type": "execute_result",
          "data": {
            "text/plain": [
              "             jogador nacao posicao  idade  minPor90  gols_contra  defesas\n",
              "0            Jailson   BRA       G     40      12.0           13       39\n",
              "1            Ronaldo   BRA       G     25      15.0           18       52\n",
              "2            Éverson   BRA       G     31      17.0           17       38\n",
              "3  Douglas Friedrich   BRA       G     33      10.4           16       24\n",
              "4   Gatito Fernández   PAR       G     34      14.0           19       47"
            ],
            "text/html": [
              "\n",
              "  <div id=\"df-053f955f-be2c-4494-b478-14f62e4d9eda\">\n",
              "    <div class=\"colab-df-container\">\n",
              "      <div>\n",
              "<style scoped>\n",
              "    .dataframe tbody tr th:only-of-type {\n",
              "        vertical-align: middle;\n",
              "    }\n",
              "\n",
              "    .dataframe tbody tr th {\n",
              "        vertical-align: top;\n",
              "    }\n",
              "\n",
              "    .dataframe thead th {\n",
              "        text-align: right;\n",
              "    }\n",
              "</style>\n",
              "<table border=\"1\" class=\"dataframe\">\n",
              "  <thead>\n",
              "    <tr style=\"text-align: right;\">\n",
              "      <th></th>\n",
              "      <th>jogador</th>\n",
              "      <th>nacao</th>\n",
              "      <th>posicao</th>\n",
              "      <th>idade</th>\n",
              "      <th>minPor90</th>\n",
              "      <th>gols_contra</th>\n",
              "      <th>defesas</th>\n",
              "    </tr>\n",
              "  </thead>\n",
              "  <tbody>\n",
              "    <tr>\n",
              "      <th>0</th>\n",
              "      <td>Jailson</td>\n",
              "      <td>BRA</td>\n",
              "      <td>G</td>\n",
              "      <td>40</td>\n",
              "      <td>12.0</td>\n",
              "      <td>13</td>\n",
              "      <td>39</td>\n",
              "    </tr>\n",
              "    <tr>\n",
              "      <th>1</th>\n",
              "      <td>Ronaldo</td>\n",
              "      <td>BRA</td>\n",
              "      <td>G</td>\n",
              "      <td>25</td>\n",
              "      <td>15.0</td>\n",
              "      <td>18</td>\n",
              "      <td>52</td>\n",
              "    </tr>\n",
              "    <tr>\n",
              "      <th>2</th>\n",
              "      <td>Éverson</td>\n",
              "      <td>BRA</td>\n",
              "      <td>G</td>\n",
              "      <td>31</td>\n",
              "      <td>17.0</td>\n",
              "      <td>17</td>\n",
              "      <td>38</td>\n",
              "    </tr>\n",
              "    <tr>\n",
              "      <th>3</th>\n",
              "      <td>Douglas Friedrich</td>\n",
              "      <td>BRA</td>\n",
              "      <td>G</td>\n",
              "      <td>33</td>\n",
              "      <td>10.4</td>\n",
              "      <td>16</td>\n",
              "      <td>24</td>\n",
              "    </tr>\n",
              "    <tr>\n",
              "      <th>4</th>\n",
              "      <td>Gatito Fernández</td>\n",
              "      <td>PAR</td>\n",
              "      <td>G</td>\n",
              "      <td>34</td>\n",
              "      <td>14.0</td>\n",
              "      <td>19</td>\n",
              "      <td>47</td>\n",
              "    </tr>\n",
              "  </tbody>\n",
              "</table>\n",
              "</div>\n",
              "      <button class=\"colab-df-convert\" onclick=\"convertToInteractive('df-053f955f-be2c-4494-b478-14f62e4d9eda')\"\n",
              "              title=\"Convert this dataframe to an interactive table.\"\n",
              "              style=\"display:none;\">\n",
              "        \n",
              "  <svg xmlns=\"http://www.w3.org/2000/svg\" height=\"24px\"viewBox=\"0 0 24 24\"\n",
              "       width=\"24px\">\n",
              "    <path d=\"M0 0h24v24H0V0z\" fill=\"none\"/>\n",
              "    <path d=\"M18.56 5.44l.94 2.06.94-2.06 2.06-.94-2.06-.94-.94-2.06-.94 2.06-2.06.94zm-11 1L8.5 8.5l.94-2.06 2.06-.94-2.06-.94L8.5 2.5l-.94 2.06-2.06.94zm10 10l.94 2.06.94-2.06 2.06-.94-2.06-.94-.94-2.06-.94 2.06-2.06.94z\"/><path d=\"M17.41 7.96l-1.37-1.37c-.4-.4-.92-.59-1.43-.59-.52 0-1.04.2-1.43.59L10.3 9.45l-7.72 7.72c-.78.78-.78 2.05 0 2.83L4 21.41c.39.39.9.59 1.41.59.51 0 1.02-.2 1.41-.59l7.78-7.78 2.81-2.81c.8-.78.8-2.07 0-2.86zM5.41 20L4 18.59l7.72-7.72 1.47 1.35L5.41 20z\"/>\n",
              "  </svg>\n",
              "      </button>\n",
              "      \n",
              "  <style>\n",
              "    .colab-df-container {\n",
              "      display:flex;\n",
              "      flex-wrap:wrap;\n",
              "      gap: 12px;\n",
              "    }\n",
              "\n",
              "    .colab-df-convert {\n",
              "      background-color: #E8F0FE;\n",
              "      border: none;\n",
              "      border-radius: 50%;\n",
              "      cursor: pointer;\n",
              "      display: none;\n",
              "      fill: #1967D2;\n",
              "      height: 32px;\n",
              "      padding: 0 0 0 0;\n",
              "      width: 32px;\n",
              "    }\n",
              "\n",
              "    .colab-df-convert:hover {\n",
              "      background-color: #E2EBFA;\n",
              "      box-shadow: 0px 1px 2px rgba(60, 64, 67, 0.3), 0px 1px 3px 1px rgba(60, 64, 67, 0.15);\n",
              "      fill: #174EA6;\n",
              "    }\n",
              "\n",
              "    [theme=dark] .colab-df-convert {\n",
              "      background-color: #3B4455;\n",
              "      fill: #D2E3FC;\n",
              "    }\n",
              "\n",
              "    [theme=dark] .colab-df-convert:hover {\n",
              "      background-color: #434B5C;\n",
              "      box-shadow: 0px 1px 3px 1px rgba(0, 0, 0, 0.15);\n",
              "      filter: drop-shadow(0px 1px 2px rgba(0, 0, 0, 0.3));\n",
              "      fill: #FFFFFF;\n",
              "    }\n",
              "  </style>\n",
              "\n",
              "      <script>\n",
              "        const buttonEl =\n",
              "          document.querySelector('#df-053f955f-be2c-4494-b478-14f62e4d9eda button.colab-df-convert');\n",
              "        buttonEl.style.display =\n",
              "          google.colab.kernel.accessAllowed ? 'block' : 'none';\n",
              "\n",
              "        async function convertToInteractive(key) {\n",
              "          const element = document.querySelector('#df-053f955f-be2c-4494-b478-14f62e4d9eda');\n",
              "          const dataTable =\n",
              "            await google.colab.kernel.invokeFunction('convertToInteractive',\n",
              "                                                     [key], {});\n",
              "          if (!dataTable) return;\n",
              "\n",
              "          const docLinkHtml = 'Like what you see? Visit the ' +\n",
              "            '<a target=\"_blank\" href=https://colab.research.google.com/notebooks/data_table.ipynb>data table notebook</a>'\n",
              "            + ' to learn more about interactive tables.';\n",
              "          element.innerHTML = '';\n",
              "          dataTable['output_type'] = 'display_data';\n",
              "          await google.colab.output.renderOutput(dataTable, element);\n",
              "          const docLink = document.createElement('div');\n",
              "          docLink.innerHTML = docLinkHtml;\n",
              "          element.appendChild(docLink);\n",
              "        }\n",
              "      </script>\n",
              "    </div>\n",
              "  </div>\n",
              "  "
            ]
          },
          "metadata": {},
          "execution_count": 109
        }
      ]
    },
    {
      "cell_type": "code",
      "source": [
        "!pip install mlflow"
      ],
      "metadata": {
        "id": "ZfyYqJZB9PqB",
        "colab": {
          "base_uri": "https://localhost:8080/"
        },
        "outputId": "d7d14528-c955-4d4b-bfac-f2b5707e1c76"
      },
      "execution_count": 110,
      "outputs": [
        {
          "output_type": "stream",
          "name": "stdout",
          "text": [
            "Looking in indexes: https://pypi.org/simple, https://us-python.pkg.dev/colab-wheels/public/simple/\n",
            "Requirement already satisfied: mlflow in /usr/local/lib/python3.7/dist-packages (1.29.0)\n",
            "Requirement already satisfied: pyyaml<7,>=5.1 in /usr/local/lib/python3.7/dist-packages (from mlflow) (6.0)\n",
            "Requirement already satisfied: scipy<2 in /usr/local/lib/python3.7/dist-packages (from mlflow) (1.7.3)\n",
            "Requirement already satisfied: requests<3,>=2.17.3 in /usr/local/lib/python3.7/dist-packages (from mlflow) (2.28.1)\n",
            "Requirement already satisfied: cloudpickle<3 in /usr/local/lib/python3.7/dist-packages (from mlflow) (1.5.0)\n",
            "Requirement already satisfied: alembic<2 in /usr/local/lib/python3.7/dist-packages (from mlflow) (1.8.1)\n",
            "Requirement already satisfied: gitpython<4,>=2.1.0 in /usr/local/lib/python3.7/dist-packages (from mlflow) (3.1.27)\n",
            "Requirement already satisfied: entrypoints<1 in /usr/local/lib/python3.7/dist-packages (from mlflow) (0.4)\n",
            "Requirement already satisfied: prometheus-flask-exporter<1 in /usr/local/lib/python3.7/dist-packages (from mlflow) (0.20.3)\n",
            "Requirement already satisfied: Flask<3 in /usr/local/lib/python3.7/dist-packages (from mlflow) (1.1.4)\n",
            "Requirement already satisfied: pandas<2 in /usr/local/lib/python3.7/dist-packages (from mlflow) (1.3.5)\n",
            "Requirement already satisfied: packaging<22 in /usr/local/lib/python3.7/dist-packages (from mlflow) (21.3)\n",
            "Requirement already satisfied: numpy<2 in /usr/local/lib/python3.7/dist-packages (from mlflow) (1.21.6)\n",
            "Requirement already satisfied: pytz<2023 in /usr/local/lib/python3.7/dist-packages (from mlflow) (2022.2.1)\n",
            "Requirement already satisfied: databricks-cli<1,>=0.8.7 in /usr/local/lib/python3.7/dist-packages (from mlflow) (0.17.3)\n",
            "Requirement already satisfied: sqlalchemy<2,>=1.4.0 in /usr/local/lib/python3.7/dist-packages (from mlflow) (1.4.41)\n",
            "Requirement already satisfied: sqlparse<1,>=0.4.0 in /usr/local/lib/python3.7/dist-packages (from mlflow) (0.4.2)\n",
            "Requirement already satisfied: click<9,>=7.0 in /usr/local/lib/python3.7/dist-packages (from mlflow) (7.1.2)\n",
            "Requirement already satisfied: gunicorn<21 in /usr/local/lib/python3.7/dist-packages (from mlflow) (20.1.0)\n",
            "Requirement already satisfied: protobuf<5,>=3.12.0 in /usr/local/lib/python3.7/dist-packages (from mlflow) (3.17.3)\n",
            "Requirement already satisfied: docker<7,>=4.0.0 in /usr/local/lib/python3.7/dist-packages (from mlflow) (6.0.0)\n",
            "Requirement already satisfied: querystring-parser<2 in /usr/local/lib/python3.7/dist-packages (from mlflow) (1.2.4)\n",
            "Requirement already satisfied: importlib-metadata!=4.7.0,<5,>=3.7.0 in /usr/local/lib/python3.7/dist-packages (from mlflow) (4.12.0)\n",
            "Requirement already satisfied: Mako in /usr/local/lib/python3.7/dist-packages (from alembic<2->mlflow) (1.2.3)\n",
            "Requirement already satisfied: importlib-resources in /usr/local/lib/python3.7/dist-packages (from alembic<2->mlflow) (5.9.0)\n",
            "Requirement already satisfied: pyjwt>=1.7.0 in /usr/local/lib/python3.7/dist-packages (from databricks-cli<1,>=0.8.7->mlflow) (2.5.0)\n",
            "Requirement already satisfied: tabulate>=0.7.7 in /usr/local/lib/python3.7/dist-packages (from databricks-cli<1,>=0.8.7->mlflow) (0.8.10)\n",
            "Requirement already satisfied: oauthlib>=3.1.0 in /usr/local/lib/python3.7/dist-packages (from databricks-cli<1,>=0.8.7->mlflow) (3.2.0)\n",
            "Requirement already satisfied: six>=1.10.0 in /usr/local/lib/python3.7/dist-packages (from databricks-cli<1,>=0.8.7->mlflow) (1.15.0)\n",
            "Requirement already satisfied: urllib3>=1.26.0 in /usr/local/lib/python3.7/dist-packages (from docker<7,>=4.0.0->mlflow) (1.26.12)\n",
            "Requirement already satisfied: websocket-client>=0.32.0 in /usr/local/lib/python3.7/dist-packages (from docker<7,>=4.0.0->mlflow) (1.4.1)\n",
            "Requirement already satisfied: Jinja2<3.0,>=2.10.1 in /usr/local/lib/python3.7/dist-packages (from Flask<3->mlflow) (2.11.3)\n",
            "Requirement already satisfied: itsdangerous<2.0,>=0.24 in /usr/local/lib/python3.7/dist-packages (from Flask<3->mlflow) (1.1.0)\n",
            "Requirement already satisfied: Werkzeug<2.0,>=0.15 in /usr/local/lib/python3.7/dist-packages (from Flask<3->mlflow) (1.0.1)\n",
            "Requirement already satisfied: gitdb<5,>=4.0.1 in /usr/local/lib/python3.7/dist-packages (from gitpython<4,>=2.1.0->mlflow) (4.0.9)\n",
            "Requirement already satisfied: typing-extensions>=3.7.4.3 in /usr/local/lib/python3.7/dist-packages (from gitpython<4,>=2.1.0->mlflow) (4.1.1)\n",
            "Requirement already satisfied: smmap<6,>=3.0.1 in /usr/local/lib/python3.7/dist-packages (from gitdb<5,>=4.0.1->gitpython<4,>=2.1.0->mlflow) (5.0.0)\n",
            "Requirement already satisfied: setuptools>=3.0 in /usr/local/lib/python3.7/dist-packages (from gunicorn<21->mlflow) (57.4.0)\n",
            "Requirement already satisfied: zipp>=0.5 in /usr/local/lib/python3.7/dist-packages (from importlib-metadata!=4.7.0,<5,>=3.7.0->mlflow) (3.8.1)\n",
            "Requirement already satisfied: MarkupSafe>=0.23 in /usr/local/lib/python3.7/dist-packages (from Jinja2<3.0,>=2.10.1->Flask<3->mlflow) (2.0.1)\n",
            "Requirement already satisfied: pyparsing!=3.0.5,>=2.0.2 in /usr/local/lib/python3.7/dist-packages (from packaging<22->mlflow) (3.0.9)\n",
            "Requirement already satisfied: python-dateutil>=2.7.3 in /usr/local/lib/python3.7/dist-packages (from pandas<2->mlflow) (2.8.2)\n",
            "Requirement already satisfied: prometheus-client in /usr/local/lib/python3.7/dist-packages (from prometheus-flask-exporter<1->mlflow) (0.14.1)\n",
            "Requirement already satisfied: charset-normalizer<3,>=2 in /usr/local/lib/python3.7/dist-packages (from requests<3,>=2.17.3->mlflow) (2.1.1)\n",
            "Requirement already satisfied: idna<4,>=2.5 in /usr/local/lib/python3.7/dist-packages (from requests<3,>=2.17.3->mlflow) (2.10)\n",
            "Requirement already satisfied: certifi>=2017.4.17 in /usr/local/lib/python3.7/dist-packages (from requests<3,>=2.17.3->mlflow) (2022.6.15)\n",
            "Requirement already satisfied: greenlet!=0.4.17 in /usr/local/lib/python3.7/dist-packages (from sqlalchemy<2,>=1.4.0->mlflow) (1.1.3)\n"
          ]
        }
      ]
    },
    {
      "cell_type": "code",
      "source": [
        "!pip install optuna"
      ],
      "metadata": {
        "id": "VQnBj7nY9X6A",
        "colab": {
          "base_uri": "https://localhost:8080/"
        },
        "outputId": "d97c6308-fce1-469f-945f-71ef717b777a"
      },
      "execution_count": 111,
      "outputs": [
        {
          "output_type": "stream",
          "name": "stdout",
          "text": [
            "Looking in indexes: https://pypi.org/simple, https://us-python.pkg.dev/colab-wheels/public/simple/\n",
            "Requirement already satisfied: optuna in /usr/local/lib/python3.7/dist-packages (3.0.2)\n",
            "Requirement already satisfied: cmaes>=0.8.2 in /usr/local/lib/python3.7/dist-packages (from optuna) (0.8.2)\n",
            "Requirement already satisfied: tqdm in /usr/local/lib/python3.7/dist-packages (from optuna) (4.64.1)\n",
            "Requirement already satisfied: PyYAML in /usr/local/lib/python3.7/dist-packages (from optuna) (6.0)\n",
            "Requirement already satisfied: scipy<1.9.0,>=1.7.0 in /usr/local/lib/python3.7/dist-packages (from optuna) (1.7.3)\n",
            "Requirement already satisfied: alembic>=1.5.0 in /usr/local/lib/python3.7/dist-packages (from optuna) (1.8.1)\n",
            "Requirement already satisfied: colorlog in /usr/local/lib/python3.7/dist-packages (from optuna) (6.7.0)\n",
            "Requirement already satisfied: packaging>=20.0 in /usr/local/lib/python3.7/dist-packages (from optuna) (21.3)\n",
            "Requirement already satisfied: sqlalchemy>=1.3.0 in /usr/local/lib/python3.7/dist-packages (from optuna) (1.4.41)\n",
            "Requirement already satisfied: cliff in /usr/local/lib/python3.7/dist-packages (from optuna) (3.10.1)\n",
            "Requirement already satisfied: numpy in /usr/local/lib/python3.7/dist-packages (from optuna) (1.21.6)\n",
            "Requirement already satisfied: importlib-metadata in /usr/local/lib/python3.7/dist-packages (from alembic>=1.5.0->optuna) (4.12.0)\n",
            "Requirement already satisfied: Mako in /usr/local/lib/python3.7/dist-packages (from alembic>=1.5.0->optuna) (1.2.3)\n",
            "Requirement already satisfied: importlib-resources in /usr/local/lib/python3.7/dist-packages (from alembic>=1.5.0->optuna) (5.9.0)\n",
            "Requirement already satisfied: pyparsing!=3.0.5,>=2.0.2 in /usr/local/lib/python3.7/dist-packages (from packaging>=20.0->optuna) (3.0.9)\n",
            "Requirement already satisfied: greenlet!=0.4.17 in /usr/local/lib/python3.7/dist-packages (from sqlalchemy>=1.3.0->optuna) (1.1.3)\n",
            "Requirement already satisfied: pbr!=2.1.0,>=2.0.0 in /usr/local/lib/python3.7/dist-packages (from cliff->optuna) (5.10.0)\n",
            "Requirement already satisfied: PrettyTable>=0.7.2 in /usr/local/lib/python3.7/dist-packages (from cliff->optuna) (3.4.1)\n",
            "Requirement already satisfied: cmd2>=1.0.0 in /usr/local/lib/python3.7/dist-packages (from cliff->optuna) (2.4.2)\n",
            "Requirement already satisfied: stevedore>=2.0.1 in /usr/local/lib/python3.7/dist-packages (from cliff->optuna) (3.5.0)\n",
            "Requirement already satisfied: autopage>=0.4.0 in /usr/local/lib/python3.7/dist-packages (from cliff->optuna) (0.5.1)\n",
            "Requirement already satisfied: wcwidth>=0.1.7 in /usr/local/lib/python3.7/dist-packages (from cmd2>=1.0.0->cliff->optuna) (0.2.5)\n",
            "Requirement already satisfied: typing-extensions in /usr/local/lib/python3.7/dist-packages (from cmd2>=1.0.0->cliff->optuna) (4.1.1)\n",
            "Requirement already satisfied: attrs>=16.3.0 in /usr/local/lib/python3.7/dist-packages (from cmd2>=1.0.0->cliff->optuna) (22.1.0)\n",
            "Requirement already satisfied: pyperclip>=1.6 in /usr/local/lib/python3.7/dist-packages (from cmd2>=1.0.0->cliff->optuna) (1.8.2)\n",
            "Requirement already satisfied: zipp>=0.5 in /usr/local/lib/python3.7/dist-packages (from importlib-metadata->alembic>=1.5.0->optuna) (3.8.1)\n",
            "Requirement already satisfied: MarkupSafe>=0.9.2 in /usr/local/lib/python3.7/dist-packages (from Mako->alembic>=1.5.0->optuna) (2.0.1)\n"
          ]
        }
      ]
    }
  ]
}